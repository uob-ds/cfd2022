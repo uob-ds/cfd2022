{
 "cells": [
  {
   "cell_type": "markdown",
   "id": "afad4825",
   "metadata": {},
   "source": [
    "We often need to sort arrays."
   ]
  },
  {
   "cell_type": "code",
   "execution_count": null,
   "id": "4d0f7a5d",
   "metadata": {},
   "outputs": [],
   "source": [
    "# Import the numpy package\n",
    "import numpy as np"
   ]
  },
  {
   "cell_type": "markdown",
   "id": "ba7fa5b6",
   "metadata": {},
   "source": [
    "Here is an array of numbers:"
   ]
  },
  {
   "cell_type": "code",
   "execution_count": null,
   "id": "2c96ee2d",
   "metadata": {},
   "outputs": [],
   "source": [
    "my_array = np.array([9, 1, 3, 0])\n",
    "my_array"
   ]
  },
  {
   "cell_type": "markdown",
   "id": "b383c8d0",
   "metadata": {},
   "source": [
    "Say we wanted to sort this array, from smallest to largest.  To do this, we use `np.sort`:"
   ]
  },
  {
   "cell_type": "code",
   "execution_count": null,
   "id": "e0a4b267",
   "metadata": {},
   "outputs": [],
   "source": [
    "sorted_array = np.sort(my_array)\n",
    "sorted_array"
   ]
  },
  {
   "cell_type": "markdown",
   "id": "aea2976f",
   "metadata": {},
   "source": [
    "That's simple enough for numbers, but what happens if we have strings?\n",
    "\n",
    "Here is an array of strings:"
   ]
  },
  {
   "cell_type": "code",
   "execution_count": null,
   "id": "b4cbba7a",
   "metadata": {},
   "outputs": [],
   "source": [
    "another_array = np.array(['Matthew', 'John', 'Peter'])\n",
    "another_array"
   ]
  },
  {
   "cell_type": "markdown",
   "id": "6897a210",
   "metadata": {},
   "source": [
    "Notice the `dtype` \\- or data type.  It is `<U7`. This means that the array\n",
    "contains strings of 7 characters or less.  It's not important for our purposes,\n",
    "but the \"U\" stands for [Unicode](https://en.wikipedia.org/wiki/Unicode) \\-\n",
    "a way that the computer can store characters in strings.\n",
    "\n",
    "What do you think would happen if we sorted `another_array`?\n",
    "\n",
    "If you guessed that the strings get sorted [alphabetically](https://en.wikipedia.org/wiki/Alphabetical_order), you have a virtual gold star."
   ]
  },
  {
   "cell_type": "code",
   "execution_count": null,
   "id": "befbecc4",
   "metadata": {},
   "outputs": [],
   "source": [
    "np.sort(another_array)"
   ]
  },
  {
   "cell_type": "markdown",
   "id": "3e351805",
   "metadata": {},
   "source": [
    "Remember how an alphabetical sort works.  The string \"a\" comes before the\n",
    "string \"aa\".  \"aa\" comes before \"ab\"."
   ]
  },
  {
   "cell_type": "code",
   "execution_count": null,
   "id": "84934ccc",
   "metadata": {},
   "outputs": [],
   "source": [
    "short_strings = np.array(['ab', 'aa', 'a'])\n",
    "np.sort(short_strings)"
   ]
  },
  {
   "cell_type": "markdown",
   "id": "f9604e61",
   "metadata": {},
   "source": [
    "Here's another array of strings:"
   ]
  },
  {
   "cell_type": "code",
   "execution_count": null,
   "id": "17a46fc7",
   "metadata": {},
   "outputs": [],
   "source": [
    "further_array = np.array(['Matthew', 'Matt', 'Matty'])"
   ]
  },
  {
   "cell_type": "markdown",
   "id": "5783fe64",
   "metadata": {},
   "source": [
    "Predict what order you will get from an alphabetical sort.  Try it."
   ]
  }
 ],
 "metadata": {
  "kernelspec": {
   "display_name": "Python 3",
   "language": "python",
   "name": "python3"
  }
 },
 "nbformat": 4,
 "nbformat_minor": 5
}
