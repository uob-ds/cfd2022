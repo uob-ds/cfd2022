{
 "cells": [
  {
   "cell_type": "markdown",
   "id": "e563e0a4",
   "metadata": {},
   "source": [
    "# Accuracy of the classifier"
   ]
  },
  {
   "cell_type": "code",
   "execution_count": null,
   "id": "58852990",
   "metadata": {
    "tags": [
     "hide-cell"
    ]
   },
   "outputs": [],
   "source": [
    "import numpy as np\n",
    "%matplotlib inline\n",
    "import matplotlib.pyplot as plt\n",
    "plt.style.use('fivethirtyeight')\n",
    "import pandas as pd"
   ]
  },
  {
   "cell_type": "code",
   "execution_count": null,
   "id": "168bb40d",
   "metadata": {
    "tags": [
     "hide-cell"
    ]
   },
   "outputs": [],
   "source": [
    "def distance(point1, point2):\n",
    "    \"\"\"Returns the distance between point1 and point2\n",
    "    where each argument is an array\n",
    "    consisting of the coordinates of the point\"\"\"\n",
    "    return np.sqrt(np.sum((point1 - point2)**2))\n",
    "\n",
    "def all_distances(training, new_point):\n",
    "    \"\"\"Returns an array of distances\n",
    "    between each point in the training set\n",
    "    and the new point (which is a row of attributes)\"\"\"\n",
    "    attributes = training.drop(columns='Class')\n",
    "    def distance_from_point(row):\n",
    "        return distance(np.array(new_point), np.array(row))\n",
    "    return attributes.apply(distance_from_point, axis=1)\n",
    "\n",
    "def table_with_distances(training, new_point):\n",
    "    \"\"\"Augments the training table\n",
    "    with a column of distances from new_point\"\"\"\n",
    "    out = training.copy()\n",
    "    out['Distance'] = all_distances(training, new_point)\n",
    "    return out\n",
    "\n",
    "def closest(training, new_point, k):\n",
    "    \"\"\"Returns a table of the k rows of the augmented table\n",
    "    corresponding to the k smallest distances\"\"\"\n",
    "    with_dists = table_with_distances(training, new_point)\n",
    "    sorted_by_distance = with_dists.sort_values('Distance')\n",
    "    topk = sorted_by_distance.iloc[:k]\n",
    "    return topk\n",
    "\n",
    "def majority(topkclasses):\n",
    "    ones = np.count_nonzero(topkclasses == 1)\n",
    "    zeros = np.count_nonzero(topkclasses == 0)\n",
    "    if ones > zeros:\n",
    "        return 1\n",
    "    else:\n",
    "        return 0\n",
    "\n",
    "def classify(training, new_point, k):\n",
    "    closestk = closest(training, new_point, k)\n",
    "    return majority(closestk['Class'])"
   ]
  },
  {
   "cell_type": "markdown",
   "id": "f699883b",
   "metadata": {},
   "source": [
    "You can download the data file for this page from\n",
    "{download}`wine.csv <../data/wine.csv>`."
   ]
  },
  {
   "cell_type": "code",
   "execution_count": null,
   "id": "d07f0fdc",
   "metadata": {
    "tags": [
     "hide-cell"
    ]
   },
   "outputs": [],
   "source": [
    "wine = pd.read_csv('wine.csv')\n",
    "wine.loc[wine['Class'] != 1, 'Class'] = 0"
   ]
  },
  {
   "cell_type": "markdown",
   "id": "b9e9762b",
   "metadata": {},
   "source": [
    "## The idea of accuracy"
   ]
  },
  {
   "cell_type": "markdown",
   "id": "21274e42",
   "metadata": {},
   "source": [
    "To see how well our classifier does, we might put 50% of the data into the training set and the other 50% into the test set.  Basically, we are setting aside some data for later use, so we can use it to measure the accuracy of our classifier.  We've been calling that the *test set*. Sometimes people will call the data that you set aside for testing a *hold-out set*, and they'll call this strategy for estimating accuracy the *hold-out method*.\n",
    "\n",
    "Note that this approach requires great discipline.  Before you start applying machine learning methods, you have to take some of your data and set it aside for testing.  You must avoid using the test set for developing your classifier: you shouldn't use it to help train your classifier or tweak its settings or for brainstorming ways to improve your classifier.  Instead, you should use it only once, at the very end, after you've finalized your classifier, when you want an unbiased estimate of its accuracy."
   ]
  },
  {
   "cell_type": "markdown",
   "id": "e5aa8fdd",
   "metadata": {},
   "source": [
    "## Measuring the Accuracy of Our Wine Classifier"
   ]
  },
  {
   "cell_type": "markdown",
   "id": "6bd5b87c",
   "metadata": {},
   "source": [
    "OK, so let's apply the hold-out method to evaluate the effectiveness of the $k$-nearest neighbor classifier for identifying wines.  The data set has 178 wines, so we'll randomly permute the data set and put 89 of them in the training set and the remaining 89 in the test set."
   ]
  },
  {
   "cell_type": "code",
   "execution_count": null,
   "id": "86db1615",
   "metadata": {},
   "outputs": [],
   "source": [
    "n_wine = len(wine)\n",
    "shuffled_wine = wine.sample(n_wine, replace=False)\n",
    "training_set = shuffled_wine.iloc[:89]\n",
    "test_set  = shuffled_wine.iloc[89:]"
   ]
  },
  {
   "cell_type": "markdown",
   "id": "b1f82b1f",
   "metadata": {},
   "source": [
    "We'll train the classifier using the 89 wines in the training set, and evaluate how well it performs on the test set. To make our lives easier, we'll write a function to evaluate a classifier on every wine in the test set:"
   ]
  },
  {
   "cell_type": "code",
   "execution_count": null,
   "id": "d08a2a3b",
   "metadata": {},
   "outputs": [],
   "source": [
    "def count_zero(array):\n",
    "    \"\"\"Counts the number of 0's in an array\"\"\"\n",
    "    return len(array) - np.count_nonzero(array)\n",
    "\n",
    "def count_equal(array1, array2):\n",
    "    \"\"\"Takes two numerical arrays of equal length\n",
    "    and counts the indices where the two are equal\"\"\"\n",
    "    return count_zero(array1 - array2)\n",
    "\n",
    "def evaluate_accuracy(training, test, k):\n",
    "    test_attributes = test.drop(columns='Class')\n",
    "    def classify_testrow(row):\n",
    "        return classify(training, row, k)\n",
    "    c = test_attributes.apply(classify_testrow, axis=1)\n",
    "    return count_equal(c, test['Class']) / len(test)"
   ]
  },
  {
   "cell_type": "markdown",
   "id": "97d08e5e",
   "metadata": {},
   "source": [
    "Now for the grand reveal -- let's see how we did.  We'll arbitrarily use $k=5$."
   ]
  },
  {
   "cell_type": "code",
   "execution_count": null,
   "id": "0bcc763e",
   "metadata": {},
   "outputs": [],
   "source": [
    "evaluate_accuracy(training_set, test_set, 5)"
   ]
  },
  {
   "cell_type": "markdown",
   "id": "5eaf011e",
   "metadata": {},
   "source": [
    "The accuracy rate isn't bad at all for a simple classifier."
   ]
  },
  {
   "cell_type": "markdown",
   "id": "9ee9c385",
   "metadata": {},
   "source": [
    "## Breast Cancer Diagnosis\n",
    "\n",
    "Now I want to do an example based on diagnosing breast cancer.  I was inspired by Brittany Wenger, who won the Google national science fair in 2012 as a 17-year old high school student.  Here's Brittany:\n",
    "\n",
    "![Brittany Wenger](https://i.huffpost.com/gen/701499/thumbs/o-GSF83-570.jpg?3)\n",
    "\n",
    "[Brittany's science fair\n",
    "project](https://sites.google.com/a/googlesciencefair.com/science-fair-2012-project-64a91af142a459cfb486ed5cb05f803b2eb41354-1333130785-87)\n",
    "was to build a classification algorithm to diagnose breast cancer.  She won\n",
    "grand prize for building an algorithm whose accuracy was almost 99%.\n",
    "\n",
    "Let's see how well we can do, with the ideas we've learned in this course.\n",
    "\n",
    "So, let me tell you a little bit about the data set.  Basically, if a woman has a lump in her breast, the doctors may want to take a biopsy to see if it is cancerous.  There are several different procedures for doing that.  Brittany focused on fine needle aspiration (FNA), because it is less invasive than the alternatives.  The doctor gets a sample of the mass, puts it under a microscope, takes a picture, and a trained lab tech analyzes the picture to determine whether it is cancer or not.  We get a picture like one of the following:\n",
    "\n",
    "![benign](https://www.inferentialthinking.com/images/benign.png)\n",
    "\n",
    "![cancer](https://www.inferentialthinking.com/images/malignant.png)\n",
    "\n",
    "Unfortunately, distinguishing between benign and malignant can be tricky.  So, researchers have studied the use of machine learning to help with this task.  The idea is that we'll ask the lab tech to analyze the image and compute various attributes: things like the typical size of a cell, how much variation there is among the cell sizes, and so on.  Then, we'll try to use this information to predict (classify) whether the sample is malignant or not.  We have a training set of past samples from women where the correct diagnosis is known, and we'll hope that our machine learning algorithm can use those to learn how to predict the diagnosis for future samples.\n",
    "\n",
    "We end up with the following data set.  For the \"Class\" column, 1 means malignant (cancer); 0 means benign (not cancer).\n",
    "\n",
    "Download the file from {download}`breast-cancer.csv <../data/breast-cancer.csv>`."
   ]
  },
  {
   "cell_type": "code",
   "execution_count": null,
   "id": "dffa6714",
   "metadata": {},
   "outputs": [],
   "source": [
    "patients = pd.read_csv('breast-cancer.csv')\n",
    "patients = patients.drop(columns='ID')\n",
    "patients.head()"
   ]
  },
  {
   "cell_type": "markdown",
   "id": "e40b23b8",
   "metadata": {},
   "source": [
    "So we have 9 different attributes.  I don't know how to make a 9-dimensional scatterplot of all of them, so I'm going to pick two and plot them:"
   ]
  },
  {
   "cell_type": "code",
   "execution_count": null,
   "id": "566050f7",
   "metadata": {},
   "outputs": [],
   "source": [
    "patients_with_colors = patients.copy()\n",
    "patients_with_colors['Color'] = 'darkblue'\n",
    "patients_with_colors.loc[patients['Class'] == 0, 'Color'] = 'gold'"
   ]
  },
  {
   "cell_type": "code",
   "execution_count": null,
   "id": "e15df5e5",
   "metadata": {},
   "outputs": [],
   "source": [
    "patients_with_colors.plot.scatter(\n",
    "    'Bland Chromatin',\n",
    "    'Single Epithelial Cell Size',\n",
    "    c=patients_with_colors['Color']);"
   ]
  },
  {
   "cell_type": "markdown",
   "id": "486070e1",
   "metadata": {},
   "source": [
    "Oops.  That plot is utterly misleading, because there are a bunch of points that have identical values for both the x- and y-coordinates.  To make it easier to see all the data points, I'm going to add a little bit of random jitter to the x- and y-values.  Here's how that looks:"
   ]
  },
  {
   "cell_type": "code",
   "execution_count": null,
   "id": "f666119b",
   "metadata": {
    "tags": [
     "remove-input"
    ]
   },
   "outputs": [],
   "source": [
    "# NO CODE\n",
    "\n",
    "def randomize_column(a):\n",
    "    \"\"\" Add some random jitter to vector \"\"\"\n",
    "    return a + np.random.normal(0.0, 0.09, size=len(a))\n",
    "\n",
    "jittered = pd.DataFrame()\n",
    "jittered['Bland Chromatin (jittered)'] = randomize_column(patients['Bland Chromatin'])\n",
    "jittered['Single Epithelial Cell Size (jittered)'] = randomize_column(patients['Single Epithelial Cell Size'])\n",
    "jittered['Class'] = patients['Class']\n",
    "jittered['Color'] = 'darkblue'\n",
    "jittered.loc[jittered['Class'] == 0, 'Color'] = 'gold'\n",
    "jittered.plot.scatter(0, 1, c=jittered['Color']);"
   ]
  },
  {
   "cell_type": "markdown",
   "id": "d2ee1dcf",
   "metadata": {},
   "source": [
    "For instance, you can see there are lots of samples with chromatin = 2 and epithelial cell size = 2; all non-cancerous.\n",
    "\n",
    "Keep in mind that the jittering is just for visualization purposes, to make it easier to get a feeling for the data.  We're ready to work with the data now, and we'll use the original (unjittered) data."
   ]
  },
  {
   "cell_type": "markdown",
   "id": "a8fa970b",
   "metadata": {},
   "source": [
    "First we'll create a training set and a test set. The data set has 683 patients, so we'll randomly permute the data set and put 342 of them in the training set and the remaining 341 in the test set."
   ]
  },
  {
   "cell_type": "code",
   "execution_count": null,
   "id": "7e44a718",
   "metadata": {},
   "outputs": [],
   "source": [
    "n_patients = len(patients)\n",
    "shuffled_patients = patients.sample(n_patients, replace=False)\n",
    "training_set = shuffled_patients.iloc[:342]\n",
    "test_set = shuffled_patients.iloc[342:]"
   ]
  },
  {
   "cell_type": "markdown",
   "id": "b2b2b2e4",
   "metadata": {},
   "source": [
    "Let's stick with 5 nearest neighbors, and see how well our classifier does."
   ]
  },
  {
   "cell_type": "code",
   "execution_count": null,
   "id": "c0dce987",
   "metadata": {},
   "outputs": [],
   "source": [
    "evaluate_accuracy(training_set, test_set, 5)"
   ]
  },
  {
   "cell_type": "markdown",
   "id": "eda5339d",
   "metadata": {},
   "source": [
    "Over 96% accuracy.  Not bad!  Once again, pretty darn good for such a simple technique.\n",
    "\n",
    "As a footnote, you might have noticed that Brittany Wenger did even better.  What techniques did she use? One key innovation is that she incorporated a confidence score into her results: her algorithm had a way to determine when it was not able to make a confident prediction, and for those patients, it didn't even try to predict their diagnosis.  Her algorithm was 99% accurate on the patients where it made a prediction -- so that extension seemed to help quite a bit."
   ]
  },
  {
   "cell_type": "markdown",
   "id": "1480017b",
   "metadata": {},
   "source": [
    "{ucb-page}`Accuracy_of_the_Classifier`"
   ]
  }
 ],
 "metadata": {
  "anaconda-cloud": {},
  "jupytext": {
   "notebook_metadata_filter": "all,-language_info"
  },
  "kernelspec": {
   "display_name": "Python 3",
   "language": "python",
   "name": "python3"
  }
 },
 "nbformat": 4,
 "nbformat_minor": 5
}
