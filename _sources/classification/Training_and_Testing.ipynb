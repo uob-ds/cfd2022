{
 "cells": [
  {
   "cell_type": "markdown",
   "id": "8e924329",
   "metadata": {},
   "source": [
    "# Training and testing"
   ]
  },
  {
   "cell_type": "code",
   "execution_count": null,
   "id": "4fb94306",
   "metadata": {
    "tags": [
     "hide-cell"
    ]
   },
   "outputs": [],
   "source": [
    "# HIDDEN\n",
    "import numpy as np\n",
    "%matplotlib inline\n",
    "import matplotlib.pyplot as plt\n",
    "plt.style.use('fivethirtyeight')\n",
    "import pandas as pd"
   ]
  },
  {
   "cell_type": "code",
   "execution_count": null,
   "id": "fbc370ca",
   "metadata": {
    "tags": [
     "hide-cell"
    ]
   },
   "outputs": [],
   "source": [
    "# HIDDEN\n",
    "def standard_units(x):\n",
    "    return (x - np.mean(x))/np.std(x)"
   ]
  },
  {
   "cell_type": "code",
   "execution_count": null,
   "id": "6b7b0c89",
   "metadata": {
    "tags": [
     "hide-cell"
    ]
   },
   "outputs": [],
   "source": [
    "# HIDDEN\n",
    "def distance(point1, point2):\n",
    "    \"\"\"The distance between two arrays of numbers.\"\"\"\n",
    "    return np.sqrt(np.sum((point1 - point2)**2))\n",
    "\n",
    "def all_distances(training, point):\n",
    "    \"\"\"The distance between p (an array of numbers) and the numbers in row i of attribute_table.\"\"\"\n",
    "    attributes = training.drop(columns='Class')\n",
    "    def distance_from_point(row):\n",
    "        return distance(point, np.array(row))\n",
    "    return attributes.apply(distance_from_point, axis=1)\n",
    "\n",
    "def table_with_distances(training, point):\n",
    "    \"\"\"A copy of the training table with the distance from each row to array p.\"\"\"\n",
    "    out = training.copy()\n",
    "    out['Distance'] = all_distances(training, point)\n",
    "    return out\n",
    "\n",
    "def closest(training, point, k):\n",
    "    \"\"\"A table containing the k closest rows in the training table to array p.\"\"\"\n",
    "    with_dists = table_with_distances(training, point)\n",
    "    sorted_by_distance = with_dists.sort_values('Distance')\n",
    "    topk = sorted_by_distance.iloc[np.arange(k)]\n",
    "    return topk\n",
    "\n",
    "def majority(topkclasses):\n",
    "    \"\"\"1 if the majority of the class values are 1s, 0 otherwise.\"\"\"\n",
    "    ones = np.count_nonzero(topkclasses == 1)\n",
    "    zeros = np.count_nonzero(topkclasses == 0)\n",
    "    if ones > zeros:\n",
    "        return 1\n",
    "    else:\n",
    "        return 0\n",
    "\n",
    "def classify(training, p, k):\n",
    "    \"\"\"Classify an example with attributes p using k-nearest neighbor classification with the given training table.\"\"\"\n",
    "    closestk = closest(training, p, k)\n",
    "    return majority(closestk['Class'])"
   ]
  },
  {
   "cell_type": "code",
   "execution_count": null,
   "id": "03dd15ef",
   "metadata": {
    "tags": [
     "hide-cell"
    ]
   },
   "outputs": [],
   "source": [
    "# HIDDEN\n",
    "def classify_grid(training, test, k):\n",
    "    n_test = len(test)\n",
    "    c = np.zeros(n_test)\n",
    "    for i in range(n_test):\n",
    "        # Run the classifier on the ith patient in the test set\n",
    "        c[i] = classify(training, np.array(test.iloc[i]), k)\n",
    "    return c"
   ]
  },
  {
   "cell_type": "markdown",
   "id": "14f98b50",
   "metadata": {},
   "source": [
    "Again - if you are running on your laptop, you should download\n",
    "the {download}`ckd.csv <../data/ckd.csv>` file to the same\n",
    "directory as this notebook."
   ]
  },
  {
   "cell_type": "code",
   "execution_count": null,
   "id": "c01239c0",
   "metadata": {
    "tags": [
     "hide-cell"
    ]
   },
   "outputs": [],
   "source": [
    "# HIDDEN\n",
    "ckd_full = pd.read_csv('ckd.csv')\n",
    "ckd = pd.DataFrame()\n",
    "ckd['Hemoglobin'] = standard_units(ckd_full['Hemoglobin'])\n",
    "ckd['Glucose'] = standard_units(ckd_full['Blood Glucose Random'])\n",
    "ckd['WBC'] = standard_units(ckd_full['White Blood Cell Count'])\n",
    "ckd['Class'] = ckd_full['Class']\n",
    "ckd['Color'] = 'darkblue'\n",
    "ckd.loc[ckd['Class'] == 0, 'Color'] = 'gold'"
   ]
  },
  {
   "cell_type": "markdown",
   "id": "67e41441",
   "metadata": {},
   "source": [
    "How good is our nearest neighbor classifier? To answer this we'll need to find out how frequently our classifications are correct. If a patient has chronic kidney disease, how likely is our classifier to pick that up?\n",
    "\n",
    "If the patient is in our training set, we can find out immediately. We already know what class the patient is in. So we can just compare our prediction and the patient's true class.\n",
    "\n",
    "But the point of the classifier is to make predictions for *new* patients not in our training set. We don't know what class these patients are in but we can make a prediction based on our classifier. How to find out whether the prediction is correct?\n",
    "\n",
    "One way is to wait for further medical tests on the patient and then check whether or not our prediction agrees with the test results. With that approach, by the time we can say how likely our prediction is to be accurate, it is no longer useful for helping the patient.\n",
    "\n",
    "Instead, we will try our classifier on some patients whose true classes are known.  Then, we will compute the proportion of the time our classifier was correct.  This proportion will serve as an estimate of the proportion of all new patients whose class our classifier will accurately predict.  This is called *testing*."
   ]
  },
  {
   "cell_type": "markdown",
   "id": "0ec15d00",
   "metadata": {},
   "source": [
    "## Overly Optimistic \"Testing\""
   ]
  },
  {
   "cell_type": "markdown",
   "id": "abfdd5f9",
   "metadata": {},
   "source": [
    "The training set offers a very tempting set of patients on whom to test out our classifier, because we know the class of each patient in the training set.\n",
    "\n",
    "But let's be careful ... there will be pitfalls ahead if we take this path. An example will show us why.\n",
    "\n",
    "Suppose we use a 1-nearest neighbor classifier to predict whether a patient has chronic kidney disease, based on glucose and white blood cell count."
   ]
  },
  {
   "cell_type": "code",
   "execution_count": null,
   "id": "ed61714b",
   "metadata": {},
   "outputs": [],
   "source": [
    "ckd.plot.scatter('WBC', 'Glucose', c=ckd['Color']);"
   ]
  },
  {
   "cell_type": "markdown",
   "id": "09b15fd7",
   "metadata": {},
   "source": [
    "Earlier, we said that we expect to get some classifications wrong, because there's some intermingling of blue and gold points in the lower-left.\n",
    "\n",
    "But what about the points in the training set, that is, the points already on the scatter? Will we ever mis-classify them?\n",
    "\n",
    "The answer is no. Remember that 1-nearest neighbor classification looks for the point *in the training set* that is nearest to the point being classified. Well, if the point being classified is already in the training set, then its nearest neighbor in the training set is itself! And therefore it will be classified as its own color, which will be correct because each point in the training set is already correctly colored.\n",
    "\n",
    "In other words, **if we use our training set to \"test\" our 1-nearest neighbor classifier, the classifier will pass the test 100% of the time.**\n",
    "\n",
    "Mission accomplished. What a great classifier! \n",
    "\n",
    "No, not so much. A new point in the lower-left might easily be mis-classified, as we noted earlier. \"100% accuracy\" was a nice dream while it lasted.\n",
    "\n",
    "The lesson of this example is *not* to use the training set to test a classifier that is based on it."
   ]
  },
  {
   "cell_type": "markdown",
   "id": "9be781e0",
   "metadata": {},
   "source": [
    "## Generating a Test Set"
   ]
  },
  {
   "cell_type": "markdown",
   "id": "41ad16b6",
   "metadata": {},
   "source": [
    "In earlier chapters, we saw that random sampling could be used to estimate the proportion of individuals in a population that met some criterion.  Unfortunately, we have just seen that the training set is not like a random sample from the population of all patients, in one important respect: Our classifier guesses correctly for a higher proportion of individuals in the training set than it does for individuals in the population.\n",
    "\n",
    "When we computed confidence intervals for numerical parameters, we wanted to have many new random samples from a population, but we only had access to a single sample.  We solved that problem by taking bootstrap resamples from our sample.\n",
    "\n",
    "We will use an analogous idea to test our classifier. We will *create two samples out of the original training set*, use one of the samples as our training set, and *the other one for testing*. \n",
    "\n",
    "So we will have three groups of individuals:\n",
    "- a training set on which we can do any amount of exploration to build our classifier;\n",
    "- a separate testing set on which to try out our classifier and see what fraction of times it classifies correctly;\n",
    "- the underlying population of individuals for whom we don't know the true classes; the hope is that our classifier will succeed about as well for these individuals as it did for our testing set."
   ]
  },
  {
   "cell_type": "markdown",
   "id": "d469f0f6",
   "metadata": {},
   "source": [
    "How to generate the training and testing sets? You've guessed it – we'll select at random.\n",
    "\n",
    "There are 158 individuals in `ckd`. Let's use a random half of them for training and the other half for testing. To do this, we'll shuffle all the rows, take the first 79 as the training set, and the remaining 79 for testing."
   ]
  },
  {
   "cell_type": "code",
   "execution_count": null,
   "id": "70a34ee6",
   "metadata": {},
   "outputs": [],
   "source": [
    "n_rows = len(ckd)\n",
    "shuffled_ckd = ckd.sample(n_rows, replace=False)\n",
    "training = shuffled_ckd.iloc[:79]\n",
    "testing = shuffled_ckd.iloc[79:]"
   ]
  },
  {
   "cell_type": "markdown",
   "id": "c77adc10",
   "metadata": {},
   "source": [
    "Now let's construct our classifier based on the points in the training sample:"
   ]
  },
  {
   "cell_type": "code",
   "execution_count": null,
   "id": "83bfa59b",
   "metadata": {},
   "outputs": [],
   "source": [
    "training.plot.scatter('WBC', 'Glucose', c=training['Color'])\n",
    "plt.xlim(-2, 6)\n",
    "plt.ylim(-2, 6);"
   ]
  },
  {
   "cell_type": "markdown",
   "id": "2b84ddc2",
   "metadata": {},
   "source": [
    "We get the following classification regions and decision boundary:"
   ]
  },
  {
   "cell_type": "code",
   "execution_count": null,
   "id": "6f81a6b6",
   "metadata": {
    "tags": [
     "hide-cell"
    ]
   },
   "outputs": [],
   "source": [
    "# HIDDEN\n",
    "x_vals = np.arange(-2, 6.1, 0.25)\n",
    "n_x = len(x_vals)\n",
    "y_vals = np.arange(-2, 6.1, 0.25)\n",
    "n_y = len(y_vals)\n",
    "\n",
    "# Make the vector of x and corresponding y coordinates to cover\n",
    "# the whole 2D grid.  For the expert way, see Numpy meshgrid.\n",
    "\n",
    "# Repeat each value of the x coordinate n_y times\n",
    "x_coords = np.repeat(x_vals, n_y)\n",
    "# Repeat the whole y_vals vector n_x times\n",
    "y_coords = np.tile(y_vals, n_x)\n",
    "\n",
    "test_grid = pd.DataFrame()\n",
    "test_grid['WBC'] = x_coords\n",
    "test_grid['Glucose'] = y_coords"
   ]
  },
  {
   "cell_type": "code",
   "execution_count": null,
   "id": "dadd2b8d",
   "metadata": {
    "tags": [
     "hide-cell"
    ]
   },
   "outputs": [],
   "source": [
    "# HIDDEN\n",
    "c = classify_grid(training[['WBC', 'Glucose', 'Class']],\n",
    "                  test_grid,\n",
    "                  1)"
   ]
  },
  {
   "cell_type": "code",
   "execution_count": null,
   "id": "bc5c4a8c",
   "metadata": {
    "tags": [
     "remove-input"
    ]
   },
   "outputs": [],
   "source": [
    "# NO CODE\n",
    "test_grid['Class'] = c\n",
    "test_grid['Color'] = 'darkblue'\n",
    "test_grid.loc[c == 0, 'Color'] = 'gold'\n",
    "test_grid.plot.scatter('WBC', 'Glucose',\n",
    "                        c=test_grid['Color'],\n",
    "                        alpha=0.4, s=30)\n",
    "\n",
    "plt.xlim(-2, 6)\n",
    "plt.ylim(-2, 6);"
   ]
  },
  {
   "cell_type": "markdown",
   "id": "fa13fb56",
   "metadata": {},
   "source": [
    "Place the *test* data on this graph and you can see at once that while the classifier got almost all the points right, there are some mistakes.  For example, some blue points of the test set fall in the gold region of the classifier."
   ]
  },
  {
   "cell_type": "code",
   "execution_count": null,
   "id": "6b69f463",
   "metadata": {
    "tags": [
     "remove-input"
    ]
   },
   "outputs": [],
   "source": [
    "# NO CODE\n",
    "test_grid.plot.scatter('WBC', 'Glucose',\n",
    "                        c=test_grid['Color'],\n",
    "                        alpha=0.4, s=30)\n",
    "\n",
    "plt.scatter(testing['WBC'],\n",
    "            testing['Glucose'],\n",
    "            c=testing['Color'],\n",
    "            edgecolor='k')\n",
    "\n",
    "plt.xlim(-2, 6)\n",
    "plt.ylim(-2, 6);"
   ]
  },
  {
   "cell_type": "markdown",
   "id": "409657ca",
   "metadata": {},
   "source": [
    "Some errors notwithstanding, it looks like the classifier does fairly well on the test set. Assuming that the original sample was drawn randomly from the underlying population, the hope is that the classifier will perform with similar accuracy on the overall population, since the test set was chosen randomly from the original sample."
   ]
  },
  {
   "cell_type": "markdown",
   "id": "8c73d386",
   "metadata": {},
   "source": [
    "{ucb-page}`Training_and_Testing`"
   ]
  }
 ],
 "metadata": {
  "anaconda-cloud": {},
  "jupytext": {
   "notebook_metadata_filter": "all,-language_info"
  },
  "kernelspec": {
   "display_name": "Python 3",
   "language": "python",
   "name": "python3"
  }
 },
 "nbformat": 4,
 "nbformat_minor": 5
}
