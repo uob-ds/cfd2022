{
 "cells": [
  {
   "cell_type": "markdown",
   "id": "6f53ce0e",
   "metadata": {},
   "source": [
    "# Nearest neighbors"
   ]
  },
  {
   "cell_type": "code",
   "execution_count": null,
   "id": "09c4e3c7",
   "metadata": {
    "tags": [
     "hide-cell"
    ]
   },
   "outputs": [],
   "source": [
    "# HIDDEN\n",
    "import numpy as np\n",
    "%matplotlib inline\n",
    "import matplotlib.pyplot as plt\n",
    "plt.style.use('fivethirtyeight')\n",
    "import pandas as pd"
   ]
  },
  {
   "cell_type": "code",
   "execution_count": null,
   "id": "2fd7988f",
   "metadata": {
    "tags": [
     "hide-cell"
    ]
   },
   "outputs": [],
   "source": [
    "# HIDDEN\n",
    "def standard_units(x):\n",
    "    return (x - np.mean(x))/np.std(x)"
   ]
  },
  {
   "cell_type": "code",
   "execution_count": null,
   "id": "1c5ecd52",
   "metadata": {
    "tags": [
     "hide-cell"
    ]
   },
   "outputs": [],
   "source": [
    "# HIDDEN\n",
    "def distance(point1, point2):\n",
    "    \"\"\"The distance between two arrays of numbers.\"\"\"\n",
    "    return np.sqrt(np.sum((point1 - point2)**2))\n",
    "\n",
    "def all_distances(training, point):\n",
    "    \"\"\"The distance between p (an array of numbers) and the numbers in row i of attribute_table.\"\"\"\n",
    "    attributes = training.drop(columns='Class')\n",
    "    def distance_from_point(row):\n",
    "        return distance(point, np.array(row))\n",
    "    return attributes.apply(distance_from_point, axis=1)\n",
    "\n",
    "def table_with_distances(training, point):\n",
    "    \"\"\"A copy of the training table with the distance from each row to array p.\"\"\"\n",
    "    out = training.copy()\n",
    "    out['Distance'] = all_distances(training, point)\n",
    "    return out\n",
    "\n",
    "def closest(training, point, k):\n",
    "    \"\"\"A table containing the k closest rows in the training table to array p.\"\"\"\n",
    "    with_dists = table_with_distances(training, point)\n",
    "    sorted_by_distance = with_dists.sort_values('Distance')\n",
    "    topk = sorted_by_distance.iloc[:k]\n",
    "    return topk\n",
    "\n",
    "def majority(topkclasses):\n",
    "    \"\"\"1 if the majority of the class values are 1s, 0 otherwise.\"\"\"\n",
    "    ones = np.count_nonzero(topkclasses == 1)\n",
    "    zeros = np.count_nonzero(topkclasses == 0)\n",
    "    if ones > zeros:\n",
    "        return 1\n",
    "    else:\n",
    "        return 0\n",
    "\n",
    "def classify(training, p, k):\n",
    "    \"\"\"Classify an example with attributes p using k-nearest neighbor classification with the given training table.\"\"\"\n",
    "    closestk = closest(training, p, k)\n",
    "    return majority(closestk['Class'])"
   ]
  },
  {
   "cell_type": "markdown",
   "id": "ef6ac7dd",
   "metadata": {},
   "source": [
    "In this section we'll develop the *nearest neighbor* method of classification. Just focus on the ideas for now and don't worry if some of the code is mysterious. Later in the chapter we'll see how to organize our ideas into code that performs the classification."
   ]
  },
  {
   "cell_type": "markdown",
   "id": "916c1567",
   "metadata": {},
   "source": [
    "## Chronic kidney disease"
   ]
  },
  {
   "cell_type": "markdown",
   "id": "53f9679c",
   "metadata": {},
   "source": [
    "Let's work through an example.  We're going to work with a data set that was collected to help doctors diagnose chronic kidney disease (CKD).  Each row in the data set represents a single patient who was treated in the past and whose diagnosis is known.  For each patient, we have a bunch of measurements from a blood test.  We'd like to find which measurements are most useful for diagnosing CKD, and develop a way to classify future patients as \"has CKD\" or \"doesn't have CKD\" based on their blood test results.\n",
    "\n",
    "If you are running on your laptop, you should download the\n",
    "{download}`ckd.csv <../data/ckd.csv>` file to the same\n",
    "directory as this notebook."
   ]
  },
  {
   "cell_type": "code",
   "execution_count": null,
   "id": "12b66941",
   "metadata": {},
   "outputs": [],
   "source": [
    "ckd_full = pd.read_csv('ckd.csv')\n",
    "ckd_full.head()"
   ]
  },
  {
   "cell_type": "markdown",
   "id": "ee737d79",
   "metadata": {},
   "source": [
    "Some of the variables are categorical (words like \"abnormal\"), and some quantitative. The quantitative variables all have different scales. We're going to want to make comparisons and estimate distances, often by eye, so let's select just a few of the variables and work in standard units. Then we won't have to worry about the scale of each of the different variables."
   ]
  },
  {
   "cell_type": "code",
   "execution_count": null,
   "id": "13a61603",
   "metadata": {},
   "outputs": [],
   "source": [
    "ckd = pd.DataFrame()\n",
    "ckd['Hemoglobin'] = standard_units(ckd_full['Hemoglobin'])\n",
    "ckd['Glucose'] = standard_units(ckd_full['Blood Glucose Random'])\n",
    "ckd['WBC'] = standard_units(ckd_full['White Blood Cell Count'])\n",
    "ckd['Class'] = ckd_full['Class']\n",
    "ckd.head()"
   ]
  },
  {
   "cell_type": "markdown",
   "id": "e21f172f",
   "metadata": {},
   "source": [
    "Let's look at two columns in particular: the hemoglobin level (in the patient's blood), and the blood glucose level (at a random time in the day; without fasting specially for the blood test). \n",
    "\n",
    "We'll draw a scatter plot to visualize the relation between the two variables. Blue dots are patients with CKD; gold dots are patients without CKD.  What kind of medical test results seem to indicate CKD?"
   ]
  },
  {
   "cell_type": "code",
   "execution_count": null,
   "id": "fab06888",
   "metadata": {},
   "outputs": [],
   "source": [
    "ckd['Color'] = 'darkblue'\n",
    "ckd.loc[ckd['Class'] == 0, 'Color'] = 'gold'\n",
    "ckd.head()"
   ]
  },
  {
   "cell_type": "code",
   "execution_count": null,
   "id": "e04910c2",
   "metadata": {},
   "outputs": [],
   "source": [
    "ckd.plot.scatter('Hemoglobin', 'Glucose', c=ckd['Color']);"
   ]
  },
  {
   "cell_type": "markdown",
   "id": "d8e37e33",
   "metadata": {},
   "source": [
    "Suppose Alice is a new patient who is not in the data set.  If I tell you Alice's hemoglobin level and blood glucose level, could you predict whether she has CKD?  It sure looks like it!  You can see a very clear pattern here: points in the lower-right tend to represent people who don't have CKD, and the rest tend to be folks with CKD.  To a human, the pattern is obvious.  But how can we program a computer to automatically detect patterns such as this one?"
   ]
  },
  {
   "cell_type": "markdown",
   "id": "58ca8c62",
   "metadata": {},
   "source": [
    "## A Nearest Neighbor Classifier\n",
    "\n",
    "There are lots of kinds of patterns one might look for, and lots of algorithms for classification.  But I'm going to tell you about one that turns out to be surprisingly effective.  It is called *nearest neighbor classification*.  Here's the idea.  If we have Alice's hemoglobin and glucose numbers, we can put her somewhere on this scatterplot; the hemoglobin is her x-coordinate, and the glucose is her y-coordinate.  Now, to predict whether she has CKD or not, we find the nearest point in the scatterplot and check whether it is blue or gold; we predict that Alice should receive the same diagnosis as that patient.\n",
    "\n",
    "In other words, to classify Alice as CKD or not, we find the patient in the training set who is \"nearest\" to Alice, and then use that patient's diagnosis as our prediction for Alice.  The intuition is that if two points are near each other in the scatterplot, then the corresponding measurements are pretty similar, so we might expect them to receive the same diagnosis (more likely than not).  We don't know Alice's diagnosis, but we do know the diagnosis of all the patients in the training set, so we find the patient in the training set who is most similar to Alice, and use that patient's diagnosis to predict Alice's diagnosis."
   ]
  },
  {
   "cell_type": "markdown",
   "id": "397fa6a4",
   "metadata": {},
   "source": [
    "In the graph below, the red dot represents Alice. It is joined with a black line to the point that is nearest to it – its *nearest neighbor* in the training set. The figure is drawn by a function called `show_closest`. It takes an array that represents the $x$ and $y$ coordinates of Alice's point. Vary those to see how the closest point changes! Note especially when the closest point is blue and when it is gold."
   ]
  },
  {
   "cell_type": "code",
   "execution_count": null,
   "id": "a211d630",
   "metadata": {
    "tags": [
     "hide-cell"
    ]
   },
   "outputs": [],
   "source": [
    "# HIDDEN\n",
    "def show_closest(point):\n",
    "    \"\"\"point = array([x,y])\n",
    "    gives the coordinates of a new point\n",
    "    shown in red\"\"\"\n",
    "    HemoGl = ckd[['Hemoglobin', 'Glucose', 'Class']]\n",
    "    t = closest(HemoGl, point, 1)\n",
    "    x_closest = float(t['Hemoglobin'])\n",
    "    y_closest = float(t['Glucose'])\n",
    "    ckd.plot.scatter('Hemoglobin', 'Glucose', c=ckd['Color'])\n",
    "    plt.scatter(point[0], point[1], color='red', s=30)\n",
    "    plt.plot([point[0], x_closest],\n",
    "             [point[1], y_closest],\n",
    "             color='k', lw=2);"
   ]
  },
  {
   "cell_type": "code",
   "execution_count": null,
   "id": "bd0970d7",
   "metadata": {},
   "outputs": [],
   "source": [
    "# In this example, Alice's Hemoglobin attribute is 0 and her Glucose is 1.5.\n",
    "alice = np.array([0, 1.5])\n",
    "show_closest(alice)"
   ]
  },
  {
   "cell_type": "markdown",
   "id": "97498e2d",
   "metadata": {},
   "source": [
    "Thus our *nearest neighbor classifier* works like this:\n",
    "- Find the point in the training set that is nearest to the new point.\n",
    "- If that nearest point is a \"CKD\" point, classify the new point as \"CKD\". If the nearest point is a \"not CKD\" point, classify the new point as \"not CKD\".\n",
    "\n",
    "The scatterplot suggests that this nearest neighbor classifier should be pretty accurate.  Points in the lower-right will tend to receive a \"no CKD\" diagnosis, as their nearest neighbor will be a gold point.  The rest of the points will tend to receive a \"CKD\" diagnosis, as their nearest neighbor will be a blue point.  So the nearest neighbor strategy seems to capture our intuition pretty well, for this example."
   ]
  },
  {
   "cell_type": "markdown",
   "id": "a984286e",
   "metadata": {},
   "source": [
    "## Decision boundary\n",
    "\n",
    "Sometimes a helpful way to visualize a classifier is to map out the kinds of attributes where the classifier would predict 'CKD', and the kinds where it would predict 'not CKD'.  We end up with some boundary between the two, where points on one side of the boundary will be classified 'CKD' and points on the other side will be classified 'not CKD'.  This boundary is called the *decision boundary*.  Each different classifier will have a different decision boundary; the decision boundary is just a way to visualize what criteria the classifier is using to classify points.\n",
    "\n",
    "For example, suppose the coordinates of Alice's point are (0, 1.5). Notice that the nearest neighbor is blue. Now try reducing the height (the $y$-coordinate) of the point. You'll see that at around $y = 0.95$ the nearest neighbor turns from blue to gold."
   ]
  },
  {
   "cell_type": "code",
   "execution_count": null,
   "id": "09805feb",
   "metadata": {},
   "outputs": [],
   "source": [
    "alice = np.array([0, 0.97])\n",
    "show_closest(alice)"
   ]
  },
  {
   "cell_type": "markdown",
   "id": "87fe6fe0",
   "metadata": {},
   "source": [
    "Here are hundreds of new unclassified points, all in red."
   ]
  },
  {
   "cell_type": "code",
   "execution_count": null,
   "id": "15c6f50a",
   "metadata": {
    "tags": [
     "hide-cell"
    ]
   },
   "outputs": [],
   "source": [
    "# HIDDEN\n",
    "\n",
    "# Values for x and y coordinates\n",
    "x_vals = np.arange(-2, 2.1, 0.1)\n",
    "n_x = len(x_vals)\n",
    "y_vals = np.arange(-2, 2.1, 0.1)\n",
    "n_y = len(y_vals)\n",
    "\n",
    "# Make the vector of x and corresponding y coordinates to cover\n",
    "# the whole 2D grid.  For the expert way, see Numpy meshgrid.\n",
    "\n",
    "# Repeat each value of the x coordinate n_y times\n",
    "x_coords = np.repeat(x_vals, n_y)\n",
    "# Repeat the whole y_vals vector n_x times\n",
    "y_coords = np.tile(y_vals, n_x)\n",
    "\n",
    "# Put these into a data frame for convenience\n",
    "test_grid = pd.DataFrame()\n",
    "test_grid['Hemoglobin'] = x_coords\n",
    "test_grid['Glucose'] = y_coords"
   ]
  },
  {
   "cell_type": "code",
   "execution_count": null,
   "id": "5e8d0e3b",
   "metadata": {
    "tags": [
     "remove-input"
    ]
   },
   "outputs": [],
   "source": [
    "# NO CODE\n",
    "\n",
    "test_grid.plot.scatter('Hemoglobin', 'Glucose',\n",
    "                       color='red',\n",
    "                       alpha=0.4, s=30)\n",
    "\n",
    "plt.scatter(ckd['Hemoglobin'], ckd['Glucose'],\n",
    "            c=ckd['Color'],\n",
    "            edgecolor='k')\n",
    "\n",
    "plt.xlim(-2, 2)\n",
    "plt.ylim(-2, 2);"
   ]
  },
  {
   "cell_type": "markdown",
   "id": "93c6d587",
   "metadata": {},
   "source": [
    "Each of the red points has a nearest neighbor in the training set (the same blue and gold points as before). For some red points you can easily tell whether the nearest neighbor is blue or gold. For others, it's a little more tricky to make the decision by eye. Those are the points near the decision boundary.\n",
    "\n",
    "But the computer can easily determine the nearest neighbor of each point. So let's get it to apply our nearest neighbor classifier to each of the red points: \n",
    "\n",
    "For each red point, it must find the closest point in the training set; it must then change the color of the red point to become the color of the nearest neighbor. \n",
    "\n",
    "The resulting graph shows which points will get classified as 'CKD' (all the blue ones), and which as 'not CKD' (all the gold ones)."
   ]
  },
  {
   "cell_type": "code",
   "execution_count": null,
   "id": "bf70672a",
   "metadata": {
    "tags": [
     "hide-cell"
    ]
   },
   "outputs": [],
   "source": [
    "# HIDDEN\n",
    "\n",
    "def classify_grid(training, test, k):\n",
    "    n_test = len(test)\n",
    "    c = np.zeros(n_test)\n",
    "    for i in range(n_test):\n",
    "        # Run the classifier on the ith patient in the test set\n",
    "        c[i] = classify(training, np.array(test.iloc[i]), k)\n",
    "    return c"
   ]
  },
  {
   "cell_type": "code",
   "execution_count": null,
   "id": "9dbad439",
   "metadata": {
    "tags": [
     "hide-cell"
    ]
   },
   "outputs": [],
   "source": [
    "# HIDDEN\n",
    "\n",
    "c = classify_grid(ckd[['Hemoglobin', 'Glucose', 'Class']],\n",
    "                  test_grid,\n",
    "                  1)"
   ]
  },
  {
   "cell_type": "code",
   "execution_count": null,
   "id": "b9a4659a",
   "metadata": {
    "tags": [
     "remove-input"
    ]
   },
   "outputs": [],
   "source": [
    "# NO CODE\n",
    "\n",
    "test_grid['Class'] = c\n",
    "test_grid['Color'] = 'darkblue'\n",
    "test_grid.loc[c == 0, 'Color'] = 'gold'\n",
    "\n",
    "test_grid.plot.scatter('Hemoglobin', 'Glucose',\n",
    "                  c=test_grid['Color'],\n",
    "                  alpha=0.4, s=30)\n",
    "\n",
    "plt.scatter(ckd['Hemoglobin'],\n",
    "            ckd['Glucose'],\n",
    "            c=ckd['Color'],\n",
    "            edgecolor='k')\n",
    "\n",
    "plt.xlim(-2, 2)\n",
    "plt.ylim(-2, 2);"
   ]
  },
  {
   "cell_type": "markdown",
   "id": "f4e92ccd",
   "metadata": {},
   "source": [
    "The decision boundary is where the classifier switches from turning the red points blue to turning them gold."
   ]
  },
  {
   "cell_type": "markdown",
   "id": "fc84c23f",
   "metadata": {},
   "source": [
    "## k-Nearest Neighbors\n",
    "\n",
    "However, the separation between the two classes won't always be quite so clean.  For instance, suppose that instead of hemoglobin levels we were to look at white blood cell count.  Look at what happens:"
   ]
  },
  {
   "cell_type": "code",
   "execution_count": null,
   "id": "46065d11",
   "metadata": {},
   "outputs": [],
   "source": [
    "ckd.plot.scatter('WBC',\n",
    "                 'Glucose',\n",
    "                 c=ckd['Color'])"
   ]
  },
  {
   "cell_type": "markdown",
   "id": "75093271",
   "metadata": {},
   "source": [
    "As you can see, non-CKD individuals are all clustered in the lower-left.  Most of the patients with CKD are above or to the right of that cluster... but not all.  There are some patients with CKD who are in the lower left of the above figure (as indicated by the handful of blue dots scattered among the gold cluster).  What this means is that you can't tell for certain whether someone has CKD from just these two blood test measurements.\n",
    "\n",
    "If we are given Alice's glucose level and white blood cell count, can we predict whether she has CKD?  Yes, we can make a prediction, but we shouldn't expect it to be 100% accurate.  Intuitively, it seems like there's a natural strategy for predicting: plot where Alice lands in the scatter plot; if she is in the lower-left, predict that she doesn't have CKD, otherwise predict she has CKD.\n",
    "\n",
    "This isn't perfect -- our predictions will sometimes be wrong.  (Take a minute and think it through: for which patients will it make a mistake?)  As the scatterplot above indicates, sometimes people with CKD have glucose and white blood cell levels that look identical to those of someone without CKD, so any classifier is inevitably going to make the wrong prediction for them.\n",
    "\n",
    "Can we automate this on a computer?  Well, the nearest neighbor classifier would be a reasonable choice here too.  Take a minute and think it through: how will its predictions compare to those from the intuitive strategy above?  When will they differ?\n",
    "\n",
    "Its predictions will be pretty similar to our intuitive strategy, but occasionally it will make a different prediction.  In particular, if Alice's blood test results happen to put her right near one of the blue dots in the lower-left, the intuitive strategy would predict 'not CKD', whereas the nearest neighbor classifier will predict 'CKD'.\n",
    "\n",
    "There is a simple generalization of the nearest neighbor classifier that fixes this anomaly.  It is called the *k-nearest neighbor classifier*.  To predict Alice's diagnosis, rather than looking at just the one neighbor closest to her, we can look at the 3 points that are closest to her, and use the diagnosis for each of those 3 points to predict Alice's diagnosis.  In particular, we'll use the majority value among those 3 diagnoses as our prediction for Alice's diagnosis.  Of course, there's nothing special about the number 3: we could use 4, or 5, or more.  (It's often convenient to pick an odd number, so that we don't have to deal with ties.)  In general, we pick a number $k$, and our predicted diagnosis for Alice is based on the $k$ patients in the training set who are closest to Alice.  Intuitively, these are the $k$ patients whose blood test results were most similar to Alice, so it seems reasonable to use their diagnoses to predict Alice's diagnosis.\n",
    "\n",
    "The $k$-nearest neighbor classifier will now behave just like our intuitive strategy above.\n",
    "\n",
    "{ucb-page}`Nearest_Neighbors`"
   ]
  }
 ],
 "metadata": {
  "anaconda-cloud": {},
  "jupytext": {
   "notebook_metadata_filter": "all,-language_info"
  },
  "kernelspec": {
   "display_name": "Python 3",
   "language": "python",
   "name": "python3"
  }
 },
 "nbformat": 4,
 "nbformat_minor": 5
}
