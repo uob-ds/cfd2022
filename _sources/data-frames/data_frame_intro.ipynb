{
 "cells": [
  {
   "cell_type": "markdown",
   "id": "f9e5a065",
   "metadata": {},
   "source": [
    "# Introduction to data frames"
   ]
  },
  {
   "cell_type": "markdown",
   "id": "0e60c8c4",
   "metadata": {},
   "source": [
    "[Pandas](https://pandas.pydata.org) is a Python package that\n",
    "implements data frames, and functions that operate on data\n",
    "frames."
   ]
  },
  {
   "cell_type": "code",
   "execution_count": null,
   "id": "17dc44cb",
   "metadata": {},
   "outputs": [],
   "source": [
    "# Load the Pandas data science library, call it 'pd'\n",
    "import pandas as pd\n",
    "# Turn on a setting to use Pandas more safely.\n",
    "# We will discuss this setting later.\n",
    "pd.set_option('mode.chained_assignment', 'raise')"
   ]
  },
  {
   "cell_type": "markdown",
   "id": "53aa2b4a",
   "metadata": {},
   "source": [
    "We will also use the usual Numpy array library:"
   ]
  },
  {
   "cell_type": "code",
   "execution_count": null,
   "id": "0049fe75",
   "metadata": {},
   "outputs": [],
   "source": [
    "# Load the Numpy array library, call it 'np'\n",
    "import numpy as np"
   ]
  },
  {
   "cell_type": "markdown",
   "id": "3da28722",
   "metadata": {},
   "source": [
    "## Data frames and series\n",
    "\n",
    "We start by loading data from a Comma Separated Value file (CSV\n",
    "file).  If you are running on your laptop, you should download\n",
    "the {download}`gender_stats.csv <../data/gender_stats.csv>`\n",
    "file to the same directory as this notebook.\n",
    "\n",
    "See the [gender statistics description page](../data/gender_stats) for more detail on the dataset."
   ]
  },
  {
   "cell_type": "code",
   "execution_count": null,
   "id": "b8a3cdc4",
   "metadata": {},
   "outputs": [],
   "source": [
    "# Load the data file\n",
    "gender_data = pd.read_csv('gender_stats.csv')"
   ]
  },
  {
   "cell_type": "markdown",
   "id": "888c6ea7",
   "metadata": {},
   "source": [
    "This is our usual assignment statement. The LHS is `gender_data`, the variable name.  The RHS is an expression, that returns a value.\n",
    "\n",
    "What type of value does it return?"
   ]
  },
  {
   "cell_type": "code",
   "execution_count": null,
   "id": "c5af9ca0",
   "metadata": {},
   "outputs": [],
   "source": [
    "type(gender_data)"
   ]
  },
  {
   "cell_type": "markdown",
   "id": "2e8670f2",
   "metadata": {},
   "source": [
    "Pandas integrates with the Notebook, so, if you display a data\n",
    "frame in the notebook, it does a nice display of rows and\n",
    "columns."
   ]
  },
  {
   "cell_type": "code",
   "execution_count": null,
   "id": "47194bcf",
   "metadata": {},
   "outputs": [],
   "source": [
    "gender_data"
   ]
  },
  {
   "cell_type": "markdown",
   "id": "efb8e02d",
   "metadata": {},
   "source": [
    "Notice the `NaN` at the top of the GDP column.  This is a *missing value*.  We\n",
    "will come to these in [missing values](missing_values).\n",
    "\n",
    "For the moment, we will do something quick and dirty, which is to drop all the\n",
    "missing values from the data frame.   *Be careful* - this is rarely the right\n",
    "thing to do, without a lot of investigation as to why the values are missing."
   ]
  },
  {
   "cell_type": "code",
   "execution_count": null,
   "id": "e1d9428c",
   "metadata": {},
   "outputs": [],
   "source": [
    "# Drop all missing values.  Be careful, this is rarely the right thing to do.\n",
    "gender_data_no_na = gender_data.dropna()\n",
    "gender_data_no_na"
   ]
  },
  {
   "cell_type": "markdown",
   "id": "d2b5c8e9",
   "metadata": {},
   "source": [
    "The data frame has rows and columns.  Like other Python objects, it has\n",
    "*attributes*.  These are pieces of data associated with the data frame.  You\n",
    "have already seen *methods*, which are functions associated with the data\n",
    "frame.  You can access attributes in the same way as you access methods, by\n",
    "typing the variable name, followed by a dot `.`, followed by the attribute\n",
    "name.\n",
    "\n",
    "For example, one attribute of the data frame, is the `shape`:"
   ]
  },
  {
   "cell_type": "code",
   "execution_count": null,
   "id": "6bba412a",
   "metadata": {},
   "outputs": [],
   "source": [
    "gender_data_no_na.shape"
   ]
  },
  {
   "cell_type": "markdown",
   "id": "ab205f6d",
   "metadata": {},
   "source": [
    "Another attribute is `columns`.  This has the column names. For\n",
    "example, here is a good way of quickly seeing the column names\n",
    "for a data frame:"
   ]
  },
  {
   "cell_type": "code",
   "execution_count": null,
   "id": "4e7a1d0d",
   "metadata": {},
   "outputs": [],
   "source": [
    "gender_data_no_na.columns"
   ]
  },
  {
   "cell_type": "markdown",
   "id": "7ade4c01",
   "metadata": {},
   "source": [
    "You need more information about what these column names refer to.  Here are the longer descriptions from the original data source (link above):\n",
    "\n",
    "* `fert_rate`: Fertility rate, total (births per woman).\n",
    "* `gdp_us_billion`: GDP (in current US \\$ billions).\n",
    "* `health_exp_per_cap`: Health expenditure per capita, PPP (constant 2011\n",
    "  international \\$).\n",
    "* `health_exp_pub`: Health expenditure, public (% of GDP).\n",
    "* `prim_ed_girls`: Primary education, pupils (% female).\n",
    "* `mat_mort_ratio`: Maternal mortality ratio (modeled estimate, per 100,000\n",
    "  live births).\n",
    "* `population`: Population, total.\n",
    "\n",
    "You have seen array slicing (in [Selecting with\n",
    "arrays](../arrays/array_indexing).  You remember that array slicing uses\n",
    "square brackets.   Data frames also allow slicing.  For example, we often want\n",
    "to get all the data for a single column of the data frame.  To do this, we use\n",
    "the same square bracket notation as we use for array slicing, with the name of\n",
    "the column inside the square brackets."
   ]
  },
  {
   "cell_type": "code",
   "execution_count": null,
   "id": "4834d24f",
   "metadata": {},
   "outputs": [],
   "source": [
    "gdp = gender_data_no_na['gdp_us_billion']"
   ]
  },
  {
   "cell_type": "markdown",
   "id": "76a0c330",
   "metadata": {},
   "source": [
    "What `type` of thing is this column of data?"
   ]
  },
  {
   "cell_type": "code",
   "execution_count": null,
   "id": "445abf6f",
   "metadata": {},
   "outputs": [],
   "source": [
    "type(gdp)"
   ]
  },
  {
   "cell_type": "markdown",
   "id": "dc4be29d",
   "metadata": {},
   "source": [
    "Here are the values for `gdp`.  You will notice that these are the same values\n",
    "you saw in the \"gdp_us_billion\" column when you displayed the whole data\n",
    "frame."
   ]
  },
  {
   "cell_type": "code",
   "execution_count": null,
   "id": "ced7c45b",
   "metadata": {
    "lines_to_next_cell": 2
   },
   "outputs": [],
   "source": [
    "gdp"
   ]
  },
  {
   "cell_type": "markdown",
   "id": "ccadb834",
   "metadata": {},
   "source": [
    "## Plotting, the basic way\n",
    "\n",
    "There are two ways of getting plots from data in data frames.   Here we use\n",
    "the most basic method, that you have already seen.   Soon, we will get onto [a\n",
    "more elegant plotting method](df_plotting).\n",
    "\n",
    "We start with the magic incantation to load the plotting library."
   ]
  },
  {
   "cell_type": "code",
   "execution_count": null,
   "id": "b6fd10f9",
   "metadata": {},
   "outputs": [],
   "source": [
    "# Load the library for plotting, name it 'plt'\n",
    "import matplotlib.pyplot as plt\n",
    "# Display plots inside the notebook.\n",
    "%matplotlib inline\n",
    "# Make plots look a little more fancy\n",
    "plt.style.use('fivethirtyeight')"
   ]
  },
  {
   "cell_type": "markdown",
   "id": "4cf8ce4e",
   "metadata": {},
   "source": [
    "The `gdp` variable is a sequence of values, so we can do a histogram on these\n",
    "values, as we have done histograms on arrays."
   ]
  },
  {
   "cell_type": "code",
   "execution_count": null,
   "id": "6ffdf006",
   "metadata": {},
   "outputs": [],
   "source": [
    "plt.hist(gdp);"
   ]
  },
  {
   "cell_type": "markdown",
   "id": "36206a0b",
   "metadata": {},
   "source": [
    "Now we have had a look at the GDP values, we will look at the\n",
    "values for the `mat_mort_ratio` column.  These are the numbers\n",
    "of women who die in childbirth for every 100,000 births."
   ]
  },
  {
   "cell_type": "code",
   "execution_count": null,
   "id": "6c3384cd",
   "metadata": {},
   "outputs": [],
   "source": [
    "mmr = gender_data_no_na['mat_mort_ratio']\n",
    "mmr"
   ]
  },
  {
   "cell_type": "code",
   "execution_count": null,
   "id": "486f4296",
   "metadata": {},
   "outputs": [],
   "source": [
    "plt.hist(mmr);"
   ]
  },
  {
   "cell_type": "markdown",
   "id": "9a5b1774",
   "metadata": {},
   "source": [
    "We are interested in the relationship of `gpp` and `mmr`.  Maybe richer\n",
    "countries have better health care, and fewer maternal deaths.\n",
    "\n",
    "Here is a plot, using the standard Matplotlib `scatter`\n",
    "function."
   ]
  },
  {
   "cell_type": "code",
   "execution_count": null,
   "id": "cc9fb767",
   "metadata": {},
   "outputs": [],
   "source": [
    "plt.scatter(gdp, mmr);"
   ]
  },
  {
   "cell_type": "markdown",
   "id": "84285ac4",
   "metadata": {},
   "source": [
    "## Showing the top 5 values with the `head` method"
   ]
  },
  {
   "cell_type": "markdown",
   "id": "ac0ae797",
   "metadata": {},
   "source": [
    "We have already seen that Pandas will display the data frame with nice formatting.  If the data frame is long, it will display only the first few and the last few rows:"
   ]
  },
  {
   "cell_type": "code",
   "execution_count": null,
   "id": "69b2206e",
   "metadata": {},
   "outputs": [],
   "source": [
    "gender_data_no_na"
   ]
  },
  {
   "cell_type": "markdown",
   "id": "5208e42e",
   "metadata": {},
   "source": [
    "Notice the `...` in the center of this listing, to show that it has not printed some rows."
   ]
  },
  {
   "cell_type": "markdown",
   "id": "67b6e146",
   "metadata": {},
   "source": [
    "Sometimes we do not want to see all these rows, but only - say - the top five rows.   The `head` method of the data frame is a useful way to do this:"
   ]
  },
  {
   "cell_type": "code",
   "execution_count": null,
   "id": "bdee4631",
   "metadata": {},
   "outputs": [],
   "source": [
    "gender_data_no_na.head()"
   ]
  },
  {
   "cell_type": "markdown",
   "id": "38e81735",
   "metadata": {},
   "source": [
    "The `Series` also has a `head` method, that does the same thing:"
   ]
  },
  {
   "cell_type": "code",
   "execution_count": null,
   "id": "a1cfd6f6",
   "metadata": {},
   "outputs": [],
   "source": [
    "gdp.head()"
   ]
  },
  {
   "cell_type": "markdown",
   "id": "e97f2d0b",
   "metadata": {},
   "source": [
    "## Selecting rows"
   ]
  },
  {
   "cell_type": "markdown",
   "id": "67bc54c8",
   "metadata": {},
   "source": [
    "We often want to select rows from the data frame that match some criterion.\n",
    "\n",
    "Say we want to select the rows corresponding the countries with a high GDP.\n",
    "\n",
    "Looking at the histogram of `gdp` above, we could try this as a threshold to\n",
    "identify high GDP countries."
   ]
  },
  {
   "cell_type": "code",
   "execution_count": null,
   "id": "c47973af",
   "metadata": {},
   "outputs": [],
   "source": [
    "high_gdp = gdp > 1000\n",
    "high_gdp.head()"
   ]
  },
  {
   "cell_type": "code",
   "execution_count": null,
   "id": "61495ac9",
   "metadata": {},
   "outputs": [],
   "source": [
    "type(high_gdp)"
   ]
  },
  {
   "cell_type": "markdown",
   "id": "92dc19fd",
   "metadata": {},
   "source": [
    "Notice that `high_gdp` is a Boolean series, like the Boolean arrays you have\n",
    "already seen.  It has `True` for elements corresponding to countries with\n",
    "`gdp` value greater than `1000` and `False` otherwise.\n",
    "\n",
    "We can use this Boolean series to select rows from the data frame.\n",
    "\n",
    "Remember *indexing*.  When we follow a name of something, like an array or\n",
    "series or data frame, with an open square bracket, this means we are trying to\n",
    "get data from the array or Series.  The stuff inside the square brackets says\n",
    "what we want.\n",
    "\n",
    "When we put our Boolean series inside the square brackets, it works like this:"
   ]
  },
  {
   "cell_type": "code",
   "execution_count": null,
   "id": "df69872d",
   "metadata": {},
   "outputs": [],
   "source": [
    "rich_gender_data = gender_data_no_na[high_gdp]\n",
    "rich_gender_data"
   ]
  },
  {
   "cell_type": "code",
   "execution_count": null,
   "id": "468ff094",
   "metadata": {},
   "outputs": [],
   "source": [
    "type(rich_gender_data)"
   ]
  },
  {
   "cell_type": "markdown",
   "id": "7596e2fd",
   "metadata": {},
   "source": [
    "`rich_gender_data` is a new data frame, that is a subset of the original\n",
    "`gender_data_no_na` frame.  It contains only the rows where the GDP value is\n",
    "greater than `1000` billion dollars.  Check the display of `rich_gender_data`\n",
    "above to confirm that the values in the `gdp_us_billion` column are all\n",
    "greater than `1000`.\n",
    "\n",
    "We can do a scatter plot of GDP values against maternal\n",
    "mortality rate, and we find, oddly, that for rich countries,\n",
    "there is little relationship between GDP and maternal mortality."
   ]
  },
  {
   "cell_type": "code",
   "execution_count": null,
   "id": "da99b6d2",
   "metadata": {},
   "outputs": [],
   "source": [
    "plt.scatter(rich_gender_data['gdp_us_billion'],\n",
    "            rich_gender_data['mat_mort_ratio'])"
   ]
  },
  {
   "cell_type": "markdown",
   "id": "cb455be1",
   "metadata": {},
   "source": [
    "One thing that stands out is the very high value at around 180.   Which country does this refer to?  We can use sorting to find out."
   ]
  },
  {
   "cell_type": "markdown",
   "id": "ab9dbca3",
   "metadata": {},
   "source": [
    "## Sorting data frames"
   ]
  },
  {
   "cell_type": "markdown",
   "id": "baff99d1",
   "metadata": {},
   "source": [
    "Data frames have a method `sort_value`.  This returns a new data frame with the\n",
    "rows sorted by the values in the column we specify.\n",
    "\n",
    "Here are the first five rows of the data frame of the rich countries:"
   ]
  },
  {
   "cell_type": "code",
   "execution_count": null,
   "id": "6e67a188",
   "metadata": {},
   "outputs": [],
   "source": [
    "rich_gender_data.head()"
   ]
  },
  {
   "cell_type": "markdown",
   "id": "cec72950",
   "metadata": {},
   "source": [
    "We are interested to find which of these richer countries has a high maternal mortality ratio.  To do this, we can make a new data frame where the rows are sorted by the values in the\n",
    "`mat_mort_ratio` column:"
   ]
  },
  {
   "cell_type": "code",
   "execution_count": null,
   "id": "18a1c061",
   "metadata": {},
   "outputs": [],
   "source": [
    "rich_by_mmr = rich_gender_data.sort_values('mat_mort_ratio')\n",
    "rich_by_mmr.head()"
   ]
  },
  {
   "cell_type": "markdown",
   "id": "5d1e2f50",
   "metadata": {},
   "source": [
    "Notice that the rows are in *ascending* order of `mat_mort_ratio`.  To find the countries with high maternal mortality, we might prefer to sort in *descending* order.  As usual you can explore how\n",
    "you might do this by looking at the help for the `sort_values` method with:\n",
    "\n",
    "```\n",
    "rich_by_mmr.sort_values?\n",
    "```\n",
    "\n",
    "in a new cell.   If you do that, you discover the `ascending` argument, that\n",
    "you can use like this:"
   ]
  },
  {
   "cell_type": "code",
   "execution_count": null,
   "id": "09595966",
   "metadata": {},
   "outputs": [],
   "source": [
    "rich_by_descending_mmr = rich_gender_data.sort_values('mat_mort_ratio', ascending=False)\n",
    "rich_by_descending_mmr.head()"
   ]
  },
  {
   "cell_type": "markdown",
   "id": "6c0dc98f",
   "metadata": {},
   "source": [
    "As you might have guessed by now, `Series` also have a `sort_values` method.\n",
    "For a Series, you don't have to specify the column to sort from, because you\n",
    "are using the Series values."
   ]
  },
  {
   "cell_type": "code",
   "execution_count": null,
   "id": "c32a011d",
   "metadata": {},
   "outputs": [],
   "source": [
    "rich_mmr = rich_gender_data['mat_mort_ratio']\n",
    "type(rich_mmr)"
   ]
  },
  {
   "cell_type": "code",
   "execution_count": null,
   "id": "eb2f6304",
   "metadata": {},
   "outputs": [],
   "source": [
    "rich_mmr.sort_values(ascending=False)"
   ]
  },
  {
   "cell_type": "markdown",
   "id": "06c31619",
   "metadata": {},
   "source": [
    "## Calculation on data frames"
   ]
  },
  {
   "cell_type": "markdown",
   "id": "ddbd4d62",
   "metadata": {},
   "source": [
    "We can calculate with Pandas Series, just as we can with arrays.\n",
    "\n",
    "For example, now we know that India has both a high GDP, and a high maternal mortality ratio, we wonder whether this is because India also has a large population, and therefore, relatively little money per person to spend on health care.\n",
    "\n",
    "So, we would like know the GDP per capita.  Luckily the data frame as a column \"population\":"
   ]
  },
  {
   "cell_type": "code",
   "execution_count": null,
   "id": "3ef92898",
   "metadata": {},
   "outputs": [],
   "source": [
    "rich_population = rich_by_descending_mmr[\"population\"]\n",
    "rich_population"
   ]
  },
  {
   "cell_type": "markdown",
   "id": "e53983ef",
   "metadata": {},
   "source": [
    "We can divide the GDP by the population in millions to get US billion dollars per million population.\n",
    "\n",
    "This works exactly as it does for arrays:"
   ]
  },
  {
   "cell_type": "code",
   "execution_count": null,
   "id": "0061b5b1",
   "metadata": {},
   "outputs": [],
   "source": [
    "rich_gdp = rich_by_descending_mmr[\"gdp_us_billion\"]\n",
    "rich_gdp"
   ]
  },
  {
   "cell_type": "code",
   "execution_count": null,
   "id": "693e3134",
   "metadata": {},
   "outputs": [],
   "source": [
    "gdp_per_million = rich_gdp / rich_population\n",
    "gdp_per_million"
   ]
  },
  {
   "cell_type": "markdown",
   "id": "d943f3ce",
   "metadata": {},
   "source": [
    "Notice that the result is *elementwise* division.  Python divides each element\n",
    "in `rich_gdp` by the *corresponding* element in `rich_population`."
   ]
  },
  {
   "cell_type": "markdown",
   "id": "681b74f1",
   "metadata": {},
   "source": [
    "Remember that India is the first country in the `rich_by_descending_mmr`\n",
    "data frame.  It also has by far the lowest GDP per million population of\n",
    "any of this selection of rich countries.   Here's a plot of\n",
    "`gdp_per_million` against the corresponding values in `mat_mort_ratio`:"
   ]
  },
  {
   "cell_type": "code",
   "execution_count": null,
   "id": "539074fc",
   "metadata": {},
   "outputs": [],
   "source": [
    "plt.scatter(gdp_per_million, rich_by_descending_mmr['mat_mort_ratio'])"
   ]
  },
  {
   "cell_type": "markdown",
   "id": "4c18759b",
   "metadata": {},
   "source": [
    "It does look as if low income per person predisposes to high maternal mortality."
   ]
  }
 ],
 "metadata": {
  "jupyterbook": {
   "show_stderr": true
  },
  "jupytext": {
   "formats": "",
   "notebook_metadata_filter": "jupyterbook",
   "split_at_heading": true
  },
  "kernelspec": {
   "display_name": "Python 3",
   "language": "python",
   "name": "python3"
  }
 },
 "nbformat": 4,
 "nbformat_minor": 5
}
