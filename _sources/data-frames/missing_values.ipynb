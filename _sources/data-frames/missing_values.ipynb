{
 "cells": [
  {
   "cell_type": "markdown",
   "id": "9c0ca148",
   "metadata": {},
   "source": [
    "# Missing values\n",
    "\n",
    "<!---\n",
    "Expand here.\n",
    "-->"
   ]
  },
  {
   "cell_type": "code",
   "execution_count": null,
   "id": "cbf48ac2",
   "metadata": {},
   "outputs": [],
   "source": [
    "# Load the Numpy array library, call it 'np'\n",
    "import numpy as np\n",
    "# Load the Pandas data science library, call it 'pd'\n",
    "import pandas as pd\n",
    "# Turn on a setting to use Pandas more safely.\n",
    "pd.set_option('mode.chained_assignment', 'raise')"
   ]
  },
  {
   "cell_type": "markdown",
   "id": "fcf5d94b",
   "metadata": {},
   "source": [
    "If you are running on your laptop, you should download the\n",
    "{download}`gender_stats.csv <../data/gender_stats.csv>` file to the same\n",
    "directory as this notebook.\n",
    "\n",
    "See the [gender statistics description page](../data/gender_stats) for more detail on the dataset."
   ]
  },
  {
   "cell_type": "code",
   "execution_count": null,
   "id": "f8daf477",
   "metadata": {},
   "outputs": [],
   "source": [
    "# Load the data file\n",
    "gender_data = pd.read_csv('gender_stats.csv')\n",
    "gender_data.head()"
   ]
  },
  {
   "cell_type": "code",
   "execution_count": null,
   "id": "e9c615e9",
   "metadata": {},
   "outputs": [],
   "source": [
    "# Get the GDP values as a Pandas Series\n",
    "gdp = gender_data['gdp_us_billion']\n",
    "gdp.head()"
   ]
  },
  {
   "cell_type": "markdown",
   "id": "679534a2",
   "metadata": {},
   "source": [
    "## Missing values and `NaN`\n",
    "\n",
    "Looking at the values of `gdp` (and therefore, the values of the\n",
    "`gdp_us_billion` column of `gender_data`, we see that some of the values are\n",
    "`NaN`, which means Not a Number.  Pandas uses this marker to indicate values\n",
    "that are not available, or *missing data*.\n",
    "\n",
    "Numpy does not like to calculate with `NaN` values.  Here is Numpy trying to\n",
    "calculate the median of the `gdp` values."
   ]
  },
  {
   "cell_type": "code",
   "execution_count": null,
   "id": "1442adfc",
   "metadata": {},
   "outputs": [],
   "source": [
    "np.median(gdp)"
   ]
  },
  {
   "cell_type": "markdown",
   "id": "ec6dd46b",
   "metadata": {},
   "source": [
    "Notice the warning about an invalid value.\n",
    "\n",
    "Numpy recognizes that one or more values are `NaN` and refuses to guess what to do, when calculating the median."
   ]
  },
  {
   "cell_type": "markdown",
   "id": "e6a539aa",
   "metadata": {},
   "source": [
    "You saw from the shape above that `gender_data` has 263 rows.  We can use the\n",
    "general Python `len` function, to see how many elements there are in `gdp`."
   ]
  },
  {
   "cell_type": "code",
   "execution_count": null,
   "id": "bb9cb32e",
   "metadata": {},
   "outputs": [],
   "source": [
    "len(gdp)"
   ]
  },
  {
   "cell_type": "markdown",
   "id": "cc0110ad",
   "metadata": {},
   "source": [
    "As expected, it has the same number of elements as there are rows in `gender_data`.\n",
    "\n",
    "The `count` method of the series gives the number of values that are *not\n",
    "missing* - that is - not `NaN`."
   ]
  },
  {
   "cell_type": "code",
   "execution_count": null,
   "id": "28784886",
   "metadata": {},
   "outputs": [],
   "source": [
    "gdp.count()"
   ]
  }
 ],
 "metadata": {
  "jupyterbook": {
   "show_stderr": true
  },
  "jupytext": {
   "formats": "",
   "notebook_metadata_filter": "jupyterbook",
   "split_at_heading": true
  },
  "kernelspec": {
   "display_name": "Python 3",
   "language": "python",
   "name": "python3"
  }
 },
 "nbformat": 4,
 "nbformat_minor": 5
}
