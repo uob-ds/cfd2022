{
 "cells": [
  {
   "cell_type": "markdown",
   "id": "84c2add1",
   "metadata": {},
   "source": [
    "# The Monty Hall problem, with lists\n",
    "\n",
    "For inspiration, see this simulation of [the Monty Hall\n",
    "Problem](../more-simulation/monty_hall) using arrays.\n",
    "\n",
    "We use arrays often in data science, but sometimes, it is more efficient to use\n",
    "Python [lists](../data-types/lists).\n",
    "\n",
    "To follow along in this section, you will also need [more on\n",
    "lists](more_on_lists)."
   ]
  },
  {
   "cell_type": "markdown",
   "id": "4feea4b9",
   "metadata": {},
   "source": [
    "## Simulating one trial\n",
    "\n",
    "To operate on lists we use the Python standard `random` module, instead of the Numpy `random` module.  The Numpy module always returns arrays, but in our case, we want to return lists."
   ]
  },
  {
   "cell_type": "code",
   "execution_count": null,
   "id": "d3331d8a",
   "metadata": {},
   "outputs": [],
   "source": [
    "import random"
   ]
  },
  {
   "cell_type": "markdown",
   "id": "e0ab6481",
   "metadata": {},
   "source": [
    "In particular, we are going to use the `shuffle` function in the Python\n",
    "standard `random` module."
   ]
  },
  {
   "cell_type": "code",
   "execution_count": null,
   "id": "008148e1",
   "metadata": {},
   "outputs": [],
   "source": [
    "doors = ['car', 'goat', 'goat']\n",
    "random.shuffle(doors)\n",
    "doors"
   ]
  },
  {
   "cell_type": "markdown",
   "id": "f6b4a614",
   "metadata": {},
   "source": [
    "Here we chose a door at random.  We use the standard `random.choice` instead of\n",
    "`np.random.choice`."
   ]
  },
  {
   "cell_type": "code",
   "execution_count": null,
   "id": "e51219ab",
   "metadata": {},
   "outputs": [],
   "source": [
    "my_door_index = random.choice([0, 1, 2])\n",
    "my_door_index"
   ]
  },
  {
   "cell_type": "markdown",
   "id": "d86d4c4e",
   "metadata": {},
   "source": [
    "We get the result of staying with our original choice, and remove that option from the list of available doors."
   ]
  },
  {
   "cell_type": "code",
   "execution_count": null,
   "id": "d2a1ee0c",
   "metadata": {},
   "outputs": [],
   "source": [
    "stay_result = doors.pop(my_door_index)\n",
    "stay_result"
   ]
  },
  {
   "cell_type": "markdown",
   "id": "1464c07d",
   "metadata": {},
   "source": [
    "We are left with the two doors that Monty has to choose from."
   ]
  },
  {
   "cell_type": "code",
   "execution_count": null,
   "id": "44ddd883",
   "metadata": {},
   "outputs": [],
   "source": [
    "doors"
   ]
  },
  {
   "cell_type": "markdown",
   "id": "c2bf156b",
   "metadata": {},
   "source": [
    "Behind one of these doors, Monty knows there is a goat.  He opens the door.  We simulate that by removing the first door with a goat behind it.\n",
    "\n",
    "[Remember](more_on_lists), `remove` removes only the first instance of \"goat\", leaving the second, if there is one."
   ]
  },
  {
   "cell_type": "code",
   "execution_count": null,
   "id": "245ea50f",
   "metadata": {},
   "outputs": [],
   "source": [
    "doors.remove('goat')\n",
    "doors"
   ]
  },
  {
   "cell_type": "markdown",
   "id": "1bd94b6b",
   "metadata": {},
   "source": [
    "Now we have only one remaining door.  The item behind that door is the result from switching from our original door."
   ]
  },
  {
   "cell_type": "code",
   "execution_count": null,
   "id": "bdb08656",
   "metadata": {},
   "outputs": [],
   "source": [
    "switch_result = doors[0]\n",
    "switch_result"
   ]
  },
  {
   "cell_type": "markdown",
   "id": "2dc5bf8c",
   "metadata": {},
   "source": [
    "## Many trials.\n",
    "\n",
    "That's one trial.   Now let's do that 100000 times.\n",
    "\n",
    "Here we are using `range` instead of `np.arange`.  `range` is the standard\n",
    "Python equivalent of `np.arange`; it has the same effect, in this case, when we\n",
    "use it in a loop."
   ]
  },
  {
   "cell_type": "code",
   "execution_count": null,
   "id": "d6710eea",
   "metadata": {},
   "outputs": [],
   "source": [
    "# Make 10000 trials.\n",
    "n_tries = 100000\n",
    "# Lists to store results from stay and switch strategy\n",
    "stay_results = []\n",
    "switch_results = []\n",
    "for i in range(n_tries):\n",
    "    # Same code as above, for one trial\n",
    "    doors = ['car', 'goat', 'goat']\n",
    "    random.shuffle(doors)\n",
    "    my_door_index = random.choice([0, 1, 2])\n",
    "    stay_result = doors.pop(my_door_index)\n",
    "    doors.remove('goat')\n",
    "    switch_result = doors[0]\n",
    "    # Put results into result lists\n",
    "    stay_results.append(stay_result)\n",
    "    switch_results.append(switch_result)"
   ]
  },
  {
   "cell_type": "markdown",
   "id": "8923ca55",
   "metadata": {},
   "source": [
    "We use the `count` method of the list to count the number of \"car\" element in\n",
    "each list, and divide by the length of the list, to get the proportion of\n",
    "successes."
   ]
  },
  {
   "cell_type": "code",
   "execution_count": null,
   "id": "cc885914",
   "metadata": {},
   "outputs": [],
   "source": [
    "stay_results.count('car') / n_tries"
   ]
  },
  {
   "cell_type": "code",
   "execution_count": null,
   "id": "fe2ecc70",
   "metadata": {},
   "outputs": [],
   "source": [
    "switch_results.count('car') / n_tries"
   ]
  },
  {
   "cell_type": "markdown",
   "id": "b0645789",
   "metadata": {},
   "source": [
    "Compare this solution to the [solution using arrays](../more-simulation/monty_hall).  Which solution is easier to read and understand?"
   ]
  }
 ],
 "metadata": {
  "jupytext": {
   "formats": "",
   "split_at_heading": true
  },
  "kernelspec": {
   "display_name": "Python 3",
   "language": "python",
   "name": "python3"
  }
 },
 "nbformat": 4,
 "nbformat_minor": 5
}
