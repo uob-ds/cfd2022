{
 "cells": [
  {
   "cell_type": "markdown",
   "id": "4db817b3",
   "metadata": {},
   "source": [
    "# Data 8 explanation of functions\n",
    "\n",
    "This is the explanation on functions from the Berkeley \"Foundations of Data\n",
    "Science\" course (also called \"Data 8\").\n",
    "\n",
    "{ucb-page}`Functions_and_Tables`"
   ]
  },
  {
   "cell_type": "code",
   "execution_count": null,
   "id": "ee40b49a",
   "metadata": {},
   "outputs": [],
   "source": [
    "import numpy as np"
   ]
  },
  {
   "cell_type": "markdown",
   "id": "3e2d3523",
   "metadata": {},
   "source": [
    "# Writing functions\n",
    "\n",
    "We are building up a useful inventory of techniques for identifying patterns\n",
    "and themes in a data set by using functions already available in Python. We\n",
    "will now explore a core feature of the Python programming language: function\n",
    "definition.\n",
    "\n",
    "We have used functions extensively already in this text, but never defined\n",
    "a function of our own. The purpose of defining a function is to give a name to\n",
    "a computational process that may be applied multiple times. There are many\n",
    "situations in computing that require repeated computation. For example, it is\n",
    "often the case that we want to perform the same manipulation on every value in\n",
    "a column of a table."
   ]
  },
  {
   "cell_type": "markdown",
   "id": "467e6e13",
   "metadata": {},
   "source": [
    "## Defining a Function\n",
    "\n",
    "The definition of the `double` function below simply doubles a number."
   ]
  },
  {
   "cell_type": "code",
   "execution_count": null,
   "id": "e8caa684",
   "metadata": {},
   "outputs": [],
   "source": [
    "# Our first function definition\n",
    "\n",
    "def double(x):\n",
    "    \"\"\" Double x \"\"\"\n",
    "    return 2*x"
   ]
  },
  {
   "cell_type": "markdown",
   "id": "6324ed0e",
   "metadata": {},
   "source": [
    "We start any function definition by writing `def`.  Here is a breakdown of the\n",
    "other parts (the *syntax*) of this small function:\n",
    "\n",
    "![function definition](../images/function_definition.jpg)\n",
    "\n",
    "When we run the cell above, no particular number is doubled, and the code\n",
    "inside the body of `double` is not yet evaluated.  In this respect, our\n",
    "function is analogous to a *recipe*.  Each time we follow the instructions in\n",
    "a recipe, we need to start with ingredients.  Each time we want to use our\n",
    "function to double a number, we need to specify a number.\n",
    "\n",
    "We can call `double` in exactly the same way we have called other functions.\n",
    "Each time we do that, the code in the body is executed, with the value of the\n",
    "argument given the name `x`."
   ]
  },
  {
   "cell_type": "code",
   "execution_count": null,
   "id": "18831200",
   "metadata": {},
   "outputs": [],
   "source": [
    "double(17)"
   ]
  },
  {
   "cell_type": "code",
   "execution_count": null,
   "id": "397598e3",
   "metadata": {},
   "outputs": [],
   "source": [
    "double(-0.6/4)"
   ]
  },
  {
   "cell_type": "markdown",
   "id": "5e0cb8bf",
   "metadata": {},
   "source": [
    "The two expressions above are both *call expressions*. In the second one, the\n",
    "value of the expression `-0.6/4` is computed and then passed as the argument\n",
    "named `x` to the `double` function. Each call expression results in the body of\n",
    "`double` being executed, but with a different value of `x`.\n",
    "\n",
    "The body of `double` has only a single line:\n",
    "\n",
    "`return 2*x`\n",
    "\n",
    "Executing this *`return` statement* completes execution of the `double`\n",
    "function's body and computes the value of the call expression.\n",
    "\n",
    "The argument to `double` can be any expression, as long as its value is\n",
    "a number.  For example, it can be a name.  The `double` function does not know\n",
    "or care how its argument is computed or stored; its only job is to execute its\n",
    "own body using the values of the arguments passed to it."
   ]
  },
  {
   "cell_type": "code",
   "execution_count": null,
   "id": "1befb19e",
   "metadata": {},
   "outputs": [],
   "source": [
    "any_name = 42\n",
    "double(any_name)"
   ]
  },
  {
   "cell_type": "markdown",
   "id": "0bf8295d",
   "metadata": {},
   "source": [
    "The argument can also be any value that can be doubled. For example, a whole\n",
    "array of numbers can be passed as an argument to `double`, and the result will\n",
    "be another array."
   ]
  },
  {
   "cell_type": "code",
   "execution_count": null,
   "id": "43609943",
   "metadata": {},
   "outputs": [],
   "source": [
    "double(np.array([3, 4, 5]))"
   ]
  },
  {
   "cell_type": "markdown",
   "id": "82522b51",
   "metadata": {},
   "source": [
    "However, names that are defined inside a function, including arguments like\n",
    "`double`'s `x`, have only a fleeting existence.  They are defined only while\n",
    "the function is being called, and they are only accessible inside the body of\n",
    "the function. We can't refer to `x` outside the body of `double`. The technical\n",
    "terminology is that `x` has *local scope*.\n",
    "\n",
    "Therefore the name `x` isn't recognized outside the body of the function, even\n",
    "though we have called `double` in the cells above."
   ]
  },
  {
   "cell_type": "code",
   "execution_count": null,
   "id": "b07fbecd",
   "metadata": {
    "tags": [
     "raises-exception"
    ]
   },
   "outputs": [],
   "source": [
    "x"
   ]
  },
  {
   "cell_type": "markdown",
   "id": "a24a38aa",
   "metadata": {},
   "source": [
    "**Docstrings.** Though `double` is relatively easy to understand, many\n",
    "functions perform complicated tasks and are difficult to use without\n",
    "explanation. (You may have discovered this yourself!) Therefore,\n",
    "a well-composed function has a name that evokes its behavior, as well as\n",
    "documentation.  In Python, this is called a *docstring* — a description of its\n",
    "behavior and expectations about its arguments. The docstring can also show\n",
    "example calls to the function, where the call is preceded by `>>>`.\n",
    "\n",
    "A docstring can be any string, as long as it is the first thing in a function's\n",
    "body. Docstrings are typically defined using triple quotation marks at the\n",
    "start and end, which allows a string to span multiple lines. The first line is\n",
    "conventionally a complete but short description of the function, while\n",
    "following lines provide further guidance to future users of the function.\n",
    "\n",
    "Here is a definition of a function called `percent` that takes two arguments.\n",
    "The definition includes a docstring."
   ]
  },
  {
   "cell_type": "code",
   "execution_count": null,
   "id": "c2697e7d",
   "metadata": {},
   "outputs": [],
   "source": [
    "# A function with more than one argument\n",
    "\n",
    "def percent(x, total):\n",
    "    \"\"\"Convert x to a percentage of total.\n",
    "    \n",
    "    More precisely, this function divides x by total,\n",
    "    multiplies the result by 100, and rounds the result\n",
    "    to two decimal places.\n",
    "    \n",
    "    >>> percent(4, 16)\n",
    "    25.0\n",
    "    >>> percent(1, 6)\n",
    "    16.67\n",
    "    \"\"\"\n",
    "    return round((x/total)*100, 2)"
   ]
  },
  {
   "cell_type": "code",
   "execution_count": null,
   "id": "08891229",
   "metadata": {},
   "outputs": [],
   "source": [
    "percent(33, 200)"
   ]
  },
  {
   "cell_type": "markdown",
   "id": "5d12cbd7",
   "metadata": {},
   "source": [
    "Contrast the function `percent` defined above with the function `percents`\n",
    "defined below. The latter takes an array as its argument, and converts all the\n",
    "numbers in the array to percents out of the total of the values in the array.\n",
    "The percents are all rounded to two decimal places, this time replacing `round`\n",
    "by `np.round` because the argument is an array and not a number."
   ]
  },
  {
   "cell_type": "code",
   "execution_count": null,
   "id": "e586d233",
   "metadata": {},
   "outputs": [],
   "source": [
    "def percents(counts):\n",
    "    \"\"\"Convert the values in array_x to percents out of the total of array_x.\"\"\"\n",
    "    total = counts.sum()\n",
    "    return np.round((counts/total)*100, 2)"
   ]
  },
  {
   "cell_type": "markdown",
   "id": "e8eecad4",
   "metadata": {},
   "source": [
    "The function `percents` returns an array of percents that add up to 100 apart\n",
    "from rounding."
   ]
  },
  {
   "cell_type": "code",
   "execution_count": null,
   "id": "992cf275",
   "metadata": {},
   "outputs": [],
   "source": [
    "some_array = np.array([7, 10, 4])\n",
    "percents(some_array)"
   ]
  },
  {
   "cell_type": "markdown",
   "id": "6e8f4d36",
   "metadata": {},
   "source": [
    "It is helpful to understand the steps Python takes to execute a function.  To\n",
    "facilitate this, we have put a function definition and a call to that function\n",
    "in the same cell below."
   ]
  },
  {
   "cell_type": "code",
   "execution_count": null,
   "id": "ed33883f",
   "metadata": {},
   "outputs": [],
   "source": [
    "def biggest_difference(array_x):\n",
    "    \"\"\"Find the biggest difference in absolute value between two adjacent elements of array_x.\"\"\"\n",
    "    diffs = np.diff(array_x)\n",
    "    absolute_diffs = abs(diffs)\n",
    "    return max(absolute_diffs)\n",
    "\n",
    "some_numbers = np.array([2, 4, 5, 6, 4, -1, 1])\n",
    "big_diff = biggest_difference(some_numbers)\n",
    "print(\"The biggest difference is\", big_diff)"
   ]
  },
  {
   "cell_type": "markdown",
   "id": "468ba069",
   "metadata": {},
   "source": [
    "Here is what happens when we run that cell:\n",
    "\n",
    "![function execution](../images/function_execution.jpg)\n",
    "\n",
    "## Multiple Arguments\n",
    "\n",
    "There can be multiple ways to generalize an expression or block of code, and so\n",
    "a function can take multiple arguments that each determine different aspects of\n",
    "the result. For example, the `percents` function we defined previously rounded\n",
    "to two decimal places every time. The following two-argument definition allows\n",
    "different calls to round to different amounts."
   ]
  },
  {
   "cell_type": "code",
   "execution_count": null,
   "id": "aca30084",
   "metadata": {},
   "outputs": [],
   "source": [
    "def percents(counts, decimal_places):\n",
    "    \"\"\"Convert the values in array_x to percents out of the total of array_x.\"\"\"\n",
    "    total = counts.sum()\n",
    "    return np.round((counts/total)*100, decimal_places)\n",
    "\n",
    "parts = np.array([2, 1, 4])\n",
    "print(\"Rounded to 1 decimal place: \", percents(parts, 1))\n",
    "print(\"Rounded to 2 decimal places:\", percents(parts, 2))\n",
    "print(\"Rounded to 3 decimal places:\", percents(parts, 3))"
   ]
  },
  {
   "cell_type": "markdown",
   "id": "01c17095",
   "metadata": {},
   "source": [
    "The flexibility of this new definition comes at a small price: each time the\n",
    "function is called, the number of decimal places must be specified. Default\n",
    "argument values allow a function to be called with a variable number of\n",
    "arguments; any argument that isn't specified in the call expression is given\n",
    "its default value, which is stated in the first line of the `def` statement.\n",
    "For example, in this final definition of `percents`, the optional argument\n",
    "`decimal_places` is given a default value of 2."
   ]
  },
  {
   "cell_type": "code",
   "execution_count": null,
   "id": "e27980ed",
   "metadata": {},
   "outputs": [],
   "source": [
    "def percents(counts, decimal_places=2):\n",
    "    \"\"\"Convert the values in array_x to percents out of the total of array_x.\"\"\"\n",
    "    total = counts.sum()\n",
    "    return np.round((counts/total)*100, decimal_places)\n",
    "\n",
    "parts = np.array([2, 1, 4])\n",
    "print(\"Rounded to 1 decimal place:\", percents(parts, 1))\n",
    "print(\"Rounded to the default number of decimal places:\", percents(parts))"
   ]
  },
  {
   "cell_type": "markdown",
   "id": "4ff40e84",
   "metadata": {},
   "source": [
    "## Note: Methods\n",
    "\n",
    "Functions are called by placing argument expressions in parentheses after the\n",
    "function name. Any function that is defined in isolation is called in this way.\n",
    "You have also seen examples of methods, which are like functions but are called\n",
    "using dot notation, such as `some_table.sort(some_label)`. The functions that\n",
    "you define will always be called using the function name first, passing in all\n",
    "of the arguments.\n",
    "\n",
    "{ucb-page}`Functions_and_Tables`"
   ]
  }
 ],
 "metadata": {
  "kernelspec": {
   "display_name": "Python 3",
   "language": "python",
   "name": "python3"
  }
 },
 "nbformat": 4,
 "nbformat_minor": 5
}
