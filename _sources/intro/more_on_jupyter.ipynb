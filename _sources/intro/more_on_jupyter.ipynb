{
 "cells": [
  {
   "cell_type": "markdown",
   "id": "701f162c",
   "metadata": {},
   "source": [
    "# More on the Jupyter notebook\n",
    "\n",
    "As you heard in [about the software](the_software), Jupyter is an *interface* that allows you to run Python code and see the results.\n",
    "\n",
    "It consists of two parts:\n",
    "\n",
    "* The web client (the thing you are looking at now, if you are running this\n",
    "  notebook in Jupyter);\n",
    "* The kernel (that does the work of running code, and generating results).\n",
    "\n",
    "For example, consider this cell, where I make a new variable `a`, and display the value of `a`:"
   ]
  },
  {
   "cell_type": "code",
   "execution_count": null,
   "id": "5e98d07a",
   "metadata": {},
   "outputs": [],
   "source": [
    "a = 10.50\n",
    "a"
   ]
  },
  {
   "cell_type": "markdown",
   "id": "4d2c3daa",
   "metadata": {},
   "source": [
    "I type this code in the web client.\n",
    "\n",
    "When I press Shift-Enter, or Run the cell via the web interface, this sends a *message* to the *kernel*.\n",
    "\n",
    "The message says something like:\n",
    "\n",
    "> Here is some Python code: \"a = 1\" and \"a\".  Run this code, and show me any\n",
    "> results.\n",
    "\n",
    "The kernel accepts the message, runs the code in Python, and then sends back any results, in this case, as text to display (the text representation of the value 10.50).\n",
    "\n",
    "The web client shows the results.\n",
    "\n",
    "## The prompts\n",
    "\n",
    "Notice the prompts for the code cells.  Before I have run the cell, there is an empty prompt, like this `In [ ]:`.  `In` means \"Input\", meaning, this is a cell where you input code."
   ]
  },
  {
   "cell_type": "code",
   "execution_count": null,
   "id": "a1bd783a",
   "metadata": {},
   "outputs": [],
   "source": [
    "b = 9.25"
   ]
  },
  {
   "cell_type": "markdown",
   "id": "10220cb7",
   "metadata": {},
   "source": [
    "Then, when you run the cell, the prompt changes to something like `In [1]:` where 1 means this is the first piece of code that the kernel ran.\n",
    "\n",
    "If there is any output, you will now see the *output* from that cell, with a prefix `Out [1]:` where 1 is the same number as the number for the input cell.  This is output from the first piece of code that the kernel ran."
   ]
  },
  {
   "cell_type": "markdown",
   "id": "43219b95",
   "metadata": {},
   "source": [
    "## Interrupting, restarting"
   ]
  },
  {
   "cell_type": "markdown",
   "id": "4ff11562",
   "metadata": {},
   "source": [
    "Sometimes you will find that the kernel gets stuck.  That may be because the kernel is running code that takes a long time, but sometimes, it is because the kernel has crashed.\n",
    "\n",
    "In the next cell I load a function that makes the computer wait for a number of seconds.\n",
    "\n",
    "Don't worry about the `from ... import` here, we will come onto that later."
   ]
  },
  {
   "cell_type": "code",
   "execution_count": null,
   "id": "d6a1cd08",
   "metadata": {},
   "outputs": [],
   "source": [
    "# Get the sleep function\n",
    "from time import sleep"
   ]
  },
  {
   "cell_type": "markdown",
   "id": "2f4b335a",
   "metadata": {},
   "source": [
    "The sleep function has the effect of putting the Python process to sleep for the give number of seconds.  Here I ask the Python process to sleep for 2 seconds:"
   ]
  },
  {
   "cell_type": "code",
   "execution_count": null,
   "id": "a9920290",
   "metadata": {},
   "outputs": [],
   "source": [
    "sleep(2)"
   ]
  },
  {
   "cell_type": "markdown",
   "id": "47bb509d",
   "metadata": {},
   "source": [
    "I can ask the computer to sleep for much longer.  Try making a new code cell and executing the code `sleep(1000)`.\n",
    "\n",
    "When you do this, notice that the prompt gets an asterisk symbol `*` instead of a number, meaning that the kernel is busy doing something (busy sleeping).\n",
    "\n",
    "You can interrupt this long-running process by clicking on \"stop execution\" button on the top of the\n",
    "page you are working on.  "
   ]
  },
  {
   "cell_type": "code",
   "execution_count": null,
   "id": "5762ccac",
   "metadata": {},
   "outputs": [],
   "source": [
    "# Try running the code \"sleep(10000)\" below."
   ]
  },
  {
   "cell_type": "markdown",
   "id": "498104cf",
   "metadata": {},
   "source": [
    "Very rarely, the kernel crashes, so you can't interrupt it.  In that case you may want click on the \"Environment\" button\n",
    "on the left sidebar (the spikey square) and then click on \"Stop machine\".  This will shut down the old kernel with extreme prejudice, therefore throwing away any variables you have stored in the workspace.  To start a new kernel and continue work click on \"Start machine\".\n",
    "\n",
    "If you do this, you will notice that all the variables you defined in the old kernel have disappeared.   Rerun the cells to create the variables, to re-create them."
   ]
  }
 ],
 "metadata": {
  "jupytext": {
   "notebook_metadata_filter": "all,-language_info",
   "split_at_heading": true
  },
  "kernelspec": {
   "display_name": "Python 3 (ipykernel)",
   "language": "python",
   "name": "python3"
  }
 },
 "nbformat": 4,
 "nbformat_minor": 5
}
