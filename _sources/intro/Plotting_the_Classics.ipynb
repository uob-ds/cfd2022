{
 "cells": [
  {
   "cell_type": "markdown",
   "id": "af98807e",
   "metadata": {},
   "source": [
    "# Plotting the classics"
   ]
  },
  {
   "cell_type": "code",
   "execution_count": null,
   "id": "86393373",
   "metadata": {
    "tags": [
     "hide-cell"
    ]
   },
   "outputs": [],
   "source": [
    "# The standard set of libraries we need\n",
    "import numpy as np\n",
    "import matplotlib.pyplot as plt\n",
    "%matplotlib inline\n",
    "\n",
    "# Make plots look a little bit more fancy\n",
    "plt.style.use('fivethirtyeight')\n",
    "\n",
    "# The standard library for data in tables\n",
    "import pandas as pd\n",
    "\n",
    "# A tiny function to read a file directly from a URL\n",
    "from urllib.request import urlopen\n",
    "\n",
    "def read_url(url):\n",
    "    return urlopen(url).read().decode()"
   ]
  },
  {
   "cell_type": "markdown",
   "id": "705fa874",
   "metadata": {},
   "source": [
    "{ucb-page}`Plotting_the_Classics`\n",
    "\n",
    "In this example, we will explore statistics for: *Pride and Prejudice*\n",
    "by Jane Austen.  The text of any book can be read by a computer at great\n",
    "speed.  Books published before 1923 are currently in the *public domain*,\n",
    "meaning that everyone has the right to copy or use the text in any way.\n",
    "[Project Gutenberg](http://www.gutenberg.org/) is a website that publishes\n",
    "public domain books online. Using Python, we can load the text of these books\n",
    "directly from the web.\n",
    "\n",
    "This example is meant to illustrate some of the broad themes of this text.\n",
    "Don't worry if the details of the program don't yet make sense. Instead, focus\n",
    "on interpreting the images generated below. Later sections of the text will\n",
    "describe most of the features of the Python programming language used below.\n",
    "\n",
    "First, we read the text of of the book into the memory of the computer."
   ]
  },
  {
   "cell_type": "code",
   "execution_count": null,
   "id": "38407208",
   "metadata": {},
   "outputs": [],
   "source": [
    "# Get the text for Pride and Prejudice\n",
    "book_url = 'http://www.gutenberg.org/ebooks/42671.txt.utf-8'\n",
    "book_text = read_url(book_url)"
   ]
  },
  {
   "cell_type": "markdown",
   "id": "33e5ad87",
   "metadata": {},
   "source": [
    "On the last line, Python gets the text of the book (`read_url(book_url)`) and\n",
    "gives it a name (`book_text`). In Python, a name cannot contain any spaces,\n",
    "and so we will often use an underscore `_` to stand in for a space. The `=` in\n",
    "gives a name (on the left) to the result of some computation\n",
    "described on the right.\n",
    "\n",
    "A *uniform resource locator* or *URL* is an address on the Internet for some\n",
    "content; in this case, the text of a book. The `#` symbol starts a comment,\n",
    "which is ignored by the computer but helpful for people reading the code.\n",
    "\n",
    "Now we have the text attached to the name `book_text`, we can ask Python to\n",
    "show us how the text starts:"
   ]
  },
  {
   "cell_type": "code",
   "execution_count": null,
   "id": "2f67b14e",
   "metadata": {},
   "outputs": [],
   "source": [
    "# Show the first 500 characters of the text\n",
    "print(book_text[:500])"
   ]
  },
  {
   "cell_type": "markdown",
   "id": "2df43d85",
   "metadata": {},
   "source": [
    "You might want to check this is the same as the text you see by opening the\n",
    "URL in your browser: <http://www.gutenberg.org/ebooks/42671.txt.utf-8>\n",
    "\n",
    "Now we have the text in memory, we can start to analyze it.  First we break\n",
    "the text into chapters.  Don't worry about the details of the code, we will\n",
    "cover these in the rest of the course."
   ]
  },
  {
   "cell_type": "code",
   "execution_count": null,
   "id": "5ca8e791",
   "metadata": {},
   "outputs": [],
   "source": [
    "# Break the text into Chapters\n",
    "book_chapters = book_text.split('CHAPTER ')\n",
    "# Drop the first \"Chapter\" - it's the Project Gutenberg header\n",
    "book_chapters = book_chapters[1:]"
   ]
  },
  {
   "cell_type": "markdown",
   "id": "7a74298b",
   "metadata": {},
   "source": [
    "We can show the first half-line or so for each chapter, by putting the\n",
    "chapters into a *table*.  You will see these tables or *data frames* many\n",
    "times during this course."
   ]
  },
  {
   "cell_type": "code",
   "execution_count": null,
   "id": "4d4d133d",
   "metadata": {},
   "outputs": [],
   "source": [
    "# Show the first few words of each chapter in a table.\n",
    "pd.DataFrame(book_chapters, columns=['Chapters'])"
   ]
  },
  {
   "cell_type": "markdown",
   "id": "86d523a5",
   "metadata": {},
   "source": [
    "This is your first view of a data frame.  Ignore the first column for now - it\n",
    "is just a row number.  The second column shows the first few characters of the\n",
    "text in the chapter.   The text starts with the chapter number in Roman\n",
    "numerals.  You might want to check the text from the link above to reassure\n",
    "yourself that this comes from the text we downloaded.  Next you see some odd\n",
    "characters with backslashes, such as `\\r` and `\\n`.  These are representations\n",
    "of new lines, or paragraph marks.  Last you will see the beginning of the\n",
    "first sentence of the chapter.\n",
    "\n",
    "{ucb-page}`Plotting_the_Classics`"
   ]
  }
 ],
 "metadata": {
  "jupytext": {
   "formats": "Rmd,ipynb",
   "notebook_metadata_filter": "language_info"
  },
  "kernelspec": {
   "display_name": "Python 3",
   "language": "python",
   "name": "python3"
  },
  "language_info": {
   "codemirror_mode": {
    "name": "ipython",
    "version": 3
   },
   "file_extension": ".py",
   "mimetype": "text/x-python",
   "name": "python",
   "nbconvert_exporter": "python",
   "pygments_lexer": "ipython3",
   "version": "3.6.5"
  }
 },
 "nbformat": 4,
 "nbformat_minor": 5
}
