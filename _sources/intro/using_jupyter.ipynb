{
 "cells": [
  {
   "cell_type": "markdown",
   "id": "44929a4c",
   "metadata": {},
   "source": [
    "# Using Jupyter notebooks\n",
    "\n",
    "The text on this page assumes you opened the page as an interactive Jupyter notebook, on your own computer, or one of the Jupyter web interfaces."
   ]
  },
  {
   "cell_type": "markdown",
   "id": "db52775a",
   "metadata": {},
   "source": [
    "In the Jupyter notebook, this is a cell.\n",
    "\n",
    "It's a cell with text - a text cell.\n",
    "\n",
    "A text cell can have formatting, such as links.\n",
    "\n",
    "For example, see [Notebook basics](https://jupyter-notebook.readthedocs.io/en/stable/examples/Notebook/Notebook%20Basics.html) for another introduction to the notebook interface.\n",
    "\n",
    "See that page for an introduction to the notebook Dashboard, where you can open notebooks from a file listing, or create new ones."
   ]
  },
  {
   "cell_type": "markdown",
   "id": "d0b0ddee",
   "metadata": {},
   "source": [
    "If you are in the classic Jupyter Notebook interface (rather than reading this in the textbook), you will see the Jupyter Menu near the top of the page, with headings \"File\", \"Edit\" and so on.\n",
    "\n",
    "Underneath that, by default, you may see a row of icons - the \"Toolbar\".\n",
    "\n",
    "In the toolbar, you may see icons to run the current cell, among others.\n",
    "\n",
    "Here's a picture, for those of you reading this in textbook form.\n",
    "\n",
    "![](https://jupyter-notebook.readthedocs.io/en/stable/_images/menubar_toolbar.png)"
   ]
  },
  {
   "cell_type": "markdown",
   "id": "5b2b38d6",
   "metadata": {},
   "source": [
    "To move from one cell to the next, you can click the run icon in the toolbar, but it is more efficient to press the Shift key, and press Enter (with Shift still held down).  We will write this as Shift-Enter."
   ]
  },
  {
   "cell_type": "markdown",
   "id": "3e4be3b5",
   "metadata": {},
   "source": [
    "This is another text cell.\n",
    "\n",
    "The next cell is a code cell.\n",
    "\n",
    "The code cell is for Python code (actually, you can type code in other languages too, but we won't be using that feature).\n",
    "\n",
    "Here we will be using Python like a calculator.\n",
    "\n",
    "Our problem is the following:\n",
    "\n",
    "Alex and Billie are at a restaurant, getting ready to order. They don't have much money, so they are calculating their expected bill before they order.\n",
    "\n",
    "Alex is thinking of having the fish for £10.50, and Billie is leaning towards the chicken, at £9.25.  First they calculate their combined bill.\n",
    "\n",
    "Press Shift-Enter in the cell below, to see the total:"
   ]
  },
  {
   "cell_type": "code",
   "execution_count": null,
   "id": "5b5b40cf",
   "metadata": {},
   "outputs": [],
   "source": [
    "10.50 + 9.25"
   ]
  },
  {
   "cell_type": "markdown",
   "id": "9ffb45f5",
   "metadata": {},
   "source": [
    "The cell above is Python code.  As you would predict, Python understands numbers like `10.50`, and it understands `+` between the numbers as an instruction to add the numbers.\n",
    "\n",
    "When you press Shift-Enter, Python makes its own representation of `10.50`, and its own representation of `9.25`, and then runs the *addition* operation on these two, which results in Python's representation of `19.75`.\n",
    "\n",
    "Finally, Python sends back the `19.75`.  The notebook detects that Python sent back a value, and shows it to us.\n",
    "\n",
    "This is exactly what a calculator would do."
   ]
  },
  {
   "cell_type": "markdown",
   "id": "2c0f7bb5",
   "metadata": {},
   "source": [
    "Unlike a calculator, we can also put notes next to our calculations, to remind us what they are for.   One way of doing this is to use a \"comment\".\n",
    "\n",
    "A comment is some text that the computer will ignore.  In Python, you can make a comment by starting a line with the `#` (hash) character.  For example, the next cell is a code cell, but when you run it, it does not show any result.  In this case, that is because the computer sees the `#` at the beginning of the line, and then ignores the rest."
   ]
  },
  {
   "cell_type": "code",
   "execution_count": null,
   "id": "0c43369d",
   "metadata": {},
   "outputs": [],
   "source": [
    "# This bit of text is for me to read, and the computer to ignore."
   ]
  },
  {
   "cell_type": "markdown",
   "id": "f5ea3969",
   "metadata": {},
   "source": [
    "Many of the code cells you see will have comments in them, to explain what the code is doing.\n",
    "\n",
    "Practice writing comments for your own code.  It is a very good habit to get into.  You will find that experienced programmers write many comments on their code."
   ]
  },
  {
   "cell_type": "markdown",
   "id": "c1fa70f5",
   "metadata": {},
   "source": [
    "Let's continue with Alex and Billie's struggle with their bill.\n",
    "\n",
    "They realize that they will also need to pay a tip.\n",
    "\n",
    "They think a 15% tip is reasonable.  Now they need to multiply their total bill by 0.15, to get the tip.  Given the bill is about £20, the tip will be about £3.\n",
    "\n",
    "In Python, as for your calculator, `*` means multiplication.\n",
    "\n",
    "What about this?"
   ]
  },
  {
   "cell_type": "code",
   "execution_count": null,
   "id": "d88d5dd0",
   "metadata": {},
   "outputs": [],
   "source": [
    "# The tip - with a mistake.\n",
    "10.50 + 9.25 * 0.15"
   ]
  },
  {
   "cell_type": "markdown",
   "id": "307054ed",
   "metadata": {},
   "source": [
    "Oops, that isn't doing the right calculation.\n",
    "\n",
    "Python follows the normal rules of multiplication before addition.\n",
    "\n",
    "See <https://en.wikipedia.org/wiki/Order_of_operations>.\n",
    "\n",
    "In the case above, that means Python first calculates `9.25 * 0.15` (to get `1.3875`) and then adds the result to `10.50`, to get `11.8875`.\n",
    "\n",
    "We need to tell Python to do the addition and then the multiplication.  We do this with round brackets (parentheses):"
   ]
  },
  {
   "cell_type": "code",
   "execution_count": null,
   "id": "0113bc25",
   "metadata": {},
   "outputs": [],
   "source": [
    "# The bill plus tip - mistake fixed.\n",
    "(10.50 + 9.25) * 0.15"
   ]
  },
  {
   "cell_type": "markdown",
   "id": "dfddd655",
   "metadata": {},
   "source": [
    "Now your turn.  Calculate Alex and Billie's bill including the tip:"
   ]
  },
  {
   "cell_type": "code",
   "execution_count": null,
   "id": "0b9dd22c",
   "metadata": {},
   "outputs": [],
   "source": [
    "# The bill, including the tip\n",
    "# Type your code below."
   ]
  },
  {
   "cell_type": "markdown",
   "id": "ee7ae1f4",
   "metadata": {},
   "source": [
    "Alex and Billie are each going to pay half the bill.   Calculate half the bill (where the bill is the total bill including the tip):"
   ]
  },
  {
   "cell_type": "code",
   "execution_count": null,
   "id": "3b55afd0",
   "metadata": {},
   "outputs": [],
   "source": [
    "# Half the total bill, including the tip\n",
    "# Type your code below."
   ]
  },
  {
   "cell_type": "markdown",
   "id": "ed3d6b7e",
   "metadata": {},
   "source": [
    "Alex is planning to drink three cherry colas, each at £1.50.   Billie is going to have a glass of wine, at £3.50.  Now what is their combined bill, plus tip?"
   ]
  },
  {
   "cell_type": "code",
   "execution_count": null,
   "id": "dbfb93b6",
   "metadata": {},
   "outputs": [],
   "source": [
    "# The total bill, including drinks, and the tip.\n",
    "# Type your code below."
   ]
  }
 ],
 "metadata": {
  "jupytext": {
   "split_at_heading": true
  },
  "kernelspec": {
   "display_name": "Python 3",
   "language": "python",
   "name": "python3"
  }
 },
 "nbformat": 4,
 "nbformat_minor": 5
}
