{
 "cells": [
  {
   "cell_type": "markdown",
   "id": "dce566a7",
   "metadata": {},
   "source": [
    "# Another kind of character"
   ]
  },
  {
   "cell_type": "code",
   "execution_count": null,
   "id": "be868b67",
   "metadata": {
    "tags": [
     "hide-cell"
    ]
   },
   "outputs": [],
   "source": [
    "# HIDDEN\n",
    "# The standard set of libraries we need\n",
    "import numpy as np\n",
    "import matplotlib.pyplot as plt\n",
    "%matplotlib inline\n",
    "\n",
    "# Make plots look a little bit more fancy\n",
    "plt.style.use('fivethirtyeight')\n",
    "\n",
    "# The standard library for data in tables\n",
    "import pandas as pd\n",
    "\n",
    "# A tiny function to read a file directly from a URL\n",
    "from urllib.request import urlopen\n",
    "\n",
    "def read_url(url):\n",
    "    return urlopen(url).read().decode()"
   ]
  },
  {
   "cell_type": "markdown",
   "id": "8bcc4386",
   "metadata": {},
   "source": [
    "This page is largely derived from `Another_Kind_Of_Character` of the UC\n",
    "Berkeley course \\- see the license file on the main website."
   ]
  },
  {
   "cell_type": "code",
   "execution_count": null,
   "id": "2765bb21",
   "metadata": {
    "tags": [
     "hide-cell"
    ]
   },
   "outputs": [],
   "source": [
    "# HIDDEN\n",
    "# Read the text of Pride and Prejudice, split into chapters.\n",
    "book_url = 'http://www.gutenberg.org/cache/epub/42671/pg42671.txt'\n",
    "book_text = read_url(book_url)\n",
    "# Break the text into Chapters\n",
    "book_chapters = book_text.split('CHAPTER ')\n",
    "# Drop the first \"Chapter\" - it's the Project Gutenberg header\n",
    "book_chapters = book_chapters[1:]"
   ]
  },
  {
   "cell_type": "markdown",
   "id": "29ef36b8",
   "metadata": {},
   "source": [
    "In some situations, the relationships between quantities allow us to make\n",
    "predictions. This text will explore how to make accurate predictions based on\n",
    "incomplete information and develop methods for combining multiple sources of\n",
    "uncertain information to make decisions.\n",
    "\n",
    "As an example of visualizing information derived from multiple sources, let us\n",
    "first use the computer to get some information that would be tedious to\n",
    "acquire by hand. In the context of novels, the word \"character\" has a second\n",
    "meaning: a printed symbol such as a letter or number or punctuation symbol.\n",
    "Here, we ask the computer to count the number of characters and the number of\n",
    "periods in each chapter of *Pride and Prejudice*."
   ]
  },
  {
   "cell_type": "code",
   "execution_count": null,
   "id": "ebe43d03",
   "metadata": {},
   "outputs": [],
   "source": [
    "# In each chapter, count the number of all characters;\n",
    "# Also count the number of periods.\n",
    "chars_periods = pd.DataFrame.from_dict({\n",
    "        'Number of chars in chapter': [len(s) for s in book_chapters],\n",
    "        'Number of periods': np.char.count(book_chapters, '.')\n",
    "    })"
   ]
  },
  {
   "cell_type": "markdown",
   "id": "ac7b2105",
   "metadata": {},
   "source": [
    "Here are the data. Each row of the table corresponds to one chapter of the\n",
    "novel and displays the number of characters as well as the number of periods\n",
    "in the chapter. Not surprisingly, chapters with fewer characters also tend to\n",
    "have fewer periods, in general – the shorter the chapter, the fewer sentences\n",
    "there tend to be, and vice versa. The relation is not entirely predictable,\n",
    "however, as sentences are of varying lengths and can involve other punctuation\n",
    "such as question marks."
   ]
  },
  {
   "cell_type": "code",
   "execution_count": null,
   "id": "4437b051",
   "metadata": {},
   "outputs": [],
   "source": [
    "chars_periods"
   ]
  },
  {
   "cell_type": "markdown",
   "id": "00a59f89",
   "metadata": {},
   "source": [
    "In the plot below, there is a dot for each chapter in the book. The horizontal\n",
    "axis represents the number of periods and the vertical axis represents the\n",
    "number of characters."
   ]
  },
  {
   "cell_type": "code",
   "execution_count": null,
   "id": "bbe0bc0d",
   "metadata": {},
   "outputs": [],
   "source": [
    "plt.figure(figsize=(6, 6))\n",
    "plt.scatter(chars_periods['Number of periods'],\n",
    "            chars_periods['Number of chars in chapter'],\n",
    "            color='darkblue')"
   ]
  },
  {
   "cell_type": "markdown",
   "id": "125fe16b",
   "metadata": {},
   "source": [
    "Notice how the blue points are roughly clustered around a straight line.\n",
    "\n",
    "Now look at all the chapters that contain about 100 periods. The plot shows\n",
    "that those chapters contain about 10,000 characters to about 15,000\n",
    "characters, roughly. That's about 90 to 150 characters per period.\n",
    "\n",
    "Indeed, it appears from looking at the plot that the chapters tend to have\n",
    "somewhere between 100 and 150 characters between periods, as a very rough\n",
    "estimate. Perhaps Jane Austen was announcing something familiar to us now: the\n",
    "original 140-character limit of Twitter.\n",
    "\n",
    "{ucb-page}`Another_Kind_Of_Character`"
   ]
  }
 ],
 "metadata": {
  "jupytext": {
   "formats": "Rmd,ipynb",
   "notebook_metadata_filter": "jupytext_format_version,jupytext_formats,language_info"
  },
  "kernelspec": {
   "display_name": "Python 3",
   "language": "python",
   "name": "python3"
  },
  "language_info": {
   "codemirror_mode": {
    "name": "ipython",
    "version": 3
   },
   "file_extension": ".py",
   "mimetype": "text/x-python",
   "name": "python",
   "nbconvert_exporter": "python",
   "pygments_lexer": "ipython3",
   "version": "3.6.5"
  }
 },
 "nbformat": 4,
 "nbformat_minor": 5
}
