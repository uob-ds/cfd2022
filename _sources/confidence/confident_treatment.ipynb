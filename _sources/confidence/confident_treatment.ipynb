{
 "cells": [
  {
   "cell_type": "markdown",
   "id": "633d0e59",
   "metadata": {},
   "source": [
    "# Confident treatment"
   ]
  },
  {
   "cell_type": "code",
   "execution_count": null,
   "id": "c37275e8",
   "metadata": {
    "tags": [
     "hide-cell"
    ]
   },
   "outputs": [],
   "source": [
    "# Run this cell; do not change it.\n",
    "import numpy as np\n",
    "import pandas as pd\n",
    "pd.set_option('mode.chained_assignment', 'raise')\n",
    "# Make printing of numbers a bit neater.\n",
    "np.set_printoptions(precision=4, suppress=True)\n",
    "import matplotlib.pyplot as plt\n",
    "# Make the plots look more fancy.\n",
    "plt.style.use('fivethirtyeight')"
   ]
  },
  {
   "cell_type": "markdown",
   "id": "9c43169b",
   "metadata": {},
   "source": [
    "How confident can we be that a treatment works?\n",
    "\n",
    "At the time I wrote this, you can find the following on the [Wikipedia page\n",
    "for Burkitt's\n",
    "Lymphoma](https://en.wikipedia.org/wiki/Burkitt%27s_lymphoma#Prognosis).\n",
    "\n",
    "> The overall cure rate for Burkitt's lymphoma in developed countries is\n",
    "> about 90%, but worse in low-income countries. Burkitt's lymphoma is\n",
    "> uncommon in adults, where it has a worse prognosis (Molyneux et al 2012).\n",
    ">\n",
    "> In 2006, treatment with dose-adjusted EPOCH with Rituximab showed\n",
    "> promising initial results in a small series of patients (n=17), with\n",
    "> a 100% response rate, and 100% overall survival and progression-free\n",
    "> survival at 28 months (median follow-up) (Dunleavy et al 2006).\n",
    "\n",
    "* Molyneux *et al* (2012). Burkitt's Lymphoma.  The Lancet, 379(9822),\n",
    "  1234-1244.\n",
    "* Dunleavy *et al* (2006). Novel Treatment of Burkitt Lymphoma with\n",
    "  Dose-Adjusted EPOCH-Rituximab: Preliminary Results Showing Excellent Outcome.\n",
    "  Blood, 108(11), 2736–2736.\n",
    "\n",
    "Now I have the following questions.  Given the trial data above:\n",
    "\n",
    "* How likely is it that the Rituximab treatment is *always* effective (100%)?\n",
    "* How likely is it that Rituximab is *less* effective than standard treatment\n",
    "  (less than 90% effective)?\n",
    "\n",
    "How are we going to answer these questions?\n",
    "\n",
    "First we go back to the calculations we do know.  We have previously\n",
    "calculated (by simulation) the chance that we will see this 17/17 result,\n",
    "given that the treatment is in fact 90% effective.\n",
    "\n",
    "Let's do that again:"
   ]
  },
  {
   "cell_type": "code",
   "execution_count": null,
   "id": "7ad08c77",
   "metadata": {},
   "outputs": [],
   "source": [
    "#- Simulate 100000 trials of 17 patients\n",
    "n_iters = 100000\n",
    "counts = np.zeros(n_iters)\n",
    "for i in np.arange(n_iters):\n",
    "    patients = np.random.randint(0, 100, size=17)\n",
    "    cured = np.count_nonzero(patients < 90)\n",
    "    counts[i] = cured\n",
    "p_observed = np.count_nonzero(counts == 17) / n_iters\n",
    "p_observed"
   ]
  },
  {
   "cell_type": "markdown",
   "id": "c541da76",
   "metadata": {},
   "source": [
    "Now we let you into a secret; you can get an exact value for this probability by using something called the *binomial* distribution.   We will not explain why that is the case, because it is not important for our purposes, but we can get the exact result corresponding to our estimate from simulation with:"
   ]
  },
  {
   "cell_type": "code",
   "execution_count": null,
   "id": "7a0069e1",
   "metadata": {},
   "outputs": [],
   "source": [
    "from scipy.stats import binom\n",
    "\n",
    "n_obs = 17   # The number of observations (here, patients).\n",
    "p_success = 0.9  # The probability of success on every trial (patient).\n",
    "n_successes = 17   # The number of successes we want a probability for.\n",
    "\n",
    "# Exact calculation for probability we got by simulation.\n",
    "exact_for_90 = binom.pmf(n_successes, n_obs, p_success)\n",
    "exact_for_90"
   ]
  },
  {
   "cell_type": "markdown",
   "id": "9f66cda0",
   "metadata": {},
   "source": [
    "Let's confirm the simulation above really does give about the same value as\n",
    "the `binom` trick, by trying a simulation in a world where there is a 95% cure rate."
   ]
  },
  {
   "cell_type": "code",
   "execution_count": null,
   "id": "2302d511",
   "metadata": {},
   "outputs": [],
   "source": [
    "counts = np.zeros(n_iters)\n",
    "for i in np.arange(n_iters):\n",
    "    patients = np.random.randint(0, 100, size=17)\n",
    "    cured = np.count_nonzero(patients < 95)\n",
    "    counts[i] = cured\n",
    "p_observed_95 = np.count_nonzero(counts == 17) / n_iters\n",
    "p_observed_95"
   ]
  },
  {
   "cell_type": "markdown",
   "id": "e19d6abb",
   "metadata": {},
   "source": [
    "And with `binom`:"
   ]
  },
  {
   "cell_type": "code",
   "execution_count": null,
   "id": "a767c56b",
   "metadata": {},
   "outputs": [],
   "source": [
    "# Exact calculation for probability we got by simulation.\n",
    "exact_for_95 = binom.pmf(n_successes, n_obs, 0.95)\n",
    "exact_for_95"
   ]
  },
  {
   "cell_type": "markdown",
   "id": "646a1403",
   "metadata": {},
   "source": [
    "In fact we can use `binom` to calculate both probabilities at the same time by\n",
    "passing an array to the probability argument:"
   ]
  },
  {
   "cell_type": "code",
   "execution_count": null,
   "id": "e3b00129",
   "metadata": {},
   "outputs": [],
   "source": [
    "# Exact calculation for two worlds\n",
    "exact_for_both = binom.pmf(n_successes, n_obs, np.array([0.9, 0.95]))"
   ]
  },
  {
   "cell_type": "markdown",
   "id": "a8b07ab6",
   "metadata": {},
   "source": [
    "## Some notation\n",
    "\n",
    "Call the 17/17 result $C_{17}$ (for \"17 cured\").  Call the world where the\n",
    "treatment is 90% effective $T_{90}$.\n",
    "\n",
    "In our first simulation we found the probability of seeing $C_{17}$ in a $T_{90}$ world:"
   ]
  },
  {
   "cell_type": "code",
   "execution_count": null,
   "id": "bbd4f6bf",
   "metadata": {},
   "outputs": [],
   "source": [
    "p_c17_given_t90 = exact_for_90"
   ]
  },
  {
   "cell_type": "markdown",
   "id": "078baece",
   "metadata": {},
   "source": [
    "We've also got the equivalent value for a $T_{95}$ world:"
   ]
  },
  {
   "cell_type": "code",
   "execution_count": null,
   "id": "a94258ac",
   "metadata": {},
   "outputs": [],
   "source": [
    "p_c17_given_t95 = exact_for_95"
   ]
  },
  {
   "cell_type": "markdown",
   "id": "f28d63f9",
   "metadata": {},
   "source": [
    "Let's calculate the probability value for all positive integer percentages:"
   ]
  },
  {
   "cell_type": "code",
   "execution_count": null,
   "id": "dbe257e5",
   "metadata": {},
   "outputs": [],
   "source": [
    "world_percents = np.arange(1, 101)\n",
    "world_probs = world_percents / 100\n",
    "p_c17_given_worlds = binom.pmf(n_successes, n_obs, world_probs)"
   ]
  },
  {
   "cell_type": "code",
   "execution_count": null,
   "id": "8a6fa533",
   "metadata": {},
   "outputs": [],
   "source": [
    "plt.barh(world_percents, p_c17_given_worlds)\n",
    "plt.xlabel('World percents')\n",
    "plt.title('P(C17 given world percents)');"
   ]
  },
  {
   "cell_type": "markdown",
   "id": "f2beb4be",
   "metadata": {},
   "source": [
    "Now we want to do our Bayes calculation, but we are missing something.  We do\n",
    "not have the prior probability of each world percent for this treatment.\n",
    "\n",
    "Maybe the true world percent is the standard percent — 90% — and the treatment\n",
    "is no more effective than average. Or maybe the true world percent is 100%.\n",
    "How do we know where to start with our probabilities for each world —\n",
    "$P(T_{90})$, $P(T_{100})$ and so on?\n",
    "\n",
    "Let's start somewhere.  Let's say we have no idea what the true world\n",
    "probabilities are, so we will make all the initial probabilities the same.  We\n",
    "have 100 world percentages we are interested in, so the probability of each world is 1/100.  With that assumption, we can do our Bayes calculation."
   ]
  },
  {
   "cell_type": "code",
   "execution_count": null,
   "id": "2546b6f2",
   "metadata": {},
   "outputs": [],
   "source": [
    "worlds = pd.DataFrame()\n",
    "# Same probability for each treatment world.\n",
    "n_worlds = len(world_percents)\n",
    "worlds['P(T)'] = np.ones(n_worlds) * 1 /n_worlds\n",
    "worlds['P(C17 given T)'] = p_c17_given_worlds\n",
    "worlds['P(T and C17)'] = worlds['P(T)'] * worlds['P(C17 given T)']\n",
    "worlds['P(T given C17)'] = (worlds['P(T and C17)'] /\n",
    "                            worlds['P(T and C17)'].sum())\n",
    "# Use the percent values for the world as the row labels.\n",
    "worlds.index = world_percents\n",
    "worlds.tail()"
   ]
  },
  {
   "cell_type": "code",
   "execution_count": null,
   "id": "02b84ee3",
   "metadata": {},
   "outputs": [],
   "source": [
    "short_worlds = worlds.tail(20)  # Just show the 80% - 100%\n",
    "short_worlds.plot.barh(subplots=True, legend=False);\n",
    "plt.subplots_adjust(hspace=0.8)  # Space out the plots."
   ]
  },
  {
   "cell_type": "markdown",
   "id": "cb9e1e51",
   "metadata": {},
   "source": [
    "With these assumptions, we can give some answers to our questions.\n",
    "\n",
    "The probability of this treatment having 100% cure rate is:"
   ]
  },
  {
   "cell_type": "code",
   "execution_count": null,
   "id": "a9e101bd",
   "metadata": {},
   "outputs": [],
   "source": [
    "worlds.loc[100, 'P(T given C17)']"
   ]
  },
  {
   "cell_type": "markdown",
   "id": "2da5ebe3",
   "metadata": {},
   "source": [
    "The probability that the treatment is less than 90% effective is:"
   ]
  },
  {
   "cell_type": "code",
   "execution_count": null,
   "id": "f6a1174e",
   "metadata": {},
   "outputs": [],
   "source": [
    "worlds.loc[worlds.index < 90, 'P(T given C17)'].sum()"
   ]
  },
  {
   "cell_type": "markdown",
   "id": "42a3d864",
   "metadata": {},
   "source": [
    "You might well be thinking to yourself — what about a treatment world with\n",
    "99.5% response rate?   We can solve this too, by using finer percent intervals\n",
    "than we used in `world_percents` above.  Try it!"
   ]
  }
 ],
 "metadata": {
  "jupytext": {
   "notebook_metadata_filter": "all,-language_info",
   "split_at_heading": true
  },
  "kernelspec": {
   "display_name": "Python 3",
   "language": "python",
   "name": "python3"
  }
 },
 "nbformat": 4,
 "nbformat_minor": 5
}
