{
 "cells": [
  {
   "cell_type": "code",
   "execution_count": null,
   "id": "a19cae1e",
   "metadata": {
    "tags": [
     "hide-cell"
    ]
   },
   "outputs": [],
   "source": [
    "# Don't change this cell; just run it.\n",
    "import numpy as np\n",
    "import pandas as pd\n",
    "# Safe settings for Pandas.\n",
    "pd.set_option('mode.chained_assignment', 'raise')\n",
    "%matplotlib inline\n",
    "import matplotlib.pyplot as plt\n",
    "# Make the plots look more fancy.\n",
    "plt.style.use('fivethirtyeight')"
   ]
  },
  {
   "cell_type": "markdown",
   "id": "12251713",
   "metadata": {},
   "source": [
    "# The Bootstrap\n",
    "\n",
    "{ucb-page}`Bootstrap`\n",
    "\n",
    "A data scientist is using the data in a random sample to estimate an unknown\n",
    "parameter. She uses the sample to calculate the value of a statistic that she\n",
    "will use as her estimate.\n",
    "\n",
    "Once she has calculated the observed value of her statistic, she could just\n",
    "present it as her estimate and go on her merry way. But she's a data scientist.\n",
    "She knows that her random sample is just one of numerous possible random\n",
    "samples, and thus her estimate is just one of numerous plausible estimates.\n",
    "\n",
    "By how much could those estimates vary? To answer this, it appears as though\n",
    "she needs to draw another sample from the population, and compute a new\n",
    "estimate based on the new sample. But she doesn't have the resources to go back\n",
    "to the population and draw another sample.\n",
    "\n",
    "It looks as though the data scientist is stuck.\n",
    "\n",
    "Fortunately, a brilliant idea called *the bootstrap* can help her out. Since it\n",
    "is not feasible to generate new samples from the population, the bootstrap\n",
    "generates new random samples by a method called *resampling*: the new samples\n",
    "are drawn at random *from the original sample*."
   ]
  },
  {
   "cell_type": "markdown",
   "id": "dcbbdd42",
   "metadata": {},
   "source": [
    "In this section, we will see how and why the bootstrap works. In the rest of\n",
    "the chapter, we will use the bootstrap for inference.\n"
   ]
  },
  {
   "cell_type": "markdown",
   "id": "f9339081",
   "metadata": {},
   "source": [
    "## Employee Compensation in the City of San Francisco"
   ]
  },
  {
   "cell_type": "markdown",
   "id": "50c30007",
   "metadata": {},
   "source": [
    "[SF OpenData](https://data.sfgov.org) is a website where the City and County of\n",
    "San Francisco make some of their data publicly available. One of the data sets\n",
    "contains compensation data for employees of the City. These include medical\n",
    "professionals at City-run hospitals, police officers, fire fighters,\n",
    "transportation workers, elected officials, and all other employees of the City.\n",
    "\n",
    "Compensation data for the calendar year 2015 are in the table `sf2015`."
   ]
  },
  {
   "cell_type": "code",
   "execution_count": null,
   "id": "6a6dcb0a",
   "metadata": {},
   "outputs": [],
   "source": [
    "sf2015 = pd.read_csv('san_francisco_2015.csv')\n",
    "sf2015.head()"
   ]
  },
  {
   "cell_type": "markdown",
   "id": "5982ea78",
   "metadata": {},
   "source": [
    "There is one row for each of 42,979 employees. There are numerous columns\n",
    "containing information about City departmental affiliation and details of the\n",
    "different parts of the employee's compensation package. Here is the row\n",
    "corresponding to the late [Mayor Ed\n",
    "Lee](https://en.wikipedia.org/wiki/Ed_Lee_(politician))"
   ]
  },
  {
   "cell_type": "code",
   "execution_count": null,
   "id": "be7b4524",
   "metadata": {},
   "outputs": [],
   "source": [
    "sf2015[sf2015['Job'] == 'Mayor']"
   ]
  },
  {
   "cell_type": "markdown",
   "id": "156d93bc",
   "metadata": {},
   "source": [
    "We are going to study the final column, `Total Compensation`. That's the\n",
    "employee's salary plus the City's contribution towards his/her retirement and\n",
    "benefit plans.\n",
    "\n",
    "Financial packages in a calendar year can sometimes be hard to understand as\n",
    "they depend on the date of hire, whether the employee is changing jobs within\n",
    "the City, and so on. For example, the lowest values in the `Total Compensation`\n",
    "column look a little strange."
   ]
  },
  {
   "cell_type": "code",
   "execution_count": null,
   "id": "7b090735",
   "metadata": {},
   "outputs": [],
   "source": [
    "sf2015.sort_values('Total Compensation').head(10)"
   ]
  },
  {
   "cell_type": "markdown",
   "id": "3d54a050",
   "metadata": {},
   "source": [
    "For clarity of comparison, we will focus our attention on those who had at\n",
    "least the equivalent of a half-time job for the whole year. At a minimum wage\n",
    "of about \\$10 per hour, and 20 hours per week for 52 weeks, that's a salary of\n",
    "about \\$10,000."
   ]
  },
  {
   "cell_type": "code",
   "execution_count": null,
   "id": "3850f73d",
   "metadata": {},
   "outputs": [],
   "source": [
    "sf2015 = sf2015[sf2015['Salaries'] > 10000]"
   ]
  },
  {
   "cell_type": "code",
   "execution_count": null,
   "id": "2e5266a5",
   "metadata": {},
   "outputs": [],
   "source": [
    "len(sf2015)"
   ]
  },
  {
   "cell_type": "markdown",
   "id": "bebabb6a",
   "metadata": {},
   "source": [
    "## Population and Parameter"
   ]
  },
  {
   "cell_type": "markdown",
   "id": "6cc0070d",
   "metadata": {},
   "source": [
    "Let this table of just over 36,500 rows be our population. Here is a histogram\n",
    "of the total compensations."
   ]
  },
  {
   "cell_type": "code",
   "execution_count": null,
   "id": "65412f48",
   "metadata": {},
   "outputs": [],
   "source": [
    "sf_bins = np.arange(0, 700000, 25000)\n",
    "sf2015['Total Compensation'].plot.hist(bins=sf_bins)\n",
    "plt.xticks(rotation = 35);"
   ]
  },
  {
   "cell_type": "markdown",
   "id": "c56fb43f",
   "metadata": {},
   "source": [
    "While most of the values are below \\$300,000, a few are quite a bit higher. For\n",
    "example, the total compensation of the Chief Investment Officer was almost\n",
    "\\$650,000. That is why the horizontal axis stretches to \\$700,000."
   ]
  },
  {
   "cell_type": "code",
   "execution_count": null,
   "id": "9548ff0b",
   "metadata": {},
   "outputs": [],
   "source": [
    "sf2015.sort_values('Total Compensation', ascending=False).head(2)"
   ]
  },
  {
   "cell_type": "markdown",
   "id": "30641ffb",
   "metadata": {},
   "source": [
    "Now let the parameter be the median of the total compensations.\n",
    "\n",
    "Since we have the luxury of having all of the data from the population, we can\n",
    "simply calculate the parameter:"
   ]
  },
  {
   "cell_type": "code",
   "execution_count": null,
   "id": "19f46ee0",
   "metadata": {},
   "outputs": [],
   "source": [
    "compensation = sf2015['Total Compensation']\n",
    "pop_median = np.median(compensation)\n",
    "pop_median"
   ]
  },
  {
   "cell_type": "markdown",
   "id": "f21ee98f",
   "metadata": {},
   "source": [
    "The median total compensation of all employees was just over \\$110,300.\n",
    "\n",
    "From a practical perspective, there is no reason for us to draw a sample to\n",
    "estimate this parameter since we simply know its value. But in this section we\n",
    "are going to pretend we don't know the value, and see how well we can estimate\n",
    "it based on a random sample.\n",
    "\n",
    "In later sections, we will come down to earth and work in situations where the\n",
    "parameter is unknown. For now, we are all-knowing.\n"
   ]
  },
  {
   "cell_type": "markdown",
   "id": "16def5a1",
   "metadata": {},
   "source": [
    "## A Random Sample and an Estimate"
   ]
  },
  {
   "cell_type": "markdown",
   "id": "fbb6708c",
   "metadata": {},
   "source": [
    "Let us draw a sample of 500 employees at random without replacement, and let\n",
    "the median total compensation of the sampled employees serve as our estimate of\n",
    "the parameter."
   ]
  },
  {
   "cell_type": "code",
   "execution_count": null,
   "id": "1088661b",
   "metadata": {},
   "outputs": [],
   "source": [
    "# Sample size 500 from the compensation Series, without replacement.\n",
    "our_sample = compensation.sample(500, replace=False)\n",
    "our_sample.plot.hist(bins=sf_bins)\n",
    "plt.xticks(rotation = 35);"
   ]
  },
  {
   "cell_type": "code",
   "execution_count": null,
   "id": "43cda5fa",
   "metadata": {},
   "outputs": [],
   "source": [
    "est_median = np.median(our_sample)\n",
    "est_median"
   ]
  },
  {
   "cell_type": "markdown",
   "id": "ff822060",
   "metadata": {},
   "source": [
    "The sample size is large. By the law of averages, the distribution of the\n",
    "sample resembles that of the population, and consequently the sample median is\n",
    "not very far from the population median (though of course it is not exactly the\n",
    "same).\n",
    "\n",
    "So now we have one estimate of the parameter. But had the sample come out\n",
    "differently, the estimate would have had a different value. We would like to be\n",
    "able to quantify the amount by which the estimate could vary across samples.\n",
    "That measure of variability will help us measure how accurately we can estimate\n",
    "the parameter.\n",
    "\n",
    "To see how different the estimate would be if the sample had come out\n",
    "differently, we could just draw another sample from the population, but that\n",
    "would be cheating. We are trying to mimic real life, in which we won't have all\n",
    "the population data at hand.\n",
    "\n",
    "Somehow, we have to get another random sample without sampling from the\n",
    "population.\n"
   ]
  },
  {
   "cell_type": "markdown",
   "id": "e9b4baa3",
   "metadata": {},
   "source": [
    "## The Bootstrap: Resampling from the Sample"
   ]
  },
  {
   "cell_type": "markdown",
   "id": "447a0310",
   "metadata": {},
   "source": [
    "What we do have is a large random sample from the population. As we know, a\n",
    "large random sample is likely to resemble the population from which it is\n",
    "drawn. This observation allows data scientists to *lift themselves up by their\n",
    "own bootstraps*: the sampling procedure can be replicated by *sampling from the\n",
    "sample*.\n",
    "\n",
    "Here are the steps of *the bootstrap method* for generating another random\n",
    "sample that resembles the population:\n",
    "\n",
    "- **Treat the original sample as if it were the population.**\n",
    "- **Draw from the sample**, at random **with** replacement, **the same number\n",
    "  of times as the original sample size**.\n",
    "\n",
    "It is important to resample the same number of times as the original sample\n",
    "size. The reason is that the variability of an estimate depends on the size of\n",
    "the sample. Since our original sample consisted of 500 employees, our sample\n",
    "median was based on 500 values. To see how different the sample could have\n",
    "been, we have to compare it to the median of other samples of size 500.\n",
    "\n",
    "If we drew 500 times at random *without* replacement from our sample of size\n",
    "500, we would just get the same sample back. By drawing *with* replacement, we\n",
    "create the possibility for the new samples to be different from the original,\n",
    "because some employees might be drawn more than once and others not at all.\n",
    "\n",
    "Why is this a good idea? By the law of averages, the distribution of the\n",
    "original sample is likely to resemble the population, and the distributions of\n",
    "all the \"resamples\" are likely to resemble the original sample. So the\n",
    "distributions of all the resamples are likely to resemble the population as\n",
    "well.\n",
    "\n",
    "![](../images/bootstrap_pic.png)\n"
   ]
  },
  {
   "cell_type": "markdown",
   "id": "758a4f13",
   "metadata": {},
   "source": [
    "## A Resampled Median"
   ]
  },
  {
   "cell_type": "markdown",
   "id": "e5901a77",
   "metadata": {},
   "source": [
    "We will use the `sample` method of the Series to take the new sample with\n",
    "replacement.\n",
    "\n",
    "We want a sample the same size as the original sample (500), where we are\n",
    "sampling *with replacement*.\n",
    "\n",
    "Here is one new sample drawn from the original sample, with replacement, and\n",
    "the corresponding sample median."
   ]
  },
  {
   "cell_type": "code",
   "execution_count": null,
   "id": "16902c93",
   "metadata": {},
   "outputs": [],
   "source": [
    "resample_1 = our_sample.sample(500, replace=True)\n",
    "resample_1"
   ]
  },
  {
   "cell_type": "code",
   "execution_count": null,
   "id": "7fb9d2a0",
   "metadata": {},
   "outputs": [],
   "source": [
    "resample_1.plot.hist(bins=sf_bins)\n",
    "plt.xticks(rotation = 35);"
   ]
  },
  {
   "cell_type": "code",
   "execution_count": null,
   "id": "d9aa5e96",
   "metadata": {},
   "outputs": [],
   "source": [
    "resampled_median_1 = np.median(resample_1)\n",
    "resampled_median_1"
   ]
  },
  {
   "cell_type": "markdown",
   "id": "f3e187a4",
   "metadata": {},
   "source": [
    "By resampling, we have something like another estimate of the population\n",
    "median. By resampling again and again, we will get many such estimates, and\n",
    "hence an empirical distribution of the estimates.  We can call this\n",
    "distribution a *sampling distribution* of the median - it is the distribution\n",
    "of the median values we get from taking many samples.  Our samples are\n",
    "*bootstrap* samples, so this is the *bootstrap sampling distribution of the\n",
    "median*."
   ]
  },
  {
   "cell_type": "code",
   "execution_count": null,
   "id": "3debe75d",
   "metadata": {},
   "outputs": [],
   "source": [
    "resample_2 = our_sample.sample(500, replace=True)\n",
    "resampled_median_2 = np.median(resample_2)\n",
    "resampled_median_2"
   ]
  },
  {
   "cell_type": "markdown",
   "id": "01ef9c43",
   "metadata": {},
   "source": [
    "## Bootstrap Empirical Distribution of the Sample Median"
   ]
  },
  {
   "cell_type": "markdown",
   "id": "f86a1cd9",
   "metadata": {},
   "source": [
    "Let us define a function `bootstrap_median` that takes our original sample,\n",
    "and the number of bootstrap samples we want to take, and returns an array of\n",
    "the corresponding resampled medians.\n",
    "\n",
    "Each time we resample and find the median, we *replicate* the bootstrap\n",
    "process. So the number of bootstrap samples will be called the number of\n",
    "replications."
   ]
  },
  {
   "cell_type": "code",
   "execution_count": null,
   "id": "1797e20a",
   "metadata": {},
   "outputs": [],
   "source": [
    "def bootstrap_median(original_sample, replications):\n",
    "    \"\"\"Return array of bootstrapped sample medians\n",
    "\n",
    "    Parameters\n",
    "    ----------\n",
    "    original_sample: Series\n",
    "        Series containing the original sample\n",
    "    replications: number\n",
    "        number of bootstrap samples\n",
    "\n",
    "    Returns\n",
    "    -------\n",
    "    samp_meds : array\n",
    "        Array of bootstrapped sample medians.\n",
    "    \"\"\"\n",
    "    n = len(original_sample)\n",
    "    medians = np.zeros(replications)\n",
    "    for i in np.arange(replications):\n",
    "        bootstrap_sample = original_sample.sample(n, replace=True)\n",
    "        medians[i] = np.median(bootstrap_sample)\n",
    "    return medians"
   ]
  },
  {
   "cell_type": "markdown",
   "id": "2c0213f0",
   "metadata": {},
   "source": [
    "We now replicate the bootstrap process 5,000 times. The array `bstrap_medians`\n",
    "contains the medians of all 5,000 bootstrap samples. Notice that the code\n",
    "takes longer to run than our previous code. It has a lot of resampling to do!"
   ]
  },
  {
   "cell_type": "code",
   "execution_count": null,
   "id": "60622a8d",
   "metadata": {},
   "outputs": [],
   "source": [
    "bstrap_medians = bootstrap_median(our_sample, 5000)"
   ]
  },
  {
   "cell_type": "markdown",
   "id": "40b4ef5f",
   "metadata": {},
   "source": [
    "Here is the histogram of the 5000 medians. The red dot is the population\n",
    "parameter: it is the median of the entire population, which we happen to know\n",
    "but did not use in the bootstrap process."
   ]
  },
  {
   "cell_type": "code",
   "execution_count": null,
   "id": "3c0ff692",
   "metadata": {},
   "outputs": [],
   "source": [
    "resampled_medians = pd.DataFrame()\n",
    "resampled_medians['Bootstrap Sample Median'] = bstrap_medians\n",
    "\n",
    "resampled_medians.plot.hist()\n",
    "\n",
    "plt.scatter(pop_median, 0, color='red', s=30);\n",
    "plt.title('Bootstrap sampling distribution of median')\n",
    "plt.xticks(rotation = 35);"
   ]
  },
  {
   "cell_type": "markdown",
   "id": "c0d9bfef",
   "metadata": {},
   "source": [
    "It is important to remember that the red dot is fixed: it is \\$110,305.79, the\n",
    "population median. The empirical histogram is the result of random draws, and\n",
    "will be situated randomly relative to the red dot.\n",
    "\n",
    "Remember also that the point of all these computations is to estimate the\n",
    "population median, which is the red dot. Our estimates are all the randomly\n",
    "generated sampled medians whose histogram you see above. We want those\n",
    "estimates to contain the parameter – it they don't, then they are off.\n"
   ]
  },
  {
   "cell_type": "markdown",
   "id": "1633fc17",
   "metadata": {},
   "source": [
    "## Do the Estimates Capture the Parameter?"
   ]
  },
  {
   "cell_type": "markdown",
   "id": "f74db407",
   "metadata": {},
   "source": [
    "How often does the empirical histogram of the resampled medians sit firmly over\n",
    "the red dot, and not just brush the dot with its tails? To answer this, we must\n",
    "define \"sit firmly\". Let's take that to mean \"the middle 95% of the resampled\n",
    "medians contains the red dot\".\n",
    "\n",
    "Here are the two ends of the \"middle 95%\" interval of resampled medians:"
   ]
  },
  {
   "cell_type": "code",
   "execution_count": null,
   "id": "5d0ad12d",
   "metadata": {},
   "outputs": [],
   "source": [
    "left = np.percentile(bstrap_medians, 2.5)\n",
    "left"
   ]
  },
  {
   "cell_type": "code",
   "execution_count": null,
   "id": "b1540f28",
   "metadata": {},
   "outputs": [],
   "source": [
    "right = np.percentile(bstrap_medians, 97.5)\n",
    "right"
   ]
  },
  {
   "cell_type": "markdown",
   "id": "6e4ef3b3",
   "metadata": {},
   "source": [
    "In fact we can get both left and right percentiles in one call, like this:"
   ]
  },
  {
   "cell_type": "code",
   "execution_count": null,
   "id": "6555d66b",
   "metadata": {},
   "outputs": [],
   "source": [
    "np.percentile(bstrap_medians, [2.5, 97.5])"
   ]
  },
  {
   "cell_type": "markdown",
   "id": "5b1519d8",
   "metadata": {},
   "source": [
    "We can use unpacking in the usual way, to set our `left` and `right` variables:"
   ]
  },
  {
   "cell_type": "code",
   "execution_count": null,
   "id": "090d029c",
   "metadata": {},
   "outputs": [],
   "source": [
    "left, right = np.percentile(bstrap_medians, [2.5, 97.5])\n",
    "print('Left', left)\n",
    "print('Right', right)"
   ]
  },
  {
   "cell_type": "markdown",
   "id": "c11e0054",
   "metadata": {},
   "source": [
    "The population median of \\$110,305 is between these two numbers, `left` and\n",
    "`right`. We show the interval and the population median on the histogram below."
   ]
  },
  {
   "cell_type": "code",
   "execution_count": null,
   "id": "888953e4",
   "metadata": {},
   "outputs": [],
   "source": [
    "resampled_medians.hist()\n",
    "\n",
    "plt.plot([left, right], [0, 0], color='yellow', lw=8, zorder=1)\n",
    "plt.scatter(pop_median, 0, color='red', s=200, zorder=2)\n",
    "plt.xticks(rotation = 35);"
   ]
  },
  {
   "cell_type": "markdown",
   "id": "5ec4eaf8",
   "metadata": {},
   "source": [
    "The \"middle 95%\" interval of estimates captured the parameter in our example.\n",
    "But was that a fluke?\n",
    "\n",
    "To see how frequently the interval contains the parameter, we have to run the\n",
    "entire process over and over again. Specifically, we will repeat the following\n",
    "process 100 times:\n",
    "\n",
    "* Draw an original sample of size 500 from the population.\n",
    "* Carry out 5,000 replications of the bootstrap process and generate the\n",
    "  \"middle 95%\" interval of resampled medians.\n",
    "\n",
    "As usual we start by doing one trial, where we take one sample, and generate\n",
    "one left and one right interval.  This is the code we have been using above."
   ]
  },
  {
   "cell_type": "code",
   "execution_count": null,
   "id": "e412fafd",
   "metadata": {},
   "outputs": [],
   "source": [
    "# One trial, generating a left and right interval.\n",
    "# Take a new sample.\n",
    "this_sample = compensation.sample(500, replace=True)\n",
    "# Get the bootstrap sampling distribution of the median.\n",
    "these_medians = bootstrap_median(this_sample, 5000)\n",
    "# Calculate the left, right ends.\n",
    "left_end, right_end = np.percentile(these_medians, [2.5, 97.5])\n",
    "print('Left', left_end)\n",
    "print('Left', right_end)"
   ]
  },
  {
   "cell_type": "markdown",
   "id": "77f20c3d",
   "metadata": {},
   "source": [
    "We will repeat this trial procedure 100 times, to give with 100 left and right\n",
    "intervals, and count how many of these intervals contain the population median.\n",
    "\n",
    "**Spoiler alert:** The statistical theory of the bootstrap says that the number\n",
    "should be around 95. It may be in the low 90s or high 90s, but not much farther\n",
    "off 95 than that."
   ]
  },
  {
   "cell_type": "code",
   "execution_count": null,
   "id": "b00601c1",
   "metadata": {},
   "outputs": [],
   "source": [
    "# THE BIG SIMULATION: This one can take several minutes.\n",
    "\n",
    "# Set up to make 100 left and right intervals\n",
    "n_intervals = 100\n",
    "left_ends = np.zeros(n_intervals)\n",
    "right_ends = np.zeros(n_intervals)\n",
    "\n",
    "for i in np.arange(100):\n",
    "    # One trial, generating a left and right interval.\n",
    "    # Take a new sample.\n",
    "    this_sample = compensation.sample(500, replace=True)\n",
    "    # Get the bootstrap sampling distribution of the median.\n",
    "    these_medians = bootstrap_median(this_sample, 5000)\n",
    "    # Calculate the left, right ends.\n",
    "    left_end, right_end = np.percentile(these_medians, [2.5, 97.5])\n",
    "    # Store the results for this trial.\n",
    "    left_ends[i] = left_end\n",
    "    right_ends[i] = right_end\n",
    "\n",
    "# Put interval ends into own data frame.\n",
    "intervals = pd.DataFrame()\n",
    "intervals['Left'] = left_ends\n",
    "intervals['Right'] = right_ends"
   ]
  },
  {
   "cell_type": "markdown",
   "id": "c0f7dcb6",
   "metadata": {},
   "source": [
    "For each of the 100 replications, we get one (left, right) interval of\n",
    "estimates of the median."
   ]
  },
  {
   "cell_type": "code",
   "execution_count": null,
   "id": "c793ff8b",
   "metadata": {},
   "outputs": [],
   "source": [
    "intervals"
   ]
  },
  {
   "cell_type": "markdown",
   "id": "bafacde2",
   "metadata": {},
   "source": [
    "The good intervals are those that contain the parameter we are trying to\n",
    "estimate. Typically the parameter is unknown, but in this section we happen to\n",
    "know what the parameter is."
   ]
  },
  {
   "cell_type": "code",
   "execution_count": null,
   "id": "be6da937",
   "metadata": {},
   "outputs": [],
   "source": [
    "pop_median"
   ]
  },
  {
   "cell_type": "markdown",
   "id": "93a54d55",
   "metadata": {},
   "source": [
    "How many of the 100 intervals contain the population median? That's the number\n",
    "of intervals where the left end is below the population median and the right\n",
    "end is above."
   ]
  },
  {
   "cell_type": "code",
   "execution_count": null,
   "id": "334b1a9c",
   "metadata": {},
   "outputs": [],
   "source": [
    "inside = np.logical_and(left_ends < pop_median, right_ends > pop_median)\n",
    "intervals[inside]"
   ]
  },
  {
   "cell_type": "markdown",
   "id": "2b2c1acc",
   "metadata": {},
   "source": [
    "It takes a few minutes to construct all the intervals, but try it again if you\n",
    "have the patience. Most likely, about 95 of the 100 intervals will be good\n",
    "ones: they will contain the parameter.\n",
    "\n",
    "It's hard to show you all the intervals on the horizontal axis as they have\n",
    "large overlaps – after all, they are all trying to estimate the same parameter.\n",
    "The graphic below shows each interval on the same axes by stacking them\n",
    "vertically. The vertical axis is simply the number of the replication from\n",
    "which the interval was generated.\n",
    "\n",
    "The red line is where the parameter is. Good intervals cover the parameter;\n",
    "there are about 95 of these, typically.\n",
    "\n",
    "If an interval doesn't cover the parameter, it's a dud. The duds are the ones\n",
    "where you can see \"daylight\" around the red line. There are very few of them –\n",
    "about 5, typically – but they do happen.\n",
    "\n",
    "Any method based on sampling has the possibility of being off. The beauty of\n",
    "methods based on random sampling is that we can quantify how often they are\n",
    "likely to be off."
   ]
  },
  {
   "cell_type": "code",
   "execution_count": null,
   "id": "3a734dcd",
   "metadata": {
    "tags": [
     "hide-cell"
    ]
   },
   "outputs": [],
   "source": [
    "plt.figure(figsize=(8,8))\n",
    "for i in np.arange(len(intervals)):\n",
    "    ends = intervals.iloc[i]\n",
    "    plt.plot(ends, [i, i], color='gold')\n",
    "plt.plot([pop_median, pop_median], [0, 100],\n",
    "         color='red', lw=2)\n",
    "plt.xlabel('Median (dollars)')\n",
    "plt.ylabel('Replication')\n",
    "plt.title('Population Median and Intervals of Estimates');"
   ]
  },
  {
   "cell_type": "markdown",
   "id": "8a6b23e1",
   "metadata": {},
   "source": [
    "To summarize what the simulation shows, suppose you are estimating the\n",
    "population median by the following process:\n",
    "\n",
    "* Draw a large random sample from the population.\n",
    "* Bootstrap your random sample and get an estimate from the new random sample.\n",
    "* Repeat the above step thousands of times, and get thousands of estimates.\n",
    "* Pick off the \"middle 95%\" interval of all the estimates.\n",
    "\n",
    "That gives you one interval of estimates. Now if you repeat **the entire\n",
    "process** 100 times, ending up with 100 intervals, then about 95 of those 100\n",
    "intervals will contain the population parameter.\n",
    "\n",
    "In other words, this process of estimation captures the parameter about 95% of\n",
    "the time.\n",
    "\n",
    "You can replace 95% by a different value, as long as it's not 100. Suppose you\n",
    "replace 95% by 80% and keep the sample size fixed at 500. Then your intervals\n",
    "of estimates will be shorter than those we simulated here, because the \"middle\n",
    "80%\" is a smaller range than the \"middle 95%\". Only about 80% of your intervals\n",
    "will contain the parameter.\n",
    "\n",
    "{ucb-page}`Bootstrap`"
   ]
  }
 ],
 "metadata": {
  "jupytext": {
   "notebook_metadata_filter": "all,-language_info",
   "split_at_heading": true
  },
  "kernelspec": {
   "display_name": "Python 3",
   "language": "python",
   "name": "python3"
  }
 },
 "nbformat": 4,
 "nbformat_minor": 5
}
