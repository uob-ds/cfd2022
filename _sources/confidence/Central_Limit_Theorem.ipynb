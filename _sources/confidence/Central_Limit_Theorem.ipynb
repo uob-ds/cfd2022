{
 "cells": [
  {
   "cell_type": "code",
   "execution_count": null,
   "id": "aec7718b",
   "metadata": {
    "tags": [
     "hide-cell"
    ]
   },
   "outputs": [],
   "source": [
    "# Don't change this cell; just run it.\n",
    "import numpy as np\n",
    "import pandas as pd\n",
    "# Safe settings for Pandas.\n",
    "pd.set_option('mode.chained_assignment', 'raise')\n",
    "%matplotlib inline\n",
    "import matplotlib.pyplot as plt\n",
    "# Make the plots look more fancy.\n",
    "plt.style.use('fivethirtyeight')"
   ]
  },
  {
   "cell_type": "code",
   "execution_count": null,
   "id": "2da5cdd1",
   "metadata": {
    "tags": [
     "hide-cell"
    ]
   },
   "outputs": [],
   "source": [
    "colors = pd.read_csv('roulette_wheel.csv')['Color']\n",
    "pockets = ['0','00']\n",
    "for i in np.arange(1, 37):\n",
    "    pockets.append(str(i))\n",
    "\n",
    "wheel = pd.DataFrame()\n",
    "wheel['Pocket'] = pockets\n",
    "wheel['Color'] = colors"
   ]
  },
  {
   "cell_type": "markdown",
   "id": "4c309d0b",
   "metadata": {},
   "source": [
    "# The Central Limit Theorem"
   ]
  },
  {
   "cell_type": "markdown",
   "id": "f24e3f21",
   "metadata": {},
   "source": [
    "{ucb-page}`Central_Limit_Theorem`\n",
    "{ucb-page}`At_the_Roulette_Table`\n",
    "\n",
    "Very few of the *data* histograms that we have seen in this course have been\n",
    "bell shaped. When we have come across a bell shaped distribution, it has almost\n",
    "invariably been an empirical histogram of a statistic based on a random sample.\n",
    "\n",
    "The examples below show two very different situations in which an approximate\n",
    "bell shape appears in such histograms.\n"
   ]
  },
  {
   "cell_type": "markdown",
   "id": "8df644fa",
   "metadata": {},
   "source": [
    "## At the roulette table\n",
    "\n",
    "You may have noticed, but we have not emphasized thus far, that our simulations often do generated bell-shaped (normal distribution) curves.\n",
    "\n",
    "For example, let us explore a gambling game. We will simulate betting on roulette, which is popular in gambling centers such as Las Vegas and Monte Carlo.\n",
    "\n",
    "The main randomizer in roulette in Nevada is a wheel that has 38 pockets on its rim. Two of the pockets are green, eighteen black, and eighteen red. The wheel is on a spindle, and there is a small ball on the wheel. When the wheel is spun, the ball ricochets around and finally comes to rest in one of the pockets. That is declared to be the winning pocket.\n",
    "\n",
    "The table `wheel` represents the pockets of a Nevada roulette wheel."
   ]
  },
  {
   "cell_type": "code",
   "execution_count": null,
   "id": "85780881",
   "metadata": {},
   "outputs": [],
   "source": [
    "wheel"
   ]
  },
  {
   "cell_type": "markdown",
   "id": "1746fe3a",
   "metadata": {},
   "source": [
    "A bet on red pays even money, 1 to 1. The function `red_winnings`\n",
    "returns the net winnings on one \\$1 bet on red. Specifically, the function\n",
    "takes a color as its argument and returns 1 if the color is red. For all other\n",
    "colors it returns -1."
   ]
  },
  {
   "cell_type": "code",
   "execution_count": null,
   "id": "502bf0ca",
   "metadata": {},
   "outputs": [],
   "source": [
    "def red_winnings(color):\n",
    "    if color == 'red':\n",
    "        return 1\n",
    "    else:\n",
    "        return -1"
   ]
  },
  {
   "cell_type": "markdown",
   "id": "9f240cc8",
   "metadata": {},
   "source": [
    "Here is the result of a bet on red, for each possible pocket on the roulette wheel:"
   ]
  },
  {
   "cell_type": "code",
   "execution_count": null,
   "id": "1246821a",
   "metadata": {},
   "outputs": [],
   "source": [
    "bets = pd.DataFrame()\n",
    "bets['Color'] = wheel['Color'].copy()\n",
    "bets['Winnings: Red'] = wheel['Color'].apply(red_winnings)\n",
    "bets"
   ]
  },
  {
   "cell_type": "markdown",
   "id": "e2541a6d",
   "metadata": {},
   "source": [
    "Suppose you decide to bet \\$1 on red. Here is a simulation of 1 spin."
   ]
  },
  {
   "cell_type": "code",
   "execution_count": null,
   "id": "defdd68d",
   "metadata": {},
   "outputs": [],
   "source": [
    "one_spin = bets.sample(1)\n",
    "one_spin"
   ]
  },
  {
   "cell_type": "markdown",
   "id": "e36fc792",
   "metadata": {},
   "source": [
    "Here we simulate our winnings for 10000 bets on red:"
   ]
  },
  {
   "cell_type": "code",
   "execution_count": null,
   "id": "765f4636",
   "metadata": {},
   "outputs": [],
   "source": [
    "n_simulations = 5000\n",
    "\n",
    "colors = np.zeros(n_simulations, dtype=object)  # Strings\n",
    "winnings_on_red = np.zeros(n_simulations)\n",
    "\n",
    "for i in np.arange(n_simulations):\n",
    "    spin = bets.sample(1)\n",
    "    colors[i] = spin['Color']\n",
    "    winnings_on_red[i] = spin['Winnings: Red']"
   ]
  },
  {
   "cell_type": "markdown",
   "id": "14e6d8ba",
   "metadata": {},
   "source": [
    "These are the colors we got:"
   ]
  },
  {
   "cell_type": "code",
   "execution_count": null,
   "id": "c016322c",
   "metadata": {},
   "outputs": [],
   "source": [
    "pd.Series(colors).value_counts().plot.barh();"
   ]
  },
  {
   "cell_type": "markdown",
   "id": "d95b0bb2",
   "metadata": {},
   "source": [
    "Here are the corresponding winnings:"
   ]
  },
  {
   "cell_type": "code",
   "execution_count": null,
   "id": "6a53c18e",
   "metadata": {},
   "outputs": [],
   "source": [
    "plt.hist(winnings_on_red, bins=np.arange(-1.5, 1.6, 1));"
   ]
  },
  {
   "cell_type": "markdown",
   "id": "ca4ae757",
   "metadata": {},
   "source": [
    "Notice that this distribution is very far from being a bell shaped distribution curve.  Now let's think about *net* wins after a certain number of bets."
   ]
  },
  {
   "cell_type": "markdown",
   "id": "9734ead1",
   "metadata": {},
   "source": [
    "## Net gains at roulette\n",
    "\n",
    "Your *net* gain on one bet is one random draw from the `Winnings: Red` column.\n",
    "There is an 18/38 chance making \\$1, and a 20/38 chance of making -\\$1. This\n",
    "probability distribution is shown in the histogram above.\n",
    "\n",
    "Now suppose you bet many times on red. Your net winnings will be the sum of\n",
    "many draws made at random with replacement from the distribution above.\n",
    "\n",
    "It will take a bit of math to list all the possible values of your net winnings\n",
    "along with all of their chances. We won't do that; instead, we will approximate\n",
    "the probability distribution by simulation, as we have done all along in this\n",
    "course.\n",
    "\n",
    "The code below simulates your net gain if you bet \\$1 on red on 400 different\n",
    "spins of the roulette wheel."
   ]
  },
  {
   "cell_type": "code",
   "execution_count": null,
   "id": "dc26ade2",
   "metadata": {},
   "outputs": [],
   "source": [
    "n_bets = 400\n",
    "\n",
    "colors = np.zeros(n_simulations, dtype=object)  # Strings\n",
    "net_gain_red = np.zeros(n_simulations)\n",
    "\n",
    "for i in np.arange(n_simulations):\n",
    "    spins = bets.sample(n_bets, replace=True)\n",
    "    net_gain_red[i] = np.sum(spins['Winnings: Red'].sum())\n",
    "\n",
    "results = pd.DataFrame()\n",
    "results['Net Gain on Red'] = net_gain_red"
   ]
  },
  {
   "cell_type": "code",
   "execution_count": null,
   "id": "2030d851",
   "metadata": {},
   "outputs": [],
   "source": [
    "results.plot.hist(bins=np.arange(-80, 50, 6))"
   ]
  },
  {
   "cell_type": "markdown",
   "id": "d14179f2",
   "metadata": {},
   "source": [
    "That's a roughly bell shaped histogram, even though the distribution we are\n",
    "drawing from is nowhere near bell shaped.\n",
    "\n",
    "**Center.** The distribution is centered near -20. To see why, note that your\n",
    "winnings will be 1 on about 18/38 of the bets, and -1 on the remaining 20/38.\n",
    "So your average winnings per dollar bet will be roughly -5.26 cents:"
   ]
  },
  {
   "cell_type": "code",
   "execution_count": null,
   "id": "7c73e563",
   "metadata": {},
   "outputs": [],
   "source": [
    "average_per_bet = 1 * (18 / 38) + (-1) * (20 / 38)\n",
    "average_per_bet"
   ]
  },
  {
   "cell_type": "markdown",
   "id": "d6c78894",
   "metadata": {},
   "source": [
    "So in 400 bets you expect that your net gain will be about -\\$21:"
   ]
  },
  {
   "cell_type": "code",
   "execution_count": null,
   "id": "31b9eecd",
   "metadata": {},
   "outputs": [],
   "source": [
    "400 * average_per_bet"
   ]
  },
  {
   "cell_type": "markdown",
   "id": "702f2534",
   "metadata": {},
   "source": [
    "For confirmation, we can compute the mean of the 10,000 simulated net gains:"
   ]
  },
  {
   "cell_type": "code",
   "execution_count": null,
   "id": "c05415c3",
   "metadata": {},
   "outputs": [],
   "source": [
    "np.mean(results['Net Gain on Red'])"
   ]
  },
  {
   "cell_type": "markdown",
   "id": "08042110",
   "metadata": {},
   "source": [
    "**Spread.** Run your eye along the curve starting at the center and notice that\n",
    "the point of inflection is near 0. On a bell shaped curve, the standard\n",
    "deviation (SD) is the distance from the center to a point of inflection. The\n",
    "center is roughly -20, which means that the SD of the distribution is around\n",
    "20.\n",
    "\n",
    "In the next section we will see where the 20 comes from. For now, let's\n",
    "confirm our observation by simply calculating the SD of the 10,000 simulated\n",
    "net gains:"
   ]
  },
  {
   "cell_type": "code",
   "execution_count": null,
   "id": "f253596b",
   "metadata": {},
   "outputs": [],
   "source": [
    "np.std(results['Net Gain on Red'])"
   ]
  },
  {
   "cell_type": "markdown",
   "id": "26a097a6",
   "metadata": {},
   "source": [
    "**Summary.** The net gain in 400 bets is the sum of the 400 amounts won on each\n",
    "individual bet. The probability distribution of that sum is approximately\n",
    "normal, with an average and an SD that we can approximate.\n"
   ]
  },
  {
   "cell_type": "markdown",
   "id": "fcae414d",
   "metadata": {},
   "source": [
    "## Average Flight Delay\n",
    "\n",
    "The table `united` contains data on departure delays of 13,825 United Airlines\n",
    "domestic flights out of San Francisco airport in the summer of 2015. As we have\n",
    "seen before, the distribution of delays has a long right-hand tail."
   ]
  },
  {
   "cell_type": "code",
   "execution_count": null,
   "id": "ac548db3",
   "metadata": {},
   "outputs": [],
   "source": [
    "united = pd.read_csv('united_summer2015.csv')\n",
    "delays = united['Delay']"
   ]
  },
  {
   "cell_type": "code",
   "execution_count": null,
   "id": "eabf6bd0",
   "metadata": {},
   "outputs": [],
   "source": [
    "delays.plot.hist(bins=np.arange(-20, 300, 10));"
   ]
  },
  {
   "cell_type": "markdown",
   "id": "9558892c",
   "metadata": {},
   "source": [
    "The mean delay was about 16.6 minutes and the SD was about 39.5 minutes. Notice\n",
    "how large the SD is, compared to the mean. Those large deviations on the right\n",
    "have an effect, even though they are a very small proportion of the data."
   ]
  },
  {
   "cell_type": "code",
   "execution_count": null,
   "id": "e8953568",
   "metadata": {},
   "outputs": [],
   "source": [
    "mean_delay = np.mean(delays)\n",
    "sd_delay = np.std(delays)\n",
    "\n",
    "mean_delay, sd_delay"
   ]
  },
  {
   "cell_type": "markdown",
   "id": "b09740b9",
   "metadata": {},
   "source": [
    "Now suppose we sampled 400 delays at random with replacement. You could sample\n",
    "without replacement if you like, but the results would be very similar to\n",
    "with-replacement sampling. If you sample a few hundred out of 13,825 without\n",
    "replacement, you hardly change the population each time you pull out a value.\n",
    "\n",
    "In the sample, what could the average delay be? We expect it to be around 16 or\n",
    "17, because that's the population average; but it is likely to be somewhat off.\n",
    "Let's see what we get by sampling. We'll work with the table `delay` that only\n",
    "contains the column of delays."
   ]
  },
  {
   "cell_type": "code",
   "execution_count": null,
   "id": "fd365c0e",
   "metadata": {},
   "outputs": [],
   "source": [
    "np.mean(delays.sample(400, replace=True))"
   ]
  },
  {
   "cell_type": "markdown",
   "id": "3a1be38c",
   "metadata": {},
   "source": [
    "The sample average varies according to how the sample comes out, so we will\n",
    "simulate the sampling process repeatedly and draw the empirical histogram of\n",
    "the sample average. That will be an approximation to the probability histogram\n",
    "of the sample average."
   ]
  },
  {
   "cell_type": "code",
   "execution_count": null,
   "id": "f5dca448",
   "metadata": {},
   "outputs": [],
   "source": [
    "sample_size = 400\n",
    "n_repetitions = 10000\n",
    "\n",
    "means = np.zeros(n_repetitions)\n",
    "\n",
    "for i in np.arange(n_repetitions):\n",
    "    sample = delays.sample(sample_size)\n",
    "    means[i] = np.mean(sample)"
   ]
  },
  {
   "cell_type": "code",
   "execution_count": null,
   "id": "7b995e6f",
   "metadata": {},
   "outputs": [],
   "source": [
    "plt.hist(means, bins=np.arange(10, 25, 0.5));"
   ]
  },
  {
   "cell_type": "markdown",
   "id": "635b8a1f",
   "metadata": {},
   "source": [
    "Once again, we see a rough bell shape, even though we are drawing from a very\n",
    "skewed distribution. The bell is centered somewhere between 16 and 17, as we\n",
    "expect."
   ]
  },
  {
   "cell_type": "markdown",
   "id": "339a4e58",
   "metadata": {},
   "source": [
    "## Central Limit Theorem"
   ]
  },
  {
   "cell_type": "markdown",
   "id": "9df7ac2e",
   "metadata": {},
   "source": [
    "The reason why the bell shape appears in such settings is a remarkable result\n",
    "of probability theory called the **Central Limit Theorem**.\n",
    "\n",
    "**The Central Limit Theorem says that the probability distribution of the sum\n",
    "or average of a large random sample drawn with replacement will be roughly\n",
    "normal, *regardless of the distribution of the population from which the sample\n",
    "is drawn*.**\n",
    "\n",
    "Results that can be applied to random samples *regardless of the distribution\n",
    "of the population* are very powerful, because in data science we rarely know\n",
    "the distribution of the population.\n",
    "\n",
    "The Central Limit Theorem makes it possible to make inferences with very little\n",
    "knowledge about the population, provided we have a large random sample. That is\n",
    "why it is central to the field of statistical inference.\n"
   ]
  },
  {
   "cell_type": "markdown",
   "id": "5a2a64a5",
   "metadata": {},
   "source": [
    "## Proportion of Purple Flowers\n",
    "\n",
    "If you remember your biology, you may remember Mendel's probability model for\n",
    "the colors of the flowers of a species of pea plant.  We have mated two pea\n",
    "plants.  We know that each has both the purple gene (P), and the white gene\n",
    "(W).  Any plant that has one (or two) purple genes, is purple.\n",
    "\n",
    "Each pea plant will contribute one of its two genes, at random, either P (50%\n",
    "chance) or W (50% chance).  The potential outcomes from this mating are:\n",
    "\n",
    "| Gene from pea 1 | Gene from pea 2 | Offspring color |\n",
    "| - | - | ------ |\n",
    "| P | P | Purple |\n",
    "| P | W | Purple |\n",
    "| W | P | Purple |\n",
    "| W | W | White |\n",
    "\n",
    "Because the probabilities of P or A are equal from each plant, each of these\n",
    "four outcomes is equally likely. So, the model says that the flower colors of\n",
    "the offspring plants are like draws made at random with replacement from\n",
    "{Purple, Purple, Purple, White}.\n",
    "\n",
    "In a large sample of plants, about what proportion will have purple flowers? We\n",
    "would expect the answer to be about 0.75, the proportion that are purple in the\n",
    "model. And, because proportions are means, the Central Limit Theorem says that\n",
    "the distribution of the sample proportion of purple plants is roughly normal.\n",
    "\n",
    "We can confirm this by simulation. Let's simulate the proportion of\n",
    "purple-flowered plants in a sample of 200 plants."
   ]
  },
  {
   "cell_type": "code",
   "execution_count": null,
   "id": "ffa1ae1f",
   "metadata": {},
   "outputs": [],
   "source": [
    "model = pd.DataFrame()\n",
    "model['Color'] = np.array(['Purple', 'Purple', 'Purple', 'White'])\n",
    "\n",
    "model"
   ]
  },
  {
   "cell_type": "code",
   "execution_count": null,
   "id": "25956ba7",
   "metadata": {},
   "outputs": [],
   "source": [
    "n_plants = 200\n",
    "n_repetitions = 10000\n",
    "props = np.zeros(n_repetitions)\n",
    "\n",
    "for i in np.arange(n_repetitions):\n",
    "    sample = model.sample(n_plants, replace=True)\n",
    "    new_prop = np.count_nonzero(sample['Color'] == 'Purple') / n_plants\n",
    "    props[i] = new_prop"
   ]
  },
  {
   "cell_type": "code",
   "execution_count": null,
   "id": "9b58e62a",
   "metadata": {},
   "outputs": [],
   "source": [
    "plt.hist(props, bins=np.arange(0.65, 0.85, 0.01));"
   ]
  },
  {
   "cell_type": "markdown",
   "id": "bd691471",
   "metadata": {},
   "source": [
    "There's that normal curve again, as predicted by the Central Limit Theorem,\n",
    "centered at around 0.75 just as you would expect.\n",
    "\n",
    "How would this distribution change if we increased the sample size? Let's run\n",
    "the code again with a sample size of 800, and collect the results of\n",
    "simulations in the same table in which we collected simulations based on a\n",
    "sample size of 200. We will keep the number of `repetitions` the same as before\n",
    "so that the two columns have the same length."
   ]
  },
  {
   "cell_type": "code",
   "execution_count": null,
   "id": "06e6044e",
   "metadata": {},
   "outputs": [],
   "source": [
    "n_plants = 800\n",
    "props2 = np.zeros(n_repetitions)\n",
    "\n",
    "for i in np.arange(n_repetitions):\n",
    "    sample = model.sample(n_plants, replace=True)\n",
    "    new_prop = np.count_nonzero(sample['Color'] == 'Purple') / n_plants\n",
    "    props2[i] = new_prop"
   ]
  },
  {
   "cell_type": "code",
   "execution_count": null,
   "id": "b28b4584",
   "metadata": {},
   "outputs": [],
   "source": [
    "plt.hist(props2, bins=np.arange(0.65, 0.85, 0.01));"
   ]
  },
  {
   "cell_type": "markdown",
   "id": "b50be92b",
   "metadata": {},
   "source": [
    "Both distributions are approximately normal but one is narrower than the other.\n",
    "The proportions based on a sample size of 800 are more tightly clustered around\n",
    "0.75 than those from a sample size of 200. Increasing the sample size has\n",
    "decreased the variability in the sample proportion.\n",
    "\n",
    "This should not be surprising.  We have leaned many times on the intuition that a larger sample size generally reduces the variability of a statistic.  However, in the case of a sample average, we can *quantify* the relationship between sample size and variability.\n",
    "\n",
    "Exactly how does the sample size affect the variability of a sample average or\n",
    "proportion? That is the question we will examine soon."
   ]
  }
 ],
 "metadata": {
  "jupytext": {
   "notebook_metadata_filter": "all,-language_info",
   "split_at_heading": true
  },
  "kernelspec": {
   "display_name": "Python 3",
   "language": "python",
   "name": "python3"
  }
 },
 "nbformat": 4,
 "nbformat_minor": 5
}
