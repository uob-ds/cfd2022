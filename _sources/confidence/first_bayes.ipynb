{
 "cells": [
  {
   "cell_type": "markdown",
   "id": "8bcd44e6",
   "metadata": {},
   "source": [
    "# First Bayes\n",
    "\n",
    "In the [problem for the education minister](havana_math) we had a sample of\n",
    "fast-track-marked exams from 2019, and we found that the mean mark was about\n",
    "58.74.  We wondered what we could say about the eventual mean when we have the\n",
    "marks for all 8000 or so students.\n",
    "\n",
    "For example, we might wonder how likely it is that the eventual mean will be\n",
    "near 65.25, as it was in 2018.  Or we might wonder whether we could be say that\n",
    "the eventual mean for all the papers will around the sample mean — 58.74 — plus\n",
    "or minus a bit.   If so, what value should we give to \"a bit\"?\n",
    "\n",
    "This kind of problem can be called a problem of *reverse probability*.\n",
    "\n",
    "We start with simple probabilities, where we ask questions like this: what is\n",
    "the probability of seeing a mean around 58.74 if the population mean is\n",
    "actually 65.25?  Then we go in *reverse* to ask questions like: what is the\n",
    "probability that the population mean is around 65.25 given the sample mean of\n",
    "58.74?\n"
   ]
  },
  {
   "cell_type": "markdown",
   "id": "49a0abd7",
   "metadata": {},
   "source": [
    "## A reverse probability game"
   ]
  },
  {
   "cell_type": "markdown",
   "id": "295c1977",
   "metadata": {},
   "source": [
    "Imagine I offer you one of two boxes.\n",
    "\n",
    "One box has four red balls and one green ball.  Call this *BOX4*.\n",
    "\n",
    "The other box has two red balls and three green balls.  Call this *BOX2*.\n",
    "\n",
    "I haven't told you which box I gave you, but I do tell you that there is a 30%\n",
    "chance that I gave you BOX4, and a 70% chance I gave you BOX2.\n",
    "\n",
    "Now let's say that you shake the box I gave you, to shuffle the balls, then\n",
    "close your eyes, and take out one ball.  You open your eyes to find you have a\n",
    "red ball.\n",
    "\n",
    "What is the chance that I gave you BOX4?\n",
    "\n",
    "This is an example of a *reverse probability* problem.  You are working *back*\n",
    "from what you see (the red ball) to what I gave you (the box).\n",
    "\n",
    "In our exam mark problem, we are working back from what we saw (the sample mean\n",
    "of 54.51) to the eventual mean for all the exams.\n",
    "\n",
    "How are we going to start on our solution to the BOX4, BOX2 reverse probability\n",
    "problem? Simulation!"
   ]
  },
  {
   "cell_type": "code",
   "execution_count": null,
   "id": "245ca751",
   "metadata": {},
   "outputs": [],
   "source": [
    "import numpy as np\n",
    "import pandas as pd\n",
    "import matplotlib.pyplot as plt\n",
    "%matplotlib inline\n",
    "plt.style.use('fivethirtyeight')"
   ]
  },
  {
   "cell_type": "code",
   "execution_count": null,
   "id": "758af3cd",
   "metadata": {},
   "outputs": [],
   "source": [
    "# Make a box with 4 red balls and 1 green ball\n",
    "box4 = np.repeat(['red', 'green'], [4, 1])\n",
    "box4"
   ]
  },
  {
   "cell_type": "code",
   "execution_count": null,
   "id": "2ced1301",
   "metadata": {},
   "outputs": [],
   "source": [
    "# Make a box with 2 red balls and 3 green balls\n",
    "box2 = np.repeat(['red', 'green'], [2, 3])\n",
    "box2"
   ]
  },
  {
   "cell_type": "markdown",
   "id": "c3676443",
   "metadata": {},
   "source": [
    "Now we make 10000 trials, where we:\n",
    "\n",
    "* Choose BOX4 or BOX2, with a 30% chance of BOX4.\n",
    "* Choose a ball at random from the resulting box."
   ]
  },
  {
   "cell_type": "code",
   "execution_count": null,
   "id": "beaf0a50",
   "metadata": {},
   "outputs": [],
   "source": [
    "n_iters = 10000\n",
    "# The box for this trial.\n",
    "box_nos = np.repeat([1], n_iters)\n",
    "# The color of the ball we chose.\n",
    "ball_colors = np.repeat(['green'], n_iters)\n",
    "for i in np.arange(n_iters):\n",
    "    # Choose a box number with a 30% chance of BOX4\n",
    "    box_no = np.random.choice([4, 2], p=[0.3, 0.7])\n",
    "    # Choose a ball at random from the box.\n",
    "    if box_no == 4:\n",
    "        # Choose a ball at random from BOX4.\n",
    "        ball_color = np.random.choice(box4)\n",
    "    else:  # box 4\n",
    "        # Choose a ball at random from BOX2.\n",
    "        ball_color = np.random.choice(box2)\n",
    "    # Store the results.\n",
    "    box_nos[i] = box_no\n",
    "    ball_colors[i] = ball_color"
   ]
  },
  {
   "cell_type": "markdown",
   "id": "319bbe39",
   "metadata": {},
   "source": [
    "Last we put the results into a data frame for convenience:"
   ]
  },
  {
   "cell_type": "code",
   "execution_count": null,
   "id": "fd4ba0bf",
   "metadata": {},
   "outputs": [],
   "source": [
    "# Make these into a data frame.\n",
    "trial_results = pd.DataFrame()\n",
    "trial_results['box no'] = box_nos\n",
    "trial_results['ball color'] = ball_colors\n",
    "trial_results.head()"
   ]
  },
  {
   "cell_type": "markdown",
   "id": "647c9aee",
   "metadata": {},
   "source": [
    "Now we can see the proportion of trials on which we drew a red ball, where the\n",
    "box we got was BOX4."
   ]
  },
  {
   "cell_type": "code",
   "execution_count": null,
   "id": "9dfaa342",
   "metadata": {},
   "outputs": [],
   "source": [
    "# Of the trials giving a red ball, what proportion came from box 4?\n",
    "red_ball_trials = trial_results[trial_results['ball color'] == 'red']\n",
    "p_box4 = np.count_nonzero(red_ball_trials['box no'] == 4) / len(red_ball_trials)\n",
    "p_box4"
   ]
  },
  {
   "cell_type": "markdown",
   "id": "bacc82a5",
   "metadata": {},
   "source": [
    "Of the trials giving a red ball about 46% came from BOX4.   If we see a red\n",
    "ball, there is a 46% chance we have sampled from BOX4.\n",
    "\n",
    "You have just solved your first problem in reverse probability.  The problem\n",
    "will soon reveal a simple calculation in probability called [Bayes\n",
    "theorem](https://en.wikipedia.org/wiki/Bayes'_theorem).\n",
    "\n",
    "This is a fundamental building block, so let's go back over the simulation, to think about why we got this number.\n",
    "\n",
    "We can think of all these trials as coming about from a branching tree.\n",
    "\n",
    "At the first branching point, we split into two branches, one for BOX4 and one\n",
    "for BOX2.  The BOX4 branch is width 0.3 and the BOX2 branch is width 0.7,\n",
    "because the probability of BOX4 is 0.3 (30%).\n",
    "\n",
    "The simulation is very unlikely to give these numbers exactly, because it took\n",
    "a random sample.  So, the simulation proportions will be close to the\n",
    "probabilities we calculated above, but not exactly the same."
   ]
  },
  {
   "cell_type": "code",
   "execution_count": null,
   "id": "b31c4893",
   "metadata": {},
   "outputs": [],
   "source": [
    "box4_trials = trial_results[trial_results['box no'] == 4]\n",
    "box2_trials = trial_results[trial_results['box no'] == 2]\n",
    "n_trials = len(trial_results)\n",
    "print('Box4 proportion', len(box4_trials) / n_trials)\n",
    "print('Box2 proportion', len(box2_trials) / n_trials)"
   ]
  },
  {
   "cell_type": "markdown",
   "id": "13ff505e",
   "metadata": {},
   "source": [
    "At the second branching point, each branch splits into two.\n",
    "\n",
    "* The BOX4 branch splits into a \"red\" branch, which carries 4/5 (0.8, 80%) of\n",
    "  the BOX4 trials, and a \"green\" branch, that carries 1/5 (0.2, 20%) of the\n",
    "  BOX4 trials, because the probability of getting a red ball from BOX4 is 4 in\n",
    "  5.\n",
    "* The BOX2 branch splits into a \"red\" branch, which carries 2/5 (0.4, 40%) of\n",
    "  the BOX2 trials, and a \"green\" branch, which carries 3/5 (0.6, 60%) of the\n",
    "  BOX2 trials, because the probability of getting a red ball from BOX2 is 2 in\n",
    "  5.\n",
    "\n",
    "Thus the proportion of trials that are *both* from BOX4 *and* give a red ball\n",
    "is 0.3 (the width of the BOX4 branch) * 0.8 (the proportion of BOX4 trials\n",
    "that give red) = 0.24."
   ]
  },
  {
   "cell_type": "code",
   "execution_count": null,
   "id": "b28274f8",
   "metadata": {},
   "outputs": [],
   "source": [
    "box4_and_red = box4_trials[box4_trials['ball color'] == 'red']\n",
    "prop_box4_and_red = len(box4_and_red) / n_trials\n",
    "print('Box4 and red proportion', prop_box4_and_red)"
   ]
  },
  {
   "cell_type": "markdown",
   "id": "5b2329c4",
   "metadata": {},
   "source": [
    "The proportion of trials that are *both* from BOX2 *and* give a red ball\n",
    "is 0.7 (the width of the BOX2 branch) * 0.4 (the proportion of BOX2 trials\n",
    "that give red) = 0.28."
   ]
  },
  {
   "cell_type": "code",
   "execution_count": null,
   "id": "2c5f5db7",
   "metadata": {},
   "outputs": [],
   "source": [
    "box2_and_red = box2_trials[box2_trials['ball color'] == 'red']\n",
    "prop_box2_and_red = len(box2_and_red) / n_trials\n",
    "print('Box2 and red proportion', prop_box2_and_red)"
   ]
  },
  {
   "cell_type": "markdown",
   "id": "5a83709e",
   "metadata": {},
   "source": [
    "We get the overall proportion of red by adding the proportion that is BOX4\n",
    "*and* red to the proportion that is BOX2 *and* red, because these are all the\n",
    "red trials.  This is 0.24 + 0.28 = 0.52."
   ]
  },
  {
   "cell_type": "code",
   "execution_count": null,
   "id": "741a799e",
   "metadata": {},
   "outputs": [],
   "source": [
    "n_red = len(box4_and_red) + len(box2_and_red)\n",
    "prop_red = n_red / n_trials\n",
    "print('Overall proportion of red', prop_red)"
   ]
  },
  {
   "cell_type": "markdown",
   "id": "319983bf",
   "metadata": {},
   "source": [
    "We've already discovered about that 0.24 (24%) of all trials are BOX4 *and*\n",
    "red.  So the proportion of *all* red trials, that are BOX4 *and* red, is 0.24 /\n",
    "0.52 = 0.4615385."
   ]
  },
  {
   "cell_type": "code",
   "execution_count": null,
   "id": "6e4a430b",
   "metadata": {},
   "outputs": [],
   "source": [
    "print('Proportion of all red trials that are box4', (prop_box4_and_red / prop_red))"
   ]
  },
  {
   "cell_type": "markdown",
   "id": "c31579de",
   "metadata": {},
   "source": [
    "To go over the logic again:\n",
    "\n",
    "* We want the proportion of \"red\" trials that came from BOX4.\n",
    "* To do this, we calculate the proportion of trials that are *both* BOX4 and\n",
    "  red, and divide by the overall proportion of red trials.\n",
    "* The proportion of red trials that are *both* BOX4 *and* red is (the\n",
    "  proportion of BOX4 trials) multiplied by (the proportion of BOX4 trials that\n",
    "  are red).\n",
    "\n",
    "We have just [discovered Bayes theorem](bayes_theorem)."
   ]
  }
 ],
 "metadata": {
  "jupytext": {
   "notebook_metadata_filter": "all,-language_info",
   "split_at_heading": true
  },
  "kernelspec": {
   "display_name": "Python 3",
   "language": "python",
   "name": "python3"
  }
 },
 "nbformat": 4,
 "nbformat_minor": 5
}
