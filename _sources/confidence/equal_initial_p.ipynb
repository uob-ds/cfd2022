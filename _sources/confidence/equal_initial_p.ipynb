{
 "cells": [
  {
   "cell_type": "markdown",
   "id": "6587e88c",
   "metadata": {},
   "source": [
    "This page follows on from the [Bayes bars](bayes_bars) page.\n",
    "\n",
    "In the first part of that page, we found that, in general, we can get the\n",
    "reverse probabilities of the boxes (BOX4, BOX2), given we have seen a red\n",
    "ball, by following three steps:\n",
    "\n",
    "1. Get the probability of red given each box --- e.g: (0.8, 0.4);\n",
    "2. Scale these by the probability of each box --- e.g.: (0.3, 0.7);\n",
    "3. Divide the results by the sum of the results from step 2 to get the reverse\n",
    "   probabilities --- e.g. (0.462, 0.538).\n",
    "\n",
    "We found, in that page, that if the initial probabilities of the boxes were\n",
    "the same --- (0.5, 0.5), we could miss out the second step --- scaling by the\n",
    "box probabilities.\n",
    "\n",
    "Let's see why with a little algebra mixed with code."
   ]
  },
  {
   "cell_type": "code",
   "execution_count": null,
   "id": "0a52296c",
   "metadata": {},
   "outputs": [],
   "source": [
    "import numpy as np"
   ]
  },
  {
   "cell_type": "markdown",
   "id": "9ffc30d0",
   "metadata": {},
   "source": [
    "As you remember, the calculation works out like this:"
   ]
  },
  {
   "cell_type": "code",
   "execution_count": null,
   "id": "c738bfaa",
   "metadata": {},
   "outputs": [],
   "source": [
    "# Step 1 - P of reds.\n",
    "red_ps = np.array([0.8, 0.4])\n",
    "# Step 2 - scale by P of the boxes\n",
    "box_ps = np.array([0.3, 0.7])\n",
    "box_and_red_probs = box_ps * red_ps\n",
    "# Step 3 - divide each bar by sum of bar heights.\n",
    "box_given_red_probs = box_and_red_probs / np.sum(box_and_red_probs)\n",
    "# Show result\n",
    "box_given_red_probs"
   ]
  },
  {
   "cell_type": "markdown",
   "id": "9c8bd0bc",
   "metadata": {},
   "source": [
    "Doing the same calculation, but removing the intermediate variables:"
   ]
  },
  {
   "cell_type": "code",
   "execution_count": null,
   "id": "7ae5d8ca",
   "metadata": {},
   "outputs": [],
   "source": [
    "# All in one go.\n",
    "box_ps * red_ps / np.sum(box_ps * red_ps)"
   ]
  },
  {
   "cell_type": "markdown",
   "id": "be87cb9b",
   "metadata": {},
   "source": [
    "We can replace those numbers (0.3, 0.7 etc) with variables, and do the\n",
    "calculation again. The variables are to keep track of the numbers in the\n",
    "discussion below."
   ]
  },
  {
   "cell_type": "code",
   "execution_count": null,
   "id": "87c0a32b",
   "metadata": {},
   "outputs": [],
   "source": [
    "# Putting the numbers into variables.\n",
    "b = 0.3  # Probability of BOX4\n",
    "c = 0.7  # Probability of BOX2\n",
    "r = 0.8  # Probability of red if you have BOX4\n",
    "s = 0.4  # Probability of red if you have BOX2\n",
    "box_ps = np.array([b, c])\n",
    "red_ps = np.array([r, s])"
   ]
  },
  {
   "cell_type": "markdown",
   "id": "1ad4bd1d",
   "metadata": {},
   "source": [
    "Of course we get the same answer, because we are doing the same calculation:"
   ]
  },
  {
   "cell_type": "code",
   "execution_count": null,
   "id": "09be7dfd",
   "metadata": {},
   "outputs": [],
   "source": [
    "# All in one go.\n",
    "box_ps * red_ps / np.sum(box_ps * red_ps)"
   ]
  },
  {
   "cell_type": "markdown",
   "id": "5d4110f3",
   "metadata": {},
   "source": [
    "By working through the calculations that are happening above, we find this is\n",
    "the same as:"
   ]
  },
  {
   "cell_type": "code",
   "execution_count": null,
   "id": "92a7c6f3",
   "metadata": {},
   "outputs": [],
   "source": [
    "# All in one go, using individual variables.\n",
    "np.array([b * r, c * s]) / ((b * r) + (c * s))"
   ]
  },
  {
   "cell_type": "markdown",
   "id": "733f3a49",
   "metadata": {},
   "source": [
    "Now --- what happens if the box probabilities are the same, and so `b == c`?"
   ]
  },
  {
   "cell_type": "code",
   "execution_count": null,
   "id": "5481e121",
   "metadata": {},
   "outputs": [],
   "source": [
    "b = 0.5  # Probability of BOX4\n",
    "c = 0.5  # Probability of BOX2"
   ]
  },
  {
   "cell_type": "code",
   "execution_count": null,
   "id": "0c4e5bef",
   "metadata": {},
   "outputs": [],
   "source": [
    "# Individual variables, equal box probabilities.\n",
    "np.array([b * r, c * s]) / ((b * r) + (c * s))"
   ]
  },
  {
   "cell_type": "markdown",
   "id": "557d0a17",
   "metadata": {},
   "source": [
    "Because `b == c`, we can replace all the `c`s in the calculation above with\n",
    "`b`s, to get:"
   ]
  },
  {
   "cell_type": "code",
   "execution_count": null,
   "id": "0020d35e",
   "metadata": {},
   "outputs": [],
   "source": [
    "np.array([r * b, s * b]) / ((r * b) + (s * b))"
   ]
  },
  {
   "cell_type": "markdown",
   "id": "ee7102ca",
   "metadata": {},
   "source": [
    "Then we can take the `b` values outside the brackets to get:"
   ]
  },
  {
   "cell_type": "code",
   "execution_count": null,
   "id": "6d0f72ee",
   "metadata": {},
   "outputs": [],
   "source": [
    "np.array([r, s]) * b / ((r + s) * b)"
   ]
  },
  {
   "cell_type": "markdown",
   "id": "0b578516",
   "metadata": {},
   "source": [
    "The `b`s on top and bottom cancel, and so:"
   ]
  },
  {
   "cell_type": "code",
   "execution_count": null,
   "id": "6372c198",
   "metadata": {},
   "outputs": [],
   "source": [
    "np.array([r, s]) / (r + s)"
   ]
  },
  {
   "cell_type": "markdown",
   "id": "35360cdd",
   "metadata": {},
   "source": [
    "We have shown that we can omit the box probabilities from the calculation, when\n",
    "the box probabilities are equal.\n",
    "\n",
    "You might be able to see that that this will also apply if we have three or\n",
    "more boxes, all with equal probabilities.  That is the situation we find in the\n",
    "[confidence in bars](second_bayes) page."
   ]
  }
 ],
 "metadata": {
  "jupytext": {
   "notebook_metadata_filter": "all,-language_info",
   "split_at_heading": true
  },
  "kernelspec": {
   "display_name": "Python 3",
   "language": "python",
   "name": "python3"
  }
 },
 "nbformat": 4,
 "nbformat_minor": 5
}
