{
 "cells": [
  {
   "cell_type": "markdown",
   "id": "52c7602b",
   "metadata": {},
   "source": [
    "# The law of large numbers"
   ]
  },
  {
   "cell_type": "code",
   "execution_count": null,
   "id": "ae691d1e",
   "metadata": {
    "tags": [
     "hide-cell"
    ]
   },
   "outputs": [],
   "source": [
    "# Don't change this cell; just run it.\n",
    "import numpy as np\n",
    "import matplotlib.pyplot as plt\n",
    "# Make the plots look more fancy.\n",
    "plt.style.use('fivethirtyeight')"
   ]
  },
  {
   "cell_type": "markdown",
   "id": "9d574852",
   "metadata": {},
   "source": [
    "You have already seen the [law of large\n",
    "numbers](https://en.wikipedia.org/wiki/Law_of_large_numbers) in action, in the\n",
    "[central limit theorem page](Central_Limit_Theorem).\n",
    "\n",
    "The law of large numbers says that, as you take more and more samples, the average of the samples will get closer and closer to the expected result.\n",
    "\n",
    "In this page, we look at probabilities and proportions.\n",
    "\n",
    "Consider the set up in the [first Bayes page](first_bayes).  We are playing a game where I offer you a box which has a 30% chance of being a BOX4 type box, and a 70% chance of being a BOX2 type box.  BOX4 boxes have four box4 balls and one box2; BOX2 boxes have two box4 and three box2 — but that does not matter for our purpose."
   ]
  },
  {
   "cell_type": "code",
   "execution_count": null,
   "id": "a2464312",
   "metadata": {},
   "outputs": [],
   "source": [
    "p_box4 = 0.3\n",
    "p_box2 = 0.7"
   ]
  },
  {
   "cell_type": "markdown",
   "id": "6f32bde8",
   "metadata": {},
   "source": [
    "Here we think about what happens as we take samples with larger and larger\n",
    "number of boxes, and take the proportion (this is also an average) of BOX4s in\n",
    "the sample.\n",
    "\n",
    "The law of large numbers says that, as we take more samples of the boxes, the proportion of BOX4s in the sample will get closer and closer to the probability of getting BOX4 on any one trial.\n",
    "\n",
    "Let's start by taking samples of 100 boxes.  One sample will be one *trial*.\n",
    "\n",
    "Here's one trial, taking 100 boxes:"
   ]
  },
  {
   "cell_type": "code",
   "execution_count": null,
   "id": "d5b2894e",
   "metadata": {},
   "outputs": [],
   "source": [
    "boxes = np.random.choice(['box4', 'box2'],\n",
    "                          p=[p_box4, p_box2],\n",
    "                          size=100)\n",
    "prop = np.count_nonzero(boxes == 'box4') / 100\n",
    "print('Proportion of BOX4', prop)"
   ]
  },
  {
   "cell_type": "markdown",
   "id": "d8abf3ae",
   "metadata": {},
   "source": [
    "Now we run 1000 trials.  On each trial we get 100 boxes, and record the\n",
    "proportion of BOX4.  Finally we show the spread of proportions that we get."
   ]
  },
  {
   "cell_type": "code",
   "execution_count": null,
   "id": "e9b2bf91",
   "metadata": {},
   "outputs": [],
   "source": [
    "n_iters = 10000\n",
    "n_boxes = 100\n",
    "props = np.zeros(n_iters)\n",
    "for i in np.arange(n_iters):\n",
    "    samples = np.random.choice(['box4', 'box2'],\n",
    "                               p=[p_box4, p_box2],\n",
    "                               size=n_boxes)\n",
    "    props[i] = np.count_nonzero(samples == 'box4') / n_boxes\n",
    "# Define the bins for the histogram to make them comparable across n_boxes\n",
    "plt.hist(props, bins=np.arange(0.15, 0.45, 0.01))\n",
    "plt.xlabel('Proportions')\n",
    "plt.title('Proportions for p=0.3, ' +  str(n_boxes) + ' samples');"
   ]
  },
  {
   "cell_type": "markdown",
   "id": "81640823",
   "metadata": {},
   "source": [
    "Because we want to repeat this several times with different numbers of boxes, we make the code above into a function:"
   ]
  },
  {
   "cell_type": "code",
   "execution_count": null,
   "id": "888f9902",
   "metadata": {},
   "outputs": [],
   "source": [
    "def show_proportions(n_boxes, n_iters=10000):\n",
    "    props = np.zeros(n_iters)\n",
    "    for i in np.arange(n_iters):\n",
    "        samples = np.random.choice(['box4', 'box2'],\n",
    "                                   p=[p_box4, p_box2],\n",
    "                                   size=n_boxes)\n",
    "        props[i] = np.count_nonzero(samples == 'box4') / n_boxes\n",
    "    # Define the bins for the histogram to make them comparable across n_boxes\n",
    "    plt.hist(props, bins=np.arange(0.15, 0.45, 0.01))\n",
    "    plt.xlabel('Proportions')\n",
    "    plt.title('Proportions for p=0.3, ' +  str(n_boxes) + ' samples');"
   ]
  },
  {
   "cell_type": "markdown",
   "id": "9ce7443d",
   "metadata": {},
   "source": [
    "Here is the spread (distribution) we saw above, for 100 box samples, but using\n",
    "the function."
   ]
  },
  {
   "cell_type": "code",
   "execution_count": null,
   "id": "21be2b41",
   "metadata": {},
   "outputs": [],
   "source": [
    "show_proportions(100)"
   ]
  },
  {
   "cell_type": "markdown",
   "id": "e352bd10",
   "metadata": {},
   "source": [
    "The law of large numbers says that, the larger the number boxes in our sample, the closer the proportions become, to the expected proportion — which is the probability, 0.3.\n",
    "\n",
    "Here we increase the number of boxes in the sample to 1000."
   ]
  },
  {
   "cell_type": "code",
   "execution_count": null,
   "id": "b7d4da32",
   "metadata": {},
   "outputs": [],
   "source": [
    "show_proportions(1000)"
   ]
  },
  {
   "cell_type": "markdown",
   "id": "8574191c",
   "metadata": {},
   "source": [
    "Notice that the distribution has got considerably tighter; the proportions do still vary from trial to trial, but they vary less than for the case with 100 boxes, and they are, on average, a lot close to the expected value of 0.3.\n",
    "\n",
    "Here is the result of trials taking proportions of 10000 boxes:"
   ]
  },
  {
   "cell_type": "code",
   "execution_count": null,
   "id": "a976b7fb",
   "metadata": {},
   "outputs": [],
   "source": [
    "show_proportions(10000)"
   ]
  },
  {
   "cell_type": "markdown",
   "id": "54a2061e",
   "metadata": {},
   "source": [
    "Now the distribution is getting very tight around the expected value.\n",
    "\n",
    "In fact, the law of large numbers tells us that, as the number of boxes in our\n",
    "sample gets very high, the proportion of BOX4 in the sample gets very close to\n",
    "0.3.\n",
    "\n",
    "Another way of saying this, is that *in the long run*, if we take huge numbers\n",
    "of boxes in our sample, our proportions will get closer and closer to the\n",
    "probability on the single trial — of 0.3.\n",
    "\n",
    "One useful way to think of this, is of each individual box in the sample\n",
    "*flowing* along one of two paths.  There is a probability of 0.3 that the box\n",
    "will flow along the BOX4 path, and a probability of 0.7 that it will flow\n",
    "along the BOX2 path. *In the long* run, 30% of the boxes end up at the end of the BOX4 path, and 70% of trials end up at the end of the BOX2 path.\n",
    "\n",
    "![](../images/box4_2_first_sankey.jpg)\n",
    "\n",
    "These diagrams of *flow* can be called [Sankey\n",
    "diagrams](https://en.wikipedia.org/wiki/Sankey_diagram).  They are useful for\n",
    "thinking about probability."
   ]
  }
 ],
 "metadata": {
  "jupytext": {
   "notebook_metadata_filter": "all,-language_info",
   "split_at_heading": true
  },
  "kernelspec": {
   "display_name": "Python 3",
   "language": "python",
   "name": "python3"
  }
 },
 "nbformat": 4,
 "nbformat_minor": 5
}
