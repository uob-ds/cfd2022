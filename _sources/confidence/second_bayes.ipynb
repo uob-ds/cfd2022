{
 "cells": [
  {
   "cell_type": "markdown",
   "id": "7c49643f",
   "metadata": {},
   "source": [
    "# Back to Bayes\n",
    "\n",
    "In the [reverse probability page](first_bayes)\n",
    "we played a game with two boxes, with different proportions of red and green\n",
    "balls.\n",
    "\n",
    "The [Bayes bars page](bayes_bars) has a way of\n",
    "thinking of our calculations for this game, using the height of bars to\n",
    "express our probabilities.\n",
    "\n",
    "Now we extend the game to more options.\n",
    "\n",
    "Now I have five boxes:\n",
    "\n",
    "* BOX1 has one red ball and four green balls.\n",
    "* BOX2 has two red balls and three green balls.\n",
    "* BOX3 has three red balls and two green balls.\n",
    "* BOX4 has four red balls and one green ball.\n",
    "* BOX5 has five red balls.\n",
    "\n",
    "The game proceeds as before:\n",
    "\n",
    "* I offer you one of these five boxes at random, without telling you which.\n",
    "* You draw a ball at random from the box, and you get a red ball.\n",
    "* Now, what is the probability that I gave you BOX4?\n",
    "\n",
    "First we will solve this by simulation. Then we will solve it by expressing\n",
    "the calculation we illustrated with the bars from the Bayes bars page."
   ]
  },
  {
   "cell_type": "code",
   "execution_count": null,
   "id": "afd068bc",
   "metadata": {},
   "outputs": [],
   "source": [
    "import numpy as np\n",
    "import pandas as pd\n",
    "import matplotlib.pyplot as plt\n",
    "%matplotlib inline"
   ]
  },
  {
   "cell_type": "markdown",
   "id": "cb2d735d",
   "metadata": {},
   "source": [
    "Here is the simulation.  It is a small modification from the simulation in the reverse probability page."
   ]
  },
  {
   "cell_type": "code",
   "execution_count": null,
   "id": "7b6bf2db",
   "metadata": {},
   "outputs": [],
   "source": [
    "n_iters = 10000\n",
    "box_nos = np.repeat([1], n_iters)\n",
    "ball_colors = np.repeat(['green'], n_iters)\n",
    "for i in np.arange(n_iters):\n",
    "    # Choose a box number randomly.\n",
    "    box_no = np.random.choice([1, 2, 3, 4, 5])\n",
    "    # Create the box with the correct numbers of red and green.\n",
    "    box = np.repeat(['red', 'green'], [box_no, 5-box_no])\n",
    "    # Draw a ball from the box\n",
    "    ball_color = np.random.choice(box)\n",
    "    # Store the results.\n",
    "    box_nos[i] = box_no\n",
    "    ball_colors[i] = ball_color\n",
    "# Make the results into a data frame.\n",
    "trial_results = pd.DataFrame()\n",
    "trial_results['box no'] = box_nos\n",
    "trial_results['ball color'] = ball_colors\n",
    "trial_results.head()"
   ]
  },
  {
   "cell_type": "markdown",
   "id": "81e7fa7b",
   "metadata": {},
   "source": [
    "Calculate the proportion of \"red\" trials that came from BOX4:"
   ]
  },
  {
   "cell_type": "code",
   "execution_count": null,
   "id": "fadce5ff",
   "metadata": {},
   "outputs": [],
   "source": [
    "# Of the trials giving a red ball, what proportion came from box 4?\n",
    "red_ball_trials = trial_results[trial_results['ball color'] == 'red']\n",
    "p_box4 = np.count_nonzero(red_ball_trials['box no'] == 4) / len(red_ball_trials)\n",
    "p_box4"
   ]
  },
  {
   "cell_type": "markdown",
   "id": "cd46da96",
   "metadata": {},
   "source": [
    "Here are the initial probabilities of the boxes."
   ]
  },
  {
   "cell_type": "code",
   "execution_count": null,
   "id": "ab49b7c9",
   "metadata": {},
   "outputs": [],
   "source": [
    "box_probabilities = np.repeat(1 / 5, 5)\n",
    "x_locations = np.arange(5)\n",
    "box_labels = ['BOX1', 'BOX2', 'BOX3', 'BOX4', 'BOX5']\n",
    "plt.bar(x_locations, box_probabilities)\n",
    "plt.xticks(x_locations, box_labels)\n",
    "plt.ylabel(\"Probability of getting box\")\n",
    "plt.title('Initial probability of boxes');"
   ]
  },
  {
   "cell_type": "markdown",
   "id": "a3e6d6d5",
   "metadata": {},
   "source": [
    "We display the probabilities of getting a red ball from boxes 1 through 5:"
   ]
  },
  {
   "cell_type": "code",
   "execution_count": null,
   "id": "0ec73849",
   "metadata": {},
   "outputs": [],
   "source": [
    "red_probabilities = np.array([1, 2, 3, 4, 5]) / 5\n",
    "plt.bar(x_locations, red_probabilities)\n",
    "plt.xticks(x_locations, box_labels)\n",
    "plt.ylabel(\"Probability of getting red ball\")\n",
    "plt.title('Probability of getting red for each box');"
   ]
  },
  {
   "cell_type": "markdown",
   "id": "4d208e7d",
   "metadata": {},
   "source": [
    "Next we combine the two steps, of getting a box, and then drawing a ball.\n",
    "\n",
    "As before, we do this by multiplying the values expressed by heights in the\n",
    "first bar graph, by the values expressed by heights in the second bar graph."
   ]
  },
  {
   "cell_type": "code",
   "execution_count": null,
   "id": "c0f4932f",
   "metadata": {},
   "outputs": [],
   "source": [
    "box_and_red_probs = box_probabilities * red_probabilities\n",
    "plt.bar(x_locations, box_and_red_probs)\n",
    "plt.xticks(x_locations, box_labels)\n",
    "plt.ylabel(\"Probability of getting red ball and the given box\")\n",
    "plt.title('Probability of getting red and each box');"
   ]
  },
  {
   "cell_type": "markdown",
   "id": "9247c0c6",
   "metadata": {},
   "source": [
    "In this case, as before, where all the initial probabilities of the boxes are\n",
    "the same, this last bar graph is just the second bar graph scaled down by 1/5."
   ]
  },
  {
   "cell_type": "markdown",
   "id": "5d4803c9",
   "metadata": {},
   "source": [
    "Lastly, remember we are interested in the probability that we started with\n",
    "BOX4, given we have a red ball.\n",
    "\n",
    "To get this probability, we first take the probability of getting a red ball\n",
    "*and* BOX4.  This is the fourth bar on the graph above - 0.2 * 0.8 = 0.4.\n",
    "\n",
    "Next we divide by the overall probability of getting a red ball, which is the\n",
    "sum of the heights of the five bars above.\n",
    "\n",
    "We can do this calculation by dividing the heights of the bars above by the\n",
    "sum of the heights, so the heights of the bars now sum to 1."
   ]
  },
  {
   "cell_type": "code",
   "execution_count": null,
   "id": "6292eece",
   "metadata": {},
   "outputs": [],
   "source": [
    "# Overall probability of getting a red ball.\n",
    "np.sum(box_and_red_probs)"
   ]
  },
  {
   "cell_type": "markdown",
   "id": "af25708b",
   "metadata": {},
   "source": [
    "Here are the bars divided by this sum:"
   ]
  },
  {
   "cell_type": "code",
   "execution_count": null,
   "id": "c6099d1d",
   "metadata": {},
   "outputs": [],
   "source": [
    "box_given_red_probs = box_and_red_probs / np.sum(box_and_red_probs)\n",
    "plt.bar(x_locations, box_given_red_probs)\n",
    "plt.xticks(x_locations, box_labels)\n",
    "plt.ylabel(\"Probability of box given a red ball\")\n",
    "plt.title('Probability of initial box given red ball drawn');"
   ]
  },
  {
   "cell_type": "markdown",
   "id": "3071c3f0",
   "metadata": {},
   "source": [
    "The probability we want is the height of the fourth bar:"
   ]
  },
  {
   "cell_type": "code",
   "execution_count": null,
   "id": "755eb935",
   "metadata": {},
   "outputs": [],
   "source": [
    "box_given_red_probs[3]"
   ]
  },
  {
   "cell_type": "markdown",
   "id": "7eb74df0",
   "metadata": {},
   "source": [
    "The probability that we drew from BOX5 (given we have a red ball) is the height\n",
    "of the fifth bar:"
   ]
  },
  {
   "cell_type": "code",
   "execution_count": null,
   "id": "8faa46a4",
   "metadata": {},
   "outputs": [],
   "source": [
    "box_given_red_probs[4]"
   ]
  },
  {
   "cell_type": "markdown",
   "id": "8e5d5d01",
   "metadata": {},
   "source": [
    "We can estimate this from the simulation as well:"
   ]
  },
  {
   "cell_type": "code",
   "execution_count": null,
   "id": "42cbf008",
   "metadata": {},
   "outputs": [],
   "source": [
    "# Of the trials giving a red ball, what proportion came from box5?\n",
    "red_ball_trials = trial_results[trial_results['ball color'] == 'red']\n",
    "p_box4 = np.count_nonzero(red_ball_trials['box no'] == 5) / len(red_ball_trials)\n",
    "p_box4"
   ]
  },
  {
   "cell_type": "markdown",
   "id": "898ac81c",
   "metadata": {},
   "source": [
    "As we saw in the [Bayes bars](bayes_bars) page,\n",
    "because all the boxes have equal probability, we can skip the calculation step\n",
    "that scales by the box probability, and take the following shortcut:"
   ]
  },
  {
   "cell_type": "code",
   "execution_count": null,
   "id": "27c8dc72",
   "metadata": {
    "lines_to_next_cell": 2
   },
   "outputs": [],
   "source": [
    "# Skipping scaling by box probabilities, when probabilities are equal.\n",
    "box_given_red_probs = red_probabilities / np.sum(red_probabilities)\n",
    "# We get the same result as before.\n",
    "box_given_red_probs"
   ]
  },
  {
   "cell_type": "markdown",
   "id": "991e70bf",
   "metadata": {},
   "source": [
    "## Towards confidence"
   ]
  },
  {
   "cell_type": "markdown",
   "id": "ffbe9329",
   "metadata": {},
   "source": [
    "Now let me ask a different question.\n",
    "\n",
    "What is the probability that the red ball came from *any* of boxes 2 through\n",
    "5?"
   ]
  },
  {
   "cell_type": "markdown",
   "id": "f16e6719",
   "metadata": {},
   "source": [
    "This is just the sum of the adjusted probabilities above, for boxes 2 through\n",
    "5.  Remember the sum of all the adjusted probabilities is 1."
   ]
  },
  {
   "cell_type": "code",
   "execution_count": null,
   "id": "13e994a0",
   "metadata": {},
   "outputs": [],
   "source": [
    "np.sum(box_given_red_probs)"
   ]
  },
  {
   "cell_type": "code",
   "execution_count": null,
   "id": "ab26dda4",
   "metadata": {},
   "outputs": [],
   "source": [
    "# Probability that red ball came from any of boxes 2 through 5.\n",
    "red_from_box_2_5 = np.sum(box_given_red_probs[1:])\n",
    "red_from_box_2_5"
   ]
  },
  {
   "cell_type": "markdown",
   "id": "6bd9efd6",
   "metadata": {},
   "source": [
    "Put another way:\n",
    "\n",
    "If I draw a red ball, there is a 93% chance that the box I drew from was one of\n",
    "BOX2 through BOX5.\n",
    "\n",
    "Put yet another way:\n",
    "\n",
    "If I draw a red ball, I have 93% confidence that I have drawn from one of BOX2\n",
    "through BOX5."
   ]
  },
  {
   "cell_type": "markdown",
   "id": "f9a4951c",
   "metadata": {},
   "source": [
    "This is the logic for *Bayesian confidence intervals*.  These are sometimes\n",
    "called [credible intervals](https://en.wikipedia.org/wiki/Credible_interval).\n",
    "We can reason about plausible states of the world that led to our results.  In\n",
    "our case we can reason about which box we have drawn from (state of the\n",
    "world), given we have seen a red ball (the result)."
   ]
  },
  {
   "cell_type": "markdown",
   "id": "1093113e",
   "metadata": {},
   "source": [
    "We will soon see that we can apply this logic when we want to reason about ---\n",
    "for example --- the relationship of the mean of a sample (the result) to the\n",
    "mean for a whole population (the state of the world)."
   ]
  }
 ],
 "metadata": {
  "jupytext": {
   "notebook_metadata_filter": "all,-language_info",
   "split_at_heading": true
  },
  "kernelspec": {
   "display_name": "Python 3",
   "language": "python",
   "name": "python3"
  }
 },
 "nbformat": 4,
 "nbformat_minor": 5
}
