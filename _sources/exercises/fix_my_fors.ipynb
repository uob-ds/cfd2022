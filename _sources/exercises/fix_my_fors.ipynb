{
 "cells": [
  {
   "cell_type": "code",
   "execution_count": null,
   "id": "b57cdf87",
   "metadata": {},
   "outputs": [],
   "source": [
    "import numpy as np"
   ]
  },
  {
   "cell_type": "markdown",
   "id": "3aa51891",
   "metadata": {},
   "source": [
    "All the cells below have errors in syntax or in logic. A syntax error happens\n",
    "when the code does not correspond to Python's rules; Python generates an error\n",
    "with some information about which bit of the code caused the problem.  A logic\n",
    "error is where the code does run, but does not do what it was intended to do.\n",
    "Run the cells to see the error, and then fix them to work correctly."
   ]
  },
  {
   "cell_type": "code",
   "execution_count": null,
   "id": "7ab59a8b",
   "metadata": {
    "tags": [
     "raises-exception"
    ]
   },
   "outputs": [],
   "source": [
    "# Print the numbers 0 through 2\n",
    "for my_var in np.arange(3)\n",
    "    print(my_var)"
   ]
  },
  {
   "cell_type": "code",
   "execution_count": null,
   "id": "f88836c9",
   "metadata": {
    "tags": [
     "raises-exception"
    ]
   },
   "outputs": [],
   "source": [
    "# Add up all the numbers from 3 through 10\n",
    "total = 0\n",
    "for i in np.arange(3, 11):\n",
    "total = total + i\n",
    "print(total)"
   ]
  },
  {
   "cell_type": "code",
   "execution_count": null,
   "id": "ab6063a1",
   "metadata": {
    "tags": [
     "raises-exception"
    ]
   },
   "outputs": [],
   "source": [
    "# Print all the numbers between 5 and 9\n",
    "for p in 56789:\n",
    "    print(p)"
   ]
  },
  {
   "cell_type": "code",
   "execution_count": null,
   "id": "51525936",
   "metadata": {
    "tags": [
     "raises-exception"
    ]
   },
   "outputs": [],
   "source": [
    "# Add all numbers from 3 down to -2, inclusive\n",
    "total = 0\n",
    "for i = np.arange(3, -4, -1):\n",
    "    total = total + i\n",
    "print(total)"
   ]
  },
  {
   "cell_type": "code",
   "execution_count": null,
   "id": "70821622",
   "metadata": {
    "tags": [
     "raises-exception"
    ]
   },
   "outputs": [],
   "source": [
    "# Add up the squares of all the even numbers from -2 to 20\n",
    "total = 0\n",
    "for v in np.arange(-2, 21):\n",
    "    squared = v ** 2\n",
    "     total = total + squared\n",
    "print(total)"
   ]
  },
  {
   "cell_type": "code",
   "execution_count": null,
   "id": "41e2c770",
   "metadata": {},
   "outputs": [],
   "source": [
    "# Add all the odd numbers from 11 through 21\n",
    "total = 0\n",
    "for value in np.arange(11, 21):\n",
    "    total = total + value\n",
    "print(total)"
   ]
  },
  {
   "cell_type": "code",
   "execution_count": null,
   "id": "951f5a49",
   "metadata": {},
   "outputs": [],
   "source": [
    "# Print all the numbers starting from 100, and subtracting 7\n",
    "# up to the last positive number.  The first three\n",
    "# numbers you will print will be 100, 93, 86\n",
    "for i in np.arange(100, 7, 7):\n",
    "    print(i)"
   ]
  },
  {
   "cell_type": "code",
   "execution_count": null,
   "id": "4e25f3a7",
   "metadata": {},
   "outputs": [],
   "source": [
    "# Add every third number in the inclusive range 1 through 21\n",
    "total = 0\n",
    "for i in np.arange(1, 21):\n",
    "    total = total + 1\n",
    "print(total)"
   ]
  }
 ],
 "metadata": {
  "kernelspec": {
   "display_name": "Python 3",
   "language": "python",
   "name": "python3"
  }
 },
 "nbformat": 4,
 "nbformat_minor": 5
}
