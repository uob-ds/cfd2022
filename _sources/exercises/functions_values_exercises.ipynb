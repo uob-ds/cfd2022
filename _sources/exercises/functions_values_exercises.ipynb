{
 "cells": [
  {
   "cell_type": "markdown",
   "id": "b628bebc",
   "metadata": {},
   "source": [
    "For background, please read the [functions as\n",
    "values](../functions-conditionals/functions_as_values) page.\n",
    "\n",
    "Consider these two functions:"
   ]
  },
  {
   "cell_type": "code",
   "execution_count": null,
   "id": "1a448e69",
   "metadata": {},
   "outputs": [],
   "source": [
    "def add(a, b):\n",
    "    return a + b"
   ]
  },
  {
   "cell_type": "code",
   "execution_count": null,
   "id": "4c9e8e29",
   "metadata": {},
   "outputs": [],
   "source": [
    "def sub(a, b):\n",
    "    return a - b"
   ]
  },
  {
   "cell_type": "markdown",
   "id": "f7b594d7",
   "metadata": {},
   "source": [
    "Here's `add` in action:"
   ]
  },
  {
   "cell_type": "code",
   "execution_count": null,
   "id": "d1c06911",
   "metadata": {},
   "outputs": [],
   "source": [
    "add(4, 1)"
   ]
  },
  {
   "cell_type": "markdown",
   "id": "9342aef8",
   "metadata": {},
   "source": [
    "Here's `sub` in action:"
   ]
  },
  {
   "cell_type": "code",
   "execution_count": null,
   "id": "088e16d2",
   "metadata": {},
   "outputs": [],
   "source": [
    "sub(4, 1)"
   ]
  },
  {
   "cell_type": "markdown",
   "id": "8c738ab3",
   "metadata": {},
   "source": [
    "There's some code below, that will error, because the assignment\n",
    "statement does not set `func` to have the value we need. Set `func`\n",
    "correctly so the result equals 2:"
   ]
  },
  {
   "cell_type": "code",
   "execution_count": null,
   "id": "3689f699",
   "metadata": {
    "tags": [
     "raises-exception"
    ]
   },
   "outputs": [],
   "source": [
    "func = add\n",
    "func(10, 8)"
   ]
  },
  {
   "cell_type": "markdown",
   "id": "7258a2cf",
   "metadata": {},
   "source": [
    "Set `my_func1` and `my_func2` in the code fragment below, so that the\n",
    "result is 12:"
   ]
  },
  {
   "cell_type": "code",
   "execution_count": null,
   "id": "c3899a9f",
   "metadata": {
    "tags": [
     "raises-exception"
    ]
   },
   "outputs": [],
   "source": [
    "my_func1 = # Your code here\n",
    "my_func2 = # Your code here\n",
    "my_func1(8, 2) + my_func2(3, 3)"
   ]
  },
  {
   "cell_type": "markdown",
   "id": "71cb30c3",
   "metadata": {},
   "source": [
    "Here is a function that takes three arguments.  The first, called `f`,\n",
    "should be set to a function value \\- that is, a value that is the\n",
    "internal representation of a function.  The second and third values, called `x` and `y`, should set to be number values."
   ]
  },
  {
   "cell_type": "code",
   "execution_count": null,
   "id": "57dd5f6e",
   "metadata": {},
   "outputs": [],
   "source": [
    "def do_it(f, x, y):\n",
    "    return f(x, y)"
   ]
  },
  {
   "cell_type": "markdown",
   "id": "7a56e718",
   "metadata": {},
   "source": [
    "Set `another_func` so the result returned is 4:"
   ]
  },
  {
   "cell_type": "code",
   "execution_count": null,
   "id": "0616745c",
   "metadata": {
    "tags": [
     "raises-exception"
    ]
   },
   "outputs": [],
   "source": [
    "another_func = # Your code here\n",
    "do_it(another_func, 1, 3)"
   ]
  }
 ],
 "metadata": {
  "jupyterbook": {
   "run": false
  },
  "jupytext": {
   "notebook_metadata_filter": "all,-language_info"
  },
  "kernelspec": {
   "display_name": "Python 3",
   "language": "python",
   "name": "python3"
  }
 },
 "nbformat": 4,
 "nbformat_minor": 5
}
