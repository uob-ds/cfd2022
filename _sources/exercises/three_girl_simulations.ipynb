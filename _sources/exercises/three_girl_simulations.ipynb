{
 "cells": [
  {
   "cell_type": "markdown",
   "id": "d3f6898c",
   "metadata": {},
   "source": [
    "# Exercises on the three-girl simulation problem\n",
    "\n",
    "These exercises follow on from the three girls solution in [filling\n",
    "arrays](../arrays/filling_arrays), and the [reply to the Supreme\n",
    "Court](../iteration/reply_supreme).\n",
    "\n",
    "You may want to refer back to those pages for inspiration.\n",
    "\n",
    "Run this cell first:"
   ]
  },
  {
   "cell_type": "code",
   "execution_count": null,
   "id": "ffebaeac",
   "metadata": {},
   "outputs": [],
   "source": [
    "# Load the Numpy package, and rename to \"np\"\n",
    "import numpy as np"
   ]
  },
  {
   "cell_type": "markdown",
   "id": "4799fcbb",
   "metadata": {},
   "source": [
    "## Three girls in a family of four\n",
    "\n",
    "Remember the solution to this problem, from [filling arrays](../arrays/filling_arrays):"
   ]
  },
  {
   "cell_type": "code",
   "execution_count": null,
   "id": "b2550490",
   "metadata": {},
   "outputs": [],
   "source": [
    "# Reset the counts array to empty (all zeros)\n",
    "counts = np.zeros(10000)\n",
    "\n",
    "# Repeat the indented stuff 10000 times.\n",
    "for i in np.arange(10000):\n",
    "    # The procedure for one family.\n",
    "    family = np.random.randint(0, 2, size=4)\n",
    "    count = np.sum(family)\n",
    "    # Fill in the corresponding value in the counts array.\n",
    "    counts[i] = count\n",
    "\n",
    "# Proportion\n",
    "prop_3_girls = np.count_nonzero(counts == 3) / 10000\n",
    "prop_3_girls"
   ]
  },
  {
   "cell_type": "markdown",
   "id": "b9e71528",
   "metadata": {},
   "source": [
    "## No girls in a family of four\n",
    "\n",
    "Estimate the chances that a 4-child family will have no girls.  You can copy the code from the cell above, and modify it, or you may be able to use variables from the code above, to get the answer, without repeating the simulation."
   ]
  },
  {
   "cell_type": "code",
   "execution_count": null,
   "id": "07691e01",
   "metadata": {},
   "outputs": [],
   "source": [
    "# Show proportion with 0 girls.\n",
    "# Your code below"
   ]
  },
  {
   "cell_type": "markdown",
   "id": "f97defdb",
   "metadata": {},
   "source": [
    "For extra points - the answer above is easier to work out with\n",
    "probability than the chance of three girls.  What's the exact answer, from probability?"
   ]
  },
  {
   "cell_type": "markdown",
   "id": "7946a4ea",
   "metadata": {},
   "source": [
    "Edit this code cell to give your answer."
   ]
  },
  {
   "cell_type": "markdown",
   "id": "02b247a5",
   "metadata": {},
   "source": [
    "## Three girls in a family of five\n",
    "\n",
    "Simulate the chances that a family with 5 children will have\n",
    "exactly 3 girls."
   ]
  },
  {
   "cell_type": "code",
   "execution_count": null,
   "id": "e1d61189",
   "metadata": {
    "lines_to_next_cell": 2
   },
   "outputs": [],
   "source": [
    "# Simulate 10000 families of 5 children.\n",
    "# Show proportion with 3 girls.\n",
    "# Your code below"
   ]
  },
  {
   "cell_type": "markdown",
   "id": "4804ecf2",
   "metadata": {},
   "source": [
    "## Three or fewer girls in a family of five\n",
    "\n",
    "Simulate the chances that a family with 5 children will have 3 or\n",
    "fewer girls.\n",
    "\n",
    "Hint: you may remember from the [Comparison page](../data-types/Comparison) that `<=`\n",
    "tests whether the thing on the left is *less than or equal to* the thing on\n",
    "the right."
   ]
  },
  {
   "cell_type": "code",
   "execution_count": null,
   "id": "b2fa8f00",
   "metadata": {},
   "outputs": [],
   "source": [
    "3 <= 4"
   ]
  },
  {
   "cell_type": "code",
   "execution_count": null,
   "id": "a3a8d89a",
   "metadata": {},
   "outputs": [],
   "source": [
    "3 <= 3"
   ]
  },
  {
   "cell_type": "code",
   "execution_count": null,
   "id": "122a907a",
   "metadata": {},
   "outputs": [],
   "source": [
    "3 <= 2"
   ]
  },
  {
   "cell_type": "code",
   "execution_count": null,
   "id": "5d50d39d",
   "metadata": {},
   "outputs": [],
   "source": [
    "my_array = np.array([1, 2, 3, 4])\n",
    "my_array <= 2"
   ]
  },
  {
   "cell_type": "markdown",
   "id": "d8bc71a5",
   "metadata": {},
   "source": [
    "Hints done, now:"
   ]
  },
  {
   "cell_type": "code",
   "execution_count": null,
   "id": "a50e7889",
   "metadata": {},
   "outputs": [],
   "source": [
    "# Simulate 10000 families of 5 children.\n",
    "# Show the proportion of families of 5 children with 3 or fewer girls.\n",
    "# Your code below"
   ]
  },
  {
   "cell_type": "markdown",
   "id": "f9b78ca3",
   "metadata": {},
   "source": [
    "## More realistic simulation\n",
    "\n",
    "Now we are back to the situation of exactly 3 girls in a family of 4.\n",
    "\n",
    "In fact, when you have a child, the probability of having a girl\n",
    "is slightly less than 0.5.\n",
    "\n",
    "In fact, the [proportion of boys born in the\n",
    "UK](https://www.gov.uk/government/statistics/gender-ratios-at-birth-in-great-britain-2010-to-2014)\n",
    "is 0.513.  Hence the proportion of girls is 1-0.513 = 0.487.\n",
    "\n",
    "With that probability of having a girl, what are the chances of having exactly three girls in a family of four?\n",
    "\n",
    "Hint 1: you may want to use `np.random.uniform`.  Check the help with `np.random.uniform?` followed by Shift-Enter in a new cell.  It works like this:"
   ]
  },
  {
   "cell_type": "code",
   "execution_count": null,
   "id": "9839c033",
   "metadata": {},
   "outputs": [],
   "source": [
    "# An array of four random numbers between 0 and 1.\n",
    "np.random.uniform(0, 1, size=4)"
   ]
  },
  {
   "cell_type": "markdown",
   "id": "c631cc9a",
   "metadata": {},
   "source": [
    "Hint 2: Let's say I have a random number `x` between 0 and 1:"
   ]
  },
  {
   "cell_type": "code",
   "execution_count": null,
   "id": "1a930dc5",
   "metadata": {},
   "outputs": [],
   "source": [
    "x = np.random.uniform(0, 1)\n",
    "x"
   ]
  },
  {
   "cell_type": "markdown",
   "id": "c20d6e73",
   "metadata": {},
   "source": [
    "The probability that that `x` will be less than - say - 0.25, is 0.25."
   ]
  },
  {
   "cell_type": "code",
   "execution_count": null,
   "id": "18106664",
   "metadata": {},
   "outputs": [],
   "source": [
    "# Simulate 10000 familes of 4 children.\n",
    "chance_of_girl = 0.487\n",
    "# Estimate chance of having exactly 3 girls.\n",
    "# Your code here"
   ]
  }
 ],
 "metadata": {
  "jupytext": {
   "split_at_heading": true
  },
  "kernelspec": {
   "display_name": "Python 3",
   "language": "python",
   "name": "python3"
  }
 },
 "nbformat": 4,
 "nbformat_minor": 5
}
