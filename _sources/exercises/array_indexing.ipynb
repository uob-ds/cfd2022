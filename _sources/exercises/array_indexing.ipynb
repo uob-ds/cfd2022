{
 "cells": [
  {
   "cell_type": "markdown",
   "id": "3cd0c2f7",
   "metadata": {},
   "source": [
    "# Array indexing exercises\n",
    "\n",
    "These exercises follow on from the [array indexing page](../arrays/array_indexing).\n",
    "\n",
    "Run this cell to start:"
   ]
  },
  {
   "cell_type": "code",
   "execution_count": null,
   "id": "a3f164c7",
   "metadata": {},
   "outputs": [],
   "source": [
    "import numpy as np"
   ]
  },
  {
   "cell_type": "markdown",
   "id": "a8bdcc9c",
   "metadata": {},
   "source": [
    "So far we have seen arrays that contain numbers. Here is an\n",
    "array that contains strings:"
   ]
  },
  {
   "cell_type": "code",
   "execution_count": null,
   "id": "fbf1d0d7",
   "metadata": {},
   "outputs": [],
   "source": [
    "some_words = np.array(['to', 'be', 'or', 'not', 'to', 'be'])\n",
    "some_words"
   ]
  },
  {
   "cell_type": "markdown",
   "id": "2b8e2b02",
   "metadata": {},
   "source": [
    "## Indexing with integers\n",
    "\n",
    "Use indexing with integers to display the first word in\n",
    "`some_words`."
   ]
  },
  {
   "cell_type": "code",
   "execution_count": null,
   "id": "f1f1cb45",
   "metadata": {},
   "outputs": [],
   "source": [
    "# Your code here"
   ]
  },
  {
   "cell_type": "markdown",
   "id": "3d7ec0c4",
   "metadata": {},
   "source": [
    "Use indexing with integers to display the word \"not\"."
   ]
  },
  {
   "cell_type": "code",
   "execution_count": null,
   "id": "8a1039cd",
   "metadata": {},
   "outputs": [],
   "source": [
    "# Your code here"
   ]
  },
  {
   "cell_type": "markdown",
   "id": "8c0e22c9",
   "metadata": {},
   "source": [
    "Here is a Boolean array that has `True` where the word in the matching position of `some_words` is \"be\":"
   ]
  },
  {
   "cell_type": "code",
   "execution_count": null,
   "id": "08f9ea0e",
   "metadata": {},
   "outputs": [],
   "source": [
    "bees = some_words == 'be'\n",
    "bees"
   ]
  },
  {
   "cell_type": "markdown",
   "id": "a576f401",
   "metadata": {},
   "source": [
    "Use Boolean indexing to show an array with the two instances of \"be\" from `some_words`.\n"
   ]
  },
  {
   "cell_type": "code",
   "execution_count": null,
   "id": "6f496714",
   "metadata": {},
   "outputs": [],
   "source": [
    "# Your code here"
   ]
  },
  {
   "cell_type": "markdown",
   "id": "fe68fb1b",
   "metadata": {},
   "source": [
    "Use Boolean indexing to show an array with the two instances of \"to\" from `some_words`."
   ]
  },
  {
   "cell_type": "code",
   "execution_count": null,
   "id": "4f877dd0",
   "metadata": {},
   "outputs": [],
   "source": [
    "# Your code here"
   ]
  },
  {
   "cell_type": "markdown",
   "id": "e40cf379",
   "metadata": {},
   "source": [
    "Use Boolean indexing to show an array with the single instance\n",
    "of \"not\" from `some_words`."
   ]
  },
  {
   "cell_type": "code",
   "execution_count": null,
   "id": "1e3b4f37",
   "metadata": {},
   "outputs": [],
   "source": [
    "# Your code here"
   ]
  }
 ],
 "metadata": {
  "jupytext": {
   "notebook_metadata_filter": "language_info"
  },
  "kernelspec": {
   "display_name": "Python 3",
   "language": "python",
   "name": "python3"
  },
  "language_info": {
   "codemirror_mode": {
    "name": "ipython",
    "version": 3
   },
   "file_extension": ".py",
   "mimetype": "text/x-python",
   "name": "python",
   "nbconvert_exporter": "python",
   "pygments_lexer": "ipython3",
   "version": "3.7.1"
  }
 },
 "nbformat": 4,
 "nbformat_minor": 5
}
