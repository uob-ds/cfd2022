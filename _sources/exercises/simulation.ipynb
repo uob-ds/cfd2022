{
 "cells": [
  {
   "cell_type": "markdown",
   "id": "366a2888",
   "metadata": {},
   "source": [
    "# Simulation exercises"
   ]
  },
  {
   "cell_type": "code",
   "execution_count": null,
   "id": "263f9115",
   "metadata": {
    "lines_to_next_cell": 2
   },
   "outputs": [],
   "source": [
    "import numpy as np"
   ]
  },
  {
   "cell_type": "markdown",
   "id": "df46de4f",
   "metadata": {},
   "source": [
    "## Penalty shootout technique\n",
    "\n",
    "Jen is the penalty taker for her football team.\n",
    "\n",
    "She's been doing this for a long time.  She thinks she normally has a 80%\n",
    "chance of scoring.\n",
    "\n",
    "In the last 15 penalties she has taken, she has been trying a new technique.\n",
    "She scored on all 15 penalties.\n",
    "\n",
    "How certain can she be that this would not have happened, using the old\n",
    "technique?"
   ]
  },
  {
   "cell_type": "markdown",
   "id": "28fa7cb4",
   "metadata": {},
   "source": [
    "## Aim big\n",
    "\n",
    "John is playing Monopoly.  His piece, the top hat, is sitting in a really bad\n",
    "spot, just in front of some expensive hotels.  He is about to roll the two\n",
    "6-sided die.  He needs a score of 10 or more to skip over the hotels.  What are\n",
    "John's chances?\n",
    "\n",
    "Solve by simulation.\n",
    "\n",
    "Hint: consider `np.random.randint`.  Read the help with `np.random.randint?`."
   ]
  },
  {
   "cell_type": "markdown",
   "id": "0547faca",
   "metadata": {},
   "source": [
    "## Blackjack\n",
    "\n",
    "Given any three random playing cards, what is the chance that the ranks of the\n",
    "three cards add up to 21?\n",
    "\n",
    "10, jack, queen and king all count as 10.  For example, one way of getting 21\n",
    "is a seven, a four and a king."
   ]
  },
  {
   "cell_type": "markdown",
   "id": "7512e4b3",
   "metadata": {},
   "source": [
    "### Simple version\n",
    "\n",
    "Assume the three cards are each dealt from the top of a full shuffled deck.\n",
    "Therefore, the procedure is:\n",
    "\n",
    "* you shuffle, look at the top card, record the rank, you put it back.\n",
    "* repeat twice more.\n",
    "\n",
    "Assume that the ace counts as 1.  What are the chances of getting\n",
    "a total rank of 21?\n",
    "\n",
    "Hint: start with this array:"
   ]
  },
  {
   "cell_type": "code",
   "execution_count": null,
   "id": "fe9571e0",
   "metadata": {},
   "outputs": [],
   "source": [
    "ranks = np.array([1, 2, 3, 4, 5, 6, 7, 8, 9, 10, 10, 10, 10])"
   ]
  },
  {
   "cell_type": "markdown",
   "id": "71f83497",
   "metadata": {},
   "source": [
    "Investigate `np.random.choice` to use this array for the problem."
   ]
  },
  {
   "cell_type": "markdown",
   "id": "76928758",
   "metadata": {},
   "source": [
    "## Less simple version\n",
    "\n",
    "Assume the cards are drawn as they were for the problem above.\n",
    "\n",
    "Now the ace can count as 1 or as 11, whichever gives a total of 21.  Now what are the chances of a total rank of 21?\n",
    "\n",
    "Hint: you can change values of 1 to 11 like this:"
   ]
  },
  {
   "cell_type": "code",
   "execution_count": null,
   "id": "db9c50b0",
   "metadata": {},
   "outputs": [],
   "source": [
    "# Make an example array\n",
    "some_cards = np.array([1, 3, 5, 1, 2, 10, 1, 4])\n",
    "some_cards"
   ]
  },
  {
   "cell_type": "code",
   "execution_count": null,
   "id": "81ea20dd",
   "metadata": {},
   "outputs": [],
   "source": [
    "# Make a Boolean array that has True for positions where some_cards == 1\n",
    "card_eq_1 = some_cards == 1\n",
    "card_eq_1"
   ]
  },
  {
   "cell_type": "code",
   "execution_count": null,
   "id": "103b532a",
   "metadata": {},
   "outputs": [],
   "source": [
    "# In the found positions, change the value to 11\n",
    "some_cards[card_eq_1] = 11\n",
    "some_cards"
   ]
  },
  {
   "cell_type": "markdown",
   "id": "1fbf1b78",
   "metadata": {},
   "source": [
    "You might want to use this kind of trick more than once in your solution."
   ]
  }
 ],
 "metadata": {
  "jupytext": {
   "split_at_heading": true
  },
  "kernelspec": {
   "display_name": "Python 3",
   "language": "python",
   "name": "python3"
  }
 },
 "nbformat": 4,
 "nbformat_minor": 5
}
