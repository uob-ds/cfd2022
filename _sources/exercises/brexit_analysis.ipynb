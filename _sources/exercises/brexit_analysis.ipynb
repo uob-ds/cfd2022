{
 "cells": [
  {
   "cell_type": "markdown",
   "id": "c3cd850e",
   "metadata": {},
   "source": [
    "# Brexit - the data analysis\n",
    "\n",
    "We start, as usual, by importing all the libraries we need."
   ]
  },
  {
   "cell_type": "code",
   "execution_count": null,
   "id": "d3fde46e",
   "metadata": {},
   "outputs": [],
   "source": [
    "import numpy as np\n",
    "import matplotlib.pyplot as plt\n",
    "%matplotlib inline\n",
    "\n",
    "# Fancy plots\n",
    "plt.style.use('fivethirtyeight')\n",
    "\n",
    "# Data frame library\n",
    "import pandas as pd"
   ]
  },
  {
   "cell_type": "markdown",
   "id": "609d1ff0",
   "metadata": {},
   "source": [
    "See the [Brexit survey](../data/brexit_survey) for details on the survey data.\n",
    "\n",
    "If you are running on your laptop, first {download}`download the data file\n",
    "<../data/audit_of_political_engagement_14_2017.tab>` to the same directory as\n",
    "this notebook.\n",
    "\n",
    "In the moment, we are going to try and analyze these data.  We will focus on\n",
    "two questions labeled `cut15` and `numage`.  `cut15` is the question about\n",
    "Brexit. The data dictionary has the *variable label* “CUT15 - How did you vote\n",
    "on the question ‘Should the United Kingdom remain a member of the European\n",
    "Union or leave the European Union’?”.  The recorded values run from 1 through\n",
    "6 and have the following labels:\n",
    "\n",
    "```\n",
    "Value label information for cut15\n",
    "Value = 1.0    Label = Remain a member of the European Union\n",
    "Value = 2.0    Label = Leave the European Union\n",
    "Value = 3.0    Label = Did not vote\n",
    "Value = 4.0    Label = Too young\n",
    "Value = 5.0    Label = Can't remember\n",
    "Value = 6.0    Label = Refused\n",
    "```\n",
    "\n",
    "We also want the variable `numage`; this is the age of the respondent in years."
   ]
  },
  {
   "cell_type": "markdown",
   "id": "2dd8dde4",
   "metadata": {},
   "source": [
    "The data file is `audit_of_political_engagement_14_2017.tab`.  The cell below\n",
    "loads the data file into memory with Pandas.  Notice the `.tab` extension for\n",
    "this file.  This file is just like the `.csv` (Comma Separated Values) files\n",
    "you have already seen, but the values are separated by a different character.\n",
    "Instead of being separated by commas - `,` - they are separated by a character\n",
    "called Tab.  We tell Pandas about this in the cell below."
   ]
  },
  {
   "cell_type": "code",
   "execution_count": null,
   "id": "9a743157",
   "metadata": {},
   "outputs": [],
   "source": [
    "# Load the data frame, and put it in the variable \"audit_data\"\n",
    "# The values are SEParated by Tabs - \\t in the code below.\n",
    "audit_data = pd.read_csv('audit_of_political_engagement_14_2017.tab',\n",
    "                         sep='\\t')\n",
    "# Show the first 5 rows.\n",
    "audit_data.head()"
   ]
  },
  {
   "cell_type": "markdown",
   "id": "8d0a6dfc",
   "metadata": {},
   "source": [
    "As you know, we now have a *data frame*:"
   ]
  },
  {
   "cell_type": "code",
   "execution_count": null,
   "id": "54911e21",
   "metadata": {},
   "outputs": [],
   "source": [
    "type(audit_data)"
   ]
  },
  {
   "cell_type": "markdown",
   "id": "1164a9d4",
   "metadata": {},
   "source": [
    "The data frame has one row per person surveyed, and one column for each\n",
    "question in the survey.  The columns have kind-of helpful names that you can\n",
    "read about in the data dictionary:"
   ]
  },
  {
   "cell_type": "code",
   "execution_count": null,
   "id": "586bae05",
   "metadata": {},
   "outputs": [],
   "source": [
    "audit_data"
   ]
  },
  {
   "cell_type": "markdown",
   "id": "c5d4d830",
   "metadata": {},
   "source": [
    "The data frame has columns for all the questions listed in the data\n",
    "dictionary:"
   ]
  },
  {
   "cell_type": "code",
   "execution_count": null,
   "id": "968685b0",
   "metadata": {},
   "outputs": [],
   "source": [
    "audit_data.columns"
   ]
  },
  {
   "cell_type": "markdown",
   "id": "a9c684bd",
   "metadata": {},
   "source": [
    "To reduce clutter, we first make a new data frame that just has the two\n",
    "questions we are interested in:\n"
   ]
  },
  {
   "cell_type": "code",
   "execution_count": null,
   "id": "80f2e32c",
   "metadata": {},
   "outputs": [],
   "source": [
    "# Select the age and Brexit vote questions only\n",
    "mini_brexit = pd.DataFrame()\n",
    "mini_brexit['numage'] = audit_data['numage']\n",
    "mini_brexit['cut15'] = audit_data['cut15']\n",
    "mini_brexit"
   ]
  },
  {
   "cell_type": "markdown",
   "id": "bca1140b",
   "metadata": {},
   "source": [
    "To get started on exploring, we make a new variable `ages` that refers\n",
    "to the `numage` column in the `mini_brexit` data frame."
   ]
  },
  {
   "cell_type": "code",
   "execution_count": null,
   "id": "7c8a64e5",
   "metadata": {},
   "outputs": [],
   "source": [
    "# Make a new variable \"ages\" that refers to the \"numage\" column in \"mini_brexit\"\n",
    "ages = mini_brexit[\"numage\"]"
   ]
  },
  {
   "cell_type": "markdown",
   "id": "c87fea24",
   "metadata": {},
   "source": [
    "Confirm that `ages` has a value of type `Series`, the Pandas type for a column of a data frame:"
   ]
  },
  {
   "cell_type": "code",
   "execution_count": null,
   "id": "f9899a40",
   "metadata": {},
   "outputs": [],
   "source": [
    "type(ages)"
   ]
  },
  {
   "cell_type": "markdown",
   "id": "f7430489",
   "metadata": {},
   "source": [
    "Here are the numbers of rows, columns in the original data frame:"
   ]
  },
  {
   "cell_type": "code",
   "execution_count": null,
   "id": "183e9014",
   "metadata": {},
   "outputs": [],
   "source": [
    "audit_data.shape"
   ]
  },
  {
   "cell_type": "markdown",
   "id": "cbb7b657",
   "metadata": {},
   "source": [
    "Run the cell below to confirm that `ages` has the same number of values, as\n",
    "`audit_data` has rows.  To do this, we can use the `len` function, as applied\n",
    "to the `ages` Series.  It returns the number of values."
   ]
  },
  {
   "cell_type": "code",
   "execution_count": null,
   "id": "5ddc649d",
   "metadata": {},
   "outputs": [],
   "source": [
    "len(ages)"
   ]
  },
  {
   "cell_type": "markdown",
   "id": "754d79c0",
   "metadata": {},
   "source": [
    "In fact, `len`, as applied to the *data frame*, returns the number of rows:"
   ]
  },
  {
   "cell_type": "code",
   "execution_count": null,
   "id": "c00f1ccd",
   "metadata": {},
   "outputs": [],
   "source": [
    "len(audit_data)"
   ]
  },
  {
   "cell_type": "markdown",
   "id": "e9082a6d",
   "metadata": {},
   "source": [
    "Start by doing a histogram of the values in `ages` (which are also the values\n",
    "in the `numage` column of `mini_brexit`).  If you can't remember how to do\n",
    "histograms, have a look at the [introduction to data\n",
    "frames](../data-frames/data_frame_intro) notebook.   Hint: consider using the `hist`\n",
    "method of the `ages` variable."
   ]
  },
  {
   "cell_type": "code",
   "execution_count": null,
   "id": "78cf5002",
   "metadata": {},
   "outputs": [],
   "source": [
    "# Do a histogram of the values in the \"numage\" column.\n",
    "# Your code here."
   ]
  },
  {
   "cell_type": "markdown",
   "id": "1934da00",
   "metadata": {},
   "source": [
    "You will see that a few subjects have an age of 0.\n",
    "\n",
    "It looks as if the survey coders are using the value 0 to mean that the person\n",
    "did not state their age.  We will have to clean that up.  We do that by\n",
    "selecting the cases that have ages not equal to 0."
   ]
  },
  {
   "cell_type": "markdown",
   "id": "6d330c66",
   "metadata": {},
   "source": [
    "Hint:  You have seen the operator to say whether two values are equal or no:"
   ]
  },
  {
   "cell_type": "code",
   "execution_count": null,
   "id": "dcd2aa01",
   "metadata": {},
   "outputs": [],
   "source": [
    "1 == 2"
   ]
  },
  {
   "cell_type": "code",
   "execution_count": null,
   "id": "345b6a79",
   "metadata": {},
   "outputs": [],
   "source": [
    "2 == 2"
   ]
  },
  {
   "cell_type": "markdown",
   "id": "77534567",
   "metadata": {},
   "source": [
    "The operator for *not equal* is `!=`, as in:"
   ]
  },
  {
   "cell_type": "code",
   "execution_count": null,
   "id": "8b65ae26",
   "metadata": {},
   "outputs": [],
   "source": [
    "1 != 2"
   ]
  },
  {
   "cell_type": "markdown",
   "id": "0605673b",
   "metadata": {},
   "source": [
    "Prepare for brain-bending double negative..."
   ]
  },
  {
   "cell_type": "code",
   "execution_count": null,
   "id": "87dedbf9",
   "metadata": {},
   "outputs": [],
   "source": [
    "2 != 2"
   ]
  },
  {
   "cell_type": "markdown",
   "id": "dc6a92f2",
   "metadata": {},
   "source": [
    "To identify the values in `ages` that are *not equal* to 0, use the comparison\n",
    "I've hinted at above, to make a new variable, `age_not_0`, that has the same\n",
    "number of values as `ages`, and has `True` at positions where `ages` is *not\n",
    "equal* to 0, and `False` otherwise.   We will refer to these sequences of True\n",
    "and False values, as *Boolean vectors*.\n",
    "\n",
    "Check back to the [introduction to data frames](../data-frames/data_frame_intro)\n",
    "notebook for a reminder of making and using Boolean vectors to select rows from\n",
    "data frames."
   ]
  },
  {
   "cell_type": "code",
   "execution_count": null,
   "id": "c29a3b4b",
   "metadata": {},
   "outputs": [],
   "source": [
    "# Create new variable \"age_not_0\", with True at positions where \"ages\" is not\n",
    "# equal to 0, and False otherwise.\n",
    "# age_not_0 = ?"
   ]
  },
  {
   "cell_type": "markdown",
   "id": "c838f7f8",
   "metadata": {},
   "source": [
    "Use `age_not_0` to select rows in the `mini_brexit` data frame where the value\n",
    "is `True`, and throw away the rows where the value is `False`.  To do this, index into the data frame with the Boolean Series you created above."
   ]
  },
  {
   "cell_type": "code",
   "execution_count": null,
   "id": "ed442ecb",
   "metadata": {},
   "outputs": [],
   "source": [
    "# Select rows in the data frame where the age is not equal to 0.\n",
    "# Make a new data # frame called \"good_brexit\" that only contains these rows. \n",
    "# good_brexit = ...\n"
   ]
  },
  {
   "cell_type": "markdown",
   "id": "8a40bbd7",
   "metadata": {},
   "source": [
    "Now we want to ask what proportion of the respondents said that they voted\n",
    "Remain or Leave.\n",
    "\n",
    "First we make a new data frame that contains only the rows for people who said\n",
    "they voted No in the referendum (remain).  Remember, from the data dictionary,\n",
    "that 1 is the code for a No vote.\n",
    "\n",
    "First, make a new variable `votes` that has the values of `cut15` column of the\n",
    "`good_brexit` data frame."
   ]
  },
  {
   "cell_type": "code",
   "execution_count": null,
   "id": "73e0be4e",
   "metadata": {},
   "outputs": [],
   "source": [
    "# Make a new variable \"votes\" that refers to the \"cut15\" column in \"good_brexit\".\n",
    "# Your code will start with\n",
    "# votes = ?\n"
   ]
  },
  {
   "cell_type": "markdown",
   "id": "1ceb5cad",
   "metadata": {},
   "source": [
    "Now make a new Boolean vector, that has True at the positions where `votes` is\n",
    "equal to 1, and False otherwise.  Call this variable `is_remain`."
   ]
  },
  {
   "cell_type": "code",
   "execution_count": null,
   "id": "475c7103",
   "metadata": {},
   "outputs": [],
   "source": [
    "# Make a Boolean vector, called \"is_remain\", that True for Remain row, False\n",
    "# otherwise.\n",
    "# is_remain = ?\n"
   ]
  },
  {
   "cell_type": "markdown",
   "id": "8f1df064",
   "metadata": {},
   "source": [
    "Next, use `is_remain` to select the rows in `good_brexit` that correspond to\n",
    "confessed \"Remain\" voters.  Call the new data frame `remainers`:"
   ]
  },
  {
   "cell_type": "code",
   "execution_count": null,
   "id": "ac15496e",
   "metadata": {},
   "outputs": [],
   "source": [
    "# Select the rows from \"good_brexit\" that correspond to Remain voters\n",
    "# remainers = good_brexit?\n"
   ]
  },
  {
   "cell_type": "markdown",
   "id": "fac466c4",
   "metadata": {},
   "source": [
    "Do a histogram of the values in the `numage` column of `remainers`:"
   ]
  },
  {
   "cell_type": "code",
   "execution_count": null,
   "id": "4eddb106",
   "metadata": {},
   "outputs": [],
   "source": [
    "# Show a histogram of the `numage` column from `remainers`"
   ]
  },
  {
   "cell_type": "markdown",
   "id": "207c0a62",
   "metadata": {},
   "source": [
    "Next, go through the same steps, to make a new data frame for those who claimed\n",
    "to vote Yes (leave) (code 2):"
   ]
  },
  {
   "cell_type": "code",
   "execution_count": null,
   "id": "8af8e599",
   "metadata": {},
   "outputs": [],
   "source": [
    "# Make a Boolean vector, called \"is_leave\", that True for Leave row, False\n",
    "# otherwise.\n",
    "# is_leave = ?\n"
   ]
  },
  {
   "cell_type": "markdown",
   "id": "b76e44be",
   "metadata": {},
   "source": [
    "Next, use `is_leave` to select the rows in `good_brexit` that correspond to confessed \"Leave\" voters.  Call the new data frame `leavers`:"
   ]
  },
  {
   "cell_type": "code",
   "execution_count": null,
   "id": "e0bfe28b",
   "metadata": {},
   "outputs": [],
   "source": [
    "# Select the rows from \"good_brexit\" that correspond to Leave voters\n",
    "# leavers = good_brexit?\n"
   ]
  },
  {
   "cell_type": "markdown",
   "id": "d344c96d",
   "metadata": {},
   "source": [
    "Do a histogram of the values in the `numage` column of `leavers`:"
   ]
  },
  {
   "cell_type": "code",
   "execution_count": null,
   "id": "cbac0a35",
   "metadata": {},
   "outputs": [],
   "source": [
    "# Show a histgram of the `numage` column from `remainers`\n"
   ]
  },
  {
   "cell_type": "markdown",
   "id": "8808dd03",
   "metadata": {},
   "source": [
    "Uncomment the lines in the cell below to get the total number of Remain voters:"
   ]
  },
  {
   "cell_type": "code",
   "execution_count": null,
   "id": "e4e58c40",
   "metadata": {},
   "outputs": [],
   "source": [
    "# n_remain = len(remainers)\n",
    "# n_remain"
   ]
  },
  {
   "cell_type": "markdown",
   "id": "76262239",
   "metadata": {},
   "source": [
    "Here is the total number of Leave voters:"
   ]
  },
  {
   "cell_type": "code",
   "execution_count": null,
   "id": "72cbedff",
   "metadata": {},
   "outputs": [],
   "source": [
    "# n_leave = len(leavers)\n",
    "# n_leave"
   ]
  },
  {
   "cell_type": "markdown",
   "id": "12f7a86d",
   "metadata": {},
   "source": [
    "Here is the total number of voters who confessed to a specific Leave or Remain vote:"
   ]
  },
  {
   "cell_type": "code",
   "execution_count": null,
   "id": "07a4194d",
   "metadata": {},
   "outputs": [],
   "source": [
    "# n_total = n_leave + n_remain\n",
    "# n_total"
   ]
  },
  {
   "cell_type": "markdown",
   "id": "4da6c9a2",
   "metadata": {},
   "source": [
    "Here is the proportion of Leave voters:"
   ]
  },
  {
   "cell_type": "code",
   "execution_count": null,
   "id": "4f970014",
   "metadata": {},
   "outputs": [],
   "source": [
    "# leave_proportion = n_leave / n_total\n",
    "# leave_proportion"
   ]
  },
  {
   "cell_type": "markdown",
   "id": "f65caa26",
   "metadata": {},
   "source": [
    "As you remember, the proportion of Leave voters in the referendum was 51.9%.\n",
    "`leave_proportion` from the survey seems a way off.  Is it too far off?\n",
    "\n",
    "You go back to the survey company and tell them that the proportion of Leave voters seems too low.\n",
    "\n",
    "They say the following:\n",
    "\n",
    "> We took a random sample of the population.  You are a data scientist, you\n",
    "> know well that the proportion from this random sample is very unlikely to be\n",
    "> exactly the same as the proportion in the whole population.  The proportion\n",
    "> we get is compatible with the variation we expect from taking a random sample.\n",
    ">\n",
    "> In other words - the difference in the proportions, between the referendum\n",
    "> and the survey, is due to sampling error.\n",
    "\n",
    "Time for a simulation.\n",
    "\n",
    "The null hypothesis offered by the survey company is that the proportion we saw\n",
    "above is a plausible value if we took a random sample of `n_total` voters.\n",
    "\n",
    "We can simulate a new survey, with `n_total` voters, by taking `n_total` random\n",
    "numbers between 0 and 1.  We consider the values less than 0.52 as\n",
    "corresponding to a Leave vote, and the rest are Remain votes.  We then\n",
    "calculate the proportion of Leave votes (proportion of values where value <\n",
    "0\\.519 == True).\n",
    "\n",
    "We do this 10000 times, to get 10000 simulated surveys.  We calculate the\n",
    "proportions for each simulated survey, and do a histogram of the proportions.\n",
    "Is `leave_proportion` a plausible value on this histogram?\n",
    "\n",
    "See:\n",
    "\n",
    "* [Reply to the Supreme Court](../iteration/reply_supreme)\n",
    "* [Final three girls simulation](../arrays/filling_arrays)\n",
    "\n",
    "to remind yourself about simulations."
   ]
  },
  {
   "cell_type": "code",
   "execution_count": null,
   "id": "f640785c",
   "metadata": {},
   "outputs": [],
   "source": [
    "# Your simulation here"
   ]
  }
 ],
 "metadata": {
  "jupytext": {
   "notebook_metadata_filter": "language_info"
  },
  "kernelspec": {
   "display_name": "Python 3",
   "language": "python",
   "name": "python3"
  },
  "language_info": {
   "codemirror_mode": {
    "name": "ipython",
    "version": 3
   },
   "file_extension": ".py",
   "mimetype": "text/x-python",
   "name": "python",
   "nbconvert_exporter": "python",
   "pygments_lexer": "ipython3",
   "version": "3.7.1"
  }
 },
 "nbformat": 4,
 "nbformat_minor": 5
}
