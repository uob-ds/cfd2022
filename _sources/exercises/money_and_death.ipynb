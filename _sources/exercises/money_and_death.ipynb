{
 "cells": [
  {
   "cell_type": "markdown",
   "id": "a5e2a388",
   "metadata": {},
   "source": [
    "# Money and death\n",
    "\n",
    "We return to the death penalty."
   ]
  },
  {
   "cell_type": "code",
   "execution_count": null,
   "id": "4f624b81",
   "metadata": {},
   "outputs": [],
   "source": [
    "import numpy as np\n",
    "import pandas as pd\n",
    "import matplotlib.pyplot as plt\n",
    "%matplotlib inline\n",
    "# Make plots look a little bit more fancy\n",
    "plt.style.use('fivethirtyeight')"
   ]
  },
  {
   "cell_type": "markdown",
   "id": "1a756a78",
   "metadata": {},
   "source": [
    "In this case, we are going to analyze whether people with higher incomes are more likely to favor the death penalty.\n",
    "\n",
    "To do this, we are going to analyze the results from a sample of the\n",
    "US [General Social Survey](http://www.gss.norc.org) from 2002.\n",
    "\n",
    "If you are running on your laptop, download the data file\n",
    "{download}`GSS2002.csv <../data/GSS2002.csv>`."
   ]
  },
  {
   "cell_type": "code",
   "execution_count": null,
   "id": "1da4a54f",
   "metadata": {},
   "outputs": [],
   "source": [
    "# Read the data into a data frame\n",
    "gss = pd.read_csv('GSS2002.csv')\n",
    "gss"
   ]
  },
  {
   "cell_type": "markdown",
   "id": "4502642c",
   "metadata": {},
   "source": [
    "Each row corresponds to a single respondent.\n",
    "\n",
    "Show the column names:"
   ]
  },
  {
   "cell_type": "code",
   "execution_count": null,
   "id": "dab11a06",
   "metadata": {},
   "outputs": [],
   "source": [
    "gss.columns"
   ]
  },
  {
   "cell_type": "markdown",
   "id": "c8855015",
   "metadata": {},
   "source": [
    "We want to work with only two columns from this data frame.  These are \"Income\", and \"DeathPenalty\".\n",
    "\n",
    "\"Income\" gives the income bracket of the respondent.  \"DeathPenalty\" is the answer to a question about whether they \"Favor\" or \"Oppose\" the death penalty.\n",
    "\n",
    "First make a list with the names of the columns that we want."
   ]
  },
  {
   "cell_type": "code",
   "execution_count": null,
   "id": "becda9d4",
   "metadata": {},
   "outputs": [],
   "source": [
    "cols = ['Income', 'DeathPenalty']\n",
    "cols"
   ]
  },
  {
   "cell_type": "markdown",
   "id": "664584d4",
   "metadata": {},
   "source": [
    "Next make a new data frame by indexing the data frame with this list.\n",
    "\n",
    "The new data frame has only the columns we selected."
   ]
  },
  {
   "cell_type": "code",
   "execution_count": null,
   "id": "d61267fe",
   "metadata": {},
   "outputs": [],
   "source": [
    "money_death = gss[cols]\n",
    "money_death"
   ]
  },
  {
   "cell_type": "markdown",
   "id": "52dd062a",
   "metadata": {},
   "source": [
    "There are many missing question responses, indicated by `NaN`.  To\n",
    "make our life easier, we drop the respondents who didn't specify an\n",
    "income bracket, and those who did not give an answer to the death penalty\n",
    "question.  We use Pandas `dropna` method of the data frame, to drop all rows\n",
    "that have any missing values in the row."
   ]
  },
  {
   "cell_type": "code",
   "execution_count": null,
   "id": "15239521",
   "metadata": {},
   "outputs": [],
   "source": [
    "money_death = money_death.dropna()\n",
    "money_death"
   ]
  },
  {
   "cell_type": "markdown",
   "id": "c677c037",
   "metadata": {},
   "source": [
    "Get the income column."
   ]
  },
  {
   "cell_type": "code",
   "execution_count": null,
   "id": "00784947",
   "metadata": {},
   "outputs": [],
   "source": [
    "income = money_death['Income']"
   ]
  },
  {
   "cell_type": "markdown",
   "id": "f1115e07",
   "metadata": {},
   "source": [
    "Show the unique values:"
   ]
  },
  {
   "cell_type": "code",
   "execution_count": null,
   "id": "14dad90e",
   "metadata": {},
   "outputs": [],
   "source": [
    "income.value_counts()"
   ]
  },
  {
   "cell_type": "markdown",
   "id": "10993994",
   "metadata": {},
   "source": [
    "These are strings.  We want to get income as a number.  We estimate this by\n",
    "*recoding* the \"Income\" column.  We replace the string, giving the income\n",
    "bracket, with the average of the minimum and maximum in the range.\n",
    "\n",
    "We can do this with a *recoder function*.  We have not covered functions yet, so do not worry about the details of this function."
   ]
  },
  {
   "cell_type": "code",
   "execution_count": null,
   "id": "b2c312b3",
   "metadata": {},
   "outputs": [],
   "source": [
    "def recode_income(value):\n",
    "    if value == 'under 1000':\n",
    "        return 500\n",
    "    low_str, high_str = value.split('-')\n",
    "    low, high = int(low_str), int(high_str)\n",
    "    return np.mean([low, high])"
   ]
  },
  {
   "cell_type": "markdown",
   "id": "e97e67d0",
   "metadata": {},
   "source": [
    "Here is what the recoder function gives with the lowest income bracket."
   ]
  },
  {
   "cell_type": "code",
   "execution_count": null,
   "id": "cea549a3",
   "metadata": {},
   "outputs": [],
   "source": [
    "recode_income('under 1000')"
   ]
  },
  {
   "cell_type": "markdown",
   "id": "b5073cc9",
   "metadata": {},
   "source": [
    "Here is the return from a higher bracket:"
   ]
  },
  {
   "cell_type": "code",
   "execution_count": null,
   "id": "1d9858c4",
   "metadata": {},
   "outputs": [],
   "source": [
    "recode_income('90000-109999')"
   ]
  },
  {
   "cell_type": "markdown",
   "id": "37a0e8c0",
   "metadata": {},
   "source": [
    "Use this function to recode the \"Income\" strings into numbers. Again, we have not covered the `apply` method yet, so don't worry about the details."
   ]
  },
  {
   "cell_type": "code",
   "execution_count": null,
   "id": "f673297a",
   "metadata": {},
   "outputs": [],
   "source": [
    "income_ish = income.apply(recode_income)\n",
    "income_ish"
   ]
  },
  {
   "cell_type": "markdown",
   "id": "ce6b7f3e",
   "metadata": {},
   "source": [
    "Now get the results of the answer to the death penalty question."
   ]
  },
  {
   "cell_type": "code",
   "execution_count": null,
   "id": "5c46f7d5",
   "metadata": {},
   "outputs": [],
   "source": [
    "death = money_death['DeathPenalty']\n",
    "death.value_counts()"
   ]
  },
  {
   "cell_type": "markdown",
   "id": "96ba5ef3",
   "metadata": {},
   "source": [
    "We will identify the rows for respondents who are in favor of the death penalty.  To do this, we make a Boolean vector:"
   ]
  },
  {
   "cell_type": "code",
   "execution_count": null,
   "id": "e5aecdc9",
   "metadata": {},
   "outputs": [],
   "source": [
    "death == 'Favor'"
   ]
  },
  {
   "cell_type": "markdown",
   "id": "472332b8",
   "metadata": {},
   "source": [
    "Use this vector to select the income values for the respondents in favor of the death penalty.  Show the distribution of values."
   ]
  },
  {
   "cell_type": "code",
   "execution_count": null,
   "id": "91693e5a",
   "metadata": {},
   "outputs": [],
   "source": [
    "favor_income = income_ish[death == 'Favor']\n",
    "favor_income.hist();"
   ]
  },
  {
   "cell_type": "markdown",
   "id": "531f328c",
   "metadata": {},
   "source": [
    "Likewise select incomes for those opposed.   Show the distribution."
   ]
  },
  {
   "cell_type": "code",
   "execution_count": null,
   "id": "09fc7e1b",
   "metadata": {},
   "outputs": [],
   "source": [
    "oppose_income = income_ish[death == 'Oppose']\n",
    "oppose_income.hist();"
   ]
  },
  {
   "cell_type": "markdown",
   "id": "288cc56f",
   "metadata": {},
   "source": [
    "Calculate the difference in mean income between the groups.  This is the difference we observe."
   ]
  },
  {
   "cell_type": "code",
   "execution_count": null,
   "id": "16cee245",
   "metadata": {},
   "outputs": [],
   "source": [
    "actual_diff = np.mean(favor_income) - np.mean(oppose_income)\n",
    "actual_diff"
   ]
  },
  {
   "cell_type": "markdown",
   "id": "787e872c",
   "metadata": {},
   "source": [
    "We want to know whether this difference in income is compatible with random sampling. That is, we want to know whether a difference this large is plausible, if the incomes are in fact random samples from the same population.\n",
    "\n",
    "To estimate how variable the mean differences can be, for such random sampling,\n",
    "we simulate this sampling by pooling the income values that we have, from the\n",
    "two groups, and the permuting them.\n",
    "\n",
    "First, we get the number of respondents in favor of the death penalty."
   ]
  },
  {
   "cell_type": "code",
   "execution_count": null,
   "id": "5e3d8184",
   "metadata": {},
   "outputs": [],
   "source": [
    "n_favor = len(favor_income)\n",
    "n_favor"
   ]
  },
  {
   "cell_type": "markdown",
   "id": "e5470e73",
   "metadata": {},
   "source": [
    "Then we pool the in-favor and oppose groups, by using `np.append` to concatenate (stick together) the two arrays, into one long array."
   ]
  },
  {
   "cell_type": "code",
   "execution_count": null,
   "id": "02b9b8f1",
   "metadata": {},
   "outputs": [],
   "source": [
    "pooled = np.append(favor_income, oppose_income)"
   ]
  },
  {
   "cell_type": "markdown",
   "id": "ee8f2345",
   "metadata": {},
   "source": [
    "To do the random sampling we permute the values, so the `pooled` vector is\n",
    "a random mixture of the two groups."
   ]
  },
  {
   "cell_type": "code",
   "execution_count": null,
   "id": "a824e315",
   "metadata": {},
   "outputs": [],
   "source": [
    "shuffled = np.random.permutation(pooled)"
   ]
  },
  {
   "cell_type": "markdown",
   "id": "e9c73695",
   "metadata": {},
   "source": [
    "Treat the first `n_favor` observations from this shuffled vector as\n",
    "our simulated in-favor group.  The rest are our simulated oppose\n",
    "group."
   ]
  },
  {
   "cell_type": "code",
   "execution_count": null,
   "id": "ff36b2d1",
   "metadata": {},
   "outputs": [],
   "source": [
    "fake_favor = shuffled[:n_favor]\n",
    "fake_oppose = shuffled[n_favor:]"
   ]
  },
  {
   "cell_type": "markdown",
   "id": "bfc7eb79",
   "metadata": {},
   "source": [
    "Calculate the difference in means for this simulation."
   ]
  },
  {
   "cell_type": "code",
   "execution_count": null,
   "id": "a82df716",
   "metadata": {},
   "outputs": [],
   "source": [
    "fake_diff = np.mean(fake_favor) - np.mean(fake_oppose)\n",
    "fake_diff"
   ]
  },
  {
   "cell_type": "markdown",
   "id": "ed681dea",
   "metadata": {},
   "source": [
    "Now it is your turn.   Do this simulation 10000 times, to build up the distribution of differences compatible with random sampling.\n",
    "\n",
    "Use the [Brexit ages](../permutation/brexit_ages) notebook for inspiration."
   ]
  },
  {
   "cell_type": "code",
   "execution_count": null,
   "id": "efc9ff48",
   "metadata": {},
   "outputs": [],
   "source": [
    "differences = np.zeros(10000)\n",
    "for i in np.arange(10000):\n",
    "    # Permute the pooled incomes\n",
    "    shuffled = np.random.permutation(pooled)\n",
    "    # Make a fake favor sample\n",
    "\n",
    "    # Make a fake opposed sample\n",
    "\n",
    "    # Calculate the mean difference for the fake samples\n",
    "\n",
    "    # Put the mean difference into the differences array.\n"
   ]
  },
  {
   "cell_type": "markdown",
   "id": "6cae707d",
   "metadata": {},
   "source": [
    "When you have that working, do a histogram of the differences."
   ]
  },
  {
   "cell_type": "code",
   "execution_count": null,
   "id": "61a1e180",
   "metadata": {},
   "outputs": [],
   "source": [
    "# Your code here"
   ]
  },
  {
   "cell_type": "markdown",
   "id": "d176f2c5",
   "metadata": {},
   "source": [
    "You can get an idea of where the actual difference we saw sits on this histogram, and therefore how likely that difference is, assuming the incomes come from the same underlying population of incomes.\n",
    "\n",
    "To be more specific, count how many of the differences you calculated were greater than or equal to the actual difference."
   ]
  },
  {
   "cell_type": "code",
   "execution_count": null,
   "id": "cb3045b3",
   "metadata": {},
   "outputs": [],
   "source": [
    "# Your code here"
   ]
  },
  {
   "cell_type": "markdown",
   "id": "13d2cd42",
   "metadata": {},
   "source": [
    "Now calculate the proportion of these differences, to give an estimate of the probability of seeing a difference this large, if the incomes all come from the same underlying population:"
   ]
  },
  {
   "cell_type": "code",
   "execution_count": null,
   "id": "eac7e471",
   "metadata": {},
   "outputs": [],
   "source": [
    "# Your code here"
   ]
  }
 ],
 "metadata": {
  "kernelspec": {
   "display_name": "Python 3",
   "language": "python",
   "name": "python3"
  }
 },
 "nbformat": 4,
 "nbformat_minor": 5
}
