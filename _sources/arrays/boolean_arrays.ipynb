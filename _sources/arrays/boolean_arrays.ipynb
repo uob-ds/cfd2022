{
 "cells": [
  {
   "cell_type": "markdown",
   "id": "a41b293f",
   "metadata": {},
   "source": [
    "# Boolean arrays"
   ]
  },
  {
   "cell_type": "code",
   "execution_count": null,
   "id": "69fd0c99",
   "metadata": {},
   "outputs": [],
   "source": [
    "# Import the array library\n",
    "import numpy as np"
   ]
  },
  {
   "cell_type": "markdown",
   "id": "c2bab747",
   "metadata": {},
   "source": [
    "We are building up to an answer to the [three girls\n",
    "problem](../code-basics/three_girls).  At the end of the [lists page](../data-types/lists), we found a way to simulate one family, and get a count.\n",
    "\n",
    "Now we know about function arguments, and arrays, we can simplify the list\n",
    "version, like this:"
   ]
  },
  {
   "cell_type": "code",
   "execution_count": null,
   "id": "0bdba247",
   "metadata": {},
   "outputs": [],
   "source": [
    "# Make an array of four random integers that are either 0 or 1.\n",
    "# 1 means a girl.\n",
    "family = np.random.randint(0, 2, size=4)\n",
    "family"
   ]
  },
  {
   "cell_type": "code",
   "execution_count": null,
   "id": "e57a8d6c",
   "metadata": {},
   "outputs": [],
   "source": [
    "# Add up the integers to count the number of girls.\n",
    "count = np.sum(family)\n",
    "count"
   ]
  },
  {
   "cell_type": "markdown",
   "id": "3c8ddc68",
   "metadata": {},
   "source": [
    "Our interest in how whether of the `count` value is equal to 3. We can look at\n",
    "that number and write down \"Yes\" if the number is equal to 3 and \"No\"\n",
    "otherwise, but we would like the computer to do that routine\n",
    "work for us.  We use [comparison](../data-types/Comparison):"
   ]
  },
  {
   "cell_type": "code",
   "execution_count": null,
   "id": "90b06395",
   "metadata": {},
   "outputs": [],
   "source": [
    "is_three = count == 3\n",
    "is_three"
   ]
  },
  {
   "cell_type": "markdown",
   "id": "e94568f7",
   "metadata": {},
   "source": [
    "True means our simulation found a family with three girls, and False means we\n",
    "found a family some other number of girls.\n",
    "\n",
    "In a while, we are going to simulate a very large number of these families, but for now, let us simulate 5 families, in a somewhat laborious way:"
   ]
  },
  {
   "cell_type": "code",
   "execution_count": null,
   "id": "09b4ef3f",
   "metadata": {},
   "outputs": [],
   "source": [
    "# Make an array to store the counts for each family.\n",
    "counts = np.zeros(5)\n",
    "# Make five families, store the counts.\n",
    "family = np.random.randint(0, 2, size=4)\n",
    "counts[0] = np.sum(family)\n",
    "# Second family\n",
    "family = np.random.randint(0, 2, size=4)\n",
    "counts[1] = np.sum(family)\n",
    "# Third\n",
    "family = np.random.randint(0, 2, size=4)\n",
    "counts[2] = np.sum(family)\n",
    "# Fourth\n",
    "family = np.random.randint(0, 2, size=4)\n",
    "counts[3] = np.sum(family)\n",
    "# Fifth.\n",
    "family = np.random.randint(0, 2, size=4)\n",
    "counts[4] = np.sum(family)\n",
    "# Show the counts\n",
    "counts"
   ]
  },
  {
   "cell_type": "markdown",
   "id": "501622af",
   "metadata": {},
   "source": [
    "Each value in `counts` is the number of girls in one simulated family.\n",
    "\n",
    "Now we have 5 numbers for which we want to ask the question - is this number\n",
    "equal to 3?  We would like five corresponding True or False values.\n",
    "\n",
    "Here is where arrays continue to work their magic - we can get this result with a single expression:"
   ]
  },
  {
   "cell_type": "code",
   "execution_count": null,
   "id": "8cb93208",
   "metadata": {},
   "outputs": [],
   "source": [
    "are_three = counts == 3\n",
    "are_three"
   ]
  },
  {
   "cell_type": "markdown",
   "id": "bb4df034",
   "metadata": {},
   "source": [
    "`are_three` is an array with 5 elements, one for every element in the array we\n",
    "compared, `counts`.\n",
    "\n",
    "`are_three` is a *Boolean array* because it contains only Boolean (True, False) values.\n",
    "\n",
    "We can see what kind of data the array contains by looking at the `dtype` attribute of the array.  Remember, an attribute is a value attached to another value. In this case it is a value attached to the `are_three` value."
   ]
  },
  {
   "cell_type": "code",
   "execution_count": null,
   "id": "cd4ceb86",
   "metadata": {},
   "outputs": [],
   "source": [
    "are_three.dtype"
   ]
  },
  {
   "cell_type": "markdown",
   "id": "032a8ea5",
   "metadata": {},
   "source": [
    "Each element in `are_three` has the result of the comparison for the\n",
    "corresponding element.  The code above is equivalent to doing:"
   ]
  },
  {
   "cell_type": "code",
   "execution_count": null,
   "id": "cf205fc7",
   "metadata": {},
   "outputs": [],
   "source": [
    "# Make an array of Boolean type (the \"dtype\" argument)\n",
    "are_three_longhand = np.zeros(5, dtype=bool)\n",
    "# Do the comparisons one by one.\n",
    "are_three_longhand[0] = counts[0] == 3\n",
    "are_three_longhand[1] = counts[1] == 3\n",
    "are_three_longhand[2] = counts[2] == 3\n",
    "are_three_longhand[3] = counts[3] == 3\n",
    "are_three_longhand[4] = counts[4] == 3\n",
    "# Show the result\n",
    "are_three_longhand"
   ]
  },
  {
   "cell_type": "markdown",
   "id": "4407730f",
   "metadata": {},
   "source": [
    "Now we want to know how many of the `counts` values are equal to 3.  This is\n",
    "the same as asking how many True values there are in `are_three` (or\n",
    "`are_three_longhand`.\n",
    "\n",
    "We can do this using the `np.count_nonzero` function.  It accepts an array as its argument, and returns the number of non-zero values in the array.  It turns out that `np.count_nonzero` treats True as non-zero, and False as zero, so `np.count_nonzero` on a Boolean array counts the number of True values:"
   ]
  },
  {
   "cell_type": "code",
   "execution_count": null,
   "id": "a8b2c3d0",
   "metadata": {},
   "outputs": [],
   "source": [
    "my_booleans = np.array([True, False, True])\n",
    "np.count_nonzero(my_booleans)"
   ]
  },
  {
   "cell_type": "markdown",
   "id": "4cca63dc",
   "metadata": {},
   "source": [
    "To see the number of times we found 3 in `counts`:"
   ]
  },
  {
   "cell_type": "code",
   "execution_count": null,
   "id": "4855595b",
   "metadata": {},
   "outputs": [],
   "source": [
    "np.count_nonzero(are_three)"
   ]
  }
 ],
 "metadata": {
  "jupytext": {
   "notebook_metadata_filter": "language_info"
  },
  "kernelspec": {
   "display_name": "Python 3",
   "language": "python",
   "name": "python3"
  },
  "language_info": {
   "codemirror_mode": {
    "name": "ipython",
    "version": 3
   },
   "file_extension": ".py",
   "mimetype": "text/x-python",
   "name": "python",
   "nbconvert_exporter": "python",
   "pygments_lexer": "ipython3",
   "version": "3.6.5"
  }
 },
 "nbformat": 4,
 "nbformat_minor": 5
}
