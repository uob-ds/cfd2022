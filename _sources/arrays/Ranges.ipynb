{
 "cells": [
  {
   "cell_type": "markdown",
   "id": "c4c100cd",
   "metadata": {},
   "source": [
    "# Ranges\n",
    "\n",
    "A *range* is an array of numbers in increasing or decreasing order,\n",
    "each separated by a regular interval.  Ranges are useful in\n",
    "a surprisingly large number of situations, so it is worthwhile to\n",
    "learn about them.\n",
    "\n",
    "We will use the Numpy package to make ranges.  When we load the Numpy package,\n",
    "we always rename it as `np`, like this:"
   ]
  },
  {
   "cell_type": "code",
   "execution_count": null,
   "id": "5a63ec1d",
   "metadata": {},
   "outputs": [],
   "source": [
    "# Load the Numpy package.\n",
    "import numpy as np"
   ]
  },
  {
   "cell_type": "markdown",
   "id": "1e44ce59",
   "metadata": {
    "lines_to_next_cell": 0
   },
   "source": [
    "Ranges are defined  using the `np.arange` function, which takes either\n",
    "one, two, or three arguments: a start, and end, and a 'step'.\n",
    "\n",
    "If you pass one argument to `np.arange`, this becomes the `end` value,\n",
    "with `start=0`, `step=1` assumed.  Two arguments give the `start` and\n",
    "`end` with `step=1` assumed.  Three arguments give the `start`, `end`\n",
    "and `step` explicitly.\n",
    "\n",
    "A range always includes its `start` value, but does not include its\n",
    "`end` value.  It counts up by `step`, and it stops before it gets to\n",
    "the `end`.\n",
    "\n",
    "Here is what `np.arange` does when you pass only one argument:\n",
    "\n",
    "    np.arange(end): An array starting with 0 of increasing consecutive integers, stopping before end.\n"
   ]
  },
  {
   "cell_type": "code",
   "execution_count": null,
   "id": "9e75ff46",
   "metadata": {},
   "outputs": [],
   "source": [
    "np.arange(5)"
   ]
  },
  {
   "cell_type": "markdown",
   "id": "a48ce550",
   "metadata": {
    "lines_to_next_cell": 0
   },
   "source": [
    "Notice how the array starts at 0 and goes only up to 4, not to the end value\n",
    "of 5.\n",
    "\n",
    "Put another way, `np.arange(end)` creates an array of increasing consecutive\n",
    "integers starting at 0 up to *but not including* the `end` value.\n",
    "\n",
    "If you pass two arguments to `np.arange`:\n",
    "\n",
    "    np.arange(start, end): An array of consecutive increasing integers from start, stopping before end.\n"
   ]
  },
  {
   "cell_type": "code",
   "execution_count": null,
   "id": "26064f01",
   "metadata": {},
   "outputs": [],
   "source": [
    "np.arange(3, 9)"
   ]
  },
  {
   "cell_type": "markdown",
   "id": "5fae7b42",
   "metadata": {
    "lines_to_next_cell": 0
   },
   "source": [
    "If you pass three arguments:\n",
    "\n",
    "    np.arange(start, end, step): A range with a difference of step between each pair of consecutive values, starting from start and stopping before end.\n"
   ]
  },
  {
   "cell_type": "code",
   "execution_count": null,
   "id": "916dc230",
   "metadata": {},
   "outputs": [],
   "source": [
    "np.arange(3, 30, 5)"
   ]
  },
  {
   "cell_type": "markdown",
   "id": "754c7d6a",
   "metadata": {},
   "source": [
    "This array starts at 3, then takes a step of 5 to get to 8, then another step\n",
    "of 5 to get to 13, and so on.\n",
    "\n",
    "When you specify a step, the start, end, and step can all be either positive\n",
    "or negative and may be whole numbers or fractions."
   ]
  },
  {
   "cell_type": "code",
   "execution_count": null,
   "id": "c07d7582",
   "metadata": {},
   "outputs": [],
   "source": [
    "np.arange(1.5, -2, -0.5)"
   ]
  },
  {
   "cell_type": "markdown",
   "id": "804b6c50",
   "metadata": {},
   "source": [
    "{ucb-page}`Ranges`"
   ]
  }
 ],
 "metadata": {
  "anaconda-cloud": {},
  "jupytext": {
   "notebook_metadata_filter": "anaconda-cloud,language_info"
  },
  "kernelspec": {
   "display_name": "Python 3",
   "language": "python",
   "name": "python3"
  },
  "language_info": {
   "codemirror_mode": {
    "name": "ipython",
    "version": 3
   },
   "file_extension": ".py",
   "mimetype": "text/x-python",
   "name": "python",
   "nbconvert_exporter": "python",
   "pygments_lexer": "ipython3",
   "version": "3.5.2"
  }
 },
 "nbformat": 4,
 "nbformat_minor": 5
}
