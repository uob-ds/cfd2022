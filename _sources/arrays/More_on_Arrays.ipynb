{
 "cells": [
  {
   "cell_type": "markdown",
   "id": "a69da36b",
   "metadata": {},
   "source": [
    "# More on Arrays\n",
    "\n",
    "It's often necessary to compute something that involves data from more than one\n",
    "array. If two arrays are of the same size, Python makes it easy to do\n",
    "calculations involving both arrays.\n",
    "\n",
    "For our first example, we return once more to the temperature data.  This time,\n",
    "we create arrays of average daily\n",
    "[high](http://berkeleyearth.lbl.gov/auto/Regional/TMAX/Text/global-land-TMAX-Trend.txt)\n",
    "and\n",
    "[low](http://berkeleyearth.lbl.gov/auto/Regional/TMIN/Text/global-land-TMIN-Trend.txt)\n",
    "temperatures for the decades surrounding 1850, 1900, 1950, and 2000.\n",
    "\n",
    "First we get Numpy, renamed as `np`:"
   ]
  },
  {
   "cell_type": "code",
   "execution_count": null,
   "id": "047f49cf",
   "metadata": {},
   "outputs": [],
   "source": [
    "import numpy as np"
   ]
  },
  {
   "cell_type": "markdown",
   "id": "558364ca",
   "metadata": {},
   "source": [
    "Next we create the array:"
   ]
  },
  {
   "cell_type": "code",
   "execution_count": null,
   "id": "77e1ed68",
   "metadata": {},
   "outputs": [],
   "source": [
    "highs = np.array([13.6, 14.387, 14.585, 15.164])\n",
    "highs"
   ]
  },
  {
   "cell_type": "code",
   "execution_count": null,
   "id": "4dc51ab1",
   "metadata": {},
   "outputs": [],
   "source": [
    "lows = np.array([2.128, 2.371, 2.874, 3.728])\n",
    "lows"
   ]
  },
  {
   "cell_type": "markdown",
   "id": "5835bcdf",
   "metadata": {},
   "source": [
    "Suppose we'd like to compute the average daily *range* of temperatures for\n",
    "each decade.  That is, we want to subtract the average daily high in the 1850s\n",
    "from the average daily low in the 1850s, and the same for each other decade.\n",
    "\n",
    "We could write this laboriously using `.item`:"
   ]
  },
  {
   "cell_type": "code",
   "execution_count": null,
   "id": "7d654d09",
   "metadata": {},
   "outputs": [],
   "source": [
    "np.array([\n",
    "    highs.item(0) - lows.item(0),\n",
    "    highs.item(1) - lows.item(1),\n",
    "    highs.item(2) - lows.item(2),\n",
    "    highs.item(3) - lows.item(3)\n",
    "])"
   ]
  },
  {
   "cell_type": "markdown",
   "id": "aeeaac87",
   "metadata": {},
   "source": [
    "As when we converted an array of temperatures from Celsius to Fahrenheit,\n",
    "Python provides a much cleaner way to write this:"
   ]
  },
  {
   "cell_type": "code",
   "execution_count": null,
   "id": "98b1c195",
   "metadata": {},
   "outputs": [],
   "source": [
    "highs - lows"
   ]
  },
  {
   "cell_type": "markdown",
   "id": "d8e6154a",
   "metadata": {},
   "source": [
    "![](../images/array_subtraction.png)"
   ]
  },
  {
   "cell_type": "markdown",
   "id": "77c59b88",
   "metadata": {},
   "source": [
    "What we've seen in these examples are special cases of a general feature of arrays."
   ]
  },
  {
   "cell_type": "markdown",
   "id": "8a096898",
   "metadata": {},
   "source": [
    "## Elementwise arithmetic on pairs of numerical arrays\n",
    "\n",
    "If an arithmetic operator acts on two arrays of the same size, then the\n",
    "operation is performed on each corresponding pair of elements in the two\n",
    "arrays. The final result is an array.\n",
    "\n",
    "For example, if `array1` and `array2` have the same number of elements, then\n",
    "the value of `array1 * array2` is an array. Its first element is the first\n",
    "element of `array` times the first element of `array2`, its second element is\n",
    "the second element of `array1` times the second element of `array2`, and so\n",
    "on.\n",
    "\n",
    "{ucb-page}`More_on_Arrays`"
   ]
  }
 ],
 "metadata": {
  "anaconda-cloud": {},
  "jupytext": {
   "notebook_metadata_filter": "anaconda-cloud,language_info"
  },
  "kernelspec": {
   "display_name": "Python 3",
   "language": "python",
   "name": "python3"
  },
  "language_info": {
   "codemirror_mode": {
    "name": "ipython",
    "version": 3
   },
   "file_extension": ".py",
   "mimetype": "text/x-python",
   "name": "python",
   "nbconvert_exporter": "python",
   "pygments_lexer": "ipython3",
   "version": "3.5.2"
  }
 },
 "nbformat": 4,
 "nbformat_minor": 5
}
