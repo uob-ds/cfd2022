{
 "cells": [
  {
   "cell_type": "markdown",
   "id": "03b3ec0f",
   "metadata": {},
   "source": [
    "# Pandas merging and SQL"
   ]
  },
  {
   "cell_type": "code",
   "execution_count": null,
   "id": "27c140ad",
   "metadata": {
    "tags": [
     "hide-cell"
    ]
   },
   "outputs": [],
   "source": [
    "# Don't change this cell; just run it.\n",
    "import numpy as np\n",
    "import pandas as pd\n",
    "# Safe settings for Pandas.\n",
    "pd.set_option('mode.chained_assignment', 'raise')\n",
    "%matplotlib inline\n",
    "import matplotlib.pyplot as plt\n",
    "# Make the plots look more fancy.\n",
    "plt.style.use('fivethirtyeight')"
   ]
  },
  {
   "cell_type": "markdown",
   "id": "3cc9e670",
   "metadata": {},
   "source": [
    "[SQL](https://en.wikipedia.org/wiki/SQL) (pronounced \"sequel\") is a standard language for working with data in tables.  Among its many features, SQL can merge tables using *queries*.  SQL calls these merges - *JOINS*.\n",
    "\n",
    "Pandas `merge` has the same behavior as SQL's `INNER JOIN`."
   ]
  },
  {
   "cell_type": "code",
   "execution_count": null,
   "id": "e400f157",
   "metadata": {},
   "outputs": [],
   "source": [
    "cones = pd.DataFrame()\n",
    "cones['Flavor'] = ['strawberry', 'vanilla', 'chocolate', 'strawberry',\n",
    "                   'chocolate']\n",
    "cones['Price'] = [3.55, 4.75, 6.55, 5.25, 5.75]\n",
    "cones"
   ]
  },
  {
   "cell_type": "code",
   "execution_count": null,
   "id": "3d690ec0",
   "metadata": {},
   "outputs": [],
   "source": [
    "ratings = pd.DataFrame()\n",
    "ratings['Flavor'] = ['strawberry', 'chocolate', 'vanilla']\n",
    "ratings['Stars'] = [2.5, 3.5, 4]\n",
    "ratings"
   ]
  },
  {
   "cell_type": "markdown",
   "id": "6825656c",
   "metadata": {},
   "source": [
    "Pandas `merge` is symmetrical - you get the same result from `cones.merge(ratings ...)` and `ratings.merge(cones ...`."
   ]
  },
  {
   "cell_type": "code",
   "execution_count": null,
   "id": "5721502c",
   "metadata": {},
   "outputs": [],
   "source": [
    "# Do an Pandas merge into \"cones\" from \"ratings\"\n",
    "cones.merge(ratings, on='Flavor')"
   ]
  },
  {
   "cell_type": "code",
   "execution_count": null,
   "id": "d54f46d0",
   "metadata": {},
   "outputs": [],
   "source": [
    "# Do an Pandas merge into \"ratings\" from \"cones\"\n",
    "ratings.merge(cones, on='Flavor')"
   ]
  },
  {
   "cell_type": "markdown",
   "id": "75deeb57",
   "metadata": {},
   "source": [
    "SQL `INNER JOIN` has the same behavior.\n",
    "\n",
    "See:\n",
    "\n",
    "* [Pandas to_sql documenation](https://pandas.pydata.org/pandas-docs/stable/reference/api/pandas.DataFrame.to_sql.html)\n",
    "* [SQL INNER JOIN tutorial](https://www.sqlitetutorial.net/sqlite-inner-join)"
   ]
  },
  {
   "cell_type": "code",
   "execution_count": null,
   "id": "550798e8",
   "metadata": {},
   "outputs": [],
   "source": [
    "# Use a standard SQL library for Python\n",
    "from sqlalchemy import create_engine\n",
    "# Make a database using the basic SQLlite database software\n",
    "engine = create_engine('sqlite://', echo=False)"
   ]
  },
  {
   "cell_type": "code",
   "execution_count": null,
   "id": "90acb463",
   "metadata": {},
   "outputs": [],
   "source": [
    "# Write the data frames as tables in the SQL database.\n",
    "cones.to_sql('cones', con=engine)\n",
    "ratings.to_sql('ratings', con=engine)"
   ]
  },
  {
   "cell_type": "code",
   "execution_count": null,
   "id": "aa903572",
   "metadata": {},
   "outputs": [],
   "source": [
    "# Show that we can recover the cones data from the database.\n",
    "engine.execute(\"SELECT * FROM cones\").fetchall()"
   ]
  },
  {
   "cell_type": "code",
   "execution_count": null,
   "id": "6616165b",
   "metadata": {},
   "outputs": [],
   "source": [
    "# Show that we can recover the ratings data from the database.\n",
    "engine.execute(\"SELECT * FROM ratings\").fetchall()"
   ]
  },
  {
   "cell_type": "code",
   "execution_count": null,
   "id": "652a2ad4",
   "metadata": {},
   "outputs": [],
   "source": [
    "# Do an inner join into \"cones\" from \"ratings\"\n",
    "cones_ratings_query = \"\"\"\n",
    "SELECT *\n",
    "FROM cones\n",
    "INNER JOIN ratings ON ratings.Flavor = cones.Flavor\n",
    "\"\"\"\n",
    "engine.execute(cones_ratings_query).fetchall()"
   ]
  },
  {
   "cell_type": "code",
   "execution_count": null,
   "id": "b44360be",
   "metadata": {},
   "outputs": [],
   "source": [
    "# Do an inner join into \"ratings\" from \"cones\"\n",
    "ratings_cones_query = \"\"\"\n",
    "SELECT *\n",
    "FROM ratings\n",
    "INNER JOIN cones ON cones.Flavor = ratings.Flavor\n",
    "\"\"\"\n",
    "engine.execute(ratings_cones_query).fetchall()"
   ]
  }
 ],
 "metadata": {
  "anaconda-cloud": {},
  "jupytext": {
   "notebook_metadata_filter": "all,-language_info",
   "split_at_heading": true
  },
  "kernelspec": {
   "display_name": "Python 3",
   "language": "python",
   "name": "python3"
  }
 },
 "nbformat": 4,
 "nbformat_minor": 5
}
