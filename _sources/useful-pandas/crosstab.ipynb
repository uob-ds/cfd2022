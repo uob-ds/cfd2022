{
 "cells": [
  {
   "cell_type": "markdown",
   "id": "70ec0f19",
   "metadata": {},
   "source": [
    "# Cross-tabulation"
   ]
  },
  {
   "cell_type": "code",
   "execution_count": null,
   "id": "23b373cd",
   "metadata": {
    "tags": [
     "hide-cell"
    ]
   },
   "outputs": [],
   "source": [
    "import numpy as np\n",
    "import pandas as pd\n",
    "# Safe settings for Pandas.\n",
    "pd.set_option('mode.chained_assignment', 'raise')"
   ]
  },
  {
   "cell_type": "markdown",
   "id": "561d8ba3",
   "metadata": {},
   "source": [
    "It is often useful to make tables that count rows in categories defined by\n",
    "columns.\n",
    "\n",
    "Here we will use a dataset with data about passengers on the [RMS\n",
    "Titanic](https://en.wikipedia.org/wiki/Titanic).\n",
    "\n",
    "See [the Titanic dataset page](../data/titanic) for some more information about this dataset, and a link to download the data."
   ]
  },
  {
   "cell_type": "code",
   "execution_count": null,
   "id": "2f7328c2",
   "metadata": {},
   "outputs": [],
   "source": [
    "# Load the dataset\n",
    "df = pd.read_csv('titanic_clean.csv')\n",
    "df.head()"
   ]
  },
  {
   "cell_type": "markdown",
   "id": "b4804287",
   "metadata": {},
   "source": [
    "As you can see, we have various bits of information about the passengers on\n",
    "the Titanic.  Several columns give labels - categories.  For example, the\n",
    "`gender` column categorizes the passenger as `male` or `female`, and the\n",
    "`survived` column categorizes the passenger by whether they survived the\n",
    "sinking - `yes` or `no`.\n"
   ]
  },
  {
   "cell_type": "markdown",
   "id": "9bb9f959",
   "metadata": {},
   "source": [
    "## A one-way table"
   ]
  },
  {
   "cell_type": "markdown",
   "id": "32061724",
   "metadata": {},
   "source": [
    "As you know, we can use the `value_counts` method of the data frame to see the\n",
    "unique values for any column, with the counts of the number of times each\n",
    "value occurs."
   ]
  },
  {
   "cell_type": "code",
   "execution_count": null,
   "id": "0a95732e",
   "metadata": {},
   "outputs": [],
   "source": [
    "# Counts of each unique value in the 'survived' column.\n",
    "df['survived'].value_counts()"
   ]
  },
  {
   "cell_type": "markdown",
   "id": "96e18e64",
   "metadata": {},
   "source": [
    "Often we want to see *proportions* instead of counts.   We can use the `normalize` keyword argument for this:"
   ]
  },
  {
   "cell_type": "code",
   "execution_count": null,
   "id": "79c0ab82",
   "metadata": {},
   "outputs": [],
   "source": [
    "# Proportions of each unique value in the 'survived' column.\n",
    "df['survived'].value_counts(normalize=True)"
   ]
  },
  {
   "cell_type": "markdown",
   "id": "682f6088",
   "metadata": {},
   "source": [
    "## Two-way tables"
   ]
  },
  {
   "cell_type": "markdown",
   "id": "847d6cf0",
   "metadata": {},
   "source": [
    "We often want to break down the rows by more than one category.  Remember that\n",
    "the Titanic passengers and crew tended to give preference to women and\n",
    "children, when loading the lifeboats.  So, we may want to see the counts of\n",
    "passengers who survived, broken down by `gender`.\n",
    "\n",
    "This is the role of the Pandas `crosstab` function.   It is a Pandas function\n",
    "because it is function inside the Pandas module; we can get this function with\n",
    "`pd.crosstab` (assuming we have done the usual `import pandas as pd`).\n",
    "\n",
    "The first argument to `pd.crosstab` is the category we want to see in the rows; the second argument is the category we want to see in the columns.\n",
    "\n",
    "Here is a cross-tabulation of `gender` (in the rows) by `survived` (in the columns):"
   ]
  },
  {
   "cell_type": "code",
   "execution_count": null,
   "id": "ff654d28",
   "metadata": {},
   "outputs": [],
   "source": [
    "# Cross-tabulation of counts for 'gender' (rows) by 'survived' (columns).\n",
    "pd.crosstab(df['gender'], df['survived'])"
   ]
  },
  {
   "cell_type": "markdown",
   "id": "4359b566",
   "metadata": {},
   "source": [
    "We will often want to see these values as proportions rather than counts.  For\n",
    "example, we may be interested in the *proportion* of women and men that\n",
    "survived.   As for `value_counts` above, we use the `normalize` keyword to ask\n",
    "for proportions.  This time we have to specify the direction that Pandas\n",
    "should use for the proportion.  We could be interested in the proportion\n",
    "across the column (proportions of `male` and `female` passengers within the\n",
    "`yes` \"survived\" category, likewise for the `no` category).  More likely, in\n",
    "this case, we will be interested in proportions across the row (proportion who\n",
    "survived within `male` category, proportion who survived within `female`\n",
    "category).   We give Pandas this information with the value for the\n",
    "`normalize` keyword argument. Pandas uses the term `index` to refer to the\n",
    "rows.  Remember, Pandas also uses the term index for the row labels.\n"
   ]
  },
  {
   "cell_type": "code",
   "execution_count": null,
   "id": "03ead8dc",
   "metadata": {},
   "outputs": [],
   "source": [
    "# Cross-tabulation of proportions for 'gender' (rows) by 'survived' (columns).\n",
    "# Proportions are over the row.\n",
    "pd.crosstab(df['gender'], df['survived'], normalize='index')"
   ]
  },
  {
   "cell_type": "markdown",
   "id": "6c881636",
   "metadata": {},
   "source": [
    "We could also ask for the proportions over the columns."
   ]
  },
  {
   "cell_type": "code",
   "execution_count": null,
   "id": "164f6bce",
   "metadata": {},
   "outputs": [],
   "source": [
    "# Cross-tabulation of proportions for 'gender' (rows) by 'survived' (columns).\n",
    "# Proportions are over the column.\n",
    "pd.crosstab(df['gender'], df['survived'], normalize='columns')"
   ]
  },
  {
   "cell_type": "markdown",
   "id": "3d6029d6",
   "metadata": {},
   "source": [
    "Of course, the arguments we are passing to `pd.crosstab` are Pandas Series.  We can pass any Pandas series as our row or column specification.\n",
    "\n",
    "For example, we might want to make a new Series that categorizes passengers as\n",
    "`male`, `female` or `child`.  We can use that Series as an argument to\n",
    "`pd.crosstab`."
   ]
  },
  {
   "cell_type": "code",
   "execution_count": null,
   "id": "da282992",
   "metadata": {},
   "outputs": [],
   "source": [
    "mwc = df['gender'].copy()  # Copy-right!\n",
    "mwc[df['age'] <= 16] = 'child'\n",
    "pd.crosstab(mwc, df['survived'], normalize='index')"
   ]
  },
  {
   "cell_type": "markdown",
   "id": "b530b862",
   "metadata": {},
   "source": [
    "## Three-way tables (or four ...)"
   ]
  },
  {
   "cell_type": "markdown",
   "id": "729a70d2",
   "metadata": {},
   "source": [
    "Another factor that we know was in play was passenger class.  For various\n",
    "reasons, first class passengers, in particular, got better access to the\n",
    "lifeboats than passengers in other classes.   This adds a further factor that\n",
    "might explain the numbers and proportions that survived.\n",
    "\n",
    "Now we have two factors (categories) that we think may predict survival - `class` and `gender`.\n",
    "\n",
    "`pd.crosstab` takes this in its stride.  We can just pass a list of Series as our row or column specification."
   ]
  },
  {
   "cell_type": "code",
   "execution_count": null,
   "id": "6bf05ad3",
   "metadata": {},
   "outputs": [],
   "source": [
    "# Counts for passengers who survived, broken down by class and male, female,\n",
    "# child.\n",
    "categories = [df['class'], mwc]\n",
    "pd.crosstab(categories, df['survived'])"
   ]
  },
  {
   "cell_type": "markdown",
   "id": "28053794",
   "metadata": {},
   "source": [
    "`normalize` over the rows will give proportions for each sub-category:"
   ]
  },
  {
   "cell_type": "code",
   "execution_count": null,
   "id": "52fef217",
   "metadata": {},
   "outputs": [],
   "source": [
    "# Proportions surviving in sub-categories of class, male/female/child.\n",
    "pd.crosstab(categories, df['survived'], normalize='index')"
   ]
  },
  {
   "cell_type": "markdown",
   "id": "ce1db83f",
   "metadata": {},
   "source": [
    "You can specify multiple Series for the columns of the table.  Here we just run the equivalent table but reversing the rows and columns:"
   ]
  },
  {
   "cell_type": "code",
   "execution_count": null,
   "id": "6cb89347",
   "metadata": {},
   "outputs": [],
   "source": [
    "# Proportions surviving in sub-categories of class, male/female/child,\n",
    "# with 'survived' in the rows, and the subcategories in the columns.\n",
    "pd.crosstab(df['survived'], categories, normalize='columns')"
   ]
  },
  {
   "cell_type": "markdown",
   "id": "20b0dac0",
   "metadata": {},
   "source": [
    "You can specify more than two columns in the row or column arguments, or both.\n",
    "Try experimenting with different arguments."
   ]
  }
 ],
 "metadata": {
  "jupytext": {
   "notebook_metadata_filter": "all,-language_info",
   "split_at_heading": true
  },
  "kernelspec": {
   "display_name": "Python 3",
   "language": "python",
   "name": "python3"
  }
 },
 "nbformat": 4,
 "nbformat_minor": 5
}
