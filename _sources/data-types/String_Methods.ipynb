{
 "cells": [
  {
   "cell_type": "markdown",
   "id": "f9a39206",
   "metadata": {},
   "source": [
    "# String methods\n",
    "\n",
    "From an existing string, related strings can be constructed using string methods, which are functions that operate on strings. These methods are called by placing a dot after the string, then calling the function.\n",
    "\n",
    "For example, the following method generates an uppercased version of a string."
   ]
  },
  {
   "cell_type": "code",
   "execution_count": null,
   "id": "118e29af",
   "metadata": {},
   "outputs": [],
   "source": [
    "\"loud\".upper()"
   ]
  },
  {
   "cell_type": "markdown",
   "id": "3dfa224c",
   "metadata": {},
   "source": [
    "Perhaps the most important method is `replace`, which replaces all instances of a substring within the string. The `replace` method takes two arguments, the text to be replaced and its replacement."
   ]
  },
  {
   "cell_type": "code",
   "execution_count": null,
   "id": "97a9cbcc",
   "metadata": {},
   "outputs": [],
   "source": [
    "'hitchhiker'.replace('hi', 'ma')"
   ]
  },
  {
   "cell_type": "markdown",
   "id": "0d168bf2",
   "metadata": {},
   "source": [
    "String methods can also be invoked using variable names, as long as those\n",
    "names are bound to strings. So, for instance, the following two-step process\n",
    "generates the word \"degrade\" starting from \"train\" by first creating \"ingrain\"\n",
    "and then applying a second replacement."
   ]
  },
  {
   "cell_type": "code",
   "execution_count": null,
   "id": "c08a2bba",
   "metadata": {},
   "outputs": [],
   "source": [
    "s = \"train\"\n",
    "t = s.replace('t', 'ing')\n",
    "u = t.replace('in', 'de')\n",
    "u"
   ]
  },
  {
   "cell_type": "markdown",
   "id": "cce85aaa",
   "metadata": {},
   "source": [
    "Note that the line `t = s.replace('t', 'ing')` doesn't change the string `s`,\n",
    "which is still \"train\".  The method call `s.replace('t', 'ing')` just has\n",
    "a value, which is the string \"ingrain\"."
   ]
  },
  {
   "cell_type": "code",
   "execution_count": null,
   "id": "ab2bf9c7",
   "metadata": {},
   "outputs": [],
   "source": [
    "s"
   ]
  },
  {
   "cell_type": "markdown",
   "id": "d0f0d2d3",
   "metadata": {},
   "source": [
    "This is the first time we've seen methods, but methods are not unique to strings.  As we will see shortly, other types of objects can have them.\n",
    "\n",
    "{ucb-page}`String_Methods`"
   ]
  }
 ],
 "metadata": {
  "kernelspec": {
   "display_name": "Python 3",
   "language": "python",
   "name": "python3"
  }
 },
 "nbformat": 4,
 "nbformat_minor": 5
}
