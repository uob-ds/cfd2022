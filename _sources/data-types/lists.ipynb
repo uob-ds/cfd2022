{
 "cells": [
  {
   "cell_type": "markdown",
   "id": "07e2a09f",
   "metadata": {},
   "source": [
    "# Lists\n",
    "\n",
    "Thus far we have seen the following data types:\n",
    "\n",
    "* integer (counting number) - `int`.\n",
    "* floating point number (number with decimal point) - `float`.\n",
    "* string (text) - `str`.\n",
    "* boolean (True or False value) - `bool`.\n",
    "\n",
    "In data analysis, we often want to collect together several numbers, or\n",
    "strings, into a *sequence*.  This allows us to collect values together into\n",
    "one place, and refer to all the values with a single name.  Now that we can refer to all the values with a single name, we can write code that works on the whole sequence at once.\n",
    "\n",
    "For example, remember our problem of the three girls in a family of four.\n",
    "\n",
    "You have seen that we can make four random values, that can be 0 or 1, like this:"
   ]
  },
  {
   "cell_type": "code",
   "execution_count": null,
   "id": "fbb4e840",
   "metadata": {},
   "outputs": [],
   "source": [
    "# Fetch the \"randint\" function from the Numpy library.\n",
    "from numpy.random import randint"
   ]
  },
  {
   "cell_type": "code",
   "execution_count": null,
   "id": "aa6b24b1",
   "metadata": {},
   "outputs": [],
   "source": [
    "# Get four random numbers between 0 and 1.\n",
    "a = randint(0, 2)\n",
    "b = randint(0, 2)\n",
    "c = randint(0, 2)\n",
    "d = randint(0, 2)"
   ]
  },
  {
   "cell_type": "markdown",
   "id": "3ca7c4b0",
   "metadata": {},
   "source": [
    "Here, each random number gets its own variable.   Then we added the numbers like this:"
   ]
  },
  {
   "cell_type": "code",
   "execution_count": null,
   "id": "ec9d517f",
   "metadata": {},
   "outputs": [],
   "source": [
    "a + b + c + d"
   ]
  },
  {
   "cell_type": "markdown",
   "id": "81b2eb1f",
   "metadata": {},
   "source": [
    "This gave us the number of girls for one simulated family.\n",
    "\n",
    "Now imagine that we were trying to simulate a family of 12 children.  We would\n",
    "have to give each child their own variable `a` through `l` (small L), and then have a long line like this:\n",
    "\n",
    "```\n",
    "a + b + c + d + e + f + g + h + i + j + k + l\n",
    "```\n",
    "\n",
    "That would be annoying in this case, and impractical when we have to simulate\n",
    "larger units, such as the 100 members of Robert Swain's jury panel.\n",
    "\n",
    "Sequences are part of the solution to this problem.  Sequences are values that contain zero or more other values.  There are various types of sequences, but the two we will use the most are:\n",
    "\n",
    "* Lists - `list`\n",
    "* Arrays - `np.array`\n",
    "\n",
    "We will see arrays soon.   This page is about *lists*."
   ]
  },
  {
   "cell_type": "markdown",
   "id": "68445e27",
   "metadata": {},
   "source": [
    "## Making a list\n",
    "\n",
    "You make a list using *square brackets* - `[` and `]`.\n",
    "\n",
    "Here we make a list that contains three integers:"
   ]
  },
  {
   "cell_type": "code",
   "execution_count": null,
   "id": "d9a831ce",
   "metadata": {},
   "outputs": [],
   "source": [
    "my_numbers = [1, 2, 3]\n",
    "my_numbers"
   ]
  },
  {
   "cell_type": "markdown",
   "id": "999be70e",
   "metadata": {},
   "source": [
    "`[1, 2, 3]` is a *list expression* because it is a recipe that results in\n",
    "a value that is a list).  We confirm it is an expression by showing that the notebook displays a value:"
   ]
  },
  {
   "cell_type": "code",
   "execution_count": null,
   "id": "7c5fd271",
   "metadata": {},
   "outputs": [],
   "source": [
    "[1, 2, 3]"
   ]
  },
  {
   "cell_type": "markdown",
   "id": "b1a8f538",
   "metadata": {},
   "source": [
    "What kind of value is it?"
   ]
  },
  {
   "cell_type": "code",
   "execution_count": null,
   "id": "85ff6882",
   "metadata": {},
   "outputs": [],
   "source": [
    "type(my_numbers)"
   ]
  },
  {
   "cell_type": "markdown",
   "id": "5bdfc763",
   "metadata": {},
   "source": [
    "Lists can be empty.  To make an empty list, put nothing inside the square brackets, like this:"
   ]
  },
  {
   "cell_type": "code",
   "execution_count": null,
   "id": "6168f0f9",
   "metadata": {},
   "outputs": [],
   "source": [
    "my_empty_list = []\n",
    "my_empty_list"
   ]
  },
  {
   "cell_type": "markdown",
   "id": "05d4f259",
   "metadata": {},
   "source": [
    "A list can have any kind of value as its elements.  For example, here is a list of strings:"
   ]
  },
  {
   "cell_type": "code",
   "execution_count": null,
   "id": "3e77dc8a",
   "metadata": {},
   "outputs": [],
   "source": [
    "some_strings = [\"Captain\", \"Agent\", \"Jessica\", \"Luke\"]\n",
    "some_strings"
   ]
  },
  {
   "cell_type": "markdown",
   "id": "6bb7b351",
   "metadata": {},
   "source": [
    "## Functions and lists\n",
    "\n",
    "Python has some built-in functions that operate on sequences, like lists.\n",
    "\n",
    "A built-in function is a function that we can use in any Python session,\n",
    "without `import`ing it from a library.\n",
    "\n",
    "One of these built-in functions is `len`.  Here is a *call expression*, using\n",
    "the function `len` on our list:"
   ]
  },
  {
   "cell_type": "code",
   "execution_count": null,
   "id": "4ce6f750",
   "metadata": {},
   "outputs": [],
   "source": [
    "len(my_numbers)"
   ]
  },
  {
   "cell_type": "markdown",
   "id": "841c187e",
   "metadata": {},
   "source": [
    "As you might predict, calling `len` with the list as an argument, returns the number of elements in the list.\n",
    "\n",
    "Another function that operates on lists is `sum`.  This adds all the elements in the list together, and returns the result:"
   ]
  },
  {
   "cell_type": "code",
   "execution_count": null,
   "id": "97c06905",
   "metadata": {},
   "outputs": [],
   "source": [
    "sum(my_numbers)"
   ]
  },
  {
   "cell_type": "markdown",
   "id": "c50ff20c",
   "metadata": {},
   "source": [
    "## A half-solution for three girls\n",
    "\n",
    "Now we have another way of solving the problem of making the family of four\n",
    "children above.  Use Control-Enter a few times on the cell below to convince\n",
    "yourself it returns numbers between 0 and 4 - simulated numbers of girls in\n",
    "a family of four children."
   ]
  },
  {
   "cell_type": "code",
   "execution_count": null,
   "id": "a1e4050c",
   "metadata": {},
   "outputs": [],
   "source": [
    "# Get four random numbers between 0 and 1, put them in a list.\n",
    "family = [randint(0, 2), randint(0, 2), randint(0, 2), randint(0, 2)]\n",
    "# Add all the values in the list\n",
    "sum(family)"
   ]
  }
 ],
 "metadata": {
  "kernelspec": {
   "display_name": "Python 3",
   "language": "python",
   "name": "python3"
  }
 },
 "nbformat": 4,
 "nbformat_minor": 5
}
