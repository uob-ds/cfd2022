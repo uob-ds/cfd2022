{
 "cells": [
  {
   "cell_type": "markdown",
   "id": "dc6e0faf",
   "metadata": {},
   "source": [
    "# Introduction to functions\n",
    "\n",
    "This is a very short introduction to functions.\n",
    "\n",
    "Functions are *recipes* with names [^berkeley-thanks].\n",
    "\n",
    "[^berkeley-thanks]: Thanks to [the Berkeley\n",
    "  team](https://www.inferentialthinking.com/chapters/08/Functions_and_Tables)\n",
    "  for this metaphor.\n",
    "\n",
    "Let's start with an example where you have seen functions - mathematics."
   ]
  },
  {
   "cell_type": "markdown",
   "id": "db5cc72a",
   "metadata": {},
   "source": [
    "## cosine\n",
    "\n",
    "You have used functions in mathematics.  For example, `cosine` is a function in\n",
    "mathematics.  We often write the `cosine` function as `cos`\n",
    "\n",
    "We might write something like this, in mathematics:\n",
    "\n",
    "$$\n",
    "y = cos(0)\n",
    "$$\n",
    "\n",
    "You can read $cos(0)$ as:\n",
    "\n",
    "> Call the function \"cos\" with the value 0, and return the result.\n",
    "\n",
    "Then $y = cos(0)$ means:\n",
    "\n",
    "> Call the function \"cos\" with the value 0, and return the result, storing the\n",
    "> result in \"y\".\n",
    "\n",
    "We *pass* a value to the function.  In our case we pass the value $0$.  The\n",
    "value that we pass is called the *argument*.\n",
    "\n",
    "The function *returns* a value.  In our case it returns the calculation of the\n",
    "cosine of $0$.\n",
    "\n",
    "You may remember that the cosine of 0 is 1.  So, after $y = cos(0)$, we expect\n",
    "$y$ to equal 1.\n",
    "\n",
    "Functions in Python work in a similar way."
   ]
  },
  {
   "cell_type": "markdown",
   "id": "63cdc69b",
   "metadata": {},
   "source": [
    "## Functions in Python\n",
    "\n",
    "First we load up the `cos` function from a library called `numpy`.\n",
    "\n",
    "Don't worry about the command to load the function, for now.  We will come back\n",
    "to that later.  Here is the command you need. Just run it in the notebook."
   ]
  },
  {
   "cell_type": "code",
   "execution_count": null,
   "id": "135ab786",
   "metadata": {},
   "outputs": [],
   "source": [
    "# Get the cos function from the numpy library.\n",
    "from numpy import cos"
   ]
  },
  {
   "cell_type": "markdown",
   "id": "becd2a49",
   "metadata": {},
   "source": [
    "Now we *call* the `cos` function, *passing* the value 0, and see what we get:"
   ]
  },
  {
   "cell_type": "code",
   "execution_count": null,
   "id": "6db6295b",
   "metadata": {},
   "outputs": [],
   "source": [
    "cos(0)"
   ]
  },
  {
   "cell_type": "markdown",
   "id": "13892829",
   "metadata": {},
   "source": [
    "* `cos` is the *name* of the function;\n",
    "* `0` is the *value* we *pass* to the function.\n",
    "* The value we pass to the function goes between the parentheses `(` and `)`\n",
    "  [^brackets].\n",
    "* `1.0` is the value that the function *returns*.  It is the *return value* of\n",
    "  the function.\n",
    "\n",
    "[^brackets]: Please be very careful to distinguish between different types of\n",
    "  brackets in Python (and other languages).  The different types of brackets\n",
    "  are: *parentheses* (round brackets), as in `()`; *square brackets* as in\n",
    "  `[]`; and *curly brackets* as in `{}`.  These brackets have different\n",
    "  meanings to Python; if you use the wrong type of brackets, you will either\n",
    "  get an error, or you will get a result you didn't expect.  Calling functions\n",
    "  uses parentheses.\n",
    "\n",
    "The value we pass to the function is also called the function *argument*.\n",
    "\n",
    "In our case we pass `0` as the *argument* to the `cos` function.\n",
    "\n",
    "We can also store the return value in a variable, like this:"
   ]
  },
  {
   "cell_type": "code",
   "execution_count": null,
   "id": "5f73d0c4",
   "metadata": {},
   "outputs": [],
   "source": [
    "y = cos(0)"
   ]
  },
  {
   "cell_type": "code",
   "execution_count": null,
   "id": "58354efb",
   "metadata": {},
   "outputs": [],
   "source": [
    "y"
   ]
  },
  {
   "cell_type": "markdown",
   "id": "8d74915e",
   "metadata": {},
   "source": [
    "As you will see, it's a very common pattern in Jupyter notebooks to store the\n",
    "value, and then show the value, in the same cell, like this:"
   ]
  },
  {
   "cell_type": "code",
   "execution_count": null,
   "id": "7d9c697c",
   "metadata": {},
   "outputs": [],
   "source": [
    "y = cos(0)\n",
    "y"
   ]
  },
  {
   "cell_type": "markdown",
   "id": "9702c655",
   "metadata": {},
   "source": [
    "Read this code as:\n",
    "\n",
    "> Pass the value 0 to the `cos` function.  Put the result into the variable\n",
    "> `y`. Show the contents of variable `y`."
   ]
  },
  {
   "cell_type": "markdown",
   "id": "8473147d",
   "metadata": {},
   "source": [
    "## Again with the recipe metaphor\n",
    "\n",
    "A recipe is the *procedure* to go from *ingredients* to a *meal*.\n",
    "\n",
    "A function is the *procedure* to go from the *arguments* to the *return value*.\n",
    "\n",
    "The *arguments* are the things that I send to the function.  The *return value*\n",
    "is the thing that the function sends back.\n",
    "\n",
    "It is the job of the function to do some work on the arguments, and return the\n",
    "correct return value.\n",
    "\n",
    "For example, I might have a recipe with the procedure to go from the\n",
    "ingredients: two eggs; butter; and cheese \\- to the meal \\- a cheese omelette.\n",
    "\n",
    "The function `cos` has the procedure to go from the input argument - a number -\n",
    "to the return value, which is the calculation of the cosine of the value of the\n",
    "input argument.\n",
    "\n",
    "I could call my recipe \"two egg cheese omelette\", or \"recipe number\n",
    "4\".  Whatever I called it, it would be the same recipe.  I might\n",
    "prefer a name that describes what the recipe makes, to help me\n",
    "remember.\n",
    "\n",
    "Likewise, the name `cos` refers to a procedure above.  The folks who wrote the\n",
    "Numpy library could have give it another name, like `some_function`, but `cos`\n",
    "is a good name, because it helps us remember what the procedure does.\n"
   ]
  },
  {
   "cell_type": "markdown",
   "id": "b96ef4be",
   "metadata": {},
   "source": [
    "## Practice with functions\n",
    "\n",
    "So far we have used the `cos` function from Numpy.  Let's try doing the same\n",
    "thing with the `sin` function:"
   ]
  },
  {
   "cell_type": "code",
   "execution_count": null,
   "id": "4638a1b9",
   "metadata": {},
   "outputs": [],
   "source": [
    "# Get the sin function from the numpy library.\n",
    "from numpy import sin"
   ]
  },
  {
   "cell_type": "code",
   "execution_count": null,
   "id": "8a9bb40c",
   "metadata": {},
   "outputs": [],
   "source": [
    "sin(0)"
   ]
  },
  {
   "cell_type": "markdown",
   "id": "8ab17712",
   "metadata": {},
   "source": [
    "* `sin` - the function name;\n",
    "* `0` - the value we pass to the function;\n",
    "* The value goes after the function name, and between parentheses;\n",
    "* `0.0` - the value that the function returns.\n",
    "\n",
    "We pass `0` as the *argument* to the `sin` function."
   ]
  },
  {
   "cell_type": "markdown",
   "id": "978b8934",
   "metadata": {},
   "source": [
    "Now your turn.\n",
    "\n",
    "Try importing the `sqrt` function.  Yes, you guessed it, `sqrt` is the\n",
    "procedure to go from a number (the argument) to the square root of that number\n",
    "(the return value)."
   ]
  },
  {
   "cell_type": "code",
   "execution_count": null,
   "id": "e77b6ec0",
   "metadata": {},
   "outputs": [],
   "source": [
    "# Get the sqrt function from the numpy library.\n",
    "# Your code here."
   ]
  },
  {
   "cell_type": "markdown",
   "id": "9563c4a0",
   "metadata": {},
   "source": [
    "Call the `sqrt` function with the value `9`; you should see this returns the value `3.0`."
   ]
  },
  {
   "cell_type": "code",
   "execution_count": null,
   "id": "0af2acde",
   "metadata": {},
   "outputs": [],
   "source": [
    "# Your code here."
   ]
  },
  {
   "cell_type": "markdown",
   "id": "3b9f0dce",
   "metadata": {},
   "source": [
    "Use Python to show that $3^2$ is indeed 9:"
   ]
  },
  {
   "cell_type": "code",
   "execution_count": null,
   "id": "27bdf99d",
   "metadata": {},
   "outputs": [],
   "source": [
    "# Your code to show the value of 3 squared."
   ]
  },
  {
   "cell_type": "markdown",
   "id": "3b9a1eff",
   "metadata": {},
   "source": [
    "We will see more about functions in the section on [call expressions](Calls)."
   ]
  }
 ],
 "metadata": {
  "jupytext": {
   "split_at_heading": true
  },
  "kernelspec": {
   "display_name": "Python 3",
   "language": "python",
   "name": "python3"
  }
 },
 "nbformat": 4,
 "nbformat_minor": 5
}
