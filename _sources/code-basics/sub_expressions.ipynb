{
 "cells": [
  {
   "cell_type": "markdown",
   "id": "7872d256",
   "metadata": {},
   "source": [
    "# Expressions, and decoding code\n",
    "\n",
    "The [expressions](Expressions) page introduced the idea of an expression as:\n",
    "\n",
    "> a recipe that returns a value.\n",
    "\n",
    "When Python *evaluates* an expression, it follows the recipe to return the\n",
    "value.\n",
    "\n",
    "In this page we go into a little more detail on expressions, and we consider\n",
    "*sub-expressions*.\n",
    "\n",
    "We do this to get used to the more general idea in programming, of building\n",
    "complex things from simple building blocks, according to simple rules.\n",
    "\n",
    "A large part of learning how to program is understanding what the computer is\n",
    "doing as a result of the code you type.  You can do this by looking at the\n",
    "code, in order to break it down into simpler building blocks.  This will help\n",
    "you understand how the parts are combined.\n",
    "\n",
    "We call this process *decoding the code*."
   ]
  },
  {
   "cell_type": "markdown",
   "id": "958b7d2d",
   "metadata": {},
   "source": [
    "## Simple building blocks\n",
    "\n",
    "Let's start with some simple building blocks.  Here is a simple expression in\n",
    "Python."
   ]
  },
  {
   "cell_type": "code",
   "execution_count": null,
   "id": "f477a010",
   "metadata": {},
   "outputs": [],
   "source": [
    "10.50"
   ]
  },
  {
   "cell_type": "markdown",
   "id": "c549f78b",
   "metadata": {},
   "source": [
    "Yes, the text you typed - `10.50` - is a simple expression in Python.\n",
    "\n",
    "When you run this cell, Python analyzes the text `10.50` - and detects that\n",
    "this is an *expression*.\n",
    "\n",
    "In fact the expression is what Python terms a \"float literal\", meaning that the\n",
    "text `10.50` should be evaluated to a floating point number.\n",
    "\n",
    " It *evaluates* the \"float literal\" expression, to give a *value*, which is its\n",
    " own internal representation of the floating point number 10.50.\n",
    "\n",
    "Finally, because this is the last and only line in this cell, Jupyter shows us\n",
    "a text representation of the value in the output part of the cell.\n",
    "\n",
    "This is a general feature of Jupyter - if the last line of the cell is an\n",
    "expression, Jupyter shows us a representation of the value that results from\n",
    "the expression."
   ]
  },
  {
   "cell_type": "markdown",
   "id": "1ed6df78",
   "metadata": {},
   "source": [
    "## Compound expressions\n",
    "\n",
    "We can build up more complex expressions, by combining simple expressions.  For\n",
    "example, this expression consists of two simpler expressions (the \"float\n",
    "literals\" `10.50` and `9.25`) combined with addition `+`. An expression that\n",
    "combines simple expressions is a *compound* expression."
   ]
  },
  {
   "cell_type": "code",
   "execution_count": null,
   "id": "19cc46e9",
   "metadata": {},
   "outputs": [],
   "source": [
    "# Combining two simple expressions into a compound expression.\n",
    "# Jupyter shows us the result, when we execute the cell.\n",
    "10.50 + 9.25"
   ]
  },
  {
   "cell_type": "markdown",
   "id": "a769d55c",
   "metadata": {},
   "source": [
    "As you will see, we can also say that the simple expressions `10.50` and `9.25`\n",
    "are *sub-expressions* of the compound expression `10.50 + 9.25`."
   ]
  },
  {
   "cell_type": "markdown",
   "id": "1ad8d56c",
   "metadata": {},
   "source": [
    "## Decoding the code\n",
    "\n",
    "Now consider this compound expression:"
   ]
  },
  {
   "cell_type": "code",
   "execution_count": null,
   "id": "080cbcec",
   "metadata": {},
   "outputs": [],
   "source": [
    "(10.50 + 9.25) * 0.15"
   ]
  },
  {
   "cell_type": "markdown",
   "id": "eee03255",
   "metadata": {},
   "source": [
    "Let us work out the process that Python will go through, when evaluating this\n",
    "expression.\n",
    "\n",
    "To work out what it will do, we need to consider the rules of\n",
    "[precedence](https://en.wikipedia.org/wiki/Order_of_operations).  One helpful\n",
    "mnemonic for operator precedence is BODMAS, referring to these operations:\n",
    "\n",
    "* Brackets\n",
    "* Order\n",
    "* Division / Multiplication\n",
    "* Addition / Subtraction\n",
    "\n",
    "\"Order\" refers to powers, as in $2^3$.\n",
    "\n",
    "Python first goes through and works out what is in the expression.  Here's the\n",
    "expression again:\n",
    "\n",
    "```\n",
    "(10.50 + 9.25) * 0.15\n",
    "```\n",
    "\n",
    "Python sees:\n",
    "\n",
    "* A left bracket `(`.\n",
    "* The \"float literal\" `10.50`\n",
    "* The addition operator `+`.\n",
    "* The \"float literal\" `10.50`\n",
    "* A right bracket `)`.\n",
    "* The multiplication operator `+`.\n",
    "* The \"float literal\" `0.15`\n",
    "\n",
    "Python knows BODMAS; it knows it should start with things between brackets. So,\n",
    "it starts by *evaluating* the part of the expression between brackets.  This\n",
    "involves:\n",
    "\n",
    "1. Evaluating the expression `10.50` to give the computer representation (CR)\n",
    "   of 10.50;\n",
    "2. Evaluating the expression `9.25` to give the CR of 10.50;\n",
    "3. Evaluating the *compound expression* 10.50 `+` 9.25 to give the CR of 19.75;\n",
    "\n",
    "Now it has evaluated the expression between brackets down to its result - 19.75\n",
    "-  its problem has reduced to the part outside the brackets.  Python:\n",
    "\n",
    "1. Evaluates `0.15` to give the CR of\n",
    "2. Multiplies the result of the bracketed expression (19.75) by 0.15 to give\n",
    "   the CR of the number 2.96250.\n",
    "\n",
    "When we run the cell, Python does this work, and Jupyter shows us a text\n",
    "representation of the result:"
   ]
  },
  {
   "cell_type": "code",
   "execution_count": null,
   "id": "93889a45",
   "metadata": {},
   "outputs": [],
   "source": [
    "(10.50 + 9.25) * 0.15"
   ]
  },
  {
   "cell_type": "markdown",
   "id": "2df6f383",
   "metadata": {},
   "source": [
    "## Sub-expressions\n",
    "\n",
    "A *compound* expression is an expression made up of smaller *sub-expressions*.\n",
    "\n",
    "A *sub-expression* is a smaller part of the compound expression, that Python\n",
    "will evaluate in the process of evaluating the compound expression.\n",
    "\n",
    "We have already considered this compound expression:"
   ]
  },
  {
   "cell_type": "code",
   "execution_count": null,
   "id": "45e1b6f4",
   "metadata": {},
   "outputs": [],
   "source": [
    "10.50 + 9.25"
   ]
  },
  {
   "cell_type": "markdown",
   "id": "da5196fc",
   "metadata": {},
   "source": [
    "The two sub-expressions are:\n",
    "\n",
    "* `10.50`: an expression that returns the CR of the number 10.50;\n",
    "* `9.25`: an expression that returns the CR of the number 9.25.\n",
    "\n",
    "Here is the more complicated compound expression:"
   ]
  },
  {
   "cell_type": "code",
   "execution_count": null,
   "id": "8e18c578",
   "metadata": {},
   "outputs": [],
   "source": [
    "(10.50 + 9.25) * 0.15"
   ]
  },
  {
   "cell_type": "markdown",
   "id": "0f2de5e1",
   "metadata": {},
   "source": [
    "There are four sub-expressions here:\n",
    "\n",
    "* `10.50` as above;\n",
    "* `9.25` as above;\n",
    "* `0.15` returns the CR of the number 0.15;\n",
    "* `(10.50 + 9.25)` is a compound expression that is itself a sub-expression of\n",
    "  the full expression above.  It returns the CR of the number 19.75.\n",
    "\n",
    "Each of these sub-expressions will be evaluated in the process of evaluating\n",
    "`(10.50 + 9.25) * 0.15`.\n",
    "\n",
    "What do you think?  Is `9.25 * 0.15` a sub-expression in this compound\n",
    "expression? [^answer1]\n",
    "\n",
    "[^answer1]: No - Python never evaluates that expression, because the `9.25` was\n",
    "  part of sub-expression between brackets, and Python evaluated and used the\n",
    "  `9.25` as part of the expression `(10.50 + 9.25)`.  There is no point in the\n",
    "  evaluation of this expression that Python calculates the equivalent of\n",
    "  `9.25 * 0.15`.\n",
    "\n",
    "Now consider:"
   ]
  },
  {
   "cell_type": "code",
   "execution_count": null,
   "id": "cdb597ac",
   "metadata": {},
   "outputs": [],
   "source": [
    "10.50 + 9.25 * 0.15"
   ]
  },
  {
   "cell_type": "markdown",
   "id": "8058cf52",
   "metadata": {},
   "source": [
    "Be careful - remember BODMAS.\n",
    "\n",
    "Python will:\n",
    "\n",
    "* evaluate the expression `10.50` to gives the CR of 10.50;\n",
    "* evaluate the expression `9.25` to gives the CR of 10.50;\n",
    "* (because of the precedence rules) evaluate  9.25 `*` 1.15 to give the\n",
    "  CR of 1.3875;\n",
    "* evaluate 10.50 `*` 1.3875 to give the CR of 11.8875.\n",
    "\n",
    "So, these are the sub-expressions:\n",
    "\n",
    "* `10.50`;\n",
    "* `9.25`;\n",
    "* `0.15`;\n",
    "* `9.25 * 0.15`.\n",
    "\n",
    "Note that `10.50 + 9.25` is *not* a sub-expression, because Python does not do\n",
    "this calculation in the course of evaluating the expression, because of BODMAS.\n",
    "The value that `9.25` is involved in is 9.25 * 1.3875, where 1.3875 is the\n",
    "value that comes back from `9.25 * 0.15` above.\n",
    "\n",
    "Let's say I have imported my `cos` function (see the [functions](functions)\n",
    "page):"
   ]
  },
  {
   "cell_type": "code",
   "execution_count": null,
   "id": "4f3efe56",
   "metadata": {},
   "outputs": [],
   "source": [
    "# Get the cos function from the numpy library.\n",
    "from numpy import cos"
   ]
  },
  {
   "cell_type": "markdown",
   "id": "b259a3ba",
   "metadata": {},
   "source": [
    "Now consider:"
   ]
  },
  {
   "cell_type": "code",
   "execution_count": null,
   "id": "8f8d82e7",
   "metadata": {},
   "outputs": [],
   "source": [
    "cos(0)"
   ]
  },
  {
   "cell_type": "markdown",
   "id": "ebe4a80e",
   "metadata": {},
   "source": [
    "`cos(0)` is an expression, because it is a recipe that returns a value.   In\n",
    "fact, it is a [call expression](Calls).\n",
    "\n",
    "There is one sub-expression to this expression, which is:\n",
    "\n",
    "* `0` returns the CR of 0.\n",
    "\n",
    "Call expressions are often sub-expressions of compound expressions:"
   ]
  },
  {
   "cell_type": "code",
   "execution_count": null,
   "id": "28d6bc8f",
   "metadata": {},
   "outputs": [],
   "source": [
    "cos(0) + 2"
   ]
  },
  {
   "cell_type": "markdown",
   "id": "c2404eb7",
   "metadata": {},
   "source": [
    "This has three sub-expressions:\n",
    "\n",
    "* `0` returns the CR of 0;\n",
    "* `cos(0)` returns the CR of the number 1;\n",
    "* `2` returns the CR of 2."
   ]
  },
  {
   "cell_type": "markdown",
   "id": "8efe9402",
   "metadata": {},
   "source": [
    "## Variables in expressions\n",
    "\n",
    "Finally, let's consider variables."
   ]
  },
  {
   "cell_type": "code",
   "execution_count": null,
   "id": "811e0b0f",
   "metadata": {},
   "outputs": [],
   "source": [
    "a = 10.50"
   ]
  },
  {
   "cell_type": "markdown",
   "id": "863c418f",
   "metadata": {},
   "source": [
    "Here is an expression:"
   ]
  },
  {
   "cell_type": "code",
   "execution_count": null,
   "id": "98278dc2",
   "metadata": {},
   "outputs": [],
   "source": [
    "a"
   ]
  },
  {
   "cell_type": "markdown",
   "id": "1d9c120c",
   "metadata": {},
   "source": [
    "It is an expression because it is a recipe that returns a value - in this case,\n",
    "the CR of the number 10.50.   We can see it returns a value because we see a\n",
    "text representation of the value, when Jupyter executes this cell.\n",
    "\n",
    "We could also define the variable `b`:"
   ]
  },
  {
   "cell_type": "code",
   "execution_count": null,
   "id": "6f4f42e3",
   "metadata": {},
   "outputs": [],
   "source": [
    "b = 9.25"
   ]
  },
  {
   "cell_type": "code",
   "execution_count": null,
   "id": "5add2d02",
   "metadata": {},
   "outputs": [],
   "source": [
    "b"
   ]
  },
  {
   "cell_type": "markdown",
   "id": "ce1235a5",
   "metadata": {},
   "source": [
    "Here is another compound expression:"
   ]
  },
  {
   "cell_type": "code",
   "execution_count": null,
   "id": "bff9d882",
   "metadata": {},
   "outputs": [],
   "source": [
    "(a + b) * 0.15"
   ]
  },
  {
   "cell_type": "markdown",
   "id": "7da22a42",
   "metadata": {},
   "source": [
    "Python:\n",
    "\n",
    "* Evaluates the expression `a` to get the CR of 10.50.\n",
    "* Evaluates the expression `b` to get the CR of 9.25.\n",
    "* Evaluates the expression `(a + b)` to get the CR of 19.75. [^a-plus-b]\n",
    "* Evaluates the expression `0.15` to get the CR of 0.15.\n",
    "* Evaluates the result of the bracketed expression multiplied by 0.15, to give\n",
    "  the CR of 2.9625\n",
    "\n",
    "[^a-plus-b]: It is short-hand at this point to say that Python evaluates the\n",
    "  expression `(a + b)`.  Of course it is evaluating the CR that came from `a`\n",
    "  (10.50) added to the CR that came from `b` (9.25).  But we still use `(a +\n",
    "  b)` as a convenient way to express this.\n",
    "\n",
    "Therefore the expression above has four sub-expressions:\n",
    "\n",
    "* `a`\n",
    "* `b`\n",
    "* `0.15`\n",
    "* `(a + b)`"
   ]
  }
 ],
 "metadata": {
  "anaconda-cloud": {},
  "jupytext": {
   "notebook_metadata_filter": "anaconda-cloud,language_info"
  },
  "kernelspec": {
   "display_name": "Python 3",
   "language": "python",
   "name": "python3"
  },
  "language_info": {
   "codemirror_mode": {
    "name": "ipython",
    "version": 3
   },
   "file_extension": ".py",
   "mimetype": "text/x-python",
   "name": "python",
   "nbconvert_exporter": "python",
   "pygments_lexer": "ipython3",
   "version": "3.5.2"
  }
 },
 "nbformat": 4,
 "nbformat_minor": 5
}
