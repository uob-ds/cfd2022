{
 "cells": [
  {
   "cell_type": "markdown",
   "id": "2a9ce23f",
   "metadata": {},
   "source": [
    "# A simpler problem\n",
    "\n",
    "Imagine a family with four children.\n",
    "\n",
    "What is the probability that the family will have exactly three girls?\n",
    "\n",
    "There are various ways to answer this question.  One way, is to use\n",
    "*simulation*.\n",
    "\n",
    "Simulation makes a *model* of the problem.  We use the model to generate\n",
    "*simulated* data.  If the model is a good one, the simulated data should look\n",
    "like the real data.\n",
    "\n",
    "First we need to simulate a family of four children.\n",
    "\n",
    "Then we need to count the number of girls.\n",
    "\n",
    "We do this many many times, and see how often we get a count of 3.\n",
    "\n",
    "In our model, the chances of any one child being a boy or a girl is 0.5, or\n",
    "50%.  To do our simulation, we need something random, like the toss of a coin, to decide if the next child is a boy or a girl.\n",
    "\n",
    "Tossing a coin is a bit time-consuming, and your computer is well designed to solve this task in a more efficient way.  It can generate random numbers.\n",
    "\n",
    "In this next cell, we fetch a routine (actually, a *function*) to generate random numbers.  We fetch it from the Numpy library, of which you will see much more.  For now, all you need to know is that the function we want is called `randint` in the Numpy `random` sub-library.  We fetch it like this:"
   ]
  },
  {
   "cell_type": "code",
   "execution_count": null,
   "id": "637c7250",
   "metadata": {},
   "outputs": [],
   "source": [
    "# Fetch the randint function from the Numpy library.\n",
    "from numpy.random import randint"
   ]
  },
  {
   "cell_type": "markdown",
   "id": "b6a23a25",
   "metadata": {},
   "source": [
    "Now we have the `randint` function, we can run the following cell 4 times, to\n",
    "get 4 random numbers between 0 and 1.\n",
    "\n",
    "Call 0 a boy, and 1 a girl.  If we run this four times, then we have one simulated family.  We can count how many 1s (girls) we got in the four runs, and that is the simulated number of girls, for this family."
   ]
  },
  {
   "cell_type": "code",
   "execution_count": null,
   "id": "2d324d8f",
   "metadata": {},
   "outputs": [],
   "source": [
    "# Return a random number that is either 0 or 1.\n",
    "# The second arguments, 2, tells the function to return numbers up to, but\n",
    "# not including 2.\n",
    "randint(0, 2)"
   ]
  },
  {
   "cell_type": "markdown",
   "id": "765233d8",
   "metadata": {},
   "source": [
    "`randint` is a *function*.\n",
    "\n",
    "`randint(2)` *calls* the function, and returns a random number, that is either\n",
    "0 and 1."
   ]
  },
  {
   "cell_type": "markdown",
   "id": "129bf276",
   "metadata": {},
   "source": [
    "It's inconvenient to have to run this cell many times.   We really need some\n",
    "machinery to make the computer do that for us.  We need *variables*,\n",
    "*functions*, *comparisons* and *arrays*.  We will deal with those next."
   ]
  }
 ],
 "metadata": {
  "jupytext": {
   "formats": "Rmd,ipynb",
   "notebook_metadata_filter": "language_info"
  },
  "kernelspec": {
   "display_name": "Python 3",
   "language": "python",
   "name": "python3"
  },
  "language_info": {
   "codemirror_mode": {
    "name": "ipython",
    "version": 3
   },
   "file_extension": ".py",
   "mimetype": "text/x-python",
   "name": "python",
   "nbconvert_exporter": "python",
   "pygments_lexer": "ipython3",
   "version": "3.7.0"
  }
 },
 "nbformat": 4,
 "nbformat_minor": 5
}
