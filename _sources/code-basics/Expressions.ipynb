{
 "cells": [
  {
   "cell_type": "markdown",
   "id": "864ca58d",
   "metadata": {},
   "source": [
    "# Expressions\n",
    "\n",
    "Programming languages are much simpler than human languages. Nonetheless,\n",
    "there are some rules of grammar to learn in any language, and that is where we\n",
    "will begin. In this text, we are using the [Python](https://www.python.org/)\n",
    "programming language. Learning the grammar rules is essential, and the same\n",
    "rules used in the most basic programs are also central to more sophisticated\n",
    "programs."
   ]
  },
  {
   "cell_type": "markdown",
   "id": "21a93edf",
   "metadata": {},
   "source": [
    "Programs contain *expressions*.\n",
    "\n",
    "You can think of an expression as a *recipe that returns a value*.  For\n",
    "example, this is an expression:"
   ]
  },
  {
   "cell_type": "code",
   "execution_count": null,
   "id": "d89a5946",
   "metadata": {},
   "outputs": [],
   "source": [
    "3 * 4"
   ]
  },
  {
   "cell_type": "markdown",
   "id": "e2dd401a",
   "metadata": {},
   "source": [
    "Notice that the Notebook displays the value.  This the *value* that the\n",
    "expression returns."
   ]
  },
  {
   "cell_type": "markdown",
   "id": "a307caf7",
   "metadata": {},
   "source": [
    "An expression can describe to the computer how to combine pieces of data. In\n",
    "our example, we have a multiplication expression that consists of a `*` symbol\n",
    "between two numerical expressions. Expressions, such as `3 * 4`, are\n",
    "*evaluated* by the computer. The value (the result of *evaluation*) of the\n",
    "last expression in each cell, `12` in this case, is displayed below the cell."
   ]
  },
  {
   "cell_type": "markdown",
   "id": "6bc61e45",
   "metadata": {},
   "source": [
    "The grammar rules of a programming language are rigid. In Python, the `*`\n",
    "symbol cannot appear twice in a row. The computer will not try to interpret an\n",
    "expression that differs from its prescribed expression structures. Instead, it\n",
    "will show a `SyntaxError` error. The *Syntax* of a language is its set of\n",
    "grammar rules, and a `SyntaxError` indicates that an expression structure\n",
    "doesn't match any of the rules of the language.\n",
    "\n",
    "For example, consider this code, and the resulting error:"
   ]
  },
  {
   "cell_type": "code",
   "execution_count": null,
   "id": "dcbe91fa",
   "metadata": {
    "tags": [
     "raises-exception"
    ]
   },
   "outputs": [],
   "source": [
    "3 * * 4"
   ]
  },
  {
   "cell_type": "markdown",
   "id": "c5180394",
   "metadata": {},
   "source": [
    "Small changes to an expression can change its meaning entirely. Below, we\n",
    "removed the space between the `*`'s. Because `**` appears between two\n",
    "numerical expressions, the expression is a well-formed *exponentiation*\n",
    "expression (the first number raised to the power of the second: 3 times\n",
    "3 times 3 times 3). The symbols `*` and `**` are called *operators*, and the\n",
    "values they combine are called *operands*."
   ]
  },
  {
   "cell_type": "code",
   "execution_count": null,
   "id": "77d9e62c",
   "metadata": {
    "lines_to_next_cell": 2
   },
   "outputs": [],
   "source": [
    "3 ** 4"
   ]
  },
  {
   "cell_type": "markdown",
   "id": "ed30d75d",
   "metadata": {},
   "source": [
    "## Walking a mile in Python's shoes"
   ]
  },
  {
   "cell_type": "markdown",
   "id": "543ca6e3",
   "metadata": {},
   "source": [
    "To think about expressions, we often need to remind ourselves what Python does when it sees the code for an expression.\n",
    "\n",
    "We look again at:"
   ]
  },
  {
   "cell_type": "code",
   "execution_count": null,
   "id": "2db70a6f",
   "metadata": {},
   "outputs": [],
   "source": [
    "3 * 4"
   ]
  },
  {
   "cell_type": "markdown",
   "id": "c7178f6c",
   "metadata": {},
   "source": [
    "It is an expression because it is a recipe that returns a value.  We see the\n",
    "notebook display the value.\n",
    "\n",
    "Now consider this expression:"
   ]
  },
  {
   "cell_type": "code",
   "execution_count": null,
   "id": "cb2737d9",
   "metadata": {},
   "outputs": [],
   "source": [
    "3"
   ]
  },
  {
   "cell_type": "markdown",
   "id": "4a772ef5",
   "metadata": {},
   "source": [
    "It's an expression because it returns a value.  We see the notebook display the value.\n",
    "\n",
    "More specifically, when Python sees the code `3`, it generates a computer representation of the number 3.\n",
    "\n",
    "We will use *CR* as a shorthand for *computer representation*.  To repeat then,\n",
    "the expression `3` causes Python to make and return a CR of the number 3.\n",
    "\n",
    "The Notebook then makes a human-readable display for the computer representation, and shows it to us.\n",
    "\n",
    "We will uses *HR* as a shorthand for *human readable*.  You can also read HR as *human representation*.\n",
    "\n",
    "In this case the HR `3` is the same as the code we typed, but this isn't always\n",
    "so.  Consider the expression we saw above:"
   ]
  },
  {
   "cell_type": "code",
   "execution_count": null,
   "id": "5f49ac0a",
   "metadata": {},
   "outputs": [],
   "source": [
    "3 * 4"
   ]
  },
  {
   "cell_type": "markdown",
   "id": "3612cfb4",
   "metadata": {},
   "source": [
    "Python does the following:\n",
    "\n",
    "* makes a CR of the number 3;\n",
    "* makes a CR of the number 4;\n",
    "* multiplies the CR of 3 and the CR of 4 to get a CR of 12.\n",
    "\n",
    "The CR of 12 is the value returned from the expression.  The notebook turns\n",
    "that into something that humans can read easily - the HR of 12 - which is\n",
    "`12`."
   ]
  },
  {
   "cell_type": "markdown",
   "id": "6697b499",
   "metadata": {},
   "source": [
    "## Common Operators"
   ]
  },
  {
   "cell_type": "markdown",
   "id": "413451eb",
   "metadata": {},
   "source": [
    "We often want to combine numerical values, and the set of operators in\n",
    "a programming language are designed to so that expressions can be used to\n",
    "express any sort of arithmetic. In Python, the following operators are\n",
    "essential.\n",
    "\n",
    "| Expression Type | Operator | Example    | Value     |\n",
    "|-----------------|----------|------------|-----------|\n",
    "| Addition        | `+`      | `2 + 3`    | `5`       |\n",
    "| Subtraction     | `-`      | `2 - 3`    | `-1`      |\n",
    "| Multiplication  | `*`      | `2 * 3`    | `6`       |\n",
    "| Division        | `/`      | `7 / 3`    | `2.66667` |\n",
    "| Remainder       | `%`      | `7 % 3`    | `1`       |\n",
    "| Exponentiation  | `**`     | `2 ** 0.5` | `1.41421` |"
   ]
  },
  {
   "cell_type": "markdown",
   "id": "b396bc22",
   "metadata": {},
   "source": [
    "## Operator precedence"
   ]
  },
  {
   "cell_type": "markdown",
   "id": "c865e824",
   "metadata": {},
   "source": [
    "Python expressions obey the same familiar rules of\n",
    "[precedence](https://en.wikipedia.org/wiki/Order_of_operations) as in algebra:\n",
    "multiplication and division occur before addition and subtraction. Parentheses\n",
    "can be used to group together smaller expressions within a larger expression.\n",
    "\n",
    "Multiplication has precedence (we do `2 * 3` before adding to 1)."
   ]
  },
  {
   "cell_type": "code",
   "execution_count": null,
   "id": "6aba9138",
   "metadata": {},
   "outputs": [],
   "source": [
    "1 + 2 * 3"
   ]
  },
  {
   "cell_type": "markdown",
   "id": "2343e875",
   "metadata": {},
   "source": [
    "We can use parentheses to group expressions that should be evaluated first.\n",
    "Here we force `1 + 2` *before* the multiplication by 3."
   ]
  },
  {
   "cell_type": "code",
   "execution_count": null,
   "id": "bd0fa04e",
   "metadata": {},
   "outputs": [],
   "source": [
    "(1 + 2) * 3"
   ]
  },
  {
   "cell_type": "markdown",
   "id": "4c1ca480",
   "metadata": {},
   "source": [
    "In the expression above, the `1 + 2` is a *sub-expression* within the whole\n",
    "expression `(1 + 2) * 3`.  When Python sees this line, it finds the expression\n",
    "`(1 + 2)` and evaluates that to get `3`.  Then it evaluates `3 * 3` to get `9`.\n",
    "\n",
    "As you learn to program, you will learn to think about what Python is doing,\n",
    "and the logical steps it follows.  Over time, you will find it easier to\n",
    "predict what it will do, and understand why."
   ]
  },
  {
   "cell_type": "markdown",
   "id": "7c4bf15c",
   "metadata": {},
   "source": [
    "## Example"
   ]
  },
  {
   "cell_type": "markdown",
   "id": "7c64cb52",
   "metadata": {},
   "source": [
    "Here, from the Washington Post in the early 1980s, is a graph that attempts to\n",
    "compare the earnings of doctors with the earnings of other professionals over\n",
    "a few decades. Do we really need to see two heads (one with a stethoscope) on\n",
    "each bar? [Edward Tufte](https://en.wikipedia.org/wiki/Edward_Tufte),\n",
    "Professor at Yale and one of the world's experts on visualizing quantitative\n",
    "information, coined the term \"chartjunk\" for such unnecessary embellishments.\n",
    "This graph is also an example of the \"low data-to-ink ratio\" that Tufte\n",
    "deplores.\n",
    "\n",
    "![Washington Post graph](../images/bad_post_graph.png)"
   ]
  },
  {
   "cell_type": "markdown",
   "id": "2b10e6cf",
   "metadata": {},
   "source": [
    "Most importantly, the horizontal axis of the graph is is not drawn to scale.\n",
    "This has a significant effect on the shape of the bar graphs. When drawn to\n",
    "scale and shorn of decoration, the graphs reveal trends that are quite\n",
    "different from the apparently linear growth in the original. The elegant graph\n",
    "below is due to Ross Ihaka, one of the originators of the statistical system\n",
    "R.\n",
    "\n",
    "![Ross Ihaka's version of Post graph](../images/ihaka_fixed_post_graph.png)\n",
    "\n",
    "In the period 1939 to 1963, the doctors' incomes went up from \\$3,262 to\n",
    "\\$25,050. So during that period the average increase in income per year was\n",
    "about \\$900."
   ]
  },
  {
   "cell_type": "code",
   "execution_count": null,
   "id": "fccf23a6",
   "metadata": {},
   "outputs": [],
   "source": [
    "(25050 - 3262)/(1963 - 1939)"
   ]
  },
  {
   "cell_type": "markdown",
   "id": "c49679f1",
   "metadata": {},
   "source": [
    "In Ross Ihaka's graph you can see that in this period, the doctors' incomes\n",
    "rise roughly linearly at a fairly steady rate. That rate is about \\$900, as we\n",
    "have just calculated.\n",
    "\n",
    "But in the period 1963 to 1976, the rate is more than three times as high:"
   ]
  },
  {
   "cell_type": "code",
   "execution_count": null,
   "id": "97e7d160",
   "metadata": {},
   "outputs": [],
   "source": [
    "(62799 - 25050)/(1976 - 1963)"
   ]
  },
  {
   "cell_type": "markdown",
   "id": "00203449",
   "metadata": {},
   "source": [
    "That is why the graph rises much more steeply after 1963."
   ]
  },
  {
   "cell_type": "markdown",
   "id": "821602b0",
   "metadata": {},
   "source": [
    "This chapter introduces many types of expressions. Learning to program\n",
    "involves trying out everything you learn in combination, investigating the\n",
    "behavior of the computer. What happens if you divide by zero? What happens if\n",
    "you divide twice in a row? You don't always need to ask an expert (or the\n",
    "Internet); many of these details can be discovered by trying them out\n",
    "yourself.\n",
    "\n",
    "{ucb-page}`Expressions`"
   ]
  }
 ],
 "metadata": {
  "anaconda-cloud": {},
  "jupytext": {
   "notebook_metadata_filter": "anaconda-cloud,language_info"
  },
  "kernelspec": {
   "display_name": "Python 3",
   "language": "python",
   "name": "python3"
  },
  "language_info": {
   "codemirror_mode": {
    "name": "ipython",
    "version": 3
   },
   "file_extension": ".py",
   "mimetype": "text/x-python",
   "name": "python",
   "nbconvert_exporter": "python",
   "pygments_lexer": "ipython3",
   "version": "3.5.2"
  }
 },
 "nbformat": 4,
 "nbformat_minor": 5
}
