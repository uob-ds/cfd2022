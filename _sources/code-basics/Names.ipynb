{
 "cells": [
  {
   "cell_type": "markdown",
   "id": "dc5f28d0",
   "metadata": {},
   "source": [
    "# Names and variables\n",
    "\n",
    "As you've already seen in the [introduction to variables](variables_intro),\n",
    "Python gives names to values using an *assignment* statement. In an\n",
    "assignment, a *name* is followed by `=`, which is followed by any\n",
    "[expression](Expressions). The value of the expression to the right of `=` is\n",
    "*assigned* to the name. Once a name has a value assigned to it, the value will\n",
    "be substituted for that name in future expressions.\n",
    "\n",
    "To repeat, when Python gives a name to a value, that is an *assignment\n",
    "statement*.\n",
    "\n",
    "A *statement* is a piece of code that performs an action."
   ]
  },
  {
   "cell_type": "markdown",
   "id": "65ed6d8a",
   "metadata": {},
   "source": [
    "Here are two assignment statements, giving values to the names `a` and `b`.\n",
    "Then we use these variables in an expression.  The Notebook shows the human-readable display of the expression return value."
   ]
  },
  {
   "cell_type": "code",
   "execution_count": null,
   "id": "16c807e2",
   "metadata": {},
   "outputs": [],
   "source": [
    "a = 10\n",
    "b = 20\n",
    "a + b"
   ]
  },
  {
   "cell_type": "markdown",
   "id": "f1355763",
   "metadata": {},
   "source": [
    "In the expression `a + b` above, Python evaluates the variable `a` to get\n",
    "a computer representation (CR) of the number 10, it evaluates the variable `b`\n",
    "to get the CR of 20, and then adds them, to give the final result of the\n",
    "expression; a CR of 30.\n",
    "\n",
    "Finally, the notebook creates a human-readable (HR) version of the result, and\n",
    "shows that to us.\n",
    "\n",
    "A variable can be used in the expression to the right of `=`."
   ]
  },
  {
   "cell_type": "code",
   "execution_count": null,
   "id": "e91b7d50",
   "metadata": {},
   "outputs": [],
   "source": [
    "quarter = 1/4\n",
    "half = 2 * quarter\n",
    "half"
   ]
  },
  {
   "cell_type": "markdown",
   "id": "e46a903e",
   "metadata": {},
   "source": [
    "We can change the value for variables.  Here we change the value of variable\n",
    "`quarter` from 0.25 to 4."
   ]
  },
  {
   "cell_type": "code",
   "execution_count": null,
   "id": "4989c24e",
   "metadata": {},
   "outputs": [],
   "source": [
    "quarter = 4"
   ]
  },
  {
   "cell_type": "markdown",
   "id": "b54efb93",
   "metadata": {},
   "source": [
    "Now we have changed the value of `quarter` What do you think will happen to\n",
    "the value of `half` above?  Will it change, or will it stay the same?\n",
    "\n",
    "Try working out the answer before reading further.\n",
    "\n",
    "Remember that an expression *evaluates* its variables before returning the\n",
    "result.  In the cell above, the expression `half = 2 * quarter` evaluated\n",
    "`quarter`, to get the CR of 0.25, and then evaluated 2 * 0.25, to give the CR\n",
    "of 0.5.  `half` has this value - the CR of 0.5.  When we changed `quarter` in\n",
    "the next cell, it did not affect the value that we have already given to\n",
    "`half`:"
   ]
  },
  {
   "cell_type": "code",
   "execution_count": null,
   "id": "94002a8a",
   "metadata": {},
   "outputs": [],
   "source": [
    "half"
   ]
  },
  {
   "cell_type": "markdown",
   "id": "da66bd69",
   "metadata": {},
   "source": [
    "## Reassigning variables\n",
    "\n",
    "You can change (reassign) the value of a variable.  Let's say we start with:"
   ]
  },
  {
   "cell_type": "code",
   "execution_count": null,
   "id": "867d317f",
   "metadata": {},
   "outputs": [],
   "source": [
    "a = 5\n",
    "a"
   ]
  },
  {
   "cell_type": "markdown",
   "id": "b70ff662",
   "metadata": {},
   "source": [
    "At this stage the variable `a` has the value 5.\n",
    "\n",
    "If you want, you can then *change* the value of `a`, like this:"
   ]
  },
  {
   "cell_type": "code",
   "execution_count": null,
   "id": "714d6995",
   "metadata": {},
   "outputs": [],
   "source": [
    "a = 7\n",
    "a"
   ]
  },
  {
   "cell_type": "markdown",
   "id": "b535dd04",
   "metadata": {},
   "source": [
    "Now the variable `a` has the value 7.  You can call this *reassigning* a variable.\n",
    "\n",
    "Now consider this piece of code:"
   ]
  },
  {
   "cell_type": "code",
   "execution_count": null,
   "id": "a1cac817",
   "metadata": {},
   "outputs": [],
   "source": [
    "a = 10\n",
    "a = a + 1"
   ]
  },
  {
   "cell_type": "markdown",
   "id": "ce232347",
   "metadata": {},
   "source": [
    "What value will `a` have?\n",
    "\n",
    "Remember that Python will evaluate the right hand side (RHS) of `a = a + 1`.\n",
    "The RHS is `a + 1`. This has two [sub-expressions](sub_expressions), `a` (which\n",
    "evaluates to the CR of 10) and `1` (which evaluates to a CR of 1), so the value\n",
    "returned from `a \\+ 1` is the CR of 11.  After this Python sets the\n",
    "left-hand-side name `a` to have this value.   So:"
   ]
  },
  {
   "cell_type": "code",
   "execution_count": null,
   "id": "c87c9f92",
   "metadata": {},
   "outputs": [],
   "source": [
    "a"
   ]
  },
  {
   "cell_type": "markdown",
   "id": "26d892df",
   "metadata": {},
   "source": [
    "See [this chapter in Think Like a Computer\n",
    "Scientist](https://runestone.academy/runestone/books/published/thinkcspy/SimplePythonData/Reassignment.html)\n",
    "for more explanation of variables and reassignment.\n",
    "\n",
    "## Rules for variable names\n",
    "\n",
    "Variable names must start with a letter, but can contain both letters and\n",
    "numbers. A name cannot contain a space; instead, it is common to use an\n",
    "underscore character `_` to replace each space. Names are only as useful as\n",
    "you make them; it's up to the programmer to choose names that are easy to\n",
    "interpret.  Typically, more meaningful names can be invented than `a` and `b`.\n",
    "For example, let's say you were calculating the 20% Value Added Tax for a\n",
    "restaurant bill, as well as 15% tip, on top of that.  The following names\n",
    "clarify the meaning of the various quantities involved."
   ]
  },
  {
   "cell_type": "code",
   "execution_count": null,
   "id": "d5404036",
   "metadata": {},
   "outputs": [],
   "source": [
    "meal_price = 25\n",
    "vat_rate = 0.2\n",
    "vat = meal_price * vat_rate\n",
    "meal_price_with_vat = meal_price + vat\n",
    "meal_price_with_vat"
   ]
  },
  {
   "cell_type": "code",
   "execution_count": null,
   "id": "b2d5f95e",
   "metadata": {},
   "outputs": [],
   "source": [
    "tip_rate = 0.15\n",
    "tip = meal_price_with_vat * tip_rate\n",
    "meal_price_total = meal_price_with_vat + tip\n",
    "meal_price_total"
   ]
  },
  {
   "cell_type": "markdown",
   "id": "74fbe7d6",
   "metadata": {},
   "source": [
    "See [the Names exercises](../exercises/names) to practice the material in this section.\n",
    "\n",
    "{ucb-page}`Names`"
   ]
  }
 ],
 "metadata": {
  "anaconda-cloud": {},
  "jupytext": {
   "notebook_metadata_filter": "anaconda-cloud,language_info"
  },
  "kernelspec": {
   "display_name": "Python 3",
   "language": "python",
   "name": "python3"
  },
  "language_info": {
   "codemirror_mode": {
    "name": "ipython",
    "version": 3
   },
   "file_extension": ".py",
   "mimetype": "text/x-python",
   "name": "python",
   "nbconvert_exporter": "python",
   "pygments_lexer": "ipython3",
   "version": "3.6.5"
  }
 },
 "nbformat": 4,
 "nbformat_minor": 5
}
