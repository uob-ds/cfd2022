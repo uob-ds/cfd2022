{
 "cells": [
  {
   "cell_type": "markdown",
   "id": "ab6215a1",
   "metadata": {},
   "source": [
    "This page derives from the [equivalent\n",
    "page](http://introtopython.org/introducing_functions.html) in the excellent\n",
    "[introduction to Python](http://introtopython.org) by [Eric\n",
    "Matthes](https://github.com/ehmatthes).  The original page has an [MIT\n",
    "license](https://github.com/ehmatthes/intro_programming/blob/master/LICENSE.md).\n"
   ]
  },
  {
   "cell_type": "markdown",
   "id": "9071c00b",
   "metadata": {},
   "source": [
    "# Introducing Functions\n",
    "\n",
    "One of the core principles of any programming language is, \"Don't Repeat Yourself\". If you have an action that should occur many times, you can define that action once and then call that code whenever you need to carry out that action.\n",
    "\n",
    "We are already repeating ourselves in our code, so this is a good time to introduce simple functions. Functions mean less work for us as programmers, and effective use of functions results in code that is less error-prone.\n"
   ]
  },
  {
   "cell_type": "markdown",
   "id": "2bd81fd0",
   "metadata": {},
   "source": [
    "## What are functions?\n",
    "\n",
    "Functions are *named recipes*. The recipe is a procedure; a set of actions\n",
    "that we group together. You have already used a number of functions from the\n",
    "core Python language, such as `round`, and `type`. We can define our own\n",
    "functions, which allows us to \"teach\" Python new behavior.\n"
   ]
  },
  {
   "cell_type": "markdown",
   "id": "de0bce5e",
   "metadata": {},
   "source": [
    "## General Syntax\n",
    "\n",
    "A function looks something like this:"
   ]
  },
  {
   "cell_type": "code",
   "execution_count": null,
   "id": "1142c5a6",
   "metadata": {},
   "outputs": [],
   "source": [
    "# Let's define a function.\n",
    "def function_name(argument_1, argument_2):\n",
    "    # Do whatever we want this function to do,\n",
    "    # using argument_1 and argument_2.\n",
    "    # In this case we just add the two arguments.\n",
    "    a_value = argument_1 + argument_2\n",
    "    # Send back (return) the calculated result.\n",
    "    return a_value"
   ]
  },
  {
   "cell_type": "markdown",
   "id": "6c22e49f",
   "metadata": {},
   "source": [
    "We would call the function like this:"
   ]
  },
  {
   "cell_type": "code",
   "execution_count": null,
   "id": "69f7347a",
   "metadata": {},
   "outputs": [],
   "source": [
    "# Just to define some values\n",
    "value_1 = 5\n",
    "value_2 = 15\n",
    "# Use function_name to call the function.\n",
    "function_name(value_1, value_2)"
   ]
  },
  {
   "cell_type": "markdown",
   "id": "d1837259",
   "metadata": {},
   "source": [
    "Notice that our new function **returns** a result.  Jupyter displays the\n",
    "result for us.\n",
    "\n",
    "This code isn't very useful, but it shows how functions are used in general.\n",
    "\n",
    "- **Defining a function**\n",
    "    - Give the keyword `def`, which tells Python that you are about to\n",
    "      *define* a function.\n",
    "    - Give your function a name. A variable name tells you what kind of value\n",
    "      the variable contains; a function name should tell you what the function\n",
    "      does.\n",
    "    - Give names for each value the function needs in order to do its work.\n",
    "        - These are basically variable names, but they are only used in the\n",
    "          function.\n",
    "        - They can be different names than what you use in the rest of your\n",
    "          program.\n",
    "        - These are called the function's *arguments*.\n",
    "    - Make sure the function definition line ends with a colon.\n",
    "    - Inside the function, write whatever code you need to make the function\n",
    "      do its work.\n",
    "- **Using your function**\n",
    "    - To *call* your function, write its name followed by parentheses.\n",
    "    - Inside the parentheses, give the values you want the function to work\n",
    "      with.\n",
    "        - These can be variables such as `current_name` and `current_age`, or\n",
    "          they can be actual values such as \"eric\" and 5.\n"
   ]
  },
  {
   "cell_type": "markdown",
   "id": "1b917d7e",
   "metadata": {},
   "source": [
    "## Basic Example\n",
    "\n",
    "For a simple first example, we will look at a program that compliments people.\n",
    "Let's look at the example, and then try to understand the code. First we will\n",
    "look at a version of this program with no functions."
   ]
  },
  {
   "cell_type": "code",
   "execution_count": null,
   "id": "54e3f953",
   "metadata": {},
   "outputs": [],
   "source": [
    "# The \"\\n\" below means start a new line.\n",
    "msg = \"Great work, Adriana!\\n\"\n",
    "msg = msg + \"Thanks for your efforts.\\n\"\n",
    "print(msg)\n",
    "\n",
    "msg = \"Great work, Billy!\\n\"\n",
    "msg = msg + \"Thanks for your efforts.\\n\"\n",
    "print(msg)\n",
    "\n",
    "msg = \"Great work, Caroline!\\n\"\n",
    "msg = msg + \"Thanks for your efforts.\\n\"\n",
    "print(msg)"
   ]
  },
  {
   "cell_type": "markdown",
   "id": "6168422a",
   "metadata": {},
   "source": [
    "Functions take repeated code, put it in one place, and then you call that code\n",
    "when you want to use it. Here is a function which assembles the message for one person."
   ]
  },
  {
   "cell_type": "code",
   "execution_count": null,
   "id": "1c789d23",
   "metadata": {},
   "outputs": [],
   "source": [
    "def thank_you(name):\n",
    "    # This function returns a two-line personalized thank you message.\n",
    "    msg = \"Great work, \" + name + \"\\n\"\n",
    "    msg = msg + \"Thanks for your efforts.\\n\"\n",
    "    return msg"
   ]
  },
  {
   "cell_type": "markdown",
   "id": "adfc69fe",
   "metadata": {},
   "source": [
    "We can use our new function like this:"
   ]
  },
  {
   "cell_type": "code",
   "execution_count": null,
   "id": "b5bcf1a9",
   "metadata": {},
   "outputs": [],
   "source": [
    "msg = thank_you('Sidney')\n",
    "print(msg)"
   ]
  },
  {
   "cell_type": "markdown",
   "id": "d9ef1922",
   "metadata": {},
   "source": [
    "Or - to be even more brief, we can return the message and print it, all in the same line."
   ]
  },
  {
   "cell_type": "code",
   "execution_count": null,
   "id": "4ea96889",
   "metadata": {},
   "outputs": [],
   "source": [
    "print(thank_you('Sidney'))"
   ]
  },
  {
   "cell_type": "markdown",
   "id": "4c08afd3",
   "metadata": {},
   "source": [
    "We can now use our function to do all three thank you's above in a more\n",
    "compact form:"
   ]
  },
  {
   "cell_type": "code",
   "execution_count": null,
   "id": "cb8426e5",
   "metadata": {},
   "outputs": [],
   "source": [
    "print(thank_you('Adriana'))\n",
    "print(thank_you('Billy'))\n",
    "print(thank_you('Caroline'))"
   ]
  },
  {
   "cell_type": "markdown",
   "id": "0eb2c7fd",
   "metadata": {},
   "source": [
    "In our original code, we assembled the message three times, and the only\n",
    "difference was the name of the person being thanked. When you see repetition\n",
    "like this, you can usually make your program more efficient by defining a\n",
    "function.\n",
    "\n",
    "The keyword *def* tells Python that we are about to define a function. We give our function a name, *thank\\_you()* in this case. A variable's name should tell us what kind of information it holds; a function's name should tell us what the variable does.  We then put parentheses. Inside these parentheses we create variable names for any variable the function will need to be given in order to do its job. In this case the function will need a name to include in the thank you message. The variable `name` will hold the value that is passed into the function `thank_you()`.\n",
    "\n",
    "To use a function we give the function's name, and then put any values the function needs in order to do its work. In this case we call the function three times, each time passing it a different name.\n"
   ]
  },
  {
   "cell_type": "markdown",
   "id": "404df165",
   "metadata": {},
   "source": [
    "### A common error\n",
    "\n",
    "A function must be defined before you use it in your program or notebook. For\n",
    "example, putting the function at the end of the program or notebook cell would\n",
    "not work."
   ]
  },
  {
   "cell_type": "code",
   "execution_count": null,
   "id": "7120d36c",
   "metadata": {
    "tags": [
     "raises-exception"
    ]
   },
   "outputs": [],
   "source": [
    "print(thank_you_effusively('Adriana'))\n",
    "print(thank_you_effusively('Billy'))\n",
    "print(thank_you_effusively('Caroline'))\n",
    "\n",
    "def thank_you_effusively(name):\n",
    "    # This function compiles another two-line personalized thank you message.\n",
    "    msg = \"EXCELLENT work, \" + name + \"!\\n\"\n",
    "    msg = msg + \"Thank you for your efforts.\\n\"\n",
    "    return msg"
   ]
  },
  {
   "cell_type": "markdown",
   "id": "4d3bd79f",
   "metadata": {},
   "source": [
    "On the first line we ask Python to run the function `thank_you_effusively()`,\n",
    "but Python does not yet know how to do this function. We define our functions\n",
    "at the beginning of our programs, and then we can use them when we need to.\n",
    "\n",
    "Here's what that should have looked like.  We *first* define the function, *then* we call the function."
   ]
  },
  {
   "cell_type": "code",
   "execution_count": null,
   "id": "5fe28c7c",
   "metadata": {},
   "outputs": [],
   "source": [
    "def thank_you_effusively(name):\n",
    "    # This function compiles another two-line personalized thank you message.\n",
    "    msg = \"EXCELLENT work, \" + name + \"!\\n\"\n",
    "    msg = msg + \"Thank you for your efforts.\\n\"\n",
    "    return msg\n",
    "\n",
    "print(thank_you_effusively('Adriana'))\n",
    "print(thank_you_effusively('Billy'))\n",
    "print(thank_you_effusively('Caroline'))"
   ]
  },
  {
   "cell_type": "markdown",
   "id": "e2ab60bd",
   "metadata": {},
   "source": [
    "## More flexibility\n",
    "\n",
    "We can also make functions that get more than one argument.  For example, let's say I wanted to customize the message, to tell the person how well they had done."
   ]
  },
  {
   "cell_type": "code",
   "execution_count": null,
   "id": "40bfe86d",
   "metadata": {},
   "outputs": [],
   "source": [
    "def thank_you_specifically(name, quality):\n",
    "    # This function compiles a more personalized thank you message.\n",
    "    # Notice we use \"name\" and \"quality\" in this line.\n",
    "    msg = quality + \" work, \" + name + \"!\\n\"\n",
    "    msg = msg + \"Thank you for your efforts.\\n\"\n",
    "    return msg"
   ]
  },
  {
   "cell_type": "markdown",
   "id": "f5065fc7",
   "metadata": {},
   "source": [
    "We can use our new function like this:"
   ]
  },
  {
   "cell_type": "code",
   "execution_count": null,
   "id": "899973c0",
   "metadata": {},
   "outputs": [],
   "source": [
    "print(thank_you_specifically('Matthew', 'Barely acceptable'))"
   ]
  },
  {
   "cell_type": "markdown",
   "id": "66fd5257",
   "metadata": {},
   "source": [
    "Or like this:"
   ]
  },
  {
   "cell_type": "code",
   "execution_count": null,
   "id": "fccbbd91",
   "metadata": {},
   "outputs": [],
   "source": [
    "print(thank_you_specifically('Adriana', 'OK'))\n",
    "print(thank_you_specifically('Billy', 'Shocking'))\n",
    "print(thank_you_specifically('Caroline', 'AMAZING'))"
   ]
  },
  {
   "cell_type": "markdown",
   "id": "01b14f64",
   "metadata": {},
   "source": [
    "## Advantages of using functions\n",
    "\n",
    "You might be able to see some advantages of using functions, through this example:\n",
    "\n",
    "- We write a set of instructions once. We save some work in this simple\n",
    "  example, and we save even more work in larger programs.\n",
    "- When our function works, we don't have to worry about that code anymore.\n",
    "  Every time you repeat code in your program, you introduce an opportunity to\n",
    "  make a mistake. Writing a function means there is one place to fix mistakes,\n",
    "  and when those bugs are fixed, we can be confident that this function will\n",
    "  continue to work correctly.\n",
    "- We can modify our function's behavior, and that change takes effect every\n",
    "  time the function is called. This is much better than deciding we need some\n",
    "  new behavior, and then having to change code in many different places in our\n",
    "  program."
   ]
  },
  {
   "cell_type": "markdown",
   "id": "32f8bff0",
   "metadata": {},
   "source": [
    "You can think of functions as a way to \"teach\" Python some new behavior. In\n",
    "this case, we taught Python how to say thank you to someone; now we can tell\n",
    "Python to do this with any name we choose, whenever we want to."
   ]
  }
 ],
 "metadata": {
  "jupytext": {
   "notebook_metadata_filter": "all,-language_info",
   "split_at_heading": true
  },
  "kernelspec": {
   "display_name": "Python 3",
   "language": "python",
   "name": "python3"
  }
 },
 "nbformat": 4,
 "nbformat_minor": 5
}
