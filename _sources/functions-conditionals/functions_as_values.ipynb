{
 "cells": [
  {
   "cell_type": "markdown",
   "id": "f478ebcf",
   "metadata": {},
   "source": [
    "# Functions as values\n",
    "\n",
    "In the [introduction to functions](functions), we introduced the\n",
    "metaphor of a function being a *recipe*.  It is a procedure, that\n",
    "accepts inputs, (the ingredients of the recipe), and returns an output\n",
    "(the meal from the recipe).  A function, like a recipe, usually has\n",
    "a name."
   ]
  },
  {
   "cell_type": "code",
   "execution_count": null,
   "id": "5dcb154d",
   "metadata": {},
   "outputs": [],
   "source": [
    "def add(a, b):\n",
    "    return a + b"
   ]
  },
  {
   "cell_type": "markdown",
   "id": "00e6ee6b",
   "metadata": {},
   "source": [
    "As we saw before, this function gets its *name* from the first line.\n",
    "The name is `add`.  The name `add` refers to the internal\n",
    "representation (IR) of the procedure of adding two numbers. In the\n",
    "same way \"Double egg cheese omelette recipe\" refers to the procedure\n",
    "of making a double egg cheese omelette.  The recipe is a procedure\n",
    "that can be applied to two eggs and some cheese, as `add` is\n",
    "a procedure that can be applied to two numbers.\n",
    "\n",
    "You have already seen Python giving names to things.  Here is an\n",
    "assignment statement:"
   ]
  },
  {
   "cell_type": "code",
   "execution_count": null,
   "id": "47d46bbc",
   "metadata": {},
   "outputs": [],
   "source": [
    "x = 1"
   ]
  },
  {
   "cell_type": "markdown",
   "id": "be648d98",
   "metadata": {},
   "source": [
    "The statement gives the name `x` to the value 1.\n",
    "\n",
    "In fact, the function definition above is doing something similar.  It gives the name `add` to the procedure `a + b`.\n",
    "\n",
    "`x` is a variable name, and so is `add`.  Function names are\n",
    "just variables.  As `x` refers to the number 1, `add` refers to the\n",
    "procedure defined in the function body.\n",
    "\n",
    "With the variable `x`, I can display its value in the notebook like\n",
    "this:"
   ]
  },
  {
   "cell_type": "code",
   "execution_count": null,
   "id": "68fc207f",
   "metadata": {},
   "outputs": [],
   "source": [
    "x"
   ]
  },
  {
   "cell_type": "markdown",
   "id": "2b08d587",
   "metadata": {},
   "source": [
    "In the same way, I can display the value of the variable `add`"
   ]
  },
  {
   "cell_type": "code",
   "execution_count": null,
   "id": "8a0c7945",
   "metadata": {},
   "outputs": [],
   "source": [
    "add"
   ]
  },
  {
   "cell_type": "markdown",
   "id": "c4eabb4e",
   "metadata": {},
   "source": [
    "`add` refers to the internal representation (IR) of the procedure.  In\n",
    "order to *apply* the procedure to particular arguments, I have to\n",
    "*call* it.  I do this by adding parentheses, with arguments inside:"
   ]
  },
  {
   "cell_type": "code",
   "execution_count": null,
   "id": "541f9dba",
   "metadata": {},
   "outputs": [],
   "source": [
    "add(2, 3)"
   ]
  },
  {
   "cell_type": "markdown",
   "id": "a6df19f7",
   "metadata": {},
   "source": [
    "Now you know that `add` is a variable referring to a procedure, what\n",
    "do you think you would get from the following?"
   ]
  },
  {
   "cell_type": "code",
   "execution_count": null,
   "id": "644da17a",
   "metadata": {
    "tags": [
     "raises-exception"
    ]
   },
   "outputs": [],
   "source": [
    "add * 2"
   ]
  },
  {
   "cell_type": "markdown",
   "id": "ce6c7dc1",
   "metadata": {},
   "source": [
    "Why is this?  Python evaluates the first expression `add`; it is\n",
    "a variable pointing to a internal representation of a function, so the\n",
    "first value is a function.  The second value is IR of int 2.  It tries\n",
    "to multiply the IR of a function by the IR of an int, and fails.\n",
    "\n",
    "We can't multiply `add` by a number, but we can multiply the result of\n",
    "*calling* `add`, because this evaluates to a number:"
   ]
  },
  {
   "cell_type": "code",
   "execution_count": null,
   "id": "a5e6f969",
   "metadata": {},
   "outputs": [],
   "source": [
    "add(2, 3) * 2"
   ]
  },
  {
   "cell_type": "markdown",
   "id": "458b8711",
   "metadata": {},
   "source": [
    "## A variable can point to a function\n",
    "\n",
    "This will take a little getting used to.\n",
    "\n",
    "Remember, an *assignment statement* gives a *value* (from the right-hand side) to the *variable* on the left-hand side."
   ]
  },
  {
   "cell_type": "code",
   "execution_count": null,
   "id": "55fe100b",
   "metadata": {},
   "outputs": [],
   "source": [
    "x = 1"
   ]
  },
  {
   "cell_type": "markdown",
   "id": "e5e8a96e",
   "metadata": {},
   "source": [
    "As we know, we can read this as \"The variable 'x' gets the value IR of\n",
    "1\".\n",
    "\n",
    "We also know from the section above, that the function is a value.\n",
    "\n",
    "Can we set a variable to get a function as a value?  Yes. Look at this:"
   ]
  },
  {
   "cell_type": "code",
   "execution_count": null,
   "id": "0ba95b87",
   "metadata": {},
   "outputs": [],
   "source": [
    "my_function = add"
   ]
  },
  {
   "cell_type": "markdown",
   "id": "19dde99e",
   "metadata": {},
   "source": [
    "Read this in the normal way: \"The variable 'my_function' gets the\n",
    "value ...\".  What is the value?  The value is the result of evaluating\n",
    "`add`, and you now know that this is the internal representation (IR) of the function.\n",
    "\n",
    "So we read the statement as \"The variable 'my_function' gets the value IR of the function originally called 'add'\".\n",
    "\n",
    "What do you think we would see if we evaluate this expression:\n",
    "`my_function(2, 3)`?\n",
    "\n",
    "What will Python do?  It first evaluates `my_function`, and gets the\n",
    "value, which is the IR of the function.  Then it sees the parentheses\n",
    "following, so it evaluates the arguments inside the brackets, and\n",
    "*calls* the function.  What function?  The function originally called\n",
    "\"add\"."
   ]
  },
  {
   "cell_type": "code",
   "execution_count": null,
   "id": "12ed90ea",
   "metadata": {},
   "outputs": [],
   "source": [
    "my_function(2, 3)"
   ]
  },
  {
   "cell_type": "markdown",
   "id": "bc549fd7",
   "metadata": {},
   "source": [
    "Remember that the expression `my_function` is not the same as the\n",
    "expression `my_function(2, 3)`.  `my_function` evaluates to the IR of\n",
    "the function.  `my_function(2, 3)` evaluates to result of *calling*\n",
    "the IR of the function, with the arguments 2 and 3.\n",
    "\n",
    "Now try the [functions as values exercises](../exercises/functions_values_exercises)."
   ]
  }
 ],
 "metadata": {
  "kernelspec": {
   "display_name": "Python 3",
   "language": "python",
   "name": "python3"
  }
 },
 "nbformat": 4,
 "nbformat_minor": 5
}
