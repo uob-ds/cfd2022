{
 "cells": [
  {
   "cell_type": "markdown",
   "id": "6511d032",
   "metadata": {},
   "source": [
    "# Conditional Statements\n",
    "\n",
    "In many situations, actions and results depends on a specific set of\n",
    "conditions being satisfied. For example, individuals in randomized\n",
    "controlled trials receive the treatment if they have been assigned to\n",
    "the treatment group. A gambler makes money if she wins her bet. \n",
    "\n",
    "In this section we will learn how to describe such situations using\n",
    "code. A *conditional statement* is a multi-line statement that allows\n",
    "Python to choose among different alternatives based on the truth value\n",
    "of an expression. While conditional statements can appear anywhere,\n",
    "they appear most often within the body of a function in order to\n",
    "express alternative behavior depending on argument values.\n",
    "\n",
    "A conditional statement always begins with an `if` header, which is a single line followed by an indented body. The body is only executed if the expression directly following `if` (called the *if expression*) evaluates to a true value. If the *if expression* evaluates to a false value, then the body of the `if` is skipped.\n",
    "\n",
    "Let us start defining a function that returns the string `'Positive'`  for a positive number:"
   ]
  },
  {
   "cell_type": "code",
   "execution_count": null,
   "id": "c45c2fca",
   "metadata": {},
   "outputs": [],
   "source": [
    "def classify(x):\n",
    "    result = 'Not sure yet'\n",
    "    if x > 0:\n",
    "        result = 'Positive'\n",
    "    return result"
   ]
  },
  {
   "cell_type": "markdown",
   "id": "6e25de58",
   "metadata": {},
   "source": [
    "Let us work through what Python will do when we evaluate `classify(3)`.\n",
    "\n",
    "1.  Evaluate `classify` to the computer representation (CR) of the\n",
    "    function;\n",
    "1.  Evaluate `3` to give the CR of the integer 3\n",
    "1.  Call the CR of the function, with the CR of int 3. So:\n",
    "\n",
    "    1. Python enters function world\n",
    "    1. The new variable `x` gets the value CR of int 3.\n",
    "    1. Python executes the function body\n",
    "\n",
    "All this is revision from [functions](functions).\n",
    "\n",
    "What happens in the function body, with `x = 3`?\n",
    "\n",
    "1.   Python evaluates the assignment statement `result = 'Not sure yet'`. The\n",
    "     `result` variable has the value: CR of \"Not sure yet\".\n",
    "1.   Python evaluates the *if expression* `x > 0`.  The result is the\n",
    "     CR of `True`.  This is a true value, so Python will execute the body of\n",
    "     the if statement.\n",
    "1.   The body of the if statement is the single line `result = 'Positive'`.\n",
    "     Python reassigns the `result` variable to have the value: CR of\n",
    "     \"Positive\".\n",
    "1.   `return result` first evaluates `result` to get the CR of \"Positive\",\n",
    "     then exits function world, returning this value."
   ]
  },
  {
   "cell_type": "code",
   "execution_count": null,
   "id": "c4faac83",
   "metadata": {},
   "outputs": [],
   "source": [
    "classify(3)"
   ]
  },
  {
   "cell_type": "markdown",
   "id": "4971a4ff",
   "metadata": {},
   "source": [
    "The `classify` function returns `'Positive'` if the input is a\n",
    "positive number, like `3`. But if the input is not a positive number,\n",
    "such as `-3`, then this happens, in the function body:\n",
    "\n",
    "1. `x` has the value CR of int -3.\n",
    "1. `result` gets the value: CR of \"Not sure yet\".  So far this is the same as\n",
    "   for the case of `x` equal to 3 above.\n",
    "1. `x > 0` evaluates to `False`, so Python *skips the body of the if\n",
    "   statement*.\n",
    "1. `return result` first evaluates `result` to get the CR of \"Not sure yet\",\n",
    "   (because this hasn't changed) then exits function world, returning this\n",
    "   value.\n"
   ]
  },
  {
   "cell_type": "code",
   "execution_count": null,
   "id": "72652a35",
   "metadata": {},
   "outputs": [],
   "source": [
    "classify(-3)"
   ]
  },
  {
   "cell_type": "markdown",
   "id": "dda2eecf",
   "metadata": {},
   "source": [
    "Let us refine our function to return `Not positive` if the input is a\n",
    "negative number. We can do this by adding an `else` clause.  If the *if\n",
    "expression* evaluates to a true value, then Python executes the first\n",
    "clause, after the if expression, as before.  If it evaluates to a false value, Python executes the clause following the `else`, instead."
   ]
  },
  {
   "cell_type": "code",
   "execution_count": null,
   "id": "c7dd182e",
   "metadata": {},
   "outputs": [],
   "source": [
    "def classify(x):\n",
    "    result = 'Not sure yet'\n",
    "    if x > 0:\n",
    "        result = 'Positive'\n",
    "    else:\n",
    "        result = 'Not positive'\n",
    "    return result"
   ]
  },
  {
   "cell_type": "markdown",
   "id": "97490c72",
   "metadata": {},
   "source": [
    "Imagine we evaluate `classify(-3)` again.  Python enters function world, and sets `x` to have the value CR of int -3.  It checks `x > 0` and finds a false value, so it skips the first clause, and executes the clause following `else:`.  This `return`s `'Not positive'`.\n",
    "\n",
    "Notice that the `if` statement now deals with all possible values of `x`.  Whatever the value of `x` we with either execute `result = 'Positive'` or we will execute `result = 'Not positive'`.  We can now get rid of the first line in the function `result = 'Not sure yet'` because we will always change `result` from that value, in the `if` statement:"
   ]
  },
  {
   "cell_type": "code",
   "execution_count": null,
   "id": "ec0799e0",
   "metadata": {},
   "outputs": [],
   "source": [
    "# Classify without the unnecessary first assignment.\n",
    "def classify(x):\n",
    "    if x > 0:\n",
    "        result = 'Positive'\n",
    "    else:\n",
    "        result = 'Not positive'\n",
    "    return result"
   ]
  },
  {
   "cell_type": "markdown",
   "id": "5c96942f",
   "metadata": {},
   "source": [
    "Now imagine we prefer our function to return `'Negative` for negative values and `Zero` if the input value is 0.  It seems like we need three clauses, one each for positive, negative and 0 values.\n",
    "\n",
    "We can do this by adding an `elif` clause, where `elif` is Python's\n",
    "shorthand for the phrase \"else if\"."
   ]
  },
  {
   "cell_type": "code",
   "execution_count": null,
   "id": "2b7843f2",
   "metadata": {},
   "outputs": [],
   "source": [
    "def classify(x):\n",
    "    if x > 0:\n",
    "        result = 'Positive'\n",
    "    elif x == 0:\n",
    "        result = 'Zero'\n",
    "    else:\n",
    "        result = 'Negative'\n",
    "    return result"
   ]
  },
  {
   "cell_type": "markdown",
   "id": "55975509",
   "metadata": {},
   "source": [
    "Now `classify` returns the correct answer when the input is -3, 0, or 3:"
   ]
  },
  {
   "cell_type": "code",
   "execution_count": null,
   "id": "2d0f20dc",
   "metadata": {},
   "outputs": [],
   "source": [
    "classify(3)"
   ]
  },
  {
   "cell_type": "code",
   "execution_count": null,
   "id": "9d710886",
   "metadata": {},
   "outputs": [],
   "source": [
    "classify(0)"
   ]
  },
  {
   "cell_type": "code",
   "execution_count": null,
   "id": "3c2c27fa",
   "metadata": {},
   "outputs": [],
   "source": [
    "classify(-3)"
   ]
  },
  {
   "cell_type": "markdown",
   "id": "8dd4be3c",
   "metadata": {},
   "source": [
    "If the input is 3, Python enters function world, sets `x` to have the value 3,\n",
    "and evaluates the if expression `x < 0`.  The expression is a true value, so\n",
    "Python executes the first clause, sets `result` to equal \"Positive\" and skips\n",
    "to the end of the `if` statement.  Finally it executes `return result` to return \"Positive\" from the function.\n",
    "\n",
    "If the input is 0, Python enters function world, sets `x` to have the value 0, and evaluates the if expression `x < 0`.  The expression is a false value, so Python moves on to the next clause, which is `elif x == 0:`. This has another *if expression* `x == 0`.  It is a true value, so Python executes this clause, and sets `result` equal to \"Zero\".  Then it skips to the end of the `if` statement, and `return`s the value in `result`.\n",
    "\n",
    "If the input is -3, Python enters function world, sets `x` to have the value -3, and evaluates the if expression `x < 0`.  The expression is a false value, so Python moves on to the next clause, which is `elif x == 0`. This expression is also a false value so Python moves to the next clause, which is the `else:` clause, and executes that, setting `result` to be \"Negative\".  Now we are at the end of the `if` statement, and we `return result`.\n",
    "\n",
    "We can have as many `elif` clauses as we want.  For example, imagine we\n",
    "want to classify the number into one of the following categories:\n",
    "\n",
    "1. above 10 (`'Large positive'`)\n",
    "1. from (not including) 0 through 10 (`'Small positive'`)\n",
    "1. exactly 0 (`'Zero'`)\n",
    "1. from (not including) 0 through -10 (`'Small negative'`)\n",
    "1. below -10 (`'Large negative'`)\n"
   ]
  },
  {
   "cell_type": "code",
   "execution_count": null,
   "id": "6a7fe028",
   "metadata": {},
   "outputs": [],
   "source": [
    "def classify(x):\n",
    "    if x > 10:\n",
    "        result = 'Large positive'\n",
    "    elif x > 0:\n",
    "        result = 'Small positive'\n",
    "    elif x == 0:\n",
    "        result = 'Zero'\n",
    "    elif x >= -10:  # Greater than or equal to\n",
    "        result = 'Small negative'\n",
    "    else:\n",
    "        result = 'Large negative'\n",
    "    return result"
   ]
  },
  {
   "cell_type": "code",
   "execution_count": null,
   "id": "440da0b3",
   "metadata": {},
   "outputs": [],
   "source": [
    "classify(-100)"
   ]
  },
  {
   "cell_type": "code",
   "execution_count": null,
   "id": "f25ee5e5",
   "metadata": {},
   "outputs": [],
   "source": [
    "classify(0)"
   ]
  },
  {
   "cell_type": "markdown",
   "id": "26099a78",
   "metadata": {},
   "source": [
    "## Interlude - returning early\n",
    "\n",
    "Remember the simpler version of our function:"
   ]
  },
  {
   "cell_type": "code",
   "execution_count": null,
   "id": "06b25865",
   "metadata": {},
   "outputs": [],
   "source": [
    "def classify(x):\n",
    "    if x > 0:\n",
    "        result = 'Positive'\n",
    "    elif x == 0:\n",
    "        result = 'Zero'\n",
    "    else:\n",
    "        result = 'Negative'\n",
    "    return result"
   ]
  },
  {
   "cell_type": "markdown",
   "id": "2e9c1740",
   "metadata": {},
   "source": [
    "You can see that, if `x` is greater than 0, then we reach `result\n",
    "= 'Positive'`.  In fact, when we get to that line, our work is done, and we might as well leave function world and send back the result.  We can do that by using another `return` statement, like this:"
   ]
  },
  {
   "cell_type": "code",
   "execution_count": null,
   "id": "b5802f6e",
   "metadata": {},
   "outputs": [],
   "source": [
    "def classify_returning_early(x):\n",
    "    if x > 0:\n",
    "        return 'Positive'\n",
    "    elif x == 0:\n",
    "        return 'Zero'\n",
    "    else:\n",
    "        return 'Negative'"
   ]
  },
  {
   "cell_type": "markdown",
   "id": "8a1b2494",
   "metadata": {},
   "source": [
    "This will work exactly the same way as the original version above.  This way, as soon as we have the answer we need, we are breaking out of function world, and sending back the answer.\n",
    "\n",
    "Notice that we do not need a final `return` statement any more, because our\n",
    "`if` statement has covered all possible values.  Therefore, we will always\n",
    "`return` inside the `if` statement, and we will never reach any statements\n",
    "that follow the `if` statement.\n",
    "\n",
    "Here is the new version in action:"
   ]
  },
  {
   "cell_type": "code",
   "execution_count": null,
   "id": "7887bdbf",
   "metadata": {},
   "outputs": [],
   "source": [
    "print(classify_returning_early(3))\n",
    "print(classify_returning_early(-3))\n",
    "print(classify_returning_early(0))"
   ]
  },
  {
   "cell_type": "markdown",
   "id": "07f02aa2",
   "metadata": {},
   "source": [
    "This is a common pattern, where we break out of function world as soon as we\n",
    "have the answer we need.\n",
    "\n",
    "## The General Form\n",
    "\n",
    "A conditional statement can also have multiple clauses with multiple bodies, and only one of those bodies can ever be executed. The general format of a multi-clause conditional statement appears below.\n",
    "\n",
    "    if <if expression>:\n",
    "        <if body>\n",
    "    elif <elif expression 0>:\n",
    "        <elif body 0>\n",
    "    elif <elif expression 1>:\n",
    "        <elif body 1>\n",
    "    ...\n",
    "    else:\n",
    "        <else body>\n",
    "\n",
    "There is always exactly one `if` clause, but there can be any number of\n",
    "`elif` clauses. Python will evaluate the `if` and `elif` expressions in\n",
    "the headers in order until one is found that is a true value, then\n",
    "execute the corresponding body. The `else` clause is optional. When an\n",
    "`else` header is provided, its *else body* is executed only if none of\n",
    "the header expressions of the previous clauses are true. The `else`\n",
    "clause must always come at the end (or not at all).\n",
    "\n",
    "Now try the [exercises](../exercises/conditional_statements_exercises).\n",
    "\n",
    "{ucb-page}`Conditional_Statements`"
   ]
  }
 ],
 "metadata": {
  "kernelspec": {
   "display_name": "Python 3",
   "language": "python",
   "name": "python3"
  }
 },
 "nbformat": 4,
 "nbformat_minor": 5
}
