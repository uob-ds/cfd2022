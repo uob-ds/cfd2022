{
 "cells": [
  {
   "cell_type": "markdown",
   "id": "2b47a3bb",
   "metadata": {},
   "source": [
    "# On None\n",
    "\n",
    "Python has a special value, called `None`, that it often uses to tell\n",
    "you that it cannot give you a valid value.  Unlike any other common\n",
    "value in Python, if an expression evaluates to `None`, Python shows\n",
    "you nothing at all for the value, in the notebook, or in an\n",
    "interactive Python console."
   ]
  },
  {
   "cell_type": "code",
   "execution_count": null,
   "id": "089e3dd5",
   "metadata": {},
   "outputs": [],
   "source": [
    "my_value = None\n",
    "my_value"
   ]
  },
  {
   "cell_type": "code",
   "execution_count": null,
   "id": "8cdfdc58",
   "metadata": {},
   "outputs": [],
   "source": [
    "# This next line is an expression, evalating to None\n",
    "None"
   ]
  },
  {
   "cell_type": "markdown",
   "id": "f9dca61f",
   "metadata": {},
   "source": [
    "We can see if we got the value `None` by using the `is` comparison operator.  Here is an expression, using the `is` operator, that evaluates to True."
   ]
  },
  {
   "cell_type": "code",
   "execution_count": null,
   "id": "dc7b07f4",
   "metadata": {},
   "outputs": [],
   "source": [
    "my_value is None"
   ]
  }
 ],
 "metadata": {
  "kernelspec": {
   "display_name": "Python 3",
   "language": "python",
   "name": "python3"
  }
 },
 "nbformat": 4,
 "nbformat_minor": 5
}
