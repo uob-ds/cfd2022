{
 "cells": [
  {
   "cell_type": "markdown",
   "id": "589c5072",
   "metadata": {},
   "source": [
    "# Inference\n",
    "\n",
    "With thanks to [Allen Downey](http://www.allendowney.com/wp) for his suggestions in [inference in three hours](https://tinyurl.com/inference3)."
   ]
  },
  {
   "cell_type": "markdown",
   "id": "3e8a54da",
   "metadata": {},
   "source": [
    "In our [answer for the Supreme Court](reply_supreme), we discovered the process\n",
    "of *statistical inference*."
   ]
  },
  {
   "cell_type": "markdown",
   "id": "22c53e18",
   "metadata": {},
   "source": [
    "Statistical inference proceeds in these steps.\n",
    "\n",
    "* find the **data**.  In our case, this was the race of the 12 people on Robert\n",
    "  Swain's jury, and the proportion of eligible voters who were Black.\n",
    "* Calculate some **measure of interest** from the data.  Call this a **observed\n",
    "  statistic**. In our case, this was the number of Black jurors - 0.\n",
    "* Make a simple model of the world to offer as an explanation of the data.  In\n",
    "  our case, this was the model where the jurors were randomly selected from the\n",
    "  eligible population.\n",
    "* **Simulate the data** many times using the simple model.\n",
    "* For each simulation **calculate the measure of interest**.  Call these the\n",
    "  **simulated measures**.  Our simulated measures were the number of black\n",
    "  jurors in each simulation.\n",
    "* Use the **simulated measures** to build up the **sampling distribution**.\n",
    "* Compare the **observed measure** to the **sampling distribution**, to see\n",
    "  whether it represents a rare or common event, given the model."
   ]
  }
 ],
 "metadata": {
  "jupytext": {
   "notebook_metadata_filter": "language_info"
  },
  "kernelspec": {
   "display_name": "Python 3",
   "language": "python",
   "name": "python3"
  },
  "language_info": {
   "codemirror_mode": {
    "name": "ipython",
    "version": 3
   },
   "file_extension": ".py",
   "mimetype": "text/x-python",
   "name": "python",
   "nbconvert_exporter": "python",
   "pygments_lexer": "ipython3",
   "version": "3.6.5"
  }
 },
 "nbformat": 4,
 "nbformat_minor": 5
}
