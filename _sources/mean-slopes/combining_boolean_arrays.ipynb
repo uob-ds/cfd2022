{
 "cells": [
  {
   "cell_type": "markdown",
   "id": "c0a00fac",
   "metadata": {},
   "source": [
    "# Combining boolean arrays\n",
    "\n",
    "Sometimes we want to be able to combine several different criteria to select\n",
    "elements from arrays or tables.\n",
    "\n",
    "So far we have used *boolean* Series and arrays to select rows.  This works fine when we have some simple criterion, such as whether the value in the column or array is greater than 10.\n",
    "\n",
    "For example, consider the [students ratings\n",
    "dataset](../data/rate_my_professors) dataset. Download the data file via\n",
    "{download}`rate_my_course.csv <../data/rate_my_course.csv>`."
   ]
  },
  {
   "cell_type": "code",
   "execution_count": null,
   "id": "c6c162d6",
   "metadata": {},
   "outputs": [],
   "source": [
    "import numpy as np\n",
    "import pandas as pd\n",
    "import matplotlib.pyplot as plt\n",
    "%matplotlib inline\n",
    "# Make plots look a little bit more fancy\n",
    "plt.style.use('fivethirtyeight')"
   ]
  },
  {
   "cell_type": "code",
   "execution_count": null,
   "id": "40f61918",
   "metadata": {},
   "outputs": [],
   "source": [
    "# Read the data file\n",
    "ratings = pd.read_csv('rate_my_course.csv')\n",
    "ratings.head()"
   ]
  },
  {
   "cell_type": "markdown",
   "id": "f534d9eb",
   "metadata": {},
   "source": [
    "We can select the rows from this table where the Easiness rating was above the median, using a *boolean series*:"
   ]
  },
  {
   "cell_type": "code",
   "execution_count": null,
   "id": "f0971a2b",
   "metadata": {},
   "outputs": [],
   "source": [
    "easiness = ratings['Easiness']\n",
    "is_gt_median = easiness > np.median(easiness)\n",
    "is_gt_median.head()"
   ]
  },
  {
   "cell_type": "code",
   "execution_count": null,
   "id": "f72eac80",
   "metadata": {},
   "outputs": [],
   "source": [
    "above_median = ratings[is_gt_median]\n",
    "above_median.head()"
   ]
  },
  {
   "cell_type": "markdown",
   "id": "ca3ade6f",
   "metadata": {},
   "source": [
    "What if we wanted to select the rows that were between the 25th and 75th\n",
    "percentile?  Here's how to get the percentile values."
   ]
  },
  {
   "cell_type": "code",
   "execution_count": null,
   "id": "60119c57",
   "metadata": {},
   "outputs": [],
   "source": [
    "q25 = np.quantile(easiness, 0.25)\n",
    "q75 = np.quantile(easiness, 0.75)\n",
    "print(q25, q75)"
   ]
  },
  {
   "cell_type": "markdown",
   "id": "c6edcfa7",
   "metadata": {},
   "source": [
    "We can do this more neatly with [unpacking](using_minimize):"
   ]
  },
  {
   "cell_type": "code",
   "execution_count": null,
   "id": "ff821d28",
   "metadata": {},
   "outputs": [],
   "source": [
    "q25, q75 = np.quantile(easiness, [0.25, 0.75])\n",
    "print(q25, q75)"
   ]
  },
  {
   "cell_type": "markdown",
   "id": "6948ff35",
   "metadata": {},
   "source": [
    "Now we want to select the rows where the Easiness score is between these\n",
    "values.   We can do this the long way round, by selecting twice:"
   ]
  },
  {
   "cell_type": "code",
   "execution_count": null,
   "id": "3056d6fb",
   "metadata": {},
   "outputs": [],
   "source": [
    "# Select values above the 25th percentile.\n",
    "above_q25 = ratings[easiness > q25]\n",
    "# There are now fewer Easiness values, so we have to get the values remaining.\n",
    "q25_easiness = above_q25['Easiness']\n",
    "# Select values below the 75th percentile.\n",
    "between_25_75 = above_q25[q25_easiness < q75]\n",
    "between_25_75.head()"
   ]
  },
  {
   "cell_type": "markdown",
   "id": "8d7893f5",
   "metadata": {},
   "source": [
    "Another, neater way of doing this is to make a single Boolean Series that has\n",
    "True only if the Easiness value is *both* above the 25th percentile *and*\n",
    "below the 75th percentile.\n",
    "\n",
    "This is called a *logical and*.\n",
    "\n",
    "To do this we can make a Boolean Series for each of these two criteria:"
   ]
  },
  {
   "cell_type": "code",
   "execution_count": null,
   "id": "3375b84e",
   "metadata": {},
   "outputs": [],
   "source": [
    "# True if Easiness is above 25th percentile.\n",
    "is_gt_q25 = easiness > q25\n",
    "# Show the first 10 values\n",
    "is_gt_q25.head(10)"
   ]
  },
  {
   "cell_type": "code",
   "execution_count": null,
   "id": "eb353d82",
   "metadata": {},
   "outputs": [],
   "source": [
    "# True if Easiness is below 75th percentile.\n",
    "is_lt_q75 = easiness < q75\n",
    "# Show the first 10 values\n",
    "is_lt_q75.head(10)"
   ]
  },
  {
   "cell_type": "markdown",
   "id": "642ac64a",
   "metadata": {},
   "source": [
    "We can combine these two with Numpy functions.  The function we need in this\n",
    "case is `np.logical_and`.\n",
    "\n",
    "`np.logical_and` can work on Pandas Series, or on Numpy arrays.   We will use\n",
    "the term *sequence* for something that can be a Pandas Series or a Numpy\n",
    "array.\n",
    "\n",
    "`np.logical_and` combines the two input sequences into a new sequence that\n",
    "only has True in positions where *both* of the input sequences have a True in\n",
    "the corresponding position:"
   ]
  },
  {
   "cell_type": "code",
   "execution_count": null,
   "id": "fd1da16e",
   "metadata": {},
   "outputs": [],
   "source": [
    "is_between_25_75 = np.logical_and(is_gt_q25, is_lt_q75)\n",
    "is_between_25_75.head(10)"
   ]
  },
  {
   "cell_type": "markdown",
   "id": "10c93760",
   "metadata": {},
   "source": [
    "It might be easier to see what is going on if we make some small test arrays:"
   ]
  },
  {
   "cell_type": "code",
   "execution_count": null,
   "id": "a4a8adab",
   "metadata": {},
   "outputs": [],
   "source": [
    "a = np.array([True, True, False, False])\n",
    "b = np.array([True, False, True, False])"
   ]
  },
  {
   "cell_type": "markdown",
   "id": "d5ecfc33",
   "metadata": {},
   "source": [
    "We can show these conveniently as a DataFrame:"
   ]
  },
  {
   "cell_type": "code",
   "execution_count": null,
   "id": "310db579",
   "metadata": {},
   "outputs": [],
   "source": [
    "ab = pd.DataFrame()\n",
    "ab['first input'] = a\n",
    "ab['second input'] = b\n",
    "ab"
   ]
  },
  {
   "cell_type": "markdown",
   "id": "6cd3523a",
   "metadata": {},
   "source": [
    "Before you look, try to work out what you would get from `np.logical_and(a,\n",
    "b)`.\n",
    "\n",
    "Remember, the rule is, the result will have True where the corresponding\n",
    "element from *both* `a` and `b` are True, and False otherwise."
   ]
  },
  {
   "cell_type": "markdown",
   "id": "9fe001a2",
   "metadata": {},
   "source": [
    "The result:"
   ]
  },
  {
   "cell_type": "code",
   "execution_count": null,
   "id": "343de7f0",
   "metadata": {},
   "outputs": [],
   "source": [
    "np.logical_and(a, b)"
   ]
  },
  {
   "cell_type": "markdown",
   "id": "f7f038c0",
   "metadata": {},
   "source": [
    "Here are the two input columns and the result, displayed as a data frame, to\n",
    "show them nicely:"
   ]
  },
  {
   "cell_type": "code",
   "execution_count": null,
   "id": "6bcd207f",
   "metadata": {},
   "outputs": [],
   "source": [
    "ab['and result'] = np.logical_and(a, b)\n",
    "ab"
   ]
  },
  {
   "cell_type": "markdown",
   "id": "c446601f",
   "metadata": {},
   "source": [
    "Check that you agree with Python's results for combining `is_gt_q25` and\n",
    "`is_lt_q75` in the same way.  Here's a display showing `is_gt_q25`,\n",
    "`is_lt_q75` and the result of `logical_and`:"
   ]
  },
  {
   "cell_type": "code",
   "execution_count": null,
   "id": "a095d80e",
   "metadata": {},
   "outputs": [],
   "source": [
    "qbools = pd.DataFrame()\n",
    "qbools['is_gt_q25'] = is_gt_q25\n",
    "qbools['is_lt_q75'] = is_lt_q75\n",
    "qbools['and_result'] = np.logical_and(is_gt_q25, is_lt_q75)\n",
    "qbools.head(10)"
   ]
  },
  {
   "cell_type": "markdown",
   "id": "59efe589",
   "metadata": {},
   "source": [
    "We can use the combined Boolean series from `logical_and` to select the rows\n",
    "that we want:"
   ]
  },
  {
   "cell_type": "code",
   "execution_count": null,
   "id": "cb24f2f4",
   "metadata": {},
   "outputs": [],
   "source": [
    "betweeners = ratings[np.logical_and(is_gt_q25, is_lt_q75)]\n",
    "betweeners.head()"
   ]
  },
  {
   "cell_type": "markdown",
   "id": "dfb1878f",
   "metadata": {},
   "source": [
    "Notice that we only have rows where there is a corresponding True value in the\n",
    "result of the `logical_and`, and therefore, that we only have rows that are\n",
    "above the 25th percentile, and below the 75th percentile."
   ]
  },
  {
   "cell_type": "markdown",
   "id": "57d35dfd",
   "metadata": {},
   "source": [
    "You may not be surprised to know there is an equivalent function to\n",
    "`logical_and` called `logical_or`.  Like `logical_and` this returns a Boolean\n",
    "sequence of the same length as the input sequences.  There is a True in the\n",
    "output sequence where *one or both* of the input sequences have True in the\n",
    "corresponding positions."
   ]
  },
  {
   "cell_type": "code",
   "execution_count": null,
   "id": "5f2827f3",
   "metadata": {},
   "outputs": [],
   "source": [
    "a"
   ]
  },
  {
   "cell_type": "code",
   "execution_count": null,
   "id": "0e328b1b",
   "metadata": {},
   "outputs": [],
   "source": [
    "b"
   ]
  },
  {
   "cell_type": "code",
   "execution_count": null,
   "id": "ebb414e1",
   "metadata": {},
   "outputs": [],
   "source": [
    "np.logical_or(a, b)"
   ]
  },
  {
   "cell_type": "code",
   "execution_count": null,
   "id": "105ecf22",
   "metadata": {},
   "outputs": [],
   "source": [
    "ab['or result'] = np.logical_or(a, b)\n",
    "ab"
   ]
  },
  {
   "cell_type": "markdown",
   "id": "99b97581",
   "metadata": {},
   "source": [
    "We can use this function to find all the rows that have Easiness ratings above\n",
    "the 75th percentile or below the 25th percentile:"
   ]
  },
  {
   "cell_type": "code",
   "execution_count": null,
   "id": "cee171ae",
   "metadata": {},
   "outputs": [],
   "source": [
    "easy_or_hard = ratings[np.logical_or(easiness < q25, easiness > q75)]\n",
    "easy_or_hard.head()"
   ]
  }
 ],
 "metadata": {
  "jupytext": {
   "notebook_metadata_filter": "all,-language_info",
   "split_at_heading": true
  },
  "kernelspec": {
   "display_name": "Python 3",
   "language": "python",
   "name": "python3"
  }
 },
 "nbformat": 4,
 "nbformat_minor": 5
}
