{
 "cells": [
  {
   "cell_type": "markdown",
   "id": "cbb8373d",
   "metadata": {},
   "source": [
    "# Standard scores"
   ]
  },
  {
   "cell_type": "code",
   "execution_count": null,
   "id": "6da0687b",
   "metadata": {},
   "outputs": [],
   "source": [
    "import numpy as np\n",
    "%matplotlib inline\n",
    "import matplotlib.pyplot as plt\n",
    "plt.style.use('fivethirtyeight')\n",
    "import pandas as pd"
   ]
  },
  {
   "cell_type": "markdown",
   "id": "96d26a5c",
   "metadata": {},
   "source": [
    "## Describing distributions\n",
    "\n",
    "We have seen several examples of *distributions*.\n",
    "\n",
    "We can describe distributions as having a *center*, and a *spread*.\n",
    "\n",
    "In [the mean as predictor](mean_meaning), we saw that the mean is\n",
    "a useful measure of the center of a distribution.\n",
    "\n",
    "What measure should we use for the spread?"
   ]
  },
  {
   "cell_type": "markdown",
   "id": "7beb21ba",
   "metadata": {},
   "source": [
    "## Back to chronic kidney disease\n",
    "\n",
    "We return to the [data on chronic kidney disease](../data/chronic_kidney_disease).\n",
    "\n",
    "Download the data to your computer via this link: {download}`ckd_clean.csv\n",
    "<../data/ckd_clean.csv>`."
   ]
  },
  {
   "cell_type": "code",
   "execution_count": null,
   "id": "9bf3d28c",
   "metadata": {},
   "outputs": [],
   "source": [
    "ckd_full = pd.read_csv('ckd_clean.csv')\n",
    "ckd_full.head()"
   ]
  },
  {
   "cell_type": "markdown",
   "id": "4370e8a4",
   "metadata": {},
   "source": [
    "We will use this dataset to get a couple of variables (columns) and\n",
    "therefore a couple of distributions.\n",
    "\n",
    "Let's start with the White Blood Cell Count, usually abbreviated as WBC."
   ]
  },
  {
   "cell_type": "code",
   "execution_count": null,
   "id": "ec17ebf2",
   "metadata": {},
   "outputs": [],
   "source": [
    "wbc = ckd_full['White Blood Cell Count']\n",
    "wbc.hist()\n",
    "plt.title('White Blood Cell Count');"
   ]
  },
  {
   "cell_type": "code",
   "execution_count": null,
   "id": "082166f3",
   "metadata": {},
   "outputs": [],
   "source": [
    "wbc.describe()"
   ]
  },
  {
   "cell_type": "markdown",
   "id": "35adf48d",
   "metadata": {},
   "source": [
    "Compare this to Hemoglobin concentrations:"
   ]
  },
  {
   "cell_type": "code",
   "execution_count": null,
   "id": "f12de37f",
   "metadata": {},
   "outputs": [],
   "source": [
    "hgb = ckd_full['Hemoglobin']\n",
    "hgb.hist()\n",
    "plt.title('Hemoglobin');"
   ]
  },
  {
   "cell_type": "code",
   "execution_count": null,
   "id": "1434bba1",
   "metadata": {},
   "outputs": [],
   "source": [
    "hgb.describe()"
   ]
  },
  {
   "cell_type": "markdown",
   "id": "5b71a0d2",
   "metadata": {},
   "source": [
    "Notice that we can't easily plot these two on the same axes, because\n",
    "their units are so different."
   ]
  },
  {
   "cell_type": "markdown",
   "id": "559d90a3",
   "metadata": {},
   "source": [
    "Here's what that looks like.  Notice that the hemoglobin values disappear in a tiny spike to the left."
   ]
  },
  {
   "cell_type": "code",
   "execution_count": null,
   "id": "ea93bd73",
   "metadata": {},
   "outputs": [],
   "source": [
    "# Use alpha to make the histograms a little transparent.\n",
    "# Label them for a legend.\n",
    "hgb.hist(alpha=0.7, label='HGB')\n",
    "wbc.hist(alpha=0.7, label='WBC')\n",
    "plt.title(\"HGB and WBC together - HGB tiny spike at left\")\n",
    "plt.legend();"
   ]
  },
  {
   "cell_type": "markdown",
   "id": "c39cc1a4",
   "metadata": {},
   "source": [
    "We could try and fix this by subtracting the mean, as a center value, so\n",
    "the values are now *deviations* from the mean."
   ]
  },
  {
   "cell_type": "code",
   "execution_count": null,
   "id": "96038533",
   "metadata": {},
   "outputs": [],
   "source": [
    "wbc_deviations = wbc - np.mean(wbc)\n",
    "wbc_deviations.hist()\n",
    "plt.title('White Blood Cell Count deviations');"
   ]
  },
  {
   "cell_type": "code",
   "execution_count": null,
   "id": "0a0b8910",
   "metadata": {},
   "outputs": [],
   "source": [
    "hgb_deviations = hgb - np.mean(hgb)\n",
    "hgb_deviations.hist()\n",
    "plt.title('Hemoglobin deviations');"
   ]
  },
  {
   "cell_type": "markdown",
   "id": "17779b1a",
   "metadata": {},
   "source": [
    "The deviations each have a mean very very close to zero, and therefore,\n",
    "they have the same center:"
   ]
  },
  {
   "cell_type": "code",
   "execution_count": null,
   "id": "964059e4",
   "metadata": {},
   "outputs": [],
   "source": [
    "np.mean(wbc_deviations), np.mean(hgb_deviations)"
   ]
  },
  {
   "cell_type": "markdown",
   "id": "8b00176b",
   "metadata": {},
   "source": [
    "We still cannot sensibly plot them on the same axes, because the WBC values have\n",
    "a very different *spread*.  The WBC values completely dominate the x axis of\n",
    "the graph.  We can't reasonably compare the WBC deviations to the\n",
    "Hemoglobin deviations, because they have such different *units*."
   ]
  },
  {
   "cell_type": "code",
   "execution_count": null,
   "id": "94298ed6",
   "metadata": {},
   "outputs": [],
   "source": [
    "hgb_deviations.hist(alpha=0.7, label='HGB')\n",
    "wbc_deviations.hist(alpha=0.7, label='WBC')\n",
    "plt.title(\"HGB and WBC deviations - you can't see HGB\")\n",
    "plt.legend();"
   ]
  },
  {
   "cell_type": "markdown",
   "id": "867e9743",
   "metadata": {},
   "source": [
    "We would like a measure of the spread of the distribution, so we can set\n",
    "the two distributions to have the same spread.\n"
   ]
  },
  {
   "cell_type": "markdown",
   "id": "90e67d8d",
   "metadata": {},
   "source": [
    "## The standard deviation"
   ]
  },
  {
   "cell_type": "markdown",
   "id": "fc75f72d",
   "metadata": {},
   "source": [
    "In the [mean as predictor](mean_meaning) section, we found that mean was\n",
    "the best value to use as a predictor, to minimize the sum of *squared*\n",
    "deviations.\n",
    "\n",
    "Maybe we could get an idea of the typical *squared* deviation, as\n",
    "a measure of spread?"
   ]
  },
  {
   "cell_type": "code",
   "execution_count": null,
   "id": "5e3836ab",
   "metadata": {},
   "outputs": [],
   "source": [
    "hgb_deviations[:10]"
   ]
  },
  {
   "cell_type": "code",
   "execution_count": null,
   "id": "9f9fc64b",
   "metadata": {},
   "outputs": [],
   "source": [
    "hgb_dev_sq = hgb_deviations ** 2\n",
    "hgb_dev_sq[:10]"
   ]
  },
  {
   "cell_type": "code",
   "execution_count": null,
   "id": "86c4143b",
   "metadata": {},
   "outputs": [],
   "source": [
    "hgb_dev_sq.hist()\n",
    "plt.title('HGB squared deviations')"
   ]
  },
  {
   "cell_type": "markdown",
   "id": "29d8b57a",
   "metadata": {},
   "source": [
    "The center, or typical value, of this distribution, could be the *mean*."
   ]
  },
  {
   "cell_type": "code",
   "execution_count": null,
   "id": "94055852",
   "metadata": {},
   "outputs": [],
   "source": [
    "hgb_dev_sq_mean = np.mean(hgb_dev_sq)\n",
    "hgb_dev_sq_mean"
   ]
  },
  {
   "cell_type": "markdown",
   "id": "be0bf6db",
   "metadata": {},
   "source": [
    "This is the *mean squared deviation*.  This is also called the\n",
    "*variance*.  Numpy has a function to calculate that in one shot:"
   ]
  },
  {
   "cell_type": "code",
   "execution_count": null,
   "id": "ad432ed3",
   "metadata": {},
   "outputs": [],
   "source": [
    "# The mean squared deviation is the variance\n",
    "np.var(hgb)"
   ]
  },
  {
   "cell_type": "markdown",
   "id": "cb0cb50a",
   "metadata": {},
   "source": [
    "The mean squared deviation is a good indicator of the typical squared\n",
    "deviation.  What should we use for some measure of the typical\n",
    "deviation?\n",
    "\n",
    "We could take the square root of the mean squared deviation, like this:"
   ]
  },
  {
   "cell_type": "code",
   "execution_count": null,
   "id": "70e007c9",
   "metadata": {},
   "outputs": [],
   "source": [
    "np.sqrt(hgb_dev_sq_mean)"
   ]
  },
  {
   "cell_type": "markdown",
   "id": "3e854cbd",
   "metadata": {},
   "source": [
    "This is a measure of the spread of the distribution.  It is a measure of\n",
    "the typical or average deviation.\n",
    "\n",
    "It is also called the *standard deviation*."
   ]
  },
  {
   "cell_type": "code",
   "execution_count": null,
   "id": "30a91440",
   "metadata": {},
   "outputs": [],
   "source": [
    "np.std(hgb)"
   ]
  },
  {
   "cell_type": "markdown",
   "id": "2c732c76",
   "metadata": {},
   "source": [
    "We can make our distribution have a standard center *and* a standard\n",
    "spread by dividing our mean-centered distribution, by the standard\n",
    "deviation.  Then the distribution will have a standard deviation very\n",
    "close to 1.\n",
    "\n",
    "This version of the distribution, with mean 0 and standard deviation of\n",
    "1, is called the *standardized* distribution."
   ]
  },
  {
   "cell_type": "code",
   "execution_count": null,
   "id": "0c51eb71",
   "metadata": {},
   "outputs": [],
   "source": [
    "standardized_hgb = hgb_deviations / np.std(hgb)\n",
    "standardized_hgb.hist()\n",
    "plt.title('Standardized Hemoglobin')"
   ]
  },
  {
   "cell_type": "markdown",
   "id": "4ed4d20a",
   "metadata": {},
   "source": [
    "We can make a function to do this:"
   ]
  },
  {
   "cell_type": "code",
   "execution_count": null,
   "id": "aaf420f6",
   "metadata": {},
   "outputs": [],
   "source": [
    "def standard_units(x):\n",
    "    return (x - np.mean(x))/np.std(x)"
   ]
  },
  {
   "cell_type": "code",
   "execution_count": null,
   "id": "c8431247",
   "metadata": {},
   "outputs": [],
   "source": [
    "std_hgb_again = standard_units(hgb)\n",
    "std_hgb_again.hist()\n",
    "plt.title('Standardized Hemoglobin, again')"
   ]
  },
  {
   "cell_type": "markdown",
   "id": "faabb6af",
   "metadata": {},
   "source": [
    "If we do the same to the WBC, we can compare values of the\n",
    "distributions:"
   ]
  },
  {
   "cell_type": "code",
   "execution_count": null,
   "id": "8f7223cf",
   "metadata": {},
   "outputs": [],
   "source": [
    "std_wbc = standard_units(wbc)\n",
    "std_wbc.hist()\n",
    "plt.title('Standardized White Blood Cell Count')"
   ]
  },
  {
   "cell_type": "markdown",
   "id": "d4fc780f",
   "metadata": {},
   "source": [
    "Now we can put both these distributions on the same graph, to compare them directly."
   ]
  },
  {
   "cell_type": "code",
   "execution_count": null,
   "id": "af3b466c",
   "metadata": {},
   "outputs": [],
   "source": [
    "std_hgb_again.hist(alpha=0.7, label='HGB')\n",
    "std_wbc.hist(alpha=0.7, label='WBC')\n",
    "plt.title('Standardized HGB and WBC')\n",
    "plt.legend()"
   ]
  },
  {
   "cell_type": "markdown",
   "id": "a38a4955",
   "metadata": {},
   "source": [
    "Every value in standardized units gives the deviation of the original\n",
    "value from its mean, in terms of the number of standard deviations."
   ]
  }
 ],
 "metadata": {
  "jupytext": {
   "notebook_metadata_filter": "all,-language_info",
   "split_at_heading": true
  },
  "kernelspec": {
   "display_name": "Python 3",
   "language": "python",
   "name": "python3"
  }
 },
 "nbformat": 4,
 "nbformat_minor": 5
}
