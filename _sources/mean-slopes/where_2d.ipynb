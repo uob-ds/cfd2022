{
 "cells": [
  {
   "cell_type": "markdown",
   "id": "410ffd74",
   "metadata": {},
   "source": [
    "# Where in 2D\n",
    "\n",
    "This follows from [where and argmin](where_and_argmin).\n",
    "\n",
    "That page covers how `np.where` and `np.argmin` work for one-dimensional\n",
    "arrays.\n",
    "\n",
    "This page covers what happens for `np.where` with arrays of two dimensions and\n",
    "more."
   ]
  },
  {
   "cell_type": "markdown",
   "id": "7e605b7c",
   "metadata": {},
   "source": [
    "## Arrays can have two dimensions"
   ]
  },
  {
   "cell_type": "code",
   "execution_count": null,
   "id": "85c0a75f",
   "metadata": {},
   "outputs": [],
   "source": [
    "import numpy as np"
   ]
  },
  {
   "cell_type": "markdown",
   "id": "398a0fe9",
   "metadata": {},
   "source": [
    "So far we have only seen one-dimensional arrays.\n",
    "\n",
    "A *vector* is another term for a one-dimensional array.\n",
    "\n",
    "Here's a one-dimensional array (vector):"
   ]
  },
  {
   "cell_type": "code",
   "execution_count": null,
   "id": "0bf9f116",
   "metadata": {},
   "outputs": [],
   "source": [
    "arr_one_d = np.array([2, 99, -1, 4, 99])\n",
    "arr_one_d"
   ]
  },
  {
   "cell_type": "markdown",
   "id": "f4fd8aea",
   "metadata": {},
   "source": [
    "Notice the `shape` of the array:"
   ]
  },
  {
   "cell_type": "code",
   "execution_count": null,
   "id": "3678d476",
   "metadata": {},
   "outputs": [],
   "source": [
    "arr_one_d.shape"
   ]
  },
  {
   "cell_type": "markdown",
   "id": "c7bc7768",
   "metadata": {},
   "source": [
    "You can also think of this one-dimensional array as a single *row*.\n",
    "\n",
    "In fact you can have arrays with more than one row, like this:"
   ]
  },
  {
   "cell_type": "code",
   "execution_count": null,
   "id": "2a1c18e4",
   "metadata": {},
   "outputs": [],
   "source": [
    "arr_two_d = np.array([[1, 2, 3, -2, -3], [10, 11, 12, -3, -13]])\n",
    "arr_two_d"
   ]
  },
  {
   "cell_type": "markdown",
   "id": "b05cef16",
   "metadata": {},
   "source": [
    "Notice the `shape`.  This array has 2 rows, each with 5 columns."
   ]
  },
  {
   "cell_type": "code",
   "execution_count": null,
   "id": "0c60e589",
   "metadata": {},
   "outputs": [],
   "source": [
    "arr_two_d.shape"
   ]
  },
  {
   "cell_type": "markdown",
   "id": "89f000b8",
   "metadata": {},
   "source": [
    "Remember, we can ask for a single element from a one-dimensional array, using *indexing* with an integer between square brackets. The integer gives the *position* (or offset) of the element we want."
   ]
  },
  {
   "cell_type": "code",
   "execution_count": null,
   "id": "b1fa02b9",
   "metadata": {},
   "outputs": [],
   "source": [
    "arr_one_d[1]"
   ]
  },
  {
   "cell_type": "markdown",
   "id": "2f97bc5b",
   "metadata": {},
   "source": [
    "With a two-dimensional array, we need to specify the row *and* column of the element we want:"
   ]
  },
  {
   "cell_type": "code",
   "execution_count": null,
   "id": "b3f7716e",
   "metadata": {},
   "outputs": [],
   "source": [
    "arr_two_d[1, 4]"
   ]
  },
  {
   "cell_type": "markdown",
   "id": "ac8623bf",
   "metadata": {},
   "source": [
    "The first value between the brackets is the row position, and the second is the column position.\n"
   ]
  },
  {
   "cell_type": "markdown",
   "id": "ca774c7e",
   "metadata": {},
   "source": [
    "## Revision - using where on one-dimensional arrays\n",
    "\n",
    "`np.where` gets the indices of the True values in a Boolean array."
   ]
  },
  {
   "cell_type": "code",
   "execution_count": null,
   "id": "3e449d81",
   "metadata": {},
   "outputs": [],
   "source": [
    "# A Boolean array.\n",
    "equal_to_99 = arr_one_d == 99\n",
    "equal_to_99"
   ]
  },
  {
   "cell_type": "code",
   "execution_count": null,
   "id": "9216927c",
   "metadata": {},
   "outputs": [],
   "source": [
    "# Indices of the True values.\n",
    "indices = np.where(equal_to_99)\n",
    "indices"
   ]
  },
  {
   "cell_type": "markdown",
   "id": "e1a611b5",
   "metadata": {},
   "source": [
    "We can use the returned `indices` to index into the array, using square brackets."
   ]
  },
  {
   "cell_type": "code",
   "execution_count": null,
   "id": "6f815317",
   "metadata": {},
   "outputs": [],
   "source": [
    "arr_one_d[indices]"
   ]
  },
  {
   "cell_type": "markdown",
   "id": "03b93113",
   "metadata": {},
   "source": [
    "## The two-dimensional case\n",
    "\n",
    "This also works in two or more dimensions.\n",
    "\n",
    "`np.where` now returns two index arrays, one for the rows, and one for the\n",
    "columns."
   ]
  },
  {
   "cell_type": "code",
   "execution_count": null,
   "id": "926556f2",
   "metadata": {},
   "outputs": [],
   "source": [
    "indices2d = np.where(arr_two_d == -3)\n",
    "indices2d"
   ]
  },
  {
   "cell_type": "markdown",
   "id": "f37bf3ff",
   "metadata": {},
   "source": [
    "Just as for the one-dimensional case, we can use the returned indices to index\n",
    "into the array, and get the elements."
   ]
  },
  {
   "cell_type": "code",
   "execution_count": null,
   "id": "5e913285",
   "metadata": {},
   "outputs": [],
   "source": [
    "arr_two_d[indices2d]"
   ]
  }
 ],
 "metadata": {
  "jupytext": {
   "notebook_metadata_filter": "all,-language_info",
   "split_at_heading": true
  },
  "kernelspec": {
   "display_name": "Python 3",
   "language": "python",
   "name": "python3"
  }
 },
 "nbformat": 4,
 "nbformat_minor": 5
}
