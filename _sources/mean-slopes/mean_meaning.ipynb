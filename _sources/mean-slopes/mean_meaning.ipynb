{
 "cells": [
  {
   "cell_type": "markdown",
   "id": "5a450cc9",
   "metadata": {},
   "source": [
    "# The meaning of the mean\n",
    "\n",
    "The mean is an interesting value.\n",
    "\n",
    "In this notebook, we fetch an example sequence of numbers, with a distribution that is far from the standard bell-curve distribution.  We look at the properties of the mean as a predictor of the whole distribution.\n",
    "\n",
    "First we load our usual libraries."
   ]
  },
  {
   "cell_type": "code",
   "execution_count": null,
   "id": "01fd76f2",
   "metadata": {},
   "outputs": [],
   "source": [
    "import numpy as np\n",
    "import matplotlib.pyplot as plt\n",
    "%matplotlib inline\n",
    "# Make plots look a little bit more fancy\n",
    "plt.style.use('fivethirtyeight')\n",
    "# Print to 2 decimal places, show tiny values as 0\n",
    "np.set_printoptions(precision=2, suppress=True)"
   ]
  },
  {
   "cell_type": "markdown",
   "id": "f53df493",
   "metadata": {},
   "source": [
    "We need Pandas to load the gender data that we first saw in the [data frame introduction](../data-frames/data_frame_intro)."
   ]
  },
  {
   "cell_type": "code",
   "execution_count": null,
   "id": "9dfe4ca0",
   "metadata": {},
   "outputs": [],
   "source": [
    "import pandas as pd"
   ]
  },
  {
   "cell_type": "markdown",
   "id": "0afe7b59",
   "metadata": {},
   "source": [
    "The dataset is {download}`gender_stats.csv <../data/gender_stats.csv>`.\n",
    "This contains some World Bank statistics for each country on health and\n",
    "economic factors related to gender equality. See [the data file page](../data/gender_stats) for more detail."
   ]
  },
  {
   "cell_type": "code",
   "execution_count": null,
   "id": "c0567bb6",
   "metadata": {},
   "outputs": [],
   "source": [
    "# Load the data file\n",
    "gender_data = pd.read_csv('gender_stats.csv')"
   ]
  },
  {
   "cell_type": "markdown",
   "id": "7b2b2280",
   "metadata": {},
   "source": [
    "In this case, we are only interested in the data for the Maternal Mortality\n",
    "Ratio `mat_mort_ratio`."
   ]
  },
  {
   "cell_type": "code",
   "execution_count": null,
   "id": "6445f3b9",
   "metadata": {},
   "outputs": [],
   "source": [
    "mat_mort_ratio = gender_data['mat_mort_ratio']"
   ]
  },
  {
   "cell_type": "markdown",
   "id": "88f9315d",
   "metadata": {},
   "source": [
    "There are many `NaN` values in `mat_mort_ratio`.  For simplicity, we drop\n",
    "these."
   ]
  },
  {
   "cell_type": "code",
   "execution_count": null,
   "id": "197e8f68",
   "metadata": {},
   "outputs": [],
   "source": [
    "mat_mort_valid = mat_mort_ratio.dropna()"
   ]
  },
  {
   "cell_type": "markdown",
   "id": "c5b3617b",
   "metadata": {},
   "source": [
    "`mat_mort_valid` is a still a Pandas Series:"
   ]
  },
  {
   "cell_type": "code",
   "execution_count": null,
   "id": "d61b5633",
   "metadata": {},
   "outputs": [],
   "source": [
    "type(mat_mort_valid)"
   ]
  },
  {
   "cell_type": "markdown",
   "id": "be6b1bd6",
   "metadata": {},
   "source": [
    "Again, to make things a bit simpler, we convert this Series to an ordinary Numpy array:"
   ]
  },
  {
   "cell_type": "code",
   "execution_count": null,
   "id": "9c187899",
   "metadata": {},
   "outputs": [],
   "source": [
    "mm_arr = np.array(mat_mort_valid)"
   ]
  },
  {
   "cell_type": "markdown",
   "id": "5a205931",
   "metadata": {},
   "source": [
    "The values for `mm_arr` are very far from a standard bell-curve or [normal distribution](https://en.wikipedia.org/wiki/Normal_distribution)."
   ]
  },
  {
   "cell_type": "code",
   "execution_count": null,
   "id": "50499422",
   "metadata": {},
   "outputs": [],
   "source": [
    "plt.hist(mm_arr);"
   ]
  },
  {
   "cell_type": "markdown",
   "id": "364c47e7",
   "metadata": {},
   "source": [
    "We are interested in the *mean*."
   ]
  },
  {
   "cell_type": "code",
   "execution_count": null,
   "id": "0d99c25f",
   "metadata": {},
   "outputs": [],
   "source": [
    "mm_mean = np.mean(mm_arr)\n",
    "mm_mean"
   ]
  },
  {
   "cell_type": "markdown",
   "id": "31e209b5",
   "metadata": {},
   "source": [
    "As you remember, we get the mean by adding up all the values, and then dividing by the number of values, often written as $n$."
   ]
  },
  {
   "cell_type": "code",
   "execution_count": null,
   "id": "ee29efd7",
   "metadata": {},
   "outputs": [],
   "source": [
    "np.sum(mm_arr) / len(mm_arr)"
   ]
  },
  {
   "cell_type": "markdown",
   "id": "5d124bf0",
   "metadata": {},
   "source": [
    "Now let's consider the following situation.\n",
    "\n",
    "I have all the values on my computer.\n",
    "\n",
    "You don't have any of the values.\n",
    "\n",
    "I want to give you one value, that will do the best possible job of *predicting* the values.  Call this the *predictor*.\n",
    "\n",
    "Then I give you the values from the distribution one by one.  You see how good\n",
    "your prediction is, by subtracting the *predictor* from the value I just gave\n",
    "you.  That is your *prediction error* for that value.\n",
    "\n",
    "One value I could give you as a predictor, is the mean.\n",
    "\n",
    "Is that a good value to give you?\n",
    "\n",
    "Let's start by shuffling up the values, ready to give you, one by one."
   ]
  },
  {
   "cell_type": "code",
   "execution_count": null,
   "id": "d0ca5803",
   "metadata": {},
   "outputs": [],
   "source": [
    "# Not really necessary, but still.\n",
    "mm_shuffled = np.random.permutation(mm_arr)"
   ]
  },
  {
   "cell_type": "markdown",
   "id": "3e3f102a",
   "metadata": {},
   "source": [
    "I give you the mean, as a predictor.\n",
    "\n",
    "Then I pass you the first value.  You subtract your predictor, to get the prediction error."
   ]
  },
  {
   "cell_type": "code",
   "execution_count": null,
   "id": "0903c7e6",
   "metadata": {},
   "outputs": [],
   "source": [
    "prediction_error_0 = mm_shuffled[0] - mm_mean\n",
    "prediction_error_0"
   ]
  },
  {
   "cell_type": "markdown",
   "id": "824b16d6",
   "metadata": {},
   "source": [
    "We do the same for the second value:"
   ]
  },
  {
   "cell_type": "code",
   "execution_count": null,
   "id": "d3edd431",
   "metadata": {},
   "outputs": [],
   "source": [
    "prediction_error_1 = mm_shuffled[1] - mm_mean\n",
    "prediction_error_1"
   ]
  },
  {
   "cell_type": "markdown",
   "id": "60839f90",
   "metadata": {},
   "source": [
    "To cut to the end, let's do all the values at once:"
   ]
  },
  {
   "cell_type": "code",
   "execution_count": null,
   "id": "418c972d",
   "metadata": {},
   "outputs": [],
   "source": [
    "# Calculate all the prediction errors\n",
    "prediction_errors = mm_shuffled - mm_mean\n",
    "# Show the first 10\n",
    "prediction_errors[:10]"
   ]
  },
  {
   "cell_type": "markdown",
   "id": "aa7f5277",
   "metadata": {},
   "source": [
    "What do the prediction errors look like?"
   ]
  },
  {
   "cell_type": "code",
   "execution_count": null,
   "id": "15796360",
   "metadata": {},
   "outputs": [],
   "source": [
    "plt.hist(prediction_errors);"
   ]
  },
  {
   "cell_type": "markdown",
   "id": "c23b6899",
   "metadata": {},
   "source": [
    "Notice the by-eye center of this distribution of prediction errors.\n",
    "\n",
    "Let's add up all the prediction errors:"
   ]
  },
  {
   "cell_type": "code",
   "execution_count": null,
   "id": "907cb2bb",
   "metadata": {},
   "outputs": [],
   "source": [
    "np.sum(prediction_errors)"
   ]
  },
  {
   "cell_type": "markdown",
   "id": "3bb68cf9",
   "metadata": {},
   "source": [
    "The prediction errors add up to (very nearly) 0.  This is a property of the\n",
    "mean.  The deviations from the mean sum to zero.\n",
    "\n",
    "In fact, it is not very hard to show that the deviations [must sum to\n",
    "zero](../extra/mean_deviations).\n",
    "\n",
    "Here was our mean."
   ]
  },
  {
   "cell_type": "code",
   "execution_count": null,
   "id": "b57e6c02",
   "metadata": {},
   "outputs": [],
   "source": [
    "mm_mean"
   ]
  },
  {
   "cell_type": "markdown",
   "id": "7c9488d5",
   "metadata": {},
   "source": [
    "Another prediction we might be interested in, is one that gives us the smallest squared difference from the actual values.\n",
    "\n",
    "Here are the squared differences from the mean."
   ]
  },
  {
   "cell_type": "code",
   "execution_count": null,
   "id": "2251f399",
   "metadata": {},
   "outputs": [],
   "source": [
    "# Squared prediction errors, for the mean\n",
    "squared_pes = prediction_errors ** 2\n",
    "# Show the first ten\n",
    "squared_pes[:10]"
   ]
  },
  {
   "cell_type": "markdown",
   "id": "fb3c68a3",
   "metadata": {},
   "source": [
    "With a good prediction, we might want these squared prediction errors to be small.  We can see how small these are by adding them all up.  This gives us the \"sum of squares\"."
   ]
  },
  {
   "cell_type": "code",
   "execution_count": null,
   "id": "cba69637",
   "metadata": {},
   "outputs": [],
   "source": [
    "sos = np.sum(squared_pes)\n",
    "sos"
   ]
  },
  {
   "cell_type": "markdown",
   "id": "916f969e",
   "metadata": {},
   "source": [
    "That is the sum of squared prediction errors that the mean gives us.  Could some other value give us a better (lower) sum of squared prediction error?\n",
    "\n",
    "Let's try lots of predictors, to see which gives us the smallest squared prediction error."
   ]
  },
  {
   "cell_type": "code",
   "execution_count": null,
   "id": "9f1e5041",
   "metadata": {},
   "outputs": [],
   "source": [
    "# Try lots of values between 150 and 210\n",
    "predictors = np.arange(150, 210, 0.1)\n",
    "# First 10\n",
    "predictors[:10]"
   ]
  },
  {
   "cell_type": "markdown",
   "id": "0a93b40d",
   "metadata": {},
   "source": [
    "We make a function that accepts the values, and the predictor as arguments, and returns the sum of squares of the prediction errors:"
   ]
  },
  {
   "cell_type": "code",
   "execution_count": null,
   "id": "40ea873d",
   "metadata": {},
   "outputs": [],
   "source": [
    "def sum_of_squares(vals, predictor):\n",
    "    pred_errs = vals - predictor\n",
    "    sq_pred_errs = pred_errs ** 2\n",
    "    return np.sum(sq_pred_errs)"
   ]
  },
  {
   "cell_type": "markdown",
   "id": "4cc42389",
   "metadata": {},
   "source": [
    "We confirm that this gives us the value we saw before, when we use the mean as a predictor:"
   ]
  },
  {
   "cell_type": "code",
   "execution_count": null,
   "id": "adc9a801",
   "metadata": {},
   "outputs": [],
   "source": [
    "sum_of_squares(mm_arr, mm_mean)"
   ]
  },
  {
   "cell_type": "markdown",
   "id": "7a2c8a08",
   "metadata": {},
   "source": [
    "Here's what we get if we use the first predictor value:"
   ]
  },
  {
   "cell_type": "code",
   "execution_count": null,
   "id": "497f799f",
   "metadata": {},
   "outputs": [],
   "source": [
    "sum_of_squares(mm_arr, predictors[0])"
   ]
  },
  {
   "cell_type": "markdown",
   "id": "9a0e33d6",
   "metadata": {},
   "source": [
    "Now we try all the predictor values, to see which value gives us the lowest sum of squared errors."
   ]
  },
  {
   "cell_type": "code",
   "execution_count": null,
   "id": "c3bfd166",
   "metadata": {},
   "outputs": [],
   "source": [
    "# How many predictors do we have to try?\n",
    "n_predictors = len(predictors)\n",
    "n_predictors"
   ]
  },
  {
   "cell_type": "code",
   "execution_count": null,
   "id": "fd21b60e",
   "metadata": {},
   "outputs": [],
   "source": [
    "# An array to store the sum of squares values for each predictor\n",
    "sos_for_predictors = np.ones(n_predictors)"
   ]
  },
  {
   "cell_type": "markdown",
   "id": "f88004dd",
   "metadata": {},
   "source": [
    "We calculate all the sums of squares:"
   ]
  },
  {
   "cell_type": "code",
   "execution_count": null,
   "id": "7e7689c4",
   "metadata": {},
   "outputs": [],
   "source": [
    "for i in np.arange(n_predictors):\n",
    "    predictor = predictors[i]\n",
    "    sos = sum_of_squares(mm_arr, predictor)\n",
    "    sos_for_predictors[i] = sos"
   ]
  },
  {
   "cell_type": "markdown",
   "id": "f81ad13a",
   "metadata": {},
   "source": [
    "Which predictor is giving us the lowest value for the sum of squares?"
   ]
  },
  {
   "cell_type": "code",
   "execution_count": null,
   "id": "68e33a37",
   "metadata": {},
   "outputs": [],
   "source": [
    "plt.plot(predictors, sos_for_predictors)\n",
    "plt.xlabel('Predictor')\n",
    "plt.ylabel('Sum of squares');"
   ]
  },
  {
   "cell_type": "markdown",
   "id": "1fefa582",
   "metadata": {},
   "source": [
    "The smallest value we found for the sum of squares was:"
   ]
  },
  {
   "cell_type": "code",
   "execution_count": null,
   "id": "bc7fdfdc",
   "metadata": {},
   "outputs": [],
   "source": [
    "np.min(sos_for_predictors)"
   ]
  },
  {
   "cell_type": "markdown",
   "id": "0efab950",
   "metadata": {},
   "source": [
    "In fact, the value for the mean is even lower:"
   ]
  },
  {
   "cell_type": "code",
   "execution_count": null,
   "id": "1c4d0ffd",
   "metadata": {},
   "outputs": [],
   "source": [
    "sum_of_squares(mm_arr, mm_mean)"
   ]
  },
  {
   "cell_type": "markdown",
   "id": "633563f9",
   "metadata": {},
   "source": [
    "We would have to use some [fairly simple calculus and\n",
    "algebra](../extra/mean_sq_deviations) to show this, but the *mean* has to give\n",
    "the lowest sum of squares error.\n",
    "\n",
    "Put another way, the mean minimizes:\n",
    "\n",
    "* the sum of the errors;\n",
    "* the sum of squared errors."
   ]
  }
 ],
 "metadata": {
  "jupytext": {
   "notebook_metadata_filter": "all,-language_info"
  },
  "kernelspec": {
   "display_name": "Python 3",
   "language": "python",
   "name": "python3"
  }
 },
 "nbformat": 4,
 "nbformat_minor": 5
}
