{
 "cells": [
  {
   "cell_type": "markdown",
   "id": "8022763b",
   "metadata": {},
   "source": [
    "# Optimization\n",
    "\n",
    "In [The Mean and Slopes](mean_and_slopes), we used a simple but slow way to\n",
    "find the slope that best predicted one vector of values from another vector of\n",
    "values.\n",
    "\n",
    "First we go back to find that slope."
   ]
  },
  {
   "cell_type": "code",
   "execution_count": null,
   "id": "2bdb80dd",
   "metadata": {},
   "outputs": [],
   "source": [
    "import numpy as np\n",
    "import matplotlib.pyplot as plt\n",
    "%matplotlib inline\n",
    "# Make plots look a little bit more fancy\n",
    "plt.style.use('fivethirtyeight')\n",
    "# Print to 2 decimal places, show tiny values as 0\n",
    "np.set_printoptions(precision=2, suppress=True)\n",
    "import pandas as pd"
   ]
  },
  {
   "cell_type": "markdown",
   "id": "06374ab4",
   "metadata": {},
   "source": [
    "Download the {download}`ckd_clean.csv <../data/ckd_clean.csv>` file to the\n",
    "same directory as this notebook, if you are running on your own computer.\n",
    "\n",
    "We fetch and process the data. See [mean and slopes](mean_and_slopes) for a slower description of this processing."
   ]
  },
  {
   "cell_type": "code",
   "execution_count": null,
   "id": "6145dec5",
   "metadata": {},
   "outputs": [],
   "source": [
    "# Load the data file\n",
    "ckd = pd.read_csv('ckd_clean.csv')\n",
    "pcv = np.array(ckd['Packed Cell Volume'])\n",
    "hgb = np.array(ckd['Hemoglobin'])"
   ]
  },
  {
   "cell_type": "markdown",
   "id": "cc2667cf",
   "metadata": {},
   "source": [
    "Our criterion is the sum of squared error:"
   ]
  },
  {
   "cell_type": "code",
   "execution_count": null,
   "id": "399de2d9",
   "metadata": {},
   "outputs": [],
   "source": [
    "def sos_error(slope):\n",
    "    fitted = hgb * slope  # 'hgb' comes from the top level\n",
    "    error = pcv - fitted     # 'pcv' comes from the top level\n",
    "    return np.sum(error ** 2)"
   ]
  },
  {
   "cell_type": "markdown",
   "id": "77051ce1",
   "metadata": {},
   "source": [
    "We found the best slope by trying a very large number of slopes, and recording,\n",
    "for each slope, the sum of squared error.  We chose the slope from the slopes\n",
    "that we tried, that gave us the lowest sum of squared error."
   ]
  },
  {
   "cell_type": "code",
   "execution_count": null,
   "id": "0fdebea3",
   "metadata": {},
   "outputs": [],
   "source": [
    "# Slopes to try\n",
    "some_slopes = np.arange(2, 4, 0.01)\n",
    "n_slopes = len(some_slopes)\n",
    "# Try all these slopes, calculate and record sum of squared error\n",
    "sos_errors = np.zeros(n_slopes)\n",
    "for i in np.arange(n_slopes):\n",
    "    slope = some_slopes[i]\n",
    "    sos_errors[i] = sos_error(slope)\n",
    "# The slope minimizing the sum of squared error\n",
    "best_slope = some_slopes[np.argmin(sos_errors)]\n",
    "best_slope"
   ]
  },
  {
   "cell_type": "markdown",
   "id": "c3bd340f",
   "metadata": {},
   "source": [
    "At the end, of [the mean and slopes](mean_and_slopes) notebook, we saw that\n",
    "a function in Scipy called `minimize` can do this work for us, relatively\n",
    "quickly."
   ]
  },
  {
   "cell_type": "code",
   "execution_count": null,
   "id": "6d9f12f9",
   "metadata": {},
   "outputs": [],
   "source": [
    "from scipy.optimize import minimize\n",
    "minimize(sos_error, 3)"
   ]
  },
  {
   "cell_type": "markdown",
   "id": "49d38d19",
   "metadata": {},
   "source": [
    "What we are doing, with our slow dumb technique, and with the `minimize`\n",
    "function, is something called [mathematical\n",
    "optimization](https://en.wikipedia.org/wiki/Mathematical_optimization).  We use\n",
    "*optimization* when we have some *function* that takes one or more\n",
    "*parameters*.  We want to chose, or *optimize* the parameters to give us some\n",
    "desired output from the function.\n",
    "\n",
    "In our case our *function* is the sum of squared error, `sos_error`.  The\n",
    "*parameter* is the slope.  We are trying to find the value for the parameter\n",
    "that *minimizes* the result of calling the function `sos_error`.\n",
    "\n",
    "One way of doing this minimization, is the slow dumb way.  We just try a huge\n",
    "number of values for the parameter (the slope), and chose the value that gives\n",
    "us the lowest output value (the sum of squared error).\n",
    "\n",
    "This is such a common problem, that there has been an enormous amount of\n",
    "theoretical and practical work on building algorithms to make process of\n",
    "searching for the minimum value more efficient.\n",
    "\n",
    "This notebook is to give you an idea of how you might do this, and therefore,\n",
    "the kind of things that `minimize` can do, to search quickly for the best\n",
    "parameter.\n",
    "\n",
    "Let's look again at the shape of the curve relating the slope to the sum of\n",
    "squared error:"
   ]
  },
  {
   "cell_type": "code",
   "execution_count": null,
   "id": "04c8691d",
   "metadata": {},
   "outputs": [],
   "source": [
    "plt.plot(some_slopes, sos_errors)\n",
    "plt.xlabel('Candidate slopes')\n",
    "plt.ylabel('Sum of squared error')\n",
    "plt.title('SSE as a function of slope')"
   ]
  },
  {
   "cell_type": "markdown",
   "id": "56677b3a",
   "metadata": {},
   "source": [
    "This is the *function* we are trying minimize.  Specifically, we are trying to\n",
    "optimize the function that gives the *SSE* as a function of the *slope*\n",
    "parameter.\n",
    "\n",
    "We want to avoid trying every possible value for the slope.\n",
    "\n",
    "To do this, we are going to start with one value for the slope, say 100, then\n",
    "see if there is a good way to chose the next value to try.\n",
    "\n",
    "Looking at the graph, we see that, when the slope is far away from the minimum, the sum of squared error (on the y axis) changes very quickly as the slope changes.  That is, the function has a steep *gradient*.\n",
    "\n",
    "Maybe we could check what the gradient is, at our starting value of 100, by\n",
    "calculating the sum of squares (y) value, and then calculating the sum of\n",
    "squares (y) value when we increase the slope by a tiny amount.  This is the\n",
    "change in y for a very small change in x.  We divide the change in y by the\n",
    "change in x, to get the gradient:"
   ]
  },
  {
   "cell_type": "code",
   "execution_count": null,
   "id": "df0431d5",
   "metadata": {},
   "outputs": [],
   "source": [
    "def sos_error_gradient(x, dx=0.0001):\n",
    "    # Gradient of the sos_error at this value of x\n",
    "    # sos_error at this x value.\n",
    "    sos_0 = sos_error(x)\n",
    "    # sos_error a tiny bit to the right on the x axis.\n",
    "    sos_1 = sos_error(x + dx)\n",
    "    # gradient is y difference divided by x difference.\n",
    "    return (sos_1 - sos_0) / dx"
   ]
  },
  {
   "cell_type": "code",
   "execution_count": null,
   "id": "ae1c25dd",
   "metadata": {},
   "outputs": [],
   "source": [
    "# The y value of the function.\n",
    "sos_error(4)"
   ]
  },
  {
   "cell_type": "code",
   "execution_count": null,
   "id": "92447e48",
   "metadata": {},
   "outputs": [],
   "source": [
    "# The gradient of the function at this point.\n",
    "sos_error_gradient(4)"
   ]
  },
  {
   "cell_type": "markdown",
   "id": "3f0290e6",
   "metadata": {},
   "source": [
    "A large positive gradient means the x value (slope) that we tried is still far\n",
    "to the *right* of the minimum. This might encourage us to try an x value that\n",
    "is well to the left.  We could call this a large step in x, and therefore\n",
    "a large *step size*.\n",
    "\n",
    "Let's try another value:"
   ]
  },
  {
   "cell_type": "code",
   "execution_count": null,
   "id": "c0c52886",
   "metadata": {},
   "outputs": [],
   "source": [
    "# The y value of the function.\n",
    "sos_error(2)"
   ]
  },
  {
   "cell_type": "code",
   "execution_count": null,
   "id": "2afb4acd",
   "metadata": {},
   "outputs": [],
   "source": [
    "# The gradient of the function at this point.\n",
    "sos_error_gradient(2)"
   ]
  },
  {
   "cell_type": "markdown",
   "id": "b8a9e596",
   "metadata": {},
   "source": [
    "A large negative gradient means the x value (slope) that we tried is still far\n",
    "to the *left* of the minimum.   This might encourage us to try an x value that\n",
    "is well to the right.\n",
    "\n",
    "As the gradients get small, we want to take smaller steps, so we don't miss the\n",
    "minimum.\n",
    "\n",
    "The general idea then, is to chose our step sizes in proportion to the gradient\n",
    "of the function.\n",
    "\n",
    "This is the optimization technique known as [gradient\n",
    "descent](https://en.wikipedia.org/wiki/Gradient_descent).\n",
    "\n",
    "Here it is in action. We try new x-axis values by making big jumps when the\n",
    "gradient is steep, and small jumps when the gradient is shallow.  For each new\n",
    "value of x, we check the gradient, and choose our new jump size.\n",
    "\n",
    "Remember each value on the x-axis is another value we want to try, in order to\n",
    "find the best-fitting slope for our original problem."
   ]
  },
  {
   "cell_type": "code",
   "execution_count": null,
   "id": "372ed8aa",
   "metadata": {},
   "outputs": [],
   "source": [
    "next_x = 4 # We start the search at x=4\n",
    "gamma = 0.00001 # Step size multiplier\n",
    "precision = 0.00001 # Desired precision of result\n",
    "max_iters = 1000 # Maximum number of iterations\n",
    "\n",
    "for i in np.arange(max_iters):\n",
    "    # Go to the next x value\n",
    "    current_x = next_x\n",
    "    # Estimate the gradient\n",
    "    gradient = sos_error_gradient(current_x)\n",
    "    # Use gradient to choose the next x value to try.\n",
    "    # This takes negative steps when the gradient is positive\n",
    "    # and positive steps when the gradient is negative.\n",
    "    next_x = current_x - gamma * gradient\n",
    "    step = next_x - current_x\n",
    "    print('x: {:0.5f}; step {:0.5f}; gradient {:0.2f}'.format(\n",
    "        current_x, step, gradient))\n",
    "    # When the step size is equal to or smaller than the desired\n",
    "    # precision, we are near enough.\n",
    "    if abs(step) <= precision:\n",
    "        # Break out of the loop.\n",
    "        break\n",
    "\n",
    "print(\"Minimum at\", next_x)"
   ]
  },
  {
   "cell_type": "markdown",
   "id": "b72963a5",
   "metadata": {},
   "source": [
    "As you can see, by doing this, we save ourselves from trying a very large\n",
    "number of other potential x values, and we focus in on the minimum\n",
    "very quickly.\n",
    "\n",
    "This is just one method among many for optimizing our search for the minimum of\n",
    "a function.  Now you know what kind of thing it is doing, we will just let\n",
    "`miminize` do its job for us:"
   ]
  },
  {
   "cell_type": "code",
   "execution_count": null,
   "id": "8a56692d",
   "metadata": {},
   "outputs": [],
   "source": [
    "# Use float to show us the final result in higher precision\n",
    "result = minimize(sos_error, 100)\n",
    "float(result.x)"
   ]
  }
 ],
 "metadata": {
  "jupytext": {
   "notebook_metadata_filter": "all,-language_info",
   "split_at_heading": true
  },
  "kernelspec": {
   "display_name": "Python 3",
   "language": "python",
   "name": "python3"
  }
 },
 "nbformat": 4,
 "nbformat_minor": 5
}
