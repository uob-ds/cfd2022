{
 "cells": [
  {
   "cell_type": "markdown",
   "id": "a559fcd8",
   "metadata": {},
   "source": [
    "# Inference on slopes\n",
    "\n",
    "In [finding lines](finding_lines), we found the line the did the best job of\n",
    "predicting one vector of values from another vector of values.\n",
    "\n",
    "Our line was a slope and an intercept.  We used it to predict the Overall\n",
    "Quality scores (`quality`) for courses, from the Easiness scores (`easiness`).\n",
    "\n",
    "We chose the line to minimize the average prediction errors, and the sum of\n",
    "squared prediction errors.\n",
    "\n",
    "Now we may have another question.  Can we believe the slope?   Put more\n",
    "formally, is it possible that there is in fact no underlying positive or\n",
    "negative slope relating  Easiness and Quality, and the slope that we found\n",
    "arose because of *sampling error*.  That is, there was some random fluctuation\n",
    "in the data, from course to course, and just by chance, the random fluctuation\n",
    "resulted in the slope we observe.\n",
    "\n",
    "This is a very similar problem to the problem of comparing means between two\n",
    "groups.  Like that problem, we can get at our question using a permutation\n",
    "test."
   ]
  },
  {
   "cell_type": "code",
   "execution_count": null,
   "id": "257bb35a",
   "metadata": {},
   "outputs": [],
   "source": [
    "import numpy as np\n",
    "import matplotlib.pyplot as plt\n",
    "%matplotlib inline\n",
    "# Make plots look a little bit more fancy\n",
    "plt.style.use('fivethirtyeight')\n",
    "# Print to 4 decimal places, show tiny values as 0\n",
    "np.set_printoptions(precision=4, suppress=True)\n",
    "import pandas as pd"
   ]
  },
  {
   "cell_type": "markdown",
   "id": "cecfcf8b",
   "metadata": {},
   "source": [
    "If you are running on your laptop, you will need to download the\n",
    "{download}`rate_my_course.csv file <../data/rate_my_course.csv>`.\n",
    "\n",
    "We read the data and get the columns:"
   ]
  },
  {
   "cell_type": "code",
   "execution_count": null,
   "id": "ca5fc2a7",
   "metadata": {},
   "outputs": [],
   "source": [
    "# Read the data file\n",
    "ratings = pd.read_csv('rate_my_course.csv')\n",
    "# Convert Easiness and Overall Quality measures to arrays.\n",
    "easiness = np.array(ratings['Easiness'])\n",
    "quality = np.array(ratings['Overall Quality'])"
   ]
  },
  {
   "cell_type": "markdown",
   "id": "cd408f7a",
   "metadata": {},
   "source": [
    "The [using minimize](using_minimize) page has the function we want to minimize:"
   ]
  },
  {
   "cell_type": "code",
   "execution_count": null,
   "id": "e790cedb",
   "metadata": {},
   "outputs": [],
   "source": [
    "def ss_any_line(c_s, x_values, y_values):\n",
    "    c, s = c_s\n",
    "    predicted = c + x_values * s\n",
    "    error = y_values - predicted\n",
    "    return np.sum(error ** 2)"
   ]
  },
  {
   "cell_type": "markdown",
   "id": "41492316",
   "metadata": {},
   "source": [
    "Find the best intercept and slope:"
   ]
  },
  {
   "cell_type": "code",
   "execution_count": null,
   "id": "2721f7ce",
   "metadata": {},
   "outputs": [],
   "source": [
    "from scipy.optimize import minimize\n",
    "observed_result = minimize(ss_any_line, [2.25, 0.47], args=(easiness, quality))\n",
    "observed_slope = observed_result.x[1]\n",
    "observed_slope"
   ]
  },
  {
   "cell_type": "markdown",
   "id": "106e3608",
   "metadata": {},
   "source": [
    "This is what we see, in the data we have."
   ]
  },
  {
   "cell_type": "markdown",
   "id": "81aa3cf7",
   "metadata": {},
   "source": [
    "What would we see, if we took another random sample of Easiness and Quality values?  We can't easily do this.  Is there a way we can estimate what this would look like?"
   ]
  },
  {
   "cell_type": "markdown",
   "id": "d5dc5867",
   "metadata": {},
   "source": [
    "We return to the permutation trick we used in [Brexit ages](../permutation/brexit_ages).\n",
    "If there is, in fact, no relationship between Quality and Easiness, then the\n",
    "slope, suggesting an association of Quality and Easiness, is just a result of\n",
    "random sampling.\n",
    "\n",
    "We can simulate that random sampling by making a new, fake (Easiness, Quality) pairing.  We do this by shuffling the Quality (or Easiness) values, to make the relationship between them random.\n",
    "\n",
    "Then we check what slope we get.\n",
    "\n",
    "We keep doing this, and keep checking the slope, to build up the *sampling distribution* for the slope.\n",
    "\n",
    "Then we compare our actual slope to the sampling distribution.  If the actual slope is not a rare value from the sampling distribution, the slope may have come about because of random sampling.  If it is a rare value, random sampling is an unlikely explanation."
   ]
  },
  {
   "cell_type": "markdown",
   "id": "926ddf10",
   "metadata": {},
   "source": [
    "First shuffle the copy of the Quality values, to make a fake and random pairing\n",
    "between the Easiness and Quality values."
   ]
  },
  {
   "cell_type": "code",
   "execution_count": null,
   "id": "70e1b0bc",
   "metadata": {},
   "outputs": [],
   "source": [
    "# Make a fake pairing of Easiness and Quality, by shuffling Quality\n",
    "shuffled_quality = np.random.permutation(quality)"
   ]
  },
  {
   "cell_type": "markdown",
   "id": "88c51738",
   "metadata": {},
   "source": [
    "Use `minimize` to estimate the best-fit slope for this new fake pairing:"
   ]
  },
  {
   "cell_type": "code",
   "execution_count": null,
   "id": "8f58b7b4",
   "metadata": {},
   "outputs": [],
   "source": [
    "# Estimate the slope for the fake pairing\n",
    "fake_result = minimize(ss_any_line, [2.25, 0.47],\n",
    "                       args=(easiness, shuffled_quality))\n",
    "fake_result.x"
   ]
  },
  {
   "cell_type": "markdown",
   "id": "5e134612",
   "metadata": {},
   "source": [
    "Get the slope, as our first estimate from the sampling distribution:"
   ]
  },
  {
   "cell_type": "code",
   "execution_count": null,
   "id": "80e643bf",
   "metadata": {},
   "outputs": [],
   "source": [
    "fake_slope = fake_result.x[1]\n",
    "fake_slope"
   ]
  },
  {
   "cell_type": "markdown",
   "id": "f8af96d7",
   "metadata": {},
   "source": [
    "We need to do this many times to build up a good estimate of the sampling distribution:"
   ]
  },
  {
   "cell_type": "code",
   "execution_count": null,
   "id": "164f5297",
   "metadata": {},
   "outputs": [],
   "source": [
    "n_samples = 10000\n",
    "fake_slopes = np.zeros(n_samples)\n",
    "for i in np.arange(n_samples):\n",
    "    shuffled_quality = np.random.permutation(quality)\n",
    "    fake_inter, fake_slope = minimize(ss_any_line, [2.25, 0.47],\n",
    "                                      args=(easiness, shuffled_quality)).x\n",
    "    fake_slopes[i] = fake_slope"
   ]
  },
  {
   "cell_type": "markdown",
   "id": "fc133a07",
   "metadata": {},
   "source": [
    "As usual, we display the sampling distribution:"
   ]
  },
  {
   "cell_type": "code",
   "execution_count": null,
   "id": "185e1f7e",
   "metadata": {},
   "outputs": [],
   "source": [
    "plt.hist(fake_slopes)\n",
    "plt.xlabel('Fake slope values')\n",
    "plt.title('Sampling distribution for slope');"
   ]
  },
  {
   "cell_type": "markdown",
   "id": "d109719d",
   "metadata": {},
   "source": [
    "We find the proportion of the sampling distribution that is greater than or\n",
    "equal to the value we saw:"
   ]
  },
  {
   "cell_type": "code",
   "execution_count": null,
   "id": "417f464a",
   "metadata": {},
   "outputs": [],
   "source": [
    "p = np.count_nonzero(fake_slopes >= observed_slope) / n_samples\n",
    "p"
   ]
  },
  {
   "cell_type": "markdown",
   "id": "dee8a690",
   "metadata": {},
   "source": [
    "The observed slope is very unlikely, given the sampling distribution.  We conclude that the observed slope is unlikely to be the result of random sampling."
   ]
  }
 ],
 "metadata": {
  "jupytext": {
   "notebook_metadata_filter": "all,-language_info",
   "split_at_heading": true
  },
  "kernelspec": {
   "display_name": "Python 3",
   "language": "python",
   "name": "python3"
  }
 },
 "nbformat": 4,
 "nbformat_minor": 5
}
