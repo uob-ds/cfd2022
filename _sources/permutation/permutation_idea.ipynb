{
 "cells": [
  {
   "cell_type": "markdown",
   "id": "f9d10b11",
   "metadata": {},
   "source": [
    "# The idea of permutation\n",
    "\n",
    "The idea of permutation is fundamental to a wide range of statistical tests.\n",
    "This page shows how permutation works by comparing to a physical\n",
    "implementation of permutation, that randomizes values by mixing balls in a\n",
    "bucket.\n",
    "\n",
    "## A mosquito problem"
   ]
  },
  {
   "cell_type": "markdown",
   "id": "5298395a",
   "metadata": {},
   "source": [
    "![](../images/mosquito_banner.png)\n",
    "\n",
    "With thanks to John Rauser: [Statistics Without the Agonizing Pain](https://www.youtube.com/watch?v=5Dnw46eC-0o)"
   ]
  },
  {
   "cell_type": "markdown",
   "id": "56906e50",
   "metadata": {},
   "source": [
    "## The data\n",
    "\n",
    "Download the data from {download}`mosquito_beer.csv <../data/mosquito_beer.csv>`."
   ]
  },
  {
   "cell_type": "markdown",
   "id": "b434dbf6",
   "metadata": {},
   "source": [
    "See [this\n",
    "page](https://github.com/odsti/datasets/tree/master/mosquito_beer) for\n",
    "more details on the dataset, and [the data license page](../data/LICENSE).\n"
   ]
  },
  {
   "cell_type": "code",
   "execution_count": null,
   "id": "a1b49b99",
   "metadata": {},
   "outputs": [],
   "source": [
    "# Import Numpy library, rename as \"np\"\n",
    "import numpy as np\n",
    "# Import Pandas library, rename as \"pd\"\n",
    "import pandas as pd\n",
    "# Safe setting for Pandas.\n",
    "pd.set_option('mode.chained_assignment', 'raise')\n",
    "\n",
    "# Set up plotting\n",
    "import matplotlib.pyplot as plt\n",
    "%matplotlib inline\n",
    "plt.style.use('fivethirtyeight')"
   ]
  },
  {
   "cell_type": "code",
   "execution_count": null,
   "id": "57f3fd09",
   "metadata": {
    "tags": [
     "hide-cell"
    ]
   },
   "outputs": [],
   "source": [
    "# HIDDEN\n",
    "# An extra tweak to make sure we always get the same random numbers.\n",
    "# Do not use this in your own code; you nearly always want an unpredictable\n",
    "# stream of random numbers.  Making them predictable in this way only makes\n",
    "# sense for a very limited range of things, like tutorials and tests.\n",
    "np.random.seed(42)"
   ]
  },
  {
   "cell_type": "markdown",
   "id": "b6666749",
   "metadata": {},
   "source": [
    "Read in the data:"
   ]
  },
  {
   "cell_type": "code",
   "execution_count": null,
   "id": "d2a69507",
   "metadata": {},
   "outputs": [],
   "source": [
    "mosquitoes = pd.read_csv('mosquito_beer.csv')\n",
    "mosquitoes.head()"
   ]
  },
  {
   "cell_type": "markdown",
   "id": "ca52451f",
   "metadata": {},
   "source": [
    "Filter the data frame to contain only the \"after\" treatment rows:"
   ]
  },
  {
   "cell_type": "code",
   "execution_count": null,
   "id": "a05ff3b0",
   "metadata": {},
   "outputs": [],
   "source": [
    "# After treatment rows.\n",
    "afters = mosquitoes[mosquitoes['test'] == 'after']"
   ]
  },
  {
   "cell_type": "markdown",
   "id": "162d13db",
   "metadata": {},
   "source": [
    "Filter the \"after\" rows to contain only the \"beer\" group, and get the number of activated mosquitoes for these 25 subjects:"
   ]
  },
  {
   "cell_type": "code",
   "execution_count": null,
   "id": "dbaa6db8",
   "metadata": {},
   "outputs": [],
   "source": [
    "# After beer treatment rows.\n",
    "beers = afters[afters['group'] == 'beer']\n",
    "# The 'activated' numbers for the after beer rows.\n",
    "beer_activated = np.array(beers['activated'])\n",
    "beer_activated"
   ]
  },
  {
   "cell_type": "markdown",
   "id": "55c4d2c7",
   "metadata": {},
   "source": [
    "The number of subjects in the \"beer\" condition:"
   ]
  },
  {
   "cell_type": "code",
   "execution_count": null,
   "id": "99d9356f",
   "metadata": {},
   "outputs": [],
   "source": [
    "n_beer = len(beer_activated)\n",
    "n_beer"
   ]
  },
  {
   "cell_type": "markdown",
   "id": "d9cf672a",
   "metadata": {},
   "source": [
    "Get the \"activated\" number for the 18 subjects in the \"water\" group:"
   ]
  },
  {
   "cell_type": "code",
   "execution_count": null,
   "id": "add894e0",
   "metadata": {},
   "outputs": [],
   "source": [
    "# Same for the water group.\n",
    "waters = afters[afters['group'] == 'water']\n",
    "water_activated = np.array(waters['activated'])\n",
    "water_activated"
   ]
  },
  {
   "cell_type": "markdown",
   "id": "96809862",
   "metadata": {},
   "source": [
    "Number of subjects in the \"water\" condition:"
   ]
  },
  {
   "cell_type": "code",
   "execution_count": null,
   "id": "021db003",
   "metadata": {},
   "outputs": [],
   "source": [
    "n_water = len(water_activated)\n",
    "n_water"
   ]
  },
  {
   "cell_type": "markdown",
   "id": "92106461",
   "metadata": {},
   "source": [
    "## The permutation way"
   ]
  },
  {
   "cell_type": "markdown",
   "id": "db9b07d8",
   "metadata": {},
   "source": [
    "* Calculate difference in means\n",
    "* Pool\n",
    "* Repeat many times:\n",
    "    * Shuffle\n",
    "    * Split\n",
    "    * Recalculate difference in means\n",
    "    * Store"
   ]
  },
  {
   "cell_type": "markdown",
   "id": "95f59c59",
   "metadata": {},
   "source": [
    "The next graphic shows the activated values as a series of gold and blue\n",
    "balls.  The activated numbers for the \"beer\" group are gold), and the activated\n",
    "numbers for the \"water\" group, in blue:\n",
    "\n",
    "![](../images/just_balls.png)\n",
    "\n",
    "## Calculate difference in means\n",
    "\n",
    "Here we take the mean of \"beer\" activated numbers (the numbers in gold):\n",
    "\n",
    "![](../images/beer_mean.png)"
   ]
  },
  {
   "cell_type": "code",
   "execution_count": null,
   "id": "baaae651",
   "metadata": {},
   "outputs": [],
   "source": [
    "beer_mean = np.mean(beer_activated)\n",
    "beer_mean"
   ]
  },
  {
   "cell_type": "markdown",
   "id": "7c276e47",
   "metadata": {},
   "source": [
    "Next we take the mean of activation values for the \"water\" subjects (value in\n",
    "blue):\n",
    "\n",
    "![](../images/water_mean.png)"
   ]
  },
  {
   "cell_type": "code",
   "execution_count": null,
   "id": "b34b2cf8",
   "metadata": {},
   "outputs": [],
   "source": [
    "water_mean = np.mean(water_activated)\n",
    "water_mean"
   ]
  },
  {
   "cell_type": "markdown",
   "id": "6401b97e",
   "metadata": {},
   "source": [
    "The difference between the means in our data:"
   ]
  },
  {
   "cell_type": "code",
   "execution_count": null,
   "id": "388e7218",
   "metadata": {},
   "outputs": [],
   "source": [
    "observed_difference = beer_mean - water_mean\n",
    "observed_difference"
   ]
  },
  {
   "cell_type": "markdown",
   "id": "fbb14ea3",
   "metadata": {},
   "source": [
    "## Pool\n",
    "\n",
    "We can put the values values for the beer and water conditions into one long\n",
    "array, 25 + 18 values long.\n",
    "\n",
    "In order to do this, we use the `np.append` function.  It does what we want; it\n",
    "takes two arrays and splices them together into one long array.  This operation\n",
    "is called *concatenation*.\n",
    "\n",
    "Here is `np.append` in action:"
   ]
  },
  {
   "cell_type": "code",
   "execution_count": null,
   "id": "155e5f87",
   "metadata": {},
   "outputs": [],
   "source": [
    "first_array = np.array([10, 20, 30])\n",
    "second_array = np.array([99, 199, 299])\n",
    "# The two arrays concatenated.\n",
    "both_together = np.append(first_array, second_array)\n",
    "both_together"
   ]
  },
  {
   "cell_type": "markdown",
   "id": "4f0b2b99",
   "metadata": {},
   "source": [
    "We apply `np.append` to *pool* our two groups of numbers into one array."
   ]
  },
  {
   "cell_type": "code",
   "execution_count": null,
   "id": "1a1ac3b3",
   "metadata": {},
   "outputs": [],
   "source": [
    "pooled = np.append(beer_activated, water_activated)\n",
    "pooled"
   ]
  },
  {
   "cell_type": "markdown",
   "id": "710273e7",
   "metadata": {},
   "source": [
    "## Shuffle\n",
    "\n",
    "Then we shuffle the pooled values so the beer and water values are completely\n",
    "mixed."
   ]
  },
  {
   "cell_type": "code",
   "execution_count": null,
   "id": "51978b1f",
   "metadata": {},
   "outputs": [],
   "source": [
    "shuffled = np.random.permutation(pooled)\n",
    "shuffled"
   ]
  },
  {
   "cell_type": "markdown",
   "id": "6fdea074",
   "metadata": {},
   "source": [
    "This is the same idea as putting the gold and blue balls into a bucket and shaking them up into a random arrangement.\n",
    "\n",
    "![](../images/fake_balls0.png)\n",
    "\n",
    "## Split\n",
    "\n",
    "We take the first 25 values as our fake beer group.  In fact these 25 values\n",
    "are a random mixture of the beer and the water values.  This is the same idea as taking 25 balls at random from the jumbled mix of gold and blue balls."
   ]
  },
  {
   "cell_type": "code",
   "execution_count": null,
   "id": "1f8209e8",
   "metadata": {},
   "outputs": [],
   "source": [
    "# Take the first 25 values\n",
    "fake_beer = shuffled[:n_beer]"
   ]
  },
  {
   "cell_type": "markdown",
   "id": "81340bfa",
   "metadata": {},
   "source": [
    "![](../images/fake_beer_mean0.png)\n",
    "\n",
    "We calculate the mean:"
   ]
  },
  {
   "cell_type": "code",
   "execution_count": null,
   "id": "eaf2118b",
   "metadata": {},
   "outputs": [],
   "source": [
    "fake_beer_mean = np.mean(fake_beer)\n",
    "fake_beer_mean"
   ]
  },
  {
   "cell_type": "markdown",
   "id": "6e1f3cdb",
   "metadata": {},
   "source": [
    "Then we take the remaining 18 values as our fake water group:"
   ]
  },
  {
   "cell_type": "code",
   "execution_count": null,
   "id": "f6996543",
   "metadata": {},
   "outputs": [],
   "source": [
    "fake_water = pooled[n_beer:]"
   ]
  },
  {
   "cell_type": "markdown",
   "id": "2682e462",
   "metadata": {},
   "source": [
    "![](../images/fake_water_mean0.png)\n",
    "\n",
    "We take the mean of these too:"
   ]
  },
  {
   "cell_type": "code",
   "execution_count": null,
   "id": "1b055a99",
   "metadata": {},
   "outputs": [],
   "source": [
    "fake_water_mean = np.mean(fake_water)\n",
    "fake_water_mean"
   ]
  },
  {
   "cell_type": "markdown",
   "id": "7e1154f1",
   "metadata": {},
   "source": [
    "The difference between these means is our first estimate of how much the mean difference will vary when we take random samples from this pooled population:"
   ]
  },
  {
   "cell_type": "code",
   "execution_count": null,
   "id": "bd969ff0",
   "metadata": {},
   "outputs": [],
   "source": [
    "fake_diff = fake_beer_mean - fake_water_mean\n",
    "fake_diff"
   ]
  },
  {
   "cell_type": "markdown",
   "id": "ca4c4349",
   "metadata": {},
   "source": [
    "## Repeat\n",
    "\n",
    "We do another shuffle:"
   ]
  },
  {
   "cell_type": "code",
   "execution_count": null,
   "id": "20ed842a",
   "metadata": {},
   "outputs": [],
   "source": [
    "shuffled = np.random.permutation(pooled)"
   ]
  },
  {
   "cell_type": "markdown",
   "id": "4e36a98b",
   "metadata": {},
   "source": [
    "![](../images/fake_beer_mean1.png)\n",
    "\n",
    "We take another fake beer group, and calculate another fake beer mean:"
   ]
  },
  {
   "cell_type": "code",
   "execution_count": null,
   "id": "31295a9d",
   "metadata": {},
   "outputs": [],
   "source": [
    "fake_beer = shuffled[:n_beer]\n",
    "np.mean(fake_beer)"
   ]
  },
  {
   "cell_type": "markdown",
   "id": "cb942d47",
   "metadata": {},
   "source": [
    "We take another fake water group, find the mean:\n",
    "\n",
    "![](../images/fake_water_mean1.png)"
   ]
  },
  {
   "cell_type": "code",
   "execution_count": null,
   "id": "c429866c",
   "metadata": {},
   "outputs": [],
   "source": [
    "fake_water = shuffled[n_beer:]\n",
    "np.mean(fake_water)"
   ]
  },
  {
   "cell_type": "markdown",
   "id": "40b2ab60",
   "metadata": {},
   "source": [
    "Now we have another example difference between these means:"
   ]
  },
  {
   "cell_type": "code",
   "execution_count": null,
   "id": "9881e451",
   "metadata": {},
   "outputs": [],
   "source": [
    "np.mean(fake_beer) - np.mean(fake_water)"
   ]
  },
  {
   "cell_type": "markdown",
   "id": "79641ef6",
   "metadata": {},
   "source": [
    "We can keep on repeating this process to get more and more examples of mean\n",
    "differences:"
   ]
  },
  {
   "cell_type": "code",
   "execution_count": null,
   "id": "c1f0f617",
   "metadata": {},
   "outputs": [],
   "source": [
    "# Shuffle\n",
    "shuffled = np.random.permutation(pooled)\n",
    "# Split\n",
    "fake_beer = shuffled[:n_beer]\n",
    "fake_water = shuffled[n_beer:]\n",
    "# Recalculate mean difference\n",
    "fake_diff = np.mean(fake_beer) - np.mean(fake_water)\n",
    "fake_diff"
   ]
  },
  {
   "cell_type": "markdown",
   "id": "08f0e1b7",
   "metadata": {},
   "source": [
    "It is not hard to do this as many times as we want, using a `for` loop:"
   ]
  },
  {
   "cell_type": "code",
   "execution_count": null,
   "id": "a4e5035d",
   "metadata": {},
   "outputs": [],
   "source": [
    "fake_differences = np.zeros(10000)\n",
    "for i in np.arange(10000):\n",
    "    # Shuffle\n",
    "    shuffled = np.random.permutation(pooled)\n",
    "    # Split\n",
    "    fake_beer = shuffled[:n_beer]\n",
    "    fake_water = shuffled[n_beer:]\n",
    "    # Recalculate mean difference\n",
    "    fake_diff = np.mean(fake_beer) - np.mean(fake_water)\n",
    "    # Store mean difference\n",
    "    fake_differences[i] = fake_diff\n",
    "plt.hist(fake_differences);"
   ]
  },
  {
   "cell_type": "markdown",
   "id": "010d0ee4",
   "metadata": {},
   "source": [
    "We are interested to know just how unusual it is to get a difference as big as we actually see, in these many samples of differences we expect by chance, from random sampling.\n",
    "\n",
    "To do this we calculate how many of the fake differences we generated are equal to or greater than the difference we observe:"
   ]
  },
  {
   "cell_type": "code",
   "execution_count": null,
   "id": "dccb4bf5",
   "metadata": {},
   "outputs": [],
   "source": [
    "n_ge_actual = np.count_nonzero(fake_differences >= observed_difference)\n",
    "n_ge_actual"
   ]
  },
  {
   "cell_type": "markdown",
   "id": "ecde3189",
   "metadata": {},
   "source": [
    "That means that the chance of any one difference being greater than the one we observe is:"
   ]
  },
  {
   "cell_type": "code",
   "execution_count": null,
   "id": "9f9242dd",
   "metadata": {},
   "outputs": [],
   "source": [
    "p_ge_actual = n_ge_actual / 10000\n",
    "p_ge_actual"
   ]
  },
  {
   "cell_type": "markdown",
   "id": "2191df80",
   "metadata": {},
   "source": [
    "This is also an estimate of the probability we would see a difference as large as the one we observe, if we were taking random samples from a matching population."
   ]
  }
 ],
 "metadata": {
  "kernelspec": {
   "display_name": "Python 3",
   "language": "python",
   "name": "python3"
  }
 },
 "nbformat": 4,
 "nbformat_minor": 5
}
