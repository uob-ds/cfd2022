{
 "cells": [
  {
   "cell_type": "markdown",
   "id": "50dbcd10",
   "metadata": {},
   "source": [
    "# Population and permutation\n",
    "\n",
    "Here we analyze the [Brexit survey](../data/brexit_survey).\n",
    "\n",
    "As you will see in the link above, the data are from a survey of the UK\n",
    "population.  Each row in the survey corresponds to one person answering.  One\n",
    "of the questions, named `cut15` is how the person voted in the Brexit\n",
    "referendum.  Another, `numage` is the age of the person in years.\n"
   ]
  },
  {
   "cell_type": "code",
   "execution_count": null,
   "id": "a7558a23",
   "metadata": {},
   "outputs": [],
   "source": [
    "# Array library.\n",
    "import numpy as np\n",
    "\n",
    "# Data frame library.\n",
    "import pandas as pd\n",
    "\n",
    "# Plotting\n",
    "import matplotlib.pyplot as plt\n",
    "%matplotlib inline\n",
    "\n",
    "# Fancy plots\n",
    "plt.style.use('fivethirtyeight')"
   ]
  },
  {
   "cell_type": "markdown",
   "id": "b6efeeab",
   "metadata": {},
   "source": [
    "If you are running on your laptop, first\n",
    "{download}`download the data file <../data/audit_of_political_engagement_14_2017.tab>`\n",
    "to the same directory as this notebook.\n",
    "\n",
    "The cell below loads the data file into memory with Pandas.  Notice the `.tab`\n",
    "extension for this file.  This file is just like the `.csv` (Comma Separated\n",
    "Values) files you have already seen, but the values are separated by a\n",
    "different character. Instead of being separated by commas - `,` - they are\n",
    "separated by a character called Tab.  We tell Pandas about this in the cell\n",
    "below:"
   ]
  },
  {
   "cell_type": "code",
   "execution_count": null,
   "id": "98400f9d",
   "metadata": {},
   "outputs": [],
   "source": [
    "# Load the data frame, and put it in the variable \"audit_data\".\n",
    "# The values are separated by tab characters, written as \"\\t\" in Python\n",
    "# strings.\n",
    "audit_data = pd.read_csv('audit_of_political_engagement_14_2017.tab',\n",
    "                         sep='\\t')\n",
    "# Show the first 5 rows.\n",
    "audit_data.head()"
   ]
  },
  {
   "cell_type": "markdown",
   "id": "ec9a3f2a",
   "metadata": {},
   "source": [
    "Now get the ages for the Leavers and the Remainers.\n",
    "\n",
    "A small number of ages are recorded as 0, meaning we do not have the correct age for that person / row.  First we drop rows with ages recorded as 0, then select the remaining rows corresponding to people who voted to remain (`cut15` value of 1) and leave (`cut15` value of 2):"
   ]
  },
  {
   "cell_type": "code",
   "execution_count": null,
   "id": "063ab413",
   "metadata": {},
   "outputs": [],
   "source": [
    "# Drop rows where age is 0\n",
    "good_data = audit_data[audit_data['numage'] != 0]\n",
    "# Get data frames for leavers and remainers\n",
    "remain_ages = good_data[good_data['cut15'] == 1]['numage']\n",
    "leave_ages = good_data[good_data['cut15'] == 2]['numage']"
   ]
  },
  {
   "cell_type": "markdown",
   "id": "35057b58",
   "metadata": {},
   "source": [
    "Show the age distributions for the two groups:"
   ]
  },
  {
   "cell_type": "code",
   "execution_count": null,
   "id": "455d15f8",
   "metadata": {},
   "outputs": [],
   "source": [
    "remain_ages.hist()\n",
    "len(remain_ages)"
   ]
  },
  {
   "cell_type": "code",
   "execution_count": null,
   "id": "642e4fdb",
   "metadata": {},
   "outputs": [],
   "source": [
    "leave_ages.hist()\n",
    "len(leave_ages)"
   ]
  },
  {
   "cell_type": "markdown",
   "id": "78ccdc9d",
   "metadata": {},
   "source": [
    "These certainly look like different distributions."
   ]
  },
  {
   "cell_type": "markdown",
   "id": "9bf8c416",
   "metadata": {},
   "source": [
    "We might summarize the difference, by looking at the difference in means:"
   ]
  },
  {
   "cell_type": "code",
   "execution_count": null,
   "id": "35923167",
   "metadata": {},
   "outputs": [],
   "source": [
    "leave_mean = np.mean(leave_ages)\n",
    "leave_mean"
   ]
  },
  {
   "cell_type": "code",
   "execution_count": null,
   "id": "9474faa2",
   "metadata": {},
   "outputs": [],
   "source": [
    "remain_mean = np.mean(remain_ages)\n",
    "remain_mean"
   ]
  },
  {
   "cell_type": "code",
   "execution_count": null,
   "id": "45635cab",
   "metadata": {},
   "outputs": [],
   "source": [
    "difference = leave_mean - remain_mean\n",
    "difference"
   ]
  },
  {
   "cell_type": "markdown",
   "id": "1af0bd4e",
   "metadata": {},
   "source": [
    "The distributions do look different.\n",
    "\n",
    "They have a mean difference of nearly 4 years.\n",
    "\n",
    "Could this be due to sampling error?\n",
    "\n",
    "If we took two random samples of 774 and 541 voters, *from the same\n",
    "population*, we would expect to see some difference, just by chance.\n",
    "\n",
    "*By chance* means, because random samples vary."
   ]
  },
  {
   "cell_type": "markdown",
   "id": "a78ba14b",
   "metadata": {},
   "source": [
    "What is the population, in this case?"
   ]
  },
  {
   "cell_type": "markdown",
   "id": "36ed0d6e",
   "metadata": {},
   "source": [
    "It is not exactly the whole UK population, because the survey only sampled\n",
    "people who were eligible to vote."
   ]
  },
  {
   "cell_type": "markdown",
   "id": "6874ed0a",
   "metadata": {},
   "source": [
    "It might not even be the whole UK population, who are eligible to vote.\n",
    "Perhaps the survey company got a not-representative range of ages, for some\n",
    "reason.  We are not interested in that question, only the question of whether\n",
    "the Leave and Remain voters could come from the same population, where the\n",
    "population is, people selected by the survey company."
   ]
  },
  {
   "cell_type": "markdown",
   "id": "0c7d6887",
   "metadata": {},
   "source": [
    "How do we find this population, to do our simulation?"
   ]
  },
  {
   "cell_type": "markdown",
   "id": "44730830",
   "metadata": {},
   "source": [
    "## Population by permutation\n",
    "\n",
    "Here comes a nice trick.   We can use the data that we already have, to\n",
    "simulate the effect of drawing lots of random samples, from the underlying\n",
    "population."
   ]
  },
  {
   "cell_type": "markdown",
   "id": "471a9e06",
   "metadata": {},
   "source": [
    "Let us assume that the Leave voters and the Remain voters are in fact samples\n",
    "from the same underlying population.\n",
    "\n",
    "If that is the case, we can throw the Leave and Remain voters into one big pool\n",
    "of 774 + 541 == 1315 voters.\n",
    "\n",
    "Then we can take split this new mixed sample into two groups, at\n",
    "random, one with 774 voters, and the other with 541.  The new groups\n",
    "have a random mix of the original Leave and Remain voters.  Then we\n",
    "calculate the difference in means between these two new, fake groups."
   ]
  },
  {
   "cell_type": "code",
   "execution_count": null,
   "id": "bbdaf65e",
   "metadata": {},
   "outputs": [],
   "source": [
    "pooled = np.append(remain_ages, leave_ages)\n",
    "pooled"
   ]
  },
  {
   "cell_type": "code",
   "execution_count": null,
   "id": "4523ace0",
   "metadata": {},
   "outputs": [],
   "source": [
    "len(pooled)"
   ]
  },
  {
   "cell_type": "markdown",
   "id": "7d08ec2a",
   "metadata": {},
   "source": [
    "We mix the two samples together, using `np.random.permutation`, to make a\n",
    "random permutation of the values.  It works like this:"
   ]
  },
  {
   "cell_type": "code",
   "execution_count": null,
   "id": "6e95cf82",
   "metadata": {},
   "outputs": [],
   "source": [
    "pets = np.array(['cat', 'dog', 'rabbit'])\n",
    "pets"
   ]
  },
  {
   "cell_type": "code",
   "execution_count": null,
   "id": "6ef57a5e",
   "metadata": {},
   "outputs": [],
   "source": [
    "np.random.permutation(pets)"
   ]
  },
  {
   "cell_type": "code",
   "execution_count": null,
   "id": "a0a3deb6",
   "metadata": {},
   "outputs": [],
   "source": [
    "np.random.permutation(pets)"
   ]
  },
  {
   "cell_type": "markdown",
   "id": "5c2bc742",
   "metadata": {},
   "source": [
    "Now to mix up ages of the Leavers and Remainers:"
   ]
  },
  {
   "cell_type": "code",
   "execution_count": null,
   "id": "68d649b9",
   "metadata": {},
   "outputs": [],
   "source": [
    "shuffled = np.random.permutation(pooled)\n",
    "shuffled"
   ]
  },
  {
   "cell_type": "markdown",
   "id": "74086d83",
   "metadata": {},
   "source": [
    "We split the newly mixed group into 774 simulated Remain voters and 541\n",
    "simulated Leave voters, where each group is a random mix of the original Leave\n",
    "and Remain ages."
   ]
  },
  {
   "cell_type": "code",
   "execution_count": null,
   "id": "fbe02e41",
   "metadata": {},
   "outputs": [],
   "source": [
    "# The first 774 values\n",
    "fake_remainers = shuffled[:774]\n",
    "# The rest\n",
    "fake_leavers = shuffled[774:]\n",
    "len(fake_leavers)"
   ]
  },
  {
   "cell_type": "markdown",
   "id": "e2026ddf",
   "metadata": {},
   "source": [
    "Now we can calculate the mean difference.  This is our first simulation:"
   ]
  },
  {
   "cell_type": "code",
   "execution_count": null,
   "id": "bfe53dc3",
   "metadata": {},
   "outputs": [],
   "source": [
    "fake_difference = np.mean(fake_leavers) - np.mean(fake_remainers)\n",
    "fake_difference"
   ]
  },
  {
   "cell_type": "markdown",
   "id": "c7e3a5a1",
   "metadata": {},
   "source": [
    "That looks a lot smaller than the difference we saw.   We want to keep doing\n",
    "this, to collect more simulations.  We need to mix up the ages again, to give\n",
    "us new random samples of fake Remainers and fake Leavers."
   ]
  },
  {
   "cell_type": "code",
   "execution_count": null,
   "id": "ff18d73c",
   "metadata": {},
   "outputs": [],
   "source": [
    "shuffled = np.random.permutation(pooled)\n",
    "fake_difference_2 = np.mean(shuffled[:774]) - np.mean(shuffled[774:])\n",
    "fake_difference_2"
   ]
  },
  {
   "cell_type": "markdown",
   "id": "af63e7af",
   "metadata": {},
   "source": [
    "We want to keep doing this - and that calls for a `for` loop.  That's what we\n",
    "will do in the next page."
   ]
  }
 ],
 "metadata": {
  "jupytext": {
   "notebook_metadata_filter": "language_info"
  },
  "kernelspec": {
   "display_name": "Python 3",
   "language": "python",
   "name": "python3"
  },
  "language_info": {
   "codemirror_mode": {
    "name": "ipython",
    "version": 3
   },
   "file_extension": ".py",
   "mimetype": "text/x-python",
   "name": "python",
   "nbconvert_exporter": "python",
   "pygments_lexer": "ipython3",
   "version": "3.7.1"
  }
 },
 "nbformat": 4,
 "nbformat_minor": 5
}
