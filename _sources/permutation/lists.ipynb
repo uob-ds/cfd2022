{
 "cells": [
  {
   "cell_type": "markdown",
   "id": "2df23d9e",
   "metadata": {},
   "source": [
    "# Lists\n",
    "\n",
    "The data structures that we use most often in data science are:\n",
    "\n",
    "* arrays, from `numpy`;\n",
    "* data frames, from `pandas`.\n",
    "\n",
    "There is another data structure for containing sequences of values\n",
    "- the `list`.\n",
    "\n",
    "You have already seen these in passing, when we created arrays.  Now we cover them in more detail.\n",
    "\n",
    "## Creating a list\n",
    "\n",
    "You make a list like this:"
   ]
  },
  {
   "cell_type": "code",
   "execution_count": null,
   "id": "deb0b470",
   "metadata": {},
   "outputs": [],
   "source": [
    "my_list = [1, 2, 3]\n",
    "my_list"
   ]
  },
  {
   "cell_type": "markdown",
   "id": "e795027e",
   "metadata": {},
   "source": [
    "More formally, you define a list like this:\n",
    "\n",
    "1. the open square bracket character `[`, followed by\n",
    "1. a sequence of zero of more values, separated by commas, followed by\n",
    "1. the close square bracket character `]`.\n",
    "\n",
    "We defined the list above with `[1, 2, 3]`.\n",
    "\n",
    "Here is a list with one value:"
   ]
  },
  {
   "cell_type": "code",
   "execution_count": null,
   "id": "497988ed",
   "metadata": {},
   "outputs": [],
   "source": [
    "another_list = [99]\n",
    "another_list"
   ]
  },
  {
   "cell_type": "markdown",
   "id": "ab8899f7",
   "metadata": {},
   "source": [
    "As implied above, the list can be empty, in which case there is nothing between the `[` and the `]`:"
   ]
  },
  {
   "cell_type": "code",
   "execution_count": null,
   "id": "720252cc",
   "metadata": {},
   "outputs": [],
   "source": [
    "empty_list = []\n",
    "empty_list"
   ]
  },
  {
   "cell_type": "markdown",
   "id": "0f027e86",
   "metadata": {},
   "source": [
    "A list is of type `list`:"
   ]
  },
  {
   "cell_type": "code",
   "execution_count": null,
   "id": "5e346927",
   "metadata": {},
   "outputs": [],
   "source": [
    "type(my_list)"
   ]
  },
  {
   "cell_type": "markdown",
   "id": "b912b8ff",
   "metadata": {},
   "source": [
    "## Lists and arrays\n",
    "\n",
    "We will soon need the Numpy library for the examples:"
   ]
  },
  {
   "cell_type": "code",
   "execution_count": null,
   "id": "82d2c8c5",
   "metadata": {},
   "outputs": [],
   "source": [
    "import numpy as np"
   ]
  },
  {
   "cell_type": "markdown",
   "id": "f479e052",
   "metadata": {},
   "source": [
    "A list is a container, like an array.  Like an array, it contains an\n",
    "ordered sequence of values.  Like an array, it can be empty, or it can\n",
    "contain any number of values.\n",
    "\n",
    "You can *convert a list into an array*, like this"
   ]
  },
  {
   "cell_type": "code",
   "execution_count": null,
   "id": "b02d5aab",
   "metadata": {},
   "outputs": [],
   "source": [
    "my_list = [4, 5, 6]\n",
    "my_list"
   ]
  },
  {
   "cell_type": "code",
   "execution_count": null,
   "id": "03637a4e",
   "metadata": {},
   "outputs": [],
   "source": [
    "my_array = np.array(my_list)\n",
    "my_array"
   ]
  },
  {
   "cell_type": "markdown",
   "id": "dac62039",
   "metadata": {},
   "source": [
    "In fact, you have already seen us do this, as a convenient way to\n",
    "create a new array - for example:"
   ]
  },
  {
   "cell_type": "code",
   "execution_count": null,
   "id": "f55d7361",
   "metadata": {},
   "outputs": [],
   "source": [
    "# Define a list and immediately convert to an array\n",
    "another_array = np.array([10, 20, 30])\n",
    "another_array"
   ]
  },
  {
   "cell_type": "markdown",
   "id": "13bac2c0",
   "metadata": {},
   "source": [
    "You can also *convert an array into a list*, using the `list` function:"
   ]
  },
  {
   "cell_type": "code",
   "execution_count": null,
   "id": "db45b9c1",
   "metadata": {},
   "outputs": [],
   "source": [
    "list(another_array)"
   ]
  },
  {
   "cell_type": "markdown",
   "id": "ff404816",
   "metadata": {},
   "source": [
    "Like arrays, you can *index* into a list, to get the individual values.  Consider this list:"
   ]
  },
  {
   "cell_type": "code",
   "execution_count": null,
   "id": "a80aeecd",
   "metadata": {},
   "outputs": [],
   "source": [
    "my_list = [4, 5, 6]"
   ]
  },
  {
   "cell_type": "markdown",
   "id": "530044a4",
   "metadata": {},
   "source": [
    "Like arrays (and every other kind of sequence in Python), the first element is at index (offset) 0:"
   ]
  },
  {
   "cell_type": "code",
   "execution_count": null,
   "id": "ea220c0b",
   "metadata": {},
   "outputs": [],
   "source": [
    "# Get the first value\n",
    "my_list[0]"
   ]
  },
  {
   "cell_type": "markdown",
   "id": "d2e2abdc",
   "metadata": {},
   "source": [
    "Accordingly, the third element is at index (offset) 2:"
   ]
  },
  {
   "cell_type": "code",
   "execution_count": null,
   "id": "d6fc1ba0",
   "metadata": {},
   "outputs": [],
   "source": [
    "# Get the third value\n",
    "my_list[2]"
   ]
  },
  {
   "cell_type": "markdown",
   "id": "4d5bc3de",
   "metadata": {},
   "source": [
    "## Differences between lists and arrays\n",
    "\n",
    "### A list can contain a mix of types\n",
    "\n",
    "The elements in a list can be of any type, and there can be many different types in a list.  For example, here is a list that mixes integers, floating point values, and strings."
   ]
  },
  {
   "cell_type": "code",
   "execution_count": null,
   "id": "b8e4968e",
   "metadata": {},
   "outputs": [],
   "source": [
    "mixed_list = [1, 1.1, 'Ho ho ho']\n",
    "mixed_list"
   ]
  },
  {
   "cell_type": "markdown",
   "id": "6f2e8529",
   "metadata": {},
   "source": [
    "The elements in an array must all be of the same type \\- say \\- all\n",
    "numbers, or all strings.  If we now create an array from this list, Numpy will try and find a type that works for all the elements, and will convert the elements to that type:"
   ]
  },
  {
   "cell_type": "code",
   "execution_count": null,
   "id": "af5e96f2",
   "metadata": {},
   "outputs": [],
   "source": [
    "unmixed_array = np.array(mixed_list)\n",
    "unmixed_array"
   ]
  },
  {
   "cell_type": "markdown",
   "id": "4924c610",
   "metadata": {},
   "source": [
    "Notice that Numpy has converted all the elements to strings, as you can see from the quotes around the values.\n",
    "\n",
    "## A list is always one-dimensional\n",
    "\n",
    "You have already seen that an array can have two (or more) dimensions.  Here is a two-dimensional array of random numbers:"
   ]
  },
  {
   "cell_type": "code",
   "execution_count": null,
   "id": "d409a8fe",
   "metadata": {},
   "outputs": [],
   "source": [
    "two_d_array = np.random.uniform(size=[5, 3])\n",
    "two_d_array"
   ]
  },
  {
   "cell_type": "markdown",
   "id": "02e34c7c",
   "metadata": {},
   "source": [
    "Lists only have one dimension.\n",
    "\n",
    "### Lists can contain lists\n",
    "\n",
    "You may be able to see a way of making a list that is rather like an\n",
    "array with two dimensions.  Remember that a list can contain elements\n",
    "of *any type*.  That means that a list can contain elements of type\n",
    "`list`. Here is a list where the first element is also a list:"
   ]
  },
  {
   "cell_type": "code",
   "execution_count": null,
   "id": "8e99f218",
   "metadata": {},
   "outputs": [],
   "source": [
    "small_list = [21, 22, 23]\n",
    "funky_list = [small_list, 1, 1.1]\n",
    "funky_list"
   ]
  },
  {
   "cell_type": "markdown",
   "id": "6345bb03",
   "metadata": {},
   "source": [
    "As usual, I can get the first element of `funky_list` by indexing:"
   ]
  },
  {
   "cell_type": "code",
   "execution_count": null,
   "id": "659398d2",
   "metadata": {},
   "outputs": [],
   "source": [
    "element_at_0 = funky_list[0]\n",
    "element_at_0"
   ]
  },
  {
   "cell_type": "markdown",
   "id": "22318649",
   "metadata": {},
   "source": [
    "That first element is a list.  As usual, I can index in that first element too.  Here I ask for the second element from `element_at_0`:"
   ]
  },
  {
   "cell_type": "code",
   "execution_count": null,
   "id": "55e988b5",
   "metadata": {},
   "outputs": [],
   "source": [
    "element_at_0[1]"
   ]
  },
  {
   "cell_type": "markdown",
   "id": "6ea5c991",
   "metadata": {},
   "source": [
    "Putting that all together in one line, I can get the second element of the first element with:"
   ]
  },
  {
   "cell_type": "code",
   "execution_count": null,
   "id": "c306b305",
   "metadata": {},
   "outputs": [],
   "source": [
    "funky_list[0][1]"
   ]
  },
  {
   "cell_type": "markdown",
   "id": "4f29be7c",
   "metadata": {},
   "source": [
    "Read this carefully from left to right.  `funky_list` is the initial\n",
    "list.  The `[0]` after `funky_list` gives me the first element of that\n",
    "list. The `[1]` after that, gives me the second element from the result\n",
    "of the previous expressions. `funky_list[0][1]` puts several\n",
    "expressions together in sequence; this is a very common pattern that\n",
    "you will see often in Python programs. Learning to read them carefully\n",
    "is one of the skills you will pick up, as you learn Python, and data\n",
    "science.\n",
    "\n",
    "## Appending to a list\n",
    "\n",
    "You have already seen *methods*.  These are functions attached to\n",
    "values.  For example, you have seen that a data frame, has a `count`\n",
    "method, that, when called, gives the number of rows in the data frame.\n",
    "\n",
    "Lists have several very useful methods.  One of the most useful is `append`.   Use it to append values to a list."
   ]
  },
  {
   "cell_type": "code",
   "execution_count": null,
   "id": "92eac31a",
   "metadata": {},
   "outputs": [],
   "source": [
    "# An empty list\n",
    "my_list = []\n",
    "my_list"
   ]
  },
  {
   "cell_type": "markdown",
   "id": "86c27155",
   "metadata": {},
   "source": [
    "Append a value to the empty list:"
   ]
  },
  {
   "cell_type": "code",
   "execution_count": null,
   "id": "95a65333",
   "metadata": {},
   "outputs": [],
   "source": [
    "my_list.append(1)\n",
    "my_list"
   ]
  },
  {
   "cell_type": "markdown",
   "id": "edda1f64",
   "metadata": {},
   "source": [
    "Append another value:"
   ]
  },
  {
   "cell_type": "code",
   "execution_count": null,
   "id": "c8a3f829",
   "metadata": {},
   "outputs": [],
   "source": [
    "my_list.append(1.1)\n",
    "my_list"
   ]
  },
  {
   "cell_type": "markdown",
   "id": "3fcd1d99",
   "metadata": {},
   "source": [
    "And another:"
   ]
  },
  {
   "cell_type": "code",
   "execution_count": null,
   "id": "d61852c5",
   "metadata": {},
   "outputs": [],
   "source": [
    "my_list.append('Ho ho ho')\n",
    "my_list"
   ]
  },
  {
   "cell_type": "markdown",
   "id": "00c52702",
   "metadata": {},
   "source": [
    "For some more operations with lists, see [More on\n",
    "lists](../extra/more_on_lists).\n",
    "\n",
    "## What do these square brackets mean?\n",
    "\n",
    "You have seen two uses of square brackets on this page.\n",
    "\n",
    "The first use, is where the opening square bracket is the start of an expression for a new list, like this:"
   ]
  },
  {
   "cell_type": "code",
   "execution_count": null,
   "id": "561fe26e",
   "metadata": {},
   "outputs": [],
   "source": [
    "a_new_list = [1, 2, 3]"
   ]
  },
  {
   "cell_type": "markdown",
   "id": "e25df017",
   "metadata": {},
   "source": [
    "The `[` is the start of the expression, because the line above is an\n",
    "assignment statement, with a variable name, followed by `=` followed by an expression.  The expression is `[1, 2, 3]`, and the `[` is the first character in the expression.\n",
    "\n",
    "The second use, is to ask Python to get a value from another value.\n",
    "Technically, this use is called *indexing*. For example, we do this\n",
    "when we index into a list:"
   ]
  },
  {
   "cell_type": "code",
   "execution_count": null,
   "id": "b3eb0567",
   "metadata": {},
   "outputs": [],
   "source": [
    "first_value = a_new_list[0]"
   ]
  },
  {
   "cell_type": "markdown",
   "id": "9a42389d",
   "metadata": {},
   "source": [
    "Here the `[` refers back to `a_new_list`.  It tells Python \"please get\n",
    "a value from `a_new_list`\".  Between the `[` and the `]` is the\n",
    "information that Python must use to get the value.\n",
    "\n",
    "Here is another example of square brackets in use:"
   ]
  },
  {
   "cell_type": "code",
   "execution_count": null,
   "id": "f1b71833",
   "metadata": {},
   "outputs": [],
   "source": [
    "my_array = np.array([1, 2, 3])"
   ]
  },
  {
   "cell_type": "markdown",
   "id": "fd72fa4d",
   "metadata": {},
   "source": [
    "Which use of square brackets is that?  List creation, or indexing?\n",
    "Why?\n",
    "\n",
    "How about:"
   ]
  },
  {
   "cell_type": "code",
   "execution_count": null,
   "id": "205de952",
   "metadata": {},
   "outputs": [],
   "source": [
    "a_new_list[0] = 99"
   ]
  },
  {
   "cell_type": "markdown",
   "id": "d39e48cc",
   "metadata": {},
   "source": [
    "? Why?  Or:"
   ]
  },
  {
   "cell_type": "code",
   "execution_count": null,
   "id": "7a93cfa6",
   "metadata": {},
   "outputs": [],
   "source": [
    "a_new_list.append([101, 'one oh one'])"
   ]
  },
  {
   "cell_type": "markdown",
   "id": "a8278b00",
   "metadata": {},
   "source": [
    "?\n",
    "\n",
    "Remember the [data frame introduction](../data-frames/data_frame_intro)?  In\n",
    "that you saw\n",
    "\n",
    "```\n",
    "gdp = gender_data['gdp']\n",
    "```\n",
    "\n",
    "Which use of square brackets was that?\n",
    "\n",
    "Look through the [data frame introduction](../data-frames/data_frame_intro)\n",
    "page.  There are several other examples of the use of square brackets.  Which use are they?\n",
    "\n",
    "Now look at [More on arrays](../arrays/More_on_Arrays).   Which uses do you see there?"
   ]
  }
 ],
 "metadata": {
  "jupytext": {
   "notebook_metadata_filter": "language_info"
  },
  "kernelspec": {
   "display_name": "Python 3",
   "language": "python",
   "name": "python3"
  },
  "language_info": {
   "codemirror_mode": {
    "name": "ipython",
    "version": 3
   },
   "file_extension": ".py",
   "mimetype": "text/x-python",
   "name": "python",
   "nbconvert_exporter": "python",
   "pygments_lexer": "ipython3",
   "version": "3.7.1"
  }
 },
 "nbformat": 4,
 "nbformat_minor": 5
}
