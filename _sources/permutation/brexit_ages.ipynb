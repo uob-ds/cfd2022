{
 "cells": [
  {
   "cell_type": "markdown",
   "id": "46c43639",
   "metadata": {},
   "source": [
    "# Brexit and ages\n",
    "\n",
    "Now we have [for loops](../iteration/iteration) and\n",
    "[ranges](../arrays/Ranges), we can solve the problem in\n",
    "[population, permutation](population_permutation)."
   ]
  },
  {
   "cell_type": "code",
   "execution_count": null,
   "id": "f6d49c64",
   "metadata": {},
   "outputs": [],
   "source": [
    "# Array library.\n",
    "import numpy as np\n",
    "\n",
    "# Data frame library.\n",
    "import pandas as pd\n",
    "\n",
    "# Safe setting for Pandas.\n",
    "pd.set_option('mode.chained_assignment', 'raise')\n",
    "\n",
    "# Plotting\n",
    "import matplotlib.pyplot as plt\n",
    "%matplotlib inline\n",
    "\n",
    "# Fancy plots\n",
    "plt.style.use('fivethirtyeight')"
   ]
  },
  {
   "cell_type": "markdown",
   "id": "330ddf67",
   "metadata": {},
   "source": [
    "We load the Brexit survey data again:"
   ]
  },
  {
   "cell_type": "code",
   "execution_count": null,
   "id": "ef378e8e",
   "metadata": {},
   "outputs": [],
   "source": [
    "# Load the data frame, and put it in the variable \"audit_data\"\n",
    "audit_data = pd.read_csv('audit_of_political_engagement_14_2017.tab', sep='\\t')"
   ]
  },
  {
   "cell_type": "markdown",
   "id": "ae9c7a50",
   "metadata": {},
   "source": [
    "Again, we get the ages for the Leavers and the Remainers:"
   ]
  },
  {
   "cell_type": "code",
   "execution_count": null,
   "id": "06ace132",
   "metadata": {},
   "outputs": [],
   "source": [
    "# Drop rows where age is 0\n",
    "age_not_0 = audit_data['numage'] != 0\n",
    "good_data = audit_data[age_not_0]\n",
    "# Get data frames for leavers and remainers\n",
    "is_remain = good_data['cut15'] == 1\n",
    "remain_ages = good_data[is_remain]['numage']\n",
    "is_leave = good_data['cut15'] == 2\n",
    "leave_ages = good_data[is_leave]['numage']"
   ]
  },
  {
   "cell_type": "code",
   "execution_count": null,
   "id": "0a52b554",
   "metadata": {},
   "outputs": [],
   "source": [
    "remain_ages.hist();"
   ]
  },
  {
   "cell_type": "code",
   "execution_count": null,
   "id": "e03fa04d",
   "metadata": {},
   "outputs": [],
   "source": [
    "leave_ages.hist();"
   ]
  },
  {
   "cell_type": "markdown",
   "id": "e22547e2",
   "metadata": {},
   "source": [
    "Here is the number of Remain voters:"
   ]
  },
  {
   "cell_type": "code",
   "execution_count": null,
   "id": "6d531c3f",
   "metadata": {},
   "outputs": [],
   "source": [
    "n_remain = len(remain_ages)\n",
    "n_remain"
   ]
  },
  {
   "cell_type": "markdown",
   "id": "98c48101",
   "metadata": {},
   "source": [
    "Here was the actual difference between the means of the two groups:"
   ]
  },
  {
   "cell_type": "code",
   "execution_count": null,
   "id": "5b17a364",
   "metadata": {},
   "outputs": [],
   "source": [
    "actual_diff = np.mean(leave_ages) - np.mean(remain_ages)\n",
    "actual_diff"
   ]
  },
  {
   "cell_type": "markdown",
   "id": "fcaac6ff",
   "metadata": {},
   "source": [
    "We want to know if we have a reasonable chance of seeing a difference of this magnitude, if the two groups are samples from the same underlying population.  We don't have the actual population to take samples from, so we need to wing it, by using the data we have.\n",
    "\n",
    "We asserted we could use permutation to take random samples from the data that we already have:"
   ]
  },
  {
   "cell_type": "code",
   "execution_count": null,
   "id": "637addfd",
   "metadata": {},
   "outputs": [],
   "source": [
    "pooled = np.append(remain_ages, leave_ages)\n",
    "shuffled = np.random.permutation(pooled)\n",
    "fake_remainers = shuffled[:n_remain]\n",
    "fake_leavers = shuffled[n_remain:]"
   ]
  },
  {
   "cell_type": "markdown",
   "id": "cff264ad",
   "metadata": {},
   "source": [
    "Those are our samples.  Now we get the difference in mean ages, as one example of a difference we might see, if the samples are from the same population:"
   ]
  },
  {
   "cell_type": "code",
   "execution_count": null,
   "id": "f39ce649",
   "metadata": {},
   "outputs": [],
   "source": [
    "example_diff = np.mean(fake_leavers) - np.mean(fake_remainers)\n",
    "example_diff"
   ]
  },
  {
   "cell_type": "markdown",
   "id": "2ae9e1fb",
   "metadata": {},
   "source": [
    "Now we know how do to this once, we can use the `for` loop to do the\n",
    "permutation operation many times.  We collect the results in an array. You will\n",
    "recognize the code in the `for` loop from the code in the cells above."
   ]
  },
  {
   "cell_type": "code",
   "execution_count": null,
   "id": "6b5a029f",
   "metadata": {},
   "outputs": [],
   "source": [
    "# An array of zeros to store the fake differences\n",
    "example_diffs = np.zeros(10000)\n",
    "# Do the shuffle / difference steps 10000 times\n",
    "for i in np.arange(10000):\n",
    "    shuffled = np.random.permutation(pooled)\n",
    "    fake_remainers = shuffled[:n_remain]\n",
    "    fake_leavers = shuffled[n_remain:]\n",
    "    eg_diff = np.mean(fake_leavers) - np.mean(fake_remainers)\n",
    "    # Collect the results in the results array\n",
    "    example_diffs[i] = eg_diff"
   ]
  },
  {
   "cell_type": "markdown",
   "id": "8cd5bca2",
   "metadata": {},
   "source": [
    "Our results array now has 10000 fake mean differences:\n",
    "\n",
    "What distribution do these differences have?"
   ]
  },
  {
   "cell_type": "code",
   "execution_count": null,
   "id": "4a0556bd",
   "metadata": {},
   "outputs": [],
   "source": [
    "plt.hist(example_diffs);"
   ]
  },
  {
   "cell_type": "markdown",
   "id": "cf3c3aa4",
   "metadata": {},
   "source": [
    "This is called the *sampling distribution*.  In our case, this is the\n",
    "sampling distribution of the difference in means.  It is the\n",
    "*sampling* distribution, because it is the distribution we expect to\n",
    "see, when taking random *samples* from the same underlying population.\n",
    "\n",
    "Our question now is, is the difference we actually saw, a likely value, given the sampling distribution. Let's plot the actual difference, so we can see how similar/different it is to the simulated differences."
   ]
  },
  {
   "cell_type": "code",
   "execution_count": null,
   "id": "458024ab",
   "metadata": {},
   "outputs": [],
   "source": [
    "# do not worry about the code below, it just plots the sampling distribution, the actual difference in the mean ages, \n",
    "# and adds some labels to the histogram. \n",
    "plt.hist(example_diffs, label = 'simulated differences')\n",
    "fontsize = {'fontsize': 10}\n",
    "plt.plot(actual_diff, 20 , 'o', markersize = 10,color = 'red', label = 'actual difference')\n",
    "plt.xlabel('Difference between the mean ages of leavers and remainers', **fontsize)\n",
    "plt.ylabel('Number of times obtained in simulation', **fontsize)\n",
    "plt.legend(**fontsize);"
   ]
  },
  {
   "cell_type": "markdown",
   "id": "3bf7ada7",
   "metadata": {},
   "source": [
    "Looking at the distribution above - what do you think?\n",
    "\n",
    "The blue histogram shows the distribution of differences we would expect to obtain in an ideal world. That is, in a world where there was no difference between the mean age of leavers and remainers. The red dot shows the actual difference between the mean ages of leavers and remainers. Does it look likely that we would obtain the actual difference in the ideal world?\n",
    "\n",
    "As a first pass, let us check how many of the values from the sampling\n",
    "distribution are as large, or larger than the value we actually saw."
   ]
  },
  {
   "cell_type": "code",
   "execution_count": null,
   "id": "c2c57c9d",
   "metadata": {},
   "outputs": [],
   "source": [
    "are_as_high = example_diffs  >= actual_diff\n",
    "n_as_high = np.count_nonzero(are_as_high)\n",
    "n_as_high"
   ]
  },
  {
   "cell_type": "markdown",
   "id": "6edd46fa",
   "metadata": {},
   "source": [
    "The number above is the number of values in the sampling distribution\n",
    "that are as high as, or higher than, the value we actually saw.  If we\n",
    "divide by 10000, we get the proportion of the sampling distribution\n",
    "that is as high, or higher."
   ]
  },
  {
   "cell_type": "code",
   "execution_count": null,
   "id": "b5b190cd",
   "metadata": {},
   "outputs": [],
   "source": [
    "proportion = n_as_high / 10000\n",
    "proportion"
   ]
  },
  {
   "cell_type": "markdown",
   "id": "446a4a49",
   "metadata": {},
   "source": [
    "We think of this proportion as an estimate of the *probability* that\n",
    "we would see a value this high, or higher, *if these were random\n",
    "samples from the same underlying population*.  We call this a *p\n",
    "value*."
   ]
  }
 ],
 "metadata": {
  "jupytext": {
   "notebook_metadata_filter": "language_info"
  },
  "kernelspec": {
   "display_name": "Python 3",
   "language": "python",
   "name": "python3"
  },
  "language_info": {
   "codemirror_mode": {
    "name": "ipython",
    "version": 3
   },
   "file_extension": ".py",
   "mimetype": "text/x-python",
   "name": "python",
   "nbconvert_exporter": "python",
   "pygments_lexer": "ipython3",
   "version": "3.4.5"
  }
 },
 "nbformat": 4,
 "nbformat_minor": 5
}
