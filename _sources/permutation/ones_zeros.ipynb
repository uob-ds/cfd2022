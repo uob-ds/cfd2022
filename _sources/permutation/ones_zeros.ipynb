{
 "cells": [
  {
   "cell_type": "markdown",
   "id": "e77315a7",
   "metadata": {},
   "source": [
    "# Arrays of ones and zeros\n",
    "\n",
    "<!---\n",
    "This page retired; we are not using 2D arrays until much later.\n",
    "-->"
   ]
  },
  {
   "cell_type": "code",
   "execution_count": null,
   "id": "bd4998ea",
   "metadata": {},
   "outputs": [],
   "source": [
    "import numpy as np"
   ]
  },
  {
   "cell_type": "markdown",
   "id": "b67146f2",
   "metadata": {},
   "source": [
    "We often want to create arrays with all zeros, or all ones.\n",
    "\n",
    "We do this with:"
   ]
  },
  {
   "cell_type": "code",
   "execution_count": null,
   "id": "6e1e8e3a",
   "metadata": {},
   "outputs": [],
   "source": [
    "np.zeros(5)"
   ]
  },
  {
   "cell_type": "code",
   "execution_count": null,
   "id": "ff9123d0",
   "metadata": {},
   "outputs": [],
   "source": [
    "np.ones(3)"
   ]
  },
  {
   "cell_type": "markdown",
   "id": "3fa6f2f0",
   "metadata": {},
   "source": [
    "As ever, review the help with (for example):\n",
    "\n",
    "```\n",
    "np.ones?\n",
    "```\n",
    "\n",
    "In a new cell."
   ]
  },
  {
   "cell_type": "markdown",
   "id": "20938d1e",
   "metadata": {},
   "source": [
    "You can ask for a 2D array by passing a list with the numbers of rows and columns:"
   ]
  },
  {
   "cell_type": "code",
   "execution_count": null,
   "id": "b29d4ae4",
   "metadata": {},
   "outputs": [],
   "source": [
    "np.zeros([5, 2])"
   ]
  }
 ],
 "metadata": {
  "kernelspec": {
   "display_name": "Python 3",
   "language": "python",
   "name": "python3"
  }
 },
 "nbformat": 4,
 "nbformat_minor": 5
}
