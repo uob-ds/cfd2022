{
 "cells": [
  {
   "cell_type": "markdown",
   "id": "1e361092",
   "metadata": {},
   "source": [
    "# Noble politics and comparing counts\n",
    "\n",
    "This page has two aims:\n",
    "\n",
    "* to practice and extend [Pandas indexing](pandas_indexing);\n",
    "* to extend the idea of permutation to data in categories;\n",
    "\n",
    "We also ask the question - is politics noble?\n"
   ]
  },
  {
   "cell_type": "code",
   "execution_count": null,
   "id": "367605fd",
   "metadata": {
    "tags": [
     "hide-cell"
    ]
   },
   "outputs": [],
   "source": [
    "# Our usual imports\n",
    "import numpy as np\n",
    "import pandas as pd\n",
    "# Safe settings for Pandas.\n",
    "pd.set_option('mode.chained_assignment', 'raise')\n",
    "\n",
    "import matplotlib.pyplot as plt\n",
    "%matplotlib inline\n",
    "plt.style.use('fivethirtyeight')"
   ]
  },
  {
   "cell_type": "markdown",
   "id": "988fbfe9",
   "metadata": {},
   "source": [
    "Our data is from this book:\n",
    "\n",
    "> Samuel P. Oliner and Pearl M. Oliner (1988) \"The Altruistic Personality:\n",
    "> Rescuers of Jews in Nazi Europe\". Free Press, New York.\n",
    "\n",
    "See [the dataset page](https://github.com/odsti/datasets/tree/master/oliner1988)\n",
    "for some more details.\n",
    "\n",
    "The Oliners wanted to identify distinctive traits of people who rescued Jews in\n",
    "Nazi Europe.  In order to do that, they collected structured interviews with\n",
    "231 people for whom there was strong documentary evidence that they had\n",
    "sheltered Jews, despite considerable risk to themselves. These are the\n",
    "\"rescuer\" group in the table below.  They also found 126 controls with roughly\n",
    "similar background, nationality, age and education. Of these, 53 claimed to\n",
    "have either sheltered Jews, or to have been active in the resistance.  These\n",
    "are the \"actives\" group in the table.  This leaves 73 controls who were not\n",
    "active, and the authors termed these \"bystanders\".\n",
    "\n",
    "The table below has data from table 6.8 of their book, where they break down the groups according to the answer they gave to the question \"Did you belong to a political party before the war?\".\n",
    "\n",
    "As usual, if you are running on your own computers, download the file\n",
    "{download}`oliner_tab6_8a_1.csv <../data/oliner_tab6_8a_1.csv>` to the same directory as this notebook."
   ]
  },
  {
   "cell_type": "code",
   "execution_count": null,
   "id": "46dd7af4",
   "metadata": {},
   "outputs": [],
   "source": [
    "# Load the table\n",
    "party_tab = pd.read_csv('oliner_tab6_8a_1.csv')\n",
    "party_tab"
   ]
  },
  {
   "cell_type": "markdown",
   "id": "e49f821a",
   "metadata": {},
   "source": [
    "## Setting the index\n",
    "\n",
    "We have already seen [Pandas indexing](pandas_indexing).   We are going to be selecting data out of this table with indexing, and we would like to make the index (row labels) be as informative as possible.  The current index, which Pandas created automatically, is sequential numbers, which are not memorable or informative."
   ]
  },
  {
   "cell_type": "code",
   "execution_count": null,
   "id": "1293d73e",
   "metadata": {},
   "outputs": [],
   "source": [
    "party_tab.index"
   ]
  },
  {
   "cell_type": "markdown",
   "id": "82c94f2f",
   "metadata": {},
   "source": [
    "Row labels need not be numbers.  They can also be strings.  Strings are often\n",
    "more useful in identifying the data in the rows.\n",
    "\n",
    "We might prefer to use the values in the first column - `party_yn` as the\n",
    "labels for the rows.\n",
    "\n",
    "We can do this with the data frame `set_index` method.  It replaces the current\n",
    "index (the sequential numbers) with the data from a column."
   ]
  },
  {
   "cell_type": "code",
   "execution_count": null,
   "id": "47c1bc58",
   "metadata": {},
   "outputs": [],
   "source": [
    "# Replace the numerical index with the party_yn labels.\n",
    "party_tab = party_tab.set_index('party_yn')\n",
    "party_tab"
   ]
  },
  {
   "cell_type": "markdown",
   "id": "ef79d557",
   "metadata": {},
   "source": [
    "Notice that Pandas took the `party_yn` column out of the data frame and used it to replace the index.\n",
    "\n",
    "This makes it easier to use the `.loc` attribute to select data, using row labels.  For example, we can select individual elements like this:"
   ]
  },
  {
   "cell_type": "code",
   "execution_count": null,
   "id": "05aaec9c",
   "metadata": {},
   "outputs": [],
   "source": [
    "# How many rescuers were there, in total?\n",
    "party_tab.loc['out of', 'rescuer']"
   ]
  },
  {
   "cell_type": "markdown",
   "id": "f7aee4aa",
   "metadata": {},
   "source": [
    "## The question"
   ]
  },
  {
   "cell_type": "markdown",
   "id": "d9b3e229",
   "metadata": {},
   "source": [
    "Looking at the data in the table, it seems as if the Rescuers had a stronger\n",
    "tendency to belong to a political party than, say, the Bystanders."
   ]
  },
  {
   "cell_type": "markdown",
   "id": "1c8c2004",
   "metadata": {},
   "source": [
    "To get more specific, we look at the proportion of Rescuers and Bystanders that answered Yes (to being a member of a political party before the war).\n",
    "\n",
    "The `out of` row has the total number of people in each column."
   ]
  },
  {
   "cell_type": "code",
   "execution_count": null,
   "id": "aace5ebd",
   "metadata": {},
   "outputs": [],
   "source": [
    "# Proportion of Yes for Rescuers.\n",
    "party_tab.loc['Yes', 'rescuer'] / party_tab.loc['out of', 'rescuer']"
   ]
  },
  {
   "cell_type": "code",
   "execution_count": null,
   "id": "946a87e6",
   "metadata": {},
   "outputs": [],
   "source": [
    "# Proportion of Yes for Bystanders.\n",
    "party_tab.loc['Yes', 'bystander'] / party_tab.loc['out of', 'bystander']"
   ]
  },
  {
   "cell_type": "markdown",
   "id": "001f8172",
   "metadata": {},
   "source": [
    "That looks like a substantial difference - but could it have come about by chance?\n",
    "\n",
    "Let's put that another way - we see that 44 of 209 Rescuers have \"Yes\" to\n",
    "belonging to political party.  Is 44 a larger number than we would expect by\n",
    "chance?\n"
   ]
  },
  {
   "cell_type": "markdown",
   "id": "1e191691",
   "metadata": {},
   "source": [
    "## What do we mean by chance?\n",
    "\n",
    "We imagine an ideal world where rescuers and bystanders have exactly the same tendency to belong to a political party.\n",
    "\n",
    "We will take random samples from this world, to see if the random samples look\n",
    "anything like the numbers we see in the actual data.  If they do, then we might\n",
    "not be very interested in the differences we see, in the actual data, because\n",
    "the differences could plausibly have come about as a sample from an ideal world\n",
    "where there was no difference in tendency to belong to political parties.\n",
    "\n",
    "So, how do we take samples from this ideal world?\n",
    "\n",
    "We will take the same number of fake rescuers as there are real rescuers, and\n",
    "the same number of fake bystanders as there are real bystanders.\n",
    "\n",
    "We will assume that the same number of people overall are members of a\n",
    "political party:"
   ]
  },
  {
   "cell_type": "code",
   "execution_count": null,
   "id": "88691c4e",
   "metadata": {},
   "outputs": [],
   "source": [
    "# Number of people who belonged to a political party.\n",
    "n_yes = party_tab.loc['Yes', 'rescuer'] + party_tab.loc['Yes', 'bystander']\n",
    "n_yes"
   ]
  },
  {
   "cell_type": "markdown",
   "id": "f46dbda7",
   "metadata": {},
   "source": [
    "This leaves the rest, who were not a member of a political party:"
   ]
  },
  {
   "cell_type": "code",
   "execution_count": null,
   "id": "8610f22c",
   "metadata": {},
   "outputs": [],
   "source": [
    "# Number of people who did not belong to a political party.\n",
    "n_no = party_tab.loc['No', 'rescuer'] + party_tab.loc['No', 'bystander']\n",
    "n_no"
   ]
  },
  {
   "cell_type": "markdown",
   "id": "601614ce",
   "metadata": {},
   "source": [
    "This is a total of:"
   ]
  },
  {
   "cell_type": "code",
   "execution_count": null,
   "id": "8a087b2b",
   "metadata": {},
   "outputs": [],
   "source": [
    "n_yes + n_no"
   ]
  },
  {
   "cell_type": "markdown",
   "id": "d3e4aa5f",
   "metadata": {},
   "source": [
    "We therefore have 280 labels (51 Yes labels and 229 No labels) to assign to our\n",
    "280 people (209 rescuers and 71 bystanders).\n",
    "\n",
    "In our ideal world, this assignment to \"Yes\" and \"No\" is random.   We can\n",
    "shuffle up the labels (\"Yes\", \"No\"), and assign each person (rescuer,\n",
    "bystander) a shuffled (therefore, random) label.  We take this fake pairing,\n",
    "and calculate the numbers in each of the four categories, to create a fake\n",
    "table, that is a random version of the actual table.  If we do that many times,\n",
    "we can get an idea of how the numbers vary in the fake tables, and therefore,\n",
    "what randomness looks like, in this ideal world, of no association between\n",
    "rescuer / bystander and Yes / No.\n"
   ]
  },
  {
   "cell_type": "markdown",
   "id": "9eb527be",
   "metadata": {},
   "source": [
    "## Cleaning up the table\n",
    "\n",
    "We start by selecting the data we need from the original table.\n",
    "\n",
    "First we use `loc` indexing to specify that we want:\n",
    "\n",
    "* The rows labeled \"No\" and \"Yes\";\n",
    "* The columns labeled \"bystander\" and \"rescuer\"."
   ]
  },
  {
   "cell_type": "code",
   "execution_count": null,
   "id": "3fd3eebe",
   "metadata": {},
   "outputs": [],
   "source": [
    "bystander_tab = party_tab.loc[['No', 'Yes'], ['bystander', 'rescuer']]\n",
    "bystander_tab"
   ]
  },
  {
   "cell_type": "markdown",
   "id": "cc81962b",
   "metadata": {},
   "source": [
    "Notice the *lists* `['Yes', 'No']` and `['bystander', 'rescuer']` specifying\n",
    "the row labels and columns labels that we want.\n",
    "\n",
    "Notice too that we have swapped the order of the rows (to \"No\" and \"Yes\" ) and\n",
    "the columns (to \"bystander\" and \"rescuer\").  This is to better match the\n",
    "output of `pd.crosstab` below.  You may see what we mean when we get there.\n",
    "\n",
    "Now we ask you to cast your eye to the bottom-right value of the table, and\n",
    "the value of interest --- 44.  This is the count for people who were both\n",
    "\"rescuer\" and said \"Yes\" to political party.  We continue our search to see if\n",
    "this value is larger than we would expect by chance.\n"
   ]
  },
  {
   "cell_type": "markdown",
   "id": "e20e22d7",
   "metadata": {},
   "source": [
    "## Recreating the original data\n",
    "\n",
    "The `bystander_tab` table above gives the counts of people in each of the four\n",
    "categories.  We will call this the Counts Table.\n",
    "\n",
    "To do the shuffling we need, we reconstruct a new `people` table that has one\n",
    "row for each person represented in the Counts Table.  We could also call this\n",
    "the Entries Table.  Instead of having the counts, it reconstructs the\n",
    "individual entries that correspond to the counts.\n",
    "\n",
    "There are 280 people represented in the Counts Table, of which:\n",
    "\n",
    "* 64 are \"No\" for party membership and \"bystander\" for respondent type.\n",
    "* 7 are \"Yes\" for party and \"bystander\" for respondent.\n",
    "* 165 are \"No\" for party and \"rescuer\" for respondent.\n",
    "* 44 are \"Yes\" for party and \"rescuer\" for respondent.\n",
    "\n",
    "We can create the Entries Table in bits, first the \"No\" / \"bystander\" rows, then\n",
    "the \"Yes\" / \"bystander\" rows, and so on.\n",
    "\n",
    "The first bit should have 64 rows, with label \"No\" in the `party_yn` column,\n",
    "and \"bystander\" in the `respondent` column.\n",
    "\n",
    "To make 64 \"No\"s, we use `np.repeat`.  Check the function signature with\n",
    "`np.repeat?` and Enter in a new cell.\n"
   ]
  },
  {
   "cell_type": "code",
   "execution_count": null,
   "id": "3b446d93",
   "metadata": {},
   "outputs": [],
   "source": [
    "# Make the rows for \"No\" and \"bystander\".\n",
    "bystanders_no = pd.DataFrame()\n",
    "bystanders_no['party_yn'] = np.repeat(['No'], 64)\n",
    "bystanders_no['respondent'] = 'bystander'\n",
    "bystanders_no.head()"
   ]
  },
  {
   "cell_type": "markdown",
   "id": "8e795ecc",
   "metadata": {},
   "source": [
    "Next we make the rows for \"Yes\" and \"bystander\":"
   ]
  },
  {
   "cell_type": "code",
   "execution_count": null,
   "id": "20999cef",
   "metadata": {},
   "outputs": [],
   "source": [
    "bystanders_yes = pd.DataFrame()\n",
    "bystanders_yes['party_yn'] = np.repeat(['Yes'], 7)\n",
    "bystanders_yes['respondent'] = 'bystander'\n",
    "bystanders_yes"
   ]
  },
  {
   "cell_type": "markdown",
   "id": "b537ed8a",
   "metadata": {},
   "source": [
    "We make the rows for \"No\" / \"rescuer\" and \"Yes\" / \"rescuer\":"
   ]
  },
  {
   "cell_type": "code",
   "execution_count": null,
   "id": "79f6063d",
   "metadata": {},
   "outputs": [],
   "source": [
    "rescuers_no = pd.DataFrame()\n",
    "rescuers_no['party_yn'] = np.repeat(['No'], 165)\n",
    "rescuers_no['respondent'] = 'rescuer'\n",
    "rescuers_yes = pd.DataFrame()\n",
    "rescuers_yes['party_yn'] = np.repeat(['Yes'], 44)\n",
    "rescuers_yes['respondent'] = 'rescuer'\n",
    "rescuers_yes.head()"
   ]
  },
  {
   "cell_type": "markdown",
   "id": "9a71852c",
   "metadata": {},
   "source": [
    "Finally use the `pd.concat` function to stick all these rows together into one big data frame with 64 + 7 + 165 + 44 = 280 rows."
   ]
  },
  {
   "cell_type": "code",
   "execution_count": null,
   "id": "6fc0a812",
   "metadata": {},
   "outputs": [],
   "source": [
    "# Stack the parts into one long data frame.\n",
    "# ignore_index=True throws away the row labels (index) from the component\n",
    "# parts, and resets the index to the default sequential numbers from 0 through # 279.\n",
    "people = pd.concat([bystanders_no, bystanders_yes,\n",
    "                    rescuers_no, rescuers_yes],\n",
    "                    ignore_index=True)\n",
    "people"
   ]
  },
  {
   "cell_type": "markdown",
   "id": "5347ea15",
   "metadata": {},
   "source": [
    "In fact we could have done this more efficiently by making better use of\n",
    "`np.repeat`, like this:"
   ]
  },
  {
   "cell_type": "code",
   "execution_count": null,
   "id": "00974aab",
   "metadata": {},
   "outputs": [],
   "source": [
    "# More efficient way to use np.repeat to make the same data frame.\n",
    "people2 = pd.DataFrame()\n",
    "people2['party_yn'] = np.repeat(['No', 'Yes', 'No', 'Yes'],\n",
    "                                [64, 7, 165, 44])\n",
    "people2['respondent'] = np.repeat(['bystander', 'rescuer'],\n",
    "                                  [71, 209])\n",
    "# The values are the same as the data frame we made above.\n",
    "print('people and people2 the same?', people.equals(people2))\n",
    "people2"
   ]
  },
  {
   "cell_type": "markdown",
   "id": "d15ecce1",
   "metadata": {},
   "source": [
    "We can check the counts in the `people` data frame by doing some row selection.\n",
    "For example, to check we really do have 64 rows with the label \"No\" in\n",
    "`party_yn` and \"bystander\" in `respondent`, we could do this:"
   ]
  },
  {
   "cell_type": "code",
   "execution_count": null,
   "id": "29cab76d",
   "metadata": {},
   "outputs": [],
   "source": [
    "no_rows = people[people['party_yn'] == 'No']\n",
    "no_bystander_rows = no_rows[no_rows['respondent'] == 'bystander']\n",
    "len(no_bystander_rows)"
   ]
  },
  {
   "cell_type": "markdown",
   "id": "0be09ec1",
   "metadata": {},
   "source": [
    "Luckily, Pandas has a `crosstab` function that does this counting work for us,\n",
    "for all four combinations of \"Yes\", \"No\" and \"bystander\", \"rescuer\"."
   ]
  },
  {
   "cell_type": "code",
   "execution_count": null,
   "id": "f27fe592",
   "metadata": {},
   "outputs": [],
   "source": [
    "people_tab = pd.crosstab(people['party_yn'], people['respondent'])\n",
    "people_tab"
   ]
  },
  {
   "cell_type": "markdown",
   "id": "4928ebb7",
   "metadata": {},
   "source": [
    "As we hoped, the `pd.crosstab` on the `people` data frame regenerates the Counts Table we started with.\n",
    "\n",
    "We have used `pd.crosstab` to reconstruct the Counts Table from our Entries\n",
    "Table."
   ]
  },
  {
   "cell_type": "markdown",
   "id": "0275138e",
   "metadata": {},
   "source": [
    "## The null world\n",
    "\n",
    "The null or ideal world for our question is a world where the pairing of the\n",
    "`party_yn` \"Yes\" / \"No\" labels and the `respondent` \"bystander\" / \"rescuer\"\n",
    "labels are random.\n",
    "\n",
    "We can make a data frame from that world doing a random shuffle of the\n",
    "`party_yn` labels in our Entries Table, so the pairing of the `party_yn` and\n",
    "`respondent` labels is random.\n",
    "\n",
    "First pull out the `party_yn` values for later use."
   ]
  },
  {
   "cell_type": "code",
   "execution_count": null,
   "id": "c30d8571",
   "metadata": {},
   "outputs": [],
   "source": [
    "party_yn = people['party_yn']"
   ]
  },
  {
   "cell_type": "markdown",
   "id": "46757176",
   "metadata": {},
   "source": [
    "Next, shuffle the `party_yn` values, and put them back into a fake version of the Entries Table data frame:"
   ]
  },
  {
   "cell_type": "code",
   "execution_count": null,
   "id": "d91068cd",
   "metadata": {},
   "outputs": [],
   "source": [
    "shuffled_party = np.random.permutation(party_yn)\n",
    "fake_data = people.copy()\n",
    "fake_data['party_yn'] = shuffled_party\n",
    "fake_data.head(10)"
   ]
  },
  {
   "cell_type": "markdown",
   "id": "8a87eef3",
   "metadata": {},
   "source": [
    "By the way — we only care about the random pairing between `party_yn` and\n",
    "`respondent`.  We shuffled `party_yn` above, but we could instead have shuffled\n",
    "`respondent`, or both; any of these would generate a random pairing.\n",
    "\n",
    "We now need the counts of people in each category.  That is we need counts for:\n",
    "\n",
    "* 'No' paired with 'bystander'\n",
    "* 'Yes' paired with 'bystander'\n",
    "* 'No' paired with 'rescuer'\n",
    "* 'Yes' paired with 'rescuer'\n",
    "\n",
    "For example, remember we are particularly interested in the combination of\n",
    "\"Yes\" and \"rescuer\"."
   ]
  },
  {
   "cell_type": "code",
   "execution_count": null,
   "id": "4d62cc47",
   "metadata": {},
   "outputs": [],
   "source": [
    "fake_tab = pd.crosstab(fake_data['party_yn'], fake_data['respondent'])\n",
    "fake_tab"
   ]
  },
  {
   "cell_type": "markdown",
   "id": "90e31f75",
   "metadata": {},
   "source": [
    "We saw in the original data that the rescuers seemed to have a greater tendency\n",
    "to belong to a political party.  Let us restrict our attention to the count of\n",
    "\"Yes\" and \"rescuer\".\n",
    "\n",
    "That count, in our original Counts Table, was:"
   ]
  },
  {
   "cell_type": "code",
   "execution_count": null,
   "id": "eb335fe3",
   "metadata": {},
   "outputs": [],
   "source": [
    "actual_y_resc = bystander_tab.loc['Yes', 'rescuer']\n",
    "actual_y_resc"
   ]
  },
  {
   "cell_type": "markdown",
   "id": "583724cb",
   "metadata": {},
   "source": [
    "The equivalent count in our new fake Counts Table is:"
   ]
  },
  {
   "cell_type": "code",
   "execution_count": null,
   "id": "ab438f76",
   "metadata": {},
   "outputs": [],
   "source": [
    "fake_y_resc = fake_tab.loc['Yes', 'rescuer']\n",
    "fake_y_resc"
   ]
  },
  {
   "cell_type": "markdown",
   "id": "273ae16b",
   "metadata": {},
   "source": [
    "We need more random samples to see if the fake value is often as large as the\n",
    "real value.  If so, then the ideal world, where the association between \"Yes\" /\n",
    "\"No, and \"bystander\" / \"rescuer\" is random, is a reasonable explanation of what\n",
    "we see in the real world, and we might not want to investigate these data much\n",
    "further.\n",
    "\n",
    "Unfortunately, `pd.crosstab` is horribly slow, so we need to drop our usual\n",
    "number of iterations to 1000 to keep the run-time down."
   ]
  },
  {
   "cell_type": "code",
   "execution_count": null,
   "id": "c47153b2",
   "metadata": {},
   "outputs": [],
   "source": [
    "counts = np.zeros(1000)\n",
    "for i in np.arange(1000):\n",
    "    # Make a fake Entries Table by shuffling one set of labels.\n",
    "    shuffled_party = np.random.permutation(party_yn)\n",
    "    fake_data = people.copy()\n",
    "    fake_data['party_yn'] = shuffled_party\n",
    "    # Get the Counts Table from the fake Entries Table.\n",
    "    fake_tab = pd.crosstab(fake_data['party_yn'], fake_data['respondent'])\n",
    "    # Store the count of interest.\n",
    "    counts[i] = fake_tab.loc['Yes', 'rescuer']\n",
    "# Show the first 10 counts.\n",
    "counts[:10]"
   ]
  },
  {
   "cell_type": "markdown",
   "id": "7e755629",
   "metadata": {},
   "source": [
    "Here is our *sampling distribution* from sampling in the ideal world:"
   ]
  },
  {
   "cell_type": "code",
   "execution_count": null,
   "id": "2de05ada",
   "metadata": {},
   "outputs": [],
   "source": [
    "plt.hist(counts);"
   ]
  },
  {
   "cell_type": "markdown",
   "id": "d205c9f7",
   "metadata": {},
   "source": [
    "How unusual is the actual value, in this ideal world?"
   ]
  },
  {
   "cell_type": "code",
   "execution_count": null,
   "id": "bedd66b8",
   "metadata": {},
   "outputs": [],
   "source": [
    "# Proportion of times we see ideal world sample >= actual value.\n",
    "p_lte = np.count_nonzero(counts >= actual_y_resc) / len(counts)\n",
    "p_lte"
   ]
  },
  {
   "cell_type": "markdown",
   "id": "cd1cdae2",
   "metadata": {},
   "source": [
    "## A question for reflection\n",
    "\n",
    "Now look at this.  Here I do the same test, but I am looking at both of these\n",
    "counts, for each trial:\n",
    "\n",
    "* \"Yes\", \"rescuer\".\n",
    "* \"No\", \"bystander\"."
   ]
  },
  {
   "cell_type": "code",
   "execution_count": null,
   "id": "ee445a65",
   "metadata": {},
   "outputs": [],
   "source": [
    "# Yes, rescuer\n",
    "counts_y_resc = np.zeros(1000)\n",
    "# No, rescuer\n",
    "counts_n_by = np.zeros(1000)\n",
    "for i in np.arange(1000):\n",
    "    # Make a fake Entries Table by shuffling one set of labels.\n",
    "    shuffled_party = np.random.permutation(party_yn)\n",
    "    fake_data = people.copy()\n",
    "    fake_data['party_yn'] = shuffled_party\n",
    "    # Get the Counts Table from the fake Entries Table.\n",
    "    fake_tab = pd.crosstab(fake_data['party_yn'], fake_data['respondent'])\n",
    "    # Store the \"Yes\" / \"rescuer\" count.\n",
    "    counts_y_resc[i] = fake_tab.loc['Yes', 'rescuer']\n",
    "    # Also store the \"No\" / \"bystander\" count.\n",
    "    counts_n_by[i] = fake_tab.loc['No', 'bystander']"
   ]
  },
  {
   "cell_type": "markdown",
   "id": "0d1fcb2b",
   "metadata": {},
   "source": [
    "Here are the values of the \"Yes\" / \"rescuer\" counts for the first 10 trials."
   ]
  },
  {
   "cell_type": "code",
   "execution_count": null,
   "id": "e4cb4b15",
   "metadata": {},
   "outputs": [],
   "source": [
    "# First ten Yes rescuer counts\n",
    "counts_y_resc[:10]"
   ]
  },
  {
   "cell_type": "markdown",
   "id": "c6007a59",
   "metadata": {},
   "source": [
    "These are the corresponding \"No\" / \"bystander\" counts:"
   ]
  },
  {
   "cell_type": "code",
   "execution_count": null,
   "id": "06fcb9de",
   "metadata": {},
   "outputs": [],
   "source": [
    "# First ten No bystander counts\n",
    "counts_n_by[:10]"
   ]
  },
  {
   "cell_type": "markdown",
   "id": "0261b89e",
   "metadata": {},
   "source": [
    "You may notice that they go up and down in exactly the same way.  When the\n",
    "\"Yes\" / \"rescuer\" count goes up or down by 1, so does the \"No\" / \"bystander\"\n",
    "count - and the same is true for any change in the values; +1, +2, +3 ..., -1,\n",
    "-2, -3 ...\n",
    "\n",
    "Therefore, the *difference* between the counts on each trial is always the\n",
    "same.  In our case, the difference is -20:"
   ]
  },
  {
   "cell_type": "code",
   "execution_count": null,
   "id": "ee3c2f07",
   "metadata": {},
   "outputs": [],
   "source": [
    "# The difference between the counts for each trial is always the same.\n",
    "count_diff = counts_y_resc - counts_n_by\n",
    "print('First 10 differences', count_diff[:10])\n",
    "print(\"Differences all the same?\")\n",
    "np.all(count_diff == count_diff[0])"
   ]
  },
  {
   "cell_type": "markdown",
   "id": "40682ecf",
   "metadata": {},
   "source": [
    "If we know the \"Yes\" / \"rescuer\" value, we can get the corresponding \"No\" /\n",
    "\"bystander\" value by subtracting -20 (in our particular case).\n",
    "\n",
    "This means that if we calculate the corresponding p values for the \"Yes\" /\n",
    "\"rescuer\" or \"No\" / \"bystander\" counts, they are exactly the same."
   ]
  },
  {
   "cell_type": "code",
   "execution_count": null,
   "id": "3a656d52",
   "metadata": {},
   "outputs": [],
   "source": [
    "# Proportion of times we see ideal world sample >= actual value.\n",
    "p_lte_y_resc = np.count_nonzero(counts_y_resc >= actual_y_resc) / len(counts)\n",
    "p_lte_y_resc"
   ]
  },
  {
   "cell_type": "markdown",
   "id": "46aad7a6",
   "metadata": {},
   "source": [
    "The test for \"No\", \"bystander\" follows."
   ]
  },
  {
   "cell_type": "code",
   "execution_count": null,
   "id": "0b3e9b4d",
   "metadata": {},
   "outputs": [],
   "source": [
    "# Proportion of times we see ideal world sample >= actual value.\n",
    "actual_n_by = bystander_tab.loc['No', 'bystander']\n",
    "p_lte_n_by = np.count_nonzero(counts_n_by >= actual_n_by) / len(counts)\n",
    "p_lte_n_by"
   ]
  },
  {
   "cell_type": "markdown",
   "id": "b7223a12",
   "metadata": {},
   "source": [
    "See if you can work out why these counts go up and down in exactly the same\n",
    "way, on each trial.  Why does this mean that the p values must be the same?\n",
    "\n",
    "After a little reflection, have a look at the [2 by 2\n",
    "tables](two_by_two_tables) page."
   ]
  }
 ],
 "metadata": {
  "jupytext": {
   "notebook_metadata_filter": "all,-language_info",
   "split_at_heading": true
  },
  "kernelspec": {
   "display_name": "Python 3",
   "language": "python",
   "name": "python3"
  }
 },
 "nbformat": 4,
 "nbformat_minor": 5
}
